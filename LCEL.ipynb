{
 "cells": [
  {
   "cell_type": "markdown",
   "metadata": {},
   "source": [
    "# LangChain Expression Language(LCEL)\n",
    "chain = prompt | model | ourput_parser 형식으로 결합하여 사용<Br>\n",
    "사용자 입력 -> 프롬프트 템플릿 -> 모델"
   ]
  },
  {
   "cell_type": "code",
   "execution_count": 1,
   "metadata": {},
   "outputs": [],
   "source": [
    "from langchain_core.prompts import PromptTemplate\n",
    "from langchain_community.chat_models import ChatOllama\n",
    "\n",
    "prompt = PromptTemplate.from_template(\"{topic}에 대해 쉽게 설명해주세요.\")\n",
    "model = ChatOllama(model=\"ollama-ko-0502\")\n",
    "\n",
    "chain = prompt | model"
   ]
  },
  {
   "cell_type": "code",
   "execution_count": 2,
   "metadata": {},
   "outputs": [
    {
     "data": {
      "text/plain": [
       "PromptTemplate(input_variables=['topic'], template='{topic}에 대해 쉽게 설명해주세요.')\n",
       "| ChatOllama(model='ollama-ko-0502')"
      ]
     },
     "execution_count": 2,
     "metadata": {},
     "output_type": "execute_result"
    }
   ],
   "source": [
    "chain"
   ]
  },
  {
   "cell_type": "markdown",
   "metadata": {},
   "source": [
    "## invoke() 호출\n",
    "- python dictionary 형태로 입력값 전달(key:value)"
   ]
  },
  {
   "cell_type": "code",
   "execution_count": 3,
   "metadata": {},
   "outputs": [
    {
     "data": {
      "text/plain": [
       "AIMessage(content='인공지능 모델이란, 인간의 지적 능력을 컴퓨터로 구현한 것입니다. 인공 신경망을 기반으로 하며, 데이터를 입력하여 학습하고, 새로운 데이터를 입력하면 그 결과를 예측할 수 있습니다. 인공지능 모델은 크게 지도학습(Supervised Learning)과 비지도학습(Unsupervised Learning)으로 나뉩니다', response_metadata={'model': 'ollama-ko-0502', 'created_at': '2024-07-03T15:34:02.407387Z', 'message': {'role': 'assistant', 'content': ''}, 'done_reason': 'stop', 'done': True, 'total_duration': 9961674083, 'load_duration': 3608958, 'prompt_eval_count': 32, 'prompt_eval_duration': 558205000, 'eval_count': 87, 'eval_duration': 9396470000}, id='run-4b304f77-c74a-4f94-93e2-a0f16b309cde-0')"
      ]
     },
     "execution_count": 3,
     "metadata": {},
     "output_type": "execute_result"
    }
   ],
   "source": [
    "input = {\"topic\": \"인공지능 모델의 학습 원리\"}\n",
    "\n",
    "chain.invoke({\"topic\": input})"
   ]
  },
  {
   "cell_type": "code",
   "execution_count": 8,
   "metadata": {},
   "outputs": [
    {
     "data": {
      "text/plain": [
       "AIMessage(content='인공지능 모델은 사람처럼 생각하고 행동하는 컴퓨터 프로그램입니다. 인공지능 모델은 수많은 데이터를 바탕으로 스스로 학습합니다. 예를 들어, 인공지능 모델이 사진을 보고 개라고 판단했다면, 그 이유는 사진 속에 있는 개의 특징들을 분석했기 때문입니다', response_metadata={'model': 'ollama-ko-0502', 'created_at': '2024-07-03T15:04:19.480546Z', 'message': {'role': 'assistant', 'content': ''}, 'done_reason': 'stop', 'done': True, 'total_duration': 8995250541, 'load_duration': 7322541, 'prompt_eval_count': 25, 'prompt_eval_duration': 712495000, 'eval_count': 75, 'eval_duration': 8270598000}, id='run-a45636fd-ec3d-41c3-9089-c4af3a3b25be-0')"
      ]
     },
     "execution_count": 8,
     "metadata": {},
     "output_type": "execute_result"
    }
   ],
   "source": [
    "prompt = PromptTemplate.from_template(\"{topic}에 대해 {how} 설명해주세요.\")\n",
    "input = {\n",
    "    \"topic\": \"인공지능 모델의 학습원리\", \n",
    "    \"how\": \"간단하게\"\n",
    "    }\n",
    "chain.invoke(input)"
   ]
  },
  {
   "cell_type": "markdown",
   "metadata": {},
   "source": [
    "## 출력파서(Output Parser)\n",
    "Output Parser를 사용하면 chain.invoke() 출력 결과의 형태가 다르다.<br>\n",
    "- Output Parser = StrOutputParser\n",
    "- Output Parser X: AIMessage 객체\n",
    "- Output Parser O: Str(문자열 객체)"
   ]
  },
  {
   "cell_type": "code",
   "execution_count": 14,
   "metadata": {},
   "outputs": [
    {
     "data": {
      "text/plain": [
       "AIMessage(content='인공지능 모델은 사람처럼 생각하고 행동하는 컴퓨터 프로그램입니다. 인공지능 모델은 수많은 데이터를 바탕으로 스스로 학습합니다. 예를 들어, 인공지능 모델이 사진을 보고 개라고 판단했다면, 그 이유는 사진 속에 있는 개의 특징을 찾아내고 이를 분석했기 때문입니다', response_metadata={'model': 'ollama-ko-0502', 'created_at': '2024-07-03T15:10:47.071459Z', 'message': {'role': 'assistant', 'content': ''}, 'done_reason': 'stop', 'done': True, 'total_duration': 9858413750, 'load_duration': 6771959, 'prompt_eval_count': 25, 'prompt_eval_duration': 740363000, 'eval_count': 79, 'eval_duration': 9106096000}, id='run-ee2c33f0-e165-4339-8329-88527694825b-0')"
      ]
     },
     "execution_count": 14,
     "metadata": {},
     "output_type": "execute_result"
    }
   ],
   "source": [
    "prompt = PromptTemplate.from_template(\"{topic}에 대해 쉽게 설명해주세요.\")\n",
    "chain = prompt | model\n",
    "input = {\"topic\": \"인공지능 모델의 학습 원리\"}\n",
    "\n",
    "chain.invoke(input)"
   ]
  },
  {
   "cell_type": "code",
   "execution_count": 4,
   "metadata": {},
   "outputs": [
    {
     "data": {
      "text/plain": [
       "'인공지능 모델이란, 인간의 지적 능력을 컴퓨터로 구현한 것입니다. 인공 신경망을 기반으로 하며, 데이터를 입력하여 학습하고, 새로운 데이터를 입력하면 그 결과를 예측할 수 있습니다. 인공지능 모델은 크게 지도학습(Supervised Learning)과 비지도학습(Unsupervised Learning)으로 나뉩니다'"
      ]
     },
     "execution_count": 4,
     "metadata": {},
     "output_type": "execute_result"
    }
   ],
   "source": [
    "from langchain_core.output_parsers import StrOutputParser\n",
    "\n",
    "output_parser = StrOutputParser()\n",
    "prompt = PromptTemplate.from_template(\"{topic}에 대해 쉽게 설명해주세요.\")\n",
    "chain = prompt | model | output_parser\n",
    "\n",
    "input = {\"topic\": \"인공지능 모델의 학습 원리\"}\n",
    "chain.invoke({\"topic\": input})"
   ]
  },
  {
   "cell_type": "code",
   "execution_count": 38,
   "metadata": {},
   "outputs": [
    {
     "data": {
      "text/plain": [
       "PromptTemplate(input_variables=['question'], template='\\n당신은 초등학교 학생을 가르치는 교사입니다. 질문한 내용에 대해 초등학생도 이해하기 쉽게 설명해주세요.\\n답변 형식은 [FORMAT]을 따라서 출력해주세요.\\n\\n#FORMAT:\\n- 질문:\\n- 답변:\\n\\n- 질문:\\n{question}\\n')"
      ]
     },
     "execution_count": 38,
     "metadata": {},
     "output_type": "execute_result"
    }
   ],
   "source": [
    "template = \"\"\"\n",
    "당신은 초등학교 학생을 가르치는 교사입니다. 질문한 내용에 대해 초등학생도 이해하기 쉽게 설명해주세요.\n",
    "답변 형식은 [FORMAT]을 따라서 출력해주세요.\n",
    "\n",
    "#FORMAT:\n",
    "- 질문:\n",
    "- 답변:\n",
    "\n",
    "- 질문:\n",
    "{question}\n",
    "\"\"\"\n",
    "\n",
    "prompt = PromptTemplate.from_template(template)\n",
    "prompt"
   ]
  },
  {
   "cell_type": "markdown",
   "metadata": {},
   "source": [
    "\"{}\" 중괄호를 두번 사용하면 variable로 인식하지 않고 문자로 인식"
   ]
  },
  {
   "cell_type": "code",
   "execution_count": 40,
   "metadata": {},
   "outputs": [
    {
     "name": "stdout",
     "output_type": "stream",
     "text": [
      "질문: 베르누이 원리에 대해 설명해줘.\n",
      "답변: 베르누이의 법칙은 유체가 흐르는 관에서 압력과 속도의 관계를 나타내는 물리학 법칙입니다. 이 법칙에 따르면, 유체의 압력이 높을수록 그 속도는 느려지고, 반대로 압력이 낮으면 속도가 빨라집니다\n"
     ]
    }
   ],
   "source": [
    "input = {'question': '베르누이 원리에 대해 설명해줘.'}\n",
    "chain = prompt | model | output_parser\n",
    "\n",
    "print(chain.invoke(input))"
   ]
  },
  {
   "cell_type": "code",
   "execution_count": 48,
   "metadata": {},
   "outputs": [],
   "source": [
    "from langchain_teddynote.messages import stream_response\n",
    "\n",
    "answer = chain.stream(input)"
   ]
  },
  {
   "cell_type": "code",
   "execution_count": 44,
   "metadata": {},
   "outputs": [
    {
     "name": "stdout",
     "output_type": "stream",
     "text": [
      "질문: 베르누이 원리에 대해 설명해줘.\n",
      "답변: 베르누이의 법칙은 유체가 흐르는 관에서 압력과 속도의 관계를 나타내는 물리학 법칙입니다. 이 법칙에 따르면, 유체의 압력이 높을수록 그 속도는 느려지고, 반대로 압력이 낮으면 속도가 빨라집니다"
     ]
    }
   ],
   "source": [
    "stream_response(answer)"
   ]
  },
  {
   "cell_type": "code",
   "execution_count": 49,
   "metadata": {},
   "outputs": [
    {
     "name": "stdout",
     "output_type": "stream",
     "text": [
      "질문: 베르누이 원리에 대해 설명해줘.\n",
      "답변: 베르누이의 법칙은 유체가 흐르는 관에서 압력과 속도의 관계를 나타내는 물리학 법칙입니다. 이 법칙에 따르면, 유체의 압력이 높을수록 그 속도는 느려지고, 반대로 압력이 낮으면 속도가 빨라집니다"
     ]
    }
   ],
   "source": [
    "result = stream_response(answer, return_output= True)"
   ]
  },
  {
   "cell_type": "code",
   "execution_count": 50,
   "metadata": {},
   "outputs": [
    {
     "data": {
      "text/plain": [
       "'질문: 베르누이 원리에 대해 설명해줘.\\n답변: 베르누이의 법칙은 유체가 흐르는 관에서 압력과 속도의 관계를 나타내는 물리학 법칙입니다. 이 법칙에 따르면, 유체의 압력이 높을수록 그 속도는 느려지고, 반대로 압력이 낮으면 속도가 빨라집니다'"
      ]
     },
     "execution_count": 50,
     "metadata": {},
     "output_type": "execute_result"
    }
   ],
   "source": [
    "result"
   ]
  }
 ],
 "metadata": {
  "kernelspec": {
   "display_name": "langchain-rag-SOzJDm4L-py3.11",
   "language": "python",
   "name": "python3"
  },
  "language_info": {
   "codemirror_mode": {
    "name": "ipython",
    "version": 3
   },
   "file_extension": ".py",
   "mimetype": "text/x-python",
   "name": "python",
   "nbconvert_exporter": "python",
   "pygments_lexer": "ipython3",
   "version": "3.11.0"
  }
 },
 "nbformat": 4,
 "nbformat_minor": 2
}
