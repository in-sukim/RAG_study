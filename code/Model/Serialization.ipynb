{
 "cells": [
  {
   "cell_type": "markdown",
   "metadata": {},
   "source": [
    "### 직렬화(Serialization)\n",
    "\n",
    "- 정의:\n",
    "    - 모델을 저장 가능한 형식으로 변환하는 과정\n",
    "- 목적:\n",
    "    - 모델재사용(재훈련 없이)\n",
    "    - 모델 배포 및 공유 용이\n",
    "    - 계산 리소스 절약\n",
    "- 장점:\n",
    "    - 빠른 모델 로딩\n",
    "    - 버전 관리 가능\n",
    "    - 다양한 환경에서 사용 가능\n",
    "\n",
    "모델 직렬화는 AI 개발 및 배포 과정에서 중요한 단계, 효율적인 모델 관리와 재사용 가능하게 함.<br>\n",
    "**is_lc_serializable** 클래스 메서드로 실행. LangChain 클래스가 직렬화 가능한지 확인 가능."
   ]
  },
  {
   "cell_type": "code",
   "execution_count": 1,
   "metadata": {},
   "outputs": [
    {
     "name": "stdout",
     "output_type": "stream",
     "text": [
      "LangSmith 추적을 시작합니다.\n",
      "[프로젝트명]\n",
      "Serialization\n"
     ]
    }
   ],
   "source": [
    "from dotenv import load_dotenv\n",
    "\n",
    "load_dotenv()\n",
    "\n",
    "from langchain_teddynote import logging\n",
    "logging.langsmith(\"Serialization\")"
   ]
  },
  {
   "cell_type": "code",
   "execution_count": 2,
   "metadata": {},
   "outputs": [],
   "source": [
    "from langchain_openai import ChatOpenAI\n",
    "from langchain_core.prompts import PromptTemplate\n",
    "\n",
    "llm = ChatOpenAI(\n",
    "    model_name = 'gpt-4o-mini',\n",
    "    temperature=0\n",
    ")\n",
    "\n",
    "prompt = PromptTemplate.from_template(\"{fruit}의 색상이 무엇입니까?\")"
   ]
  },
  {
   "cell_type": "code",
   "execution_count": 3,
   "metadata": {},
   "outputs": [
    {
     "name": "stdout",
     "output_type": "stream",
     "text": [
      "ChatOpenAI: True\n"
     ]
    }
   ],
   "source": [
    "print(f\"ChatOpenAI: {ChatOpenAI.is_lc_serializable()}\")"
   ]
  },
  {
   "cell_type": "code",
   "execution_count": 4,
   "metadata": {},
   "outputs": [
    {
     "data": {
      "text/plain": [
       "True"
      ]
     },
     "execution_count": 4,
     "metadata": {},
     "output_type": "execute_result"
    }
   ],
   "source": [
    "chain = prompt | llm\n",
    "chain.is_lc_serializable()"
   ]
  },
  {
   "cell_type": "markdown",
   "metadata": {},
   "source": [
    "### 체인(Chain), 직렬화(dumps, dumpd)\n",
    "체인 직렬화: 직렬화 가능한 모든 객체를 딕셔너리 or JSON 문자열로 변환하는 과정\n",
    "\n",
    "- 방법\n",
    "객체의 속성 및 데이터를 key-value pari로 저장하여 딕셔너리 형태로 저장<br>\n",
    "객체를 쉽게 저장하고 전송 가능. 다양한 환경에서 객체를 재구성할 수 있도록 함.\n",
    "\n",
    "    - **dumps**: 객체를 JSON 문자열로 직렬화\n",
    "    - **dumpd**: 객체를 딕셔너리로 직렬화"
   ]
  },
  {
   "cell_type": "code",
   "execution_count": 5,
   "metadata": {},
   "outputs": [
    {
     "data": {
      "text/plain": [
       "{'lc': 1,\n",
       " 'type': 'constructor',\n",
       " 'id': ['langchain', 'schema', 'runnable', 'RunnableSequence'],\n",
       " 'kwargs': {'first': {'lc': 1,\n",
       "   'type': 'constructor',\n",
       "   'id': ['langchain', 'prompts', 'prompt', 'PromptTemplate'],\n",
       "   'kwargs': {'input_variables': ['fruit'],\n",
       "    'template': '{fruit}의 색상이 무엇입니까?',\n",
       "    'template_format': 'f-string'},\n",
       "   'name': 'PromptTemplate',\n",
       "   'graph': {'nodes': [{'id': 0, 'type': 'schema', 'data': 'PromptInput'},\n",
       "     {'id': 1,\n",
       "      'type': 'runnable',\n",
       "      'data': {'id': ['langchain', 'prompts', 'prompt', 'PromptTemplate'],\n",
       "       'name': 'PromptTemplate'}},\n",
       "     {'id': 2, 'type': 'schema', 'data': 'PromptTemplateOutput'}],\n",
       "    'edges': [{'source': 0, 'target': 1}, {'source': 1, 'target': 2}]}},\n",
       "  'last': {'lc': 1,\n",
       "   'type': 'constructor',\n",
       "   'id': ['langchain', 'chat_models', 'openai', 'ChatOpenAI'],\n",
       "   'kwargs': {'model_name': 'gpt-4o-mini',\n",
       "    'temperature': 0.0,\n",
       "    'openai_api_key': {'lc': 1, 'type': 'secret', 'id': ['OPENAI_API_KEY']},\n",
       "    'openai_proxy': '',\n",
       "    'max_retries': 2,\n",
       "    'n': 1},\n",
       "   'name': 'ChatOpenAI',\n",
       "   'graph': {'nodes': [{'id': 0, 'type': 'schema', 'data': 'ChatOpenAIInput'},\n",
       "     {'id': 1,\n",
       "      'type': 'runnable',\n",
       "      'data': {'id': ['langchain', 'chat_models', 'openai', 'ChatOpenAI'],\n",
       "       'name': 'ChatOpenAI'}},\n",
       "     {'id': 2, 'type': 'schema', 'data': 'ChatOpenAIOutput'}],\n",
       "    'edges': [{'source': 0, 'target': 1}, {'source': 1, 'target': 2}]}}},\n",
       " 'name': 'RunnableSequence',\n",
       " 'graph': {'nodes': [{'id': 0, 'type': 'schema', 'data': 'PromptInput'},\n",
       "   {'id': 1,\n",
       "    'type': 'runnable',\n",
       "    'data': {'id': ['langchain', 'prompts', 'prompt', 'PromptTemplate'],\n",
       "     'name': 'PromptTemplate'}},\n",
       "   {'id': 2,\n",
       "    'type': 'runnable',\n",
       "    'data': {'id': ['langchain', 'chat_models', 'openai', 'ChatOpenAI'],\n",
       "     'name': 'ChatOpenAI'}},\n",
       "   {'id': 3, 'type': 'schema', 'data': 'ChatOpenAIOutput'}],\n",
       "  'edges': [{'source': 0, 'target': 1},\n",
       "   {'source': 2, 'target': 3},\n",
       "   {'source': 1, 'target': 2}]}}"
      ]
     },
     "execution_count": 5,
     "metadata": {},
     "output_type": "execute_result"
    }
   ],
   "source": [
    "from langchain_core.load import dumpd, dumps\n",
    "\n",
    "dumpd_chain = dumpd(chain)\n",
    "dumpd_chain"
   ]
  },
  {
   "cell_type": "code",
   "execution_count": 6,
   "metadata": {},
   "outputs": [
    {
     "data": {
      "text/plain": [
       "'{\"lc\": 1, \"type\": \"constructor\", \"id\": [\"langchain\", \"schema\", \"runnable\", \"RunnableSequence\"], \"kwargs\": {\"first\": {\"lc\": 1, \"type\": \"constructor\", \"id\": [\"langchain\", \"prompts\", \"prompt\", \"PromptTemplate\"], \"kwargs\": {\"input_variables\": [\"fruit\"], \"template\": \"{fruit}\\\\uc758 \\\\uc0c9\\\\uc0c1\\\\uc774 \\\\ubb34\\\\uc5c7\\\\uc785\\\\ub2c8\\\\uae4c?\", \"template_format\": \"f-string\"}, \"name\": \"PromptTemplate\", \"graph\": {\"nodes\": [{\"id\": 0, \"type\": \"schema\", \"data\": \"PromptInput\"}, {\"id\": 1, \"type\": \"runnable\", \"data\": {\"id\": [\"langchain\", \"prompts\", \"prompt\", \"PromptTemplate\"], \"name\": \"PromptTemplate\"}}, {\"id\": 2, \"type\": \"schema\", \"data\": \"PromptTemplateOutput\"}], \"edges\": [{\"source\": 0, \"target\": 1}, {\"source\": 1, \"target\": 2}]}}, \"last\": {\"lc\": 1, \"type\": \"constructor\", \"id\": [\"langchain\", \"chat_models\", \"openai\", \"ChatOpenAI\"], \"kwargs\": {\"model_name\": \"gpt-4o-mini\", \"temperature\": 0.0, \"openai_api_key\": {\"lc\": 1, \"type\": \"secret\", \"id\": [\"OPENAI_API_KEY\"]}, \"openai_proxy\": \"\", \"max_retries\": 2, \"n\": 1}, \"name\": \"ChatOpenAI\", \"graph\": {\"nodes\": [{\"id\": 0, \"type\": \"schema\", \"data\": \"ChatOpenAIInput\"}, {\"id\": 1, \"type\": \"runnable\", \"data\": {\"id\": [\"langchain\", \"chat_models\", \"openai\", \"ChatOpenAI\"], \"name\": \"ChatOpenAI\"}}, {\"id\": 2, \"type\": \"schema\", \"data\": \"ChatOpenAIOutput\"}], \"edges\": [{\"source\": 0, \"target\": 1}, {\"source\": 1, \"target\": 2}]}}}, \"name\": \"RunnableSequence\", \"graph\": {\"nodes\": [{\"id\": 0, \"type\": \"schema\", \"data\": \"PromptInput\"}, {\"id\": 1, \"type\": \"runnable\", \"data\": {\"id\": [\"langchain\", \"prompts\", \"prompt\", \"PromptTemplate\"], \"name\": \"PromptTemplate\"}}, {\"id\": 2, \"type\": \"runnable\", \"data\": {\"id\": [\"langchain\", \"chat_models\", \"openai\", \"ChatOpenAI\"], \"name\": \"ChatOpenAI\"}}, {\"id\": 3, \"type\": \"schema\", \"data\": \"ChatOpenAIOutput\"}], \"edges\": [{\"source\": 0, \"target\": 1}, {\"source\": 2, \"target\": 3}, {\"source\": 1, \"target\": 2}]}}'"
      ]
     },
     "execution_count": 6,
     "metadata": {},
     "output_type": "execute_result"
    }
   ],
   "source": [
    "dumps_chain = dumps(chain)\n",
    "dumps_chain"
   ]
  },
  {
   "cell_type": "code",
   "execution_count": 7,
   "metadata": {},
   "outputs": [],
   "source": [
    "import pickle\n",
    "\n",
    "with open(\"fruit_chain.pkl\", \"wb\") as f:\n",
    "    pickle.dump(dumpd_chain, f)"
   ]
  },
  {
   "cell_type": "code",
   "execution_count": 8,
   "metadata": {},
   "outputs": [],
   "source": [
    "import json\n",
    "\n",
    "with open('fruit_chain.json', 'w') as f:\n",
    "    json.dump(dumps_chain, f)"
   ]
  },
  {
   "cell_type": "markdown",
   "metadata": {},
   "source": [
    "### Load: 저장한 모델 불러오기\n",
    "pickle, json"
   ]
  },
  {
   "cell_type": "code",
   "execution_count": 9,
   "metadata": {},
   "outputs": [],
   "source": [
    "with open(\"fruit_chain.pkl\", \"rb\") as f:\n",
    "    loaded_chain = pickle.load(f)"
   ]
  },
  {
   "cell_type": "code",
   "execution_count": 10,
   "metadata": {},
   "outputs": [
    {
     "data": {
      "text/plain": [
       "{'lc': 1,\n",
       " 'type': 'constructor',\n",
       " 'id': ['langchain', 'schema', 'runnable', 'RunnableSequence'],\n",
       " 'kwargs': {'first': {'lc': 1,\n",
       "   'type': 'constructor',\n",
       "   'id': ['langchain', 'prompts', 'prompt', 'PromptTemplate'],\n",
       "   'kwargs': {'input_variables': ['fruit'],\n",
       "    'template': '{fruit}의 색상이 무엇입니까?',\n",
       "    'template_format': 'f-string'},\n",
       "   'name': 'PromptTemplate',\n",
       "   'graph': {'nodes': [{'id': 0, 'type': 'schema', 'data': 'PromptInput'},\n",
       "     {'id': 1,\n",
       "      'type': 'runnable',\n",
       "      'data': {'id': ['langchain', 'prompts', 'prompt', 'PromptTemplate'],\n",
       "       'name': 'PromptTemplate'}},\n",
       "     {'id': 2, 'type': 'schema', 'data': 'PromptTemplateOutput'}],\n",
       "    'edges': [{'source': 0, 'target': 1}, {'source': 1, 'target': 2}]}},\n",
       "  'last': {'lc': 1,\n",
       "   'type': 'constructor',\n",
       "   'id': ['langchain', 'chat_models', 'openai', 'ChatOpenAI'],\n",
       "   'kwargs': {'model_name': 'gpt-4o-mini',\n",
       "    'temperature': 0.0,\n",
       "    'openai_api_key': {'lc': 1, 'type': 'secret', 'id': ['OPENAI_API_KEY']},\n",
       "    'openai_proxy': '',\n",
       "    'max_retries': 2,\n",
       "    'n': 1},\n",
       "   'name': 'ChatOpenAI',\n",
       "   'graph': {'nodes': [{'id': 0, 'type': 'schema', 'data': 'ChatOpenAIInput'},\n",
       "     {'id': 1,\n",
       "      'type': 'runnable',\n",
       "      'data': {'id': ['langchain', 'chat_models', 'openai', 'ChatOpenAI'],\n",
       "       'name': 'ChatOpenAI'}},\n",
       "     {'id': 2, 'type': 'schema', 'data': 'ChatOpenAIOutput'}],\n",
       "    'edges': [{'source': 0, 'target': 1}, {'source': 1, 'target': 2}]}}},\n",
       " 'name': 'RunnableSequence',\n",
       " 'graph': {'nodes': [{'id': 0, 'type': 'schema', 'data': 'PromptInput'},\n",
       "   {'id': 1,\n",
       "    'type': 'runnable',\n",
       "    'data': {'id': ['langchain', 'prompts', 'prompt', 'PromptTemplate'],\n",
       "     'name': 'PromptTemplate'}},\n",
       "   {'id': 2,\n",
       "    'type': 'runnable',\n",
       "    'data': {'id': ['langchain', 'chat_models', 'openai', 'ChatOpenAI'],\n",
       "     'name': 'ChatOpenAI'}},\n",
       "   {'id': 3, 'type': 'schema', 'data': 'ChatOpenAIOutput'}],\n",
       "  'edges': [{'source': 0, 'target': 1},\n",
       "   {'source': 2, 'target': 3},\n",
       "   {'source': 1, 'target': 2}]}}"
      ]
     },
     "execution_count": 10,
     "metadata": {},
     "output_type": "execute_result"
    }
   ],
   "source": [
    "loaded_chain"
   ]
  },
  {
   "cell_type": "code",
   "execution_count": 12,
   "metadata": {},
   "outputs": [
    {
     "name": "stdout",
     "output_type": "stream",
     "text": [
      "content='사과의 색상은 다양합니다. 일반적으로 빨간색, 초록색, 노란색 등이 있으며, 일부 사과는 이들 색상이 혼합된 형태로도 나타납니다. 예를 들어, 빨간 사과는 진한 빨간색에서부터 연한 빨간색까지 다양하고, 초록 사과는 밝은 초록색에서부터 어두운 초록색까지 있습니다. 노란 사과는 밝은 노란색을 띠기도 합니다. 사과의 품종에 따라 색상이 다르게 나타날 수 있습니다.' response_metadata={'token_usage': {'completion_tokens': 121, 'prompt_tokens': 16, 'total_tokens': 137}, 'model_name': 'gpt-4o-mini-2024-07-18', 'system_fingerprint': 'fp_611b667b19', 'finish_reason': 'stop', 'logprobs': None} id='run-e31ab149-4695-4e90-837f-5b535c1295db-0' usage_metadata={'input_tokens': 16, 'output_tokens': 121, 'total_tokens': 137}\n"
     ]
    }
   ],
   "source": [
    "from langchain.load import load\n",
    "\n",
    "chain_from_file = load(loaded_chain)\n",
    "\n",
    "print(chain_from_file.invoke({\"fruit\":\"사과\"}))"
   ]
  },
  {
   "cell_type": "code",
   "execution_count": 13,
   "metadata": {},
   "outputs": [],
   "source": [
    "with open(\"fruit_chain.json\", \"r\") as fp:\n",
    "    loaded_from_json_chain = json.load(fp)\n",
    "    loads_chain = load(loaded_from_json_chain)"
   ]
  },
  {
   "cell_type": "code",
   "execution_count": 14,
   "metadata": {},
   "outputs": [
    {
     "data": {
      "text/plain": [
       "'{\"lc\": 1, \"type\": \"constructor\", \"id\": [\"langchain\", \"schema\", \"runnable\", \"RunnableSequence\"], \"kwargs\": {\"first\": {\"lc\": 1, \"type\": \"constructor\", \"id\": [\"langchain\", \"prompts\", \"prompt\", \"PromptTemplate\"], \"kwargs\": {\"input_variables\": [\"fruit\"], \"template\": \"{fruit}\\\\uc758 \\\\uc0c9\\\\uc0c1\\\\uc774 \\\\ubb34\\\\uc5c7\\\\uc785\\\\ub2c8\\\\uae4c?\", \"template_format\": \"f-string\"}, \"name\": \"PromptTemplate\", \"graph\": {\"nodes\": [{\"id\": 0, \"type\": \"schema\", \"data\": \"PromptInput\"}, {\"id\": 1, \"type\": \"runnable\", \"data\": {\"id\": [\"langchain\", \"prompts\", \"prompt\", \"PromptTemplate\"], \"name\": \"PromptTemplate\"}}, {\"id\": 2, \"type\": \"schema\", \"data\": \"PromptTemplateOutput\"}], \"edges\": [{\"source\": 0, \"target\": 1}, {\"source\": 1, \"target\": 2}]}}, \"last\": {\"lc\": 1, \"type\": \"constructor\", \"id\": [\"langchain\", \"chat_models\", \"openai\", \"ChatOpenAI\"], \"kwargs\": {\"model_name\": \"gpt-4o-mini\", \"temperature\": 0.0, \"openai_api_key\": {\"lc\": 1, \"type\": \"secret\", \"id\": [\"OPENAI_API_KEY\"]}, \"openai_proxy\": \"\", \"max_retries\": 2, \"n\": 1}, \"name\": \"ChatOpenAI\", \"graph\": {\"nodes\": [{\"id\": 0, \"type\": \"schema\", \"data\": \"ChatOpenAIInput\"}, {\"id\": 1, \"type\": \"runnable\", \"data\": {\"id\": [\"langchain\", \"chat_models\", \"openai\", \"ChatOpenAI\"], \"name\": \"ChatOpenAI\"}}, {\"id\": 2, \"type\": \"schema\", \"data\": \"ChatOpenAIOutput\"}], \"edges\": [{\"source\": 0, \"target\": 1}, {\"source\": 1, \"target\": 2}]}}}, \"name\": \"RunnableSequence\", \"graph\": {\"nodes\": [{\"id\": 0, \"type\": \"schema\", \"data\": \"PromptInput\"}, {\"id\": 1, \"type\": \"runnable\", \"data\": {\"id\": [\"langchain\", \"prompts\", \"prompt\", \"PromptTemplate\"], \"name\": \"PromptTemplate\"}}, {\"id\": 2, \"type\": \"runnable\", \"data\": {\"id\": [\"langchain\", \"chat_models\", \"openai\", \"ChatOpenAI\"], \"name\": \"ChatOpenAI\"}}, {\"id\": 3, \"type\": \"schema\", \"data\": \"ChatOpenAIOutput\"}], \"edges\": [{\"source\": 0, \"target\": 1}, {\"source\": 2, \"target\": 3}, {\"source\": 1, \"target\": 2}]}}'"
      ]
     },
     "execution_count": 14,
     "metadata": {},
     "output_type": "execute_result"
    }
   ],
   "source": [
    "loads_chain"
   ]
  }
 ],
 "metadata": {
  "kernelspec": {
   "display_name": "langchain-rag-UhYHSyIM-py3.11",
   "language": "python",
   "name": "python3"
  },
  "language_info": {
   "codemirror_mode": {
    "name": "ipython",
    "version": 3
   },
   "file_extension": ".py",
   "mimetype": "text/x-python",
   "name": "python",
   "nbconvert_exporter": "python",
   "pygments_lexer": "ipython3",
   "version": "3.11.0"
  }
 },
 "nbformat": 4,
 "nbformat_minor": 2
}
