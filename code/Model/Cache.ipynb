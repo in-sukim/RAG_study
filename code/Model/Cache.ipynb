{
 "cells": [
  {
   "cell_type": "markdown",
   "metadata": {},
   "source": [
    "### 캐싱(Chacing)\n",
    "\n",
    "- 동일한 완료를 여러번 요청 하는 경우 LLM 공급자에 대한 API 호출 횟수를 줄여 비용 절감 도움.\n",
    "- LLM 제공업체에 대한 API 호출 횟수를 줄여 애플리케이션 속도 증가에 도움."
   ]
  },
  {
   "cell_type": "code",
   "execution_count": 1,
   "metadata": {},
   "outputs": [
    {
     "data": {
      "text/plain": [
       "True"
      ]
     },
     "execution_count": 1,
     "metadata": {},
     "output_type": "execute_result"
    }
   ],
   "source": [
    "from dotenv import load_dotenv\n",
    "\n",
    "load_dotenv()"
   ]
  },
  {
   "cell_type": "code",
   "execution_count": 2,
   "metadata": {},
   "outputs": [
    {
     "name": "stdout",
     "output_type": "stream",
     "text": [
      "LangSmith 추적을 시작합니다.\n",
      "[프로젝트명]\n",
      "Cache\n"
     ]
    }
   ],
   "source": [
    "from langchain_teddynote import logging\n",
    "\n",
    "logging.langsmith(\"Cache\")"
   ]
  },
  {
   "cell_type": "code",
   "execution_count": 5,
   "metadata": {},
   "outputs": [],
   "source": [
    "from langchain_openai import ChatOpenAI\n",
    "from langchain_core.prompts import PromptTemplate\n",
    "\n",
    "\n",
    "llm = ChatOpenAI(\n",
    "    model_name = \"gpt-4o-mini\",\n",
    "    temperature=0\n",
    ")\n",
    "\n",
    "prompt = PromptTemplate.from_template(\"{country} 에 대해서 200자 내외로 요약해줘.\")\n",
    "\n",
    "chain = prompt | llm"
   ]
  },
  {
   "cell_type": "code",
   "execution_count": 6,
   "metadata": {},
   "outputs": [
    {
     "name": "stdout",
     "output_type": "stream",
     "text": [
      "content='한국은 동아시아에 위치한 한반도의 국가로, 남한과 북한으로 나뉘어 있습니다. 서울은 수도이며, 경제, 문화, 기술의 중심지입니다. 한국은 K-팝, 드라마, 음식 등으로 세계적으로 유명하며, 전통과 현대가 조화를 이루는 독특한 문화를 가지고 있습니다. 또한, 교육 수준이 높고, IT 산업이 발달해 있습니다.' response_metadata={'token_usage': {'completion_tokens': 92, 'prompt_tokens': 21, 'total_tokens': 113}, 'model_name': 'gpt-4o-mini-2024-07-18', 'system_fingerprint': 'fp_9b0abffe81', 'finish_reason': 'stop', 'logprobs': None} id='run-0307efb5-f0b5-4049-a96c-6b383c900886-0' usage_metadata={'input_tokens': 21, 'output_tokens': 92, 'total_tokens': 113}\n",
      "CPU times: user 1.36 s, sys: 625 ms, total: 1.99 s\n",
      "Wall time: 3.08 s\n"
     ]
    }
   ],
   "source": [
    "%%time\n",
    "response = chain.invoke({\"country\":\"한국\"})\n",
    "print(response)"
   ]
  },
  {
   "cell_type": "markdown",
   "metadata": {},
   "source": [
    "### InMemoryCache\n",
    "\n",
    "인메모리 캐시를 사용하여 동일 질문에 대한 답변을 저장하고, 캐시에 저장된 답변을 반환<br>\n",
    "반복되는 요청에도 비용 발생 X. 프로그램이 꺼지면 Cache 휘발.\n",
    "\n",
    "\n",
    "사용자별 Cache를 저장해야 할 때 InMemoryCache 유용."
   ]
  },
  {
   "cell_type": "code",
   "execution_count": 8,
   "metadata": {},
   "outputs": [
    {
     "name": "stdout",
     "output_type": "stream",
     "text": [
      "한국은 동아시아에 위치한 한반도의 국가로, 남한과 북한으로 나뉘어 있습니다. 서울은 수도이며, 경제, 문화, 기술의 중심지입니다. 한국은 K-팝, 드라마, 음식 등으로 세계적으로 유명하며, 전통과 현대가 조화를 이루는 독특한 문화를 가지고 있습니다. 또한, 교육 수준이 높고, IT 산업이 발달해 있습니다.\n",
      "CPU times: user 15.9 ms, sys: 2.93 ms, total: 18.8 ms\n",
      "Wall time: 3.15 s\n"
     ]
    }
   ],
   "source": [
    "%%time\n",
    "from langchain.globals import set_llm_cache\n",
    "from langchain.cache import InMemoryCache\n",
    "\n",
    "set_llm_cache(InMemoryCache())\n",
    "response = chain.invoke({\"country\":\"한국\"})\n",
    "print(response.content)"
   ]
  },
  {
   "cell_type": "code",
   "execution_count": 9,
   "metadata": {},
   "outputs": [
    {
     "name": "stdout",
     "output_type": "stream",
     "text": [
      "한국은 동아시아에 위치한 한반도의 국가로, 남한과 북한으로 나뉘어 있습니다. 서울은 수도이며, 경제, 문화, 기술의 중심지입니다. 한국은 K-팝, 드라마, 음식 등으로 세계적으로 유명하며, 전통과 현대가 조화를 이루는 독특한 문화를 가지고 있습니다. 또한, 교육 수준이 높고, IT 산업이 발달해 있습니다.\n",
      "CPU times: user 4.04 ms, sys: 582 μs, total: 4.62 ms\n",
      "Wall time: 4.48 ms\n"
     ]
    }
   ],
   "source": [
    "%%time\n",
    "response = chain.invoke({\"country\":\"한국\"})\n",
    "print(response.content)"
   ]
  },
  {
   "cell_type": "markdown",
   "metadata": {},
   "source": [
    "### SQLite Cache\n",
    "\n",
    "프로그램을 종료 후 다시 시작해도 Cache 유지 가능."
   ]
  },
  {
   "cell_type": "code",
   "execution_count": 12,
   "metadata": {},
   "outputs": [],
   "source": [
    "from langchain_community.cache import SQLiteCache\n",
    "from langchain_core.globals import set_llm_cache\n",
    "import os\n",
    "\n",
    "if not os.path.exists(\"cache\"):\n",
    "    os.makedirs(\"cache\")\n",
    "set_llm_cache(SQLiteCache(\"cache/langchain.db\"))"
   ]
  },
  {
   "cell_type": "code",
   "execution_count": 14,
   "metadata": {},
   "outputs": [
    {
     "name": "stdout",
     "output_type": "stream",
     "text": [
      "한국은 동아시아에 위치한 한반도의 국가로, 남한과 북한으로 나뉘어 있습니다. 서울은 수도이며, 경제, 문화, 기술의 중심지입니다. 한국은 K-팝, 드라마, 음식 등으로 세계적으로 유명하며, 전통과 현대가 조화를 이루는 독특한 문화를 가지고 있습니다. 또한, 교육 수준이 높고, IT 산업이 발달해 있습니다.\n",
      "CPU times: user 7.42 ms, sys: 2.45 ms, total: 9.87 ms\n",
      "Wall time: 8.42 ms\n"
     ]
    }
   ],
   "source": [
    "%%time\n",
    "\n",
    "response = chain.invoke({\"country\":\"한국\"})\n",
    "print(response.content)"
   ]
  }
 ],
 "metadata": {
  "kernelspec": {
   "display_name": "langchain-rag-UhYHSyIM-py3.11",
   "language": "python",
   "name": "python3"
  },
  "language_info": {
   "codemirror_mode": {
    "name": "ipython",
    "version": 3
   },
   "file_extension": ".py",
   "mimetype": "text/x-python",
   "name": "python",
   "nbconvert_exporter": "python",
   "pygments_lexer": "ipython3",
   "version": "3.11.0"
  }
 },
 "nbformat": 4,
 "nbformat_minor": 2
}
