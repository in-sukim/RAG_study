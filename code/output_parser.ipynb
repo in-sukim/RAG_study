{
 "cells": [
  {
   "cell_type": "markdown",
   "metadata": {},
   "source": [
    "LangChain의 출력파서(Output Parser)는 언어모델(LLM)의 출력을 더 유용하고 구조화된 형태로 변환하는 중요한 컴포넌트\n",
    "### 출력파서의 역할\n",
    "- LLM의 출력을 받아 더 적합한 형식으로 변환\n",
    "- 구조화된 데이터 생성에 매우 유용\n",
    "- LangChain 프레임워크에서 다양한 종류의 출력 데이터를 파싱, 처리\n",
    "\n",
    "### 출력파서의 이점\n",
    "- **구조화**: LLM의 자유 형식 텍스트 출력 -> 구조화된 데이터로 변환\n",
    "- **일관성**: 출력 형식 일관되게 유지하여 후속 처리 용이\n",
    "- **유연성**: 다양한 출력형식(JSON, 리스트, 딕셔너리 등)으로 변환 가능"
   ]
  },
  {
   "cell_type": "markdown",
   "metadata": {},
   "source": [
    "### PydanticOutputParser\n",
    "언어 모델의 출력을 더 구조화된 정보로 변환하는데 도움. **사용자가 필요로 하는 정보를 명확하고 체계적인 형태로 제공**\n",
    "- **get_format_instructions()**: 언어 모델이 출력해야 할 정보의 형식 정의.\n",
    "- **parse():** 언어 모델의 출력(문자열로 가정)을 받아들여 이를 특정 구조로 분석하고 변환. Pydantic과 같은 도구를 사용하여, 입력된 문자열의 사전 정의된 스키마에 따라 검증, 변환"
   ]
  },
  {
   "cell_type": "code",
   "execution_count": 1,
   "metadata": {},
   "outputs": [
    {
     "data": {
      "text/plain": [
       "True"
      ]
     },
     "execution_count": 1,
     "metadata": {},
     "output_type": "execute_result"
    }
   ],
   "source": [
    "from dotenv import load_dotenv\n",
    "\n",
    "load_dotenv()"
   ]
  },
  {
   "cell_type": "code",
   "execution_count": 2,
   "metadata": {},
   "outputs": [
    {
     "name": "stdout",
     "output_type": "stream",
     "text": [
      "LangSmith 추적을 시작합니다.\n",
      "[프로젝트명]\n",
      "OutputParser\n"
     ]
    }
   ],
   "source": [
    "from langchain_teddynote import logging\n",
    "\n",
    "logging.langsmith('OutputParser')"
   ]
  },
  {
   "cell_type": "code",
   "execution_count": 3,
   "metadata": {},
   "outputs": [],
   "source": [
    "email_conversation = \"\"\"From: 김철수 (chulsoo.kim@bikecorporation.me)\n",
    "To: 이은채 (eunchae@teddyinternational.me)\n",
    "Subject: \"ZENESIS\" 자전거 유통 협력 및 미팅 일정 제안\n",
    "\n",
    "안녕하세요, 이은채 대리님,\n",
    "\n",
    "저는 바이크코퍼레이션의 김철수 상무입니다. 최근 보도자료를 통해 귀사의 신규 자전거 \"ZENESIS\"에 대해 알게 되었습니다. 바이크코퍼레이션은 자전거 제조 및 유통 분야에서 혁신과 품질을 선도하는 기업으로, 이 분야에서의 장기적인 경험과 전문성을 가지고 있습니다.\n",
    "\n",
    "ZENESIS 모델에 대한 상세한 브로슈어를 요청드립니다. 특히 기술 사양, 배터리 성능, 그리고 디자인 측면에 대한 정보가 필요합니다. 이를 통해 저희가 제안할 유통 전략과 마케팅 계획을 보다 구체화할 수 있을 것입니다.\n",
    "\n",
    "또한, 협력 가능성을 더 깊이 논의하기 위해 다음 주 화요일(1월 15일) 오전 10시에 미팅을 제안합니다. 귀사 사무실에서 만나 이야기를 나눌 수 있을까요?\n",
    "\n",
    "감사합니다.\n",
    "\n",
    "김철수\n",
    "상무이사\n",
    "바이크코퍼레이션\n",
    "\"\"\""
   ]
  },
  {
   "cell_type": "code",
   "execution_count": 4,
   "metadata": {},
   "outputs": [
    {
     "name": "stdout",
     "output_type": "stream",
     "text": [
      "중요 내용 요약:\n",
      "\n",
      "- 발신자: 김철수 (바이크코퍼레이션 상무)\n",
      "- 수신자: 이은채 (Teddy International)\n",
      "- 주제: \"ZENESIS\" 자전거 유통 협력 및 미팅 일정 제안\n",
      "- 요청 사항: ZENESIS 모델에 대한 상세 브로슈어 (기술 사양, 배터리 성능, 디자인 정보)\n",
      "- 미팅 제안: 다음 주 화요일(1월 15일) 오전 10시, 귀사 사무실에서 만남 제안\n",
      "- 목적: 협력 가능성 논의 및 유통 전략, 마케팅 계획 구체화"
     ]
    }
   ],
   "source": [
    "from itertools import chain\n",
    "from langchain_core.prompts import PromptTemplate\n",
    "from langchain_openai import ChatOpenAI\n",
    "from langchain_core.output_parsers import PydanticOutputParser\n",
    "from langchain_core.pydantic_v1 import BaseModel, Field\n",
    "from langchain_teddynote.messages import stream_response\n",
    "prompt = PromptTemplate.from_template(\"다음의 이메일 내용중 중요한 내용을 추출해 주세요.\\n\\n{email_conversation}\")\n",
    "\n",
    "llm = ChatOpenAI(\n",
    "    model = 'gpt-4o-mini',\n",
    "    temperature= 0)\n",
    "\n",
    "chain = prompt | llm\n",
    "answer = chain.stream({\"email_conversation\": email_conversation})\n",
    "output = stream_response(answer, return_output = True)"
   ]
  },
  {
   "cell_type": "code",
   "execution_count": 10,
   "metadata": {},
   "outputs": [],
   "source": [
    "class EmailSummary(BaseModel):\n",
    "    person: str = Field(description=\"메일을 보낸 사람\")\n",
    "    email: str = Field(description=\"메일을 보낸 사람의 이메일 주소\")\n",
    "    subject: str = Field(description=\"메일 제목\")\n",
    "    summary: str = Field(description=\"메일 본문을 요약한 텍스트\")\n",
    "    date: str = Field(description=\"메일 본문에 언급된 미팅 날짜와 시간\")\n",
    "\n",
    "\n",
    "# PydanticOutputParser 생성\n",
    "parser = PydanticOutputParser(pydantic_object=EmailSummary)"
   ]
  },
  {
   "cell_type": "code",
   "execution_count": 11,
   "metadata": {},
   "outputs": [
    {
     "name": "stdout",
     "output_type": "stream",
     "text": [
      "The output should be formatted as a JSON instance that conforms to the JSON schema below.\n",
      "\n",
      "As an example, for the schema {\"properties\": {\"foo\": {\"title\": \"Foo\", \"description\": \"a list of strings\", \"type\": \"array\", \"items\": {\"type\": \"string\"}}}, \"required\": [\"foo\"]}\n",
      "the object {\"foo\": [\"bar\", \"baz\"]} is a well-formatted instance of the schema. The object {\"properties\": {\"foo\": [\"bar\", \"baz\"]}} is not well-formatted.\n",
      "\n",
      "Here is the output schema:\n",
      "```\n",
      "{\"properties\": {\"person\": {\"title\": \"Person\", \"description\": \"\\uba54\\uc77c\\uc744 \\ubcf4\\ub0b8 \\uc0ac\\ub78c\", \"type\": \"string\"}, \"email\": {\"title\": \"Email\", \"description\": \"\\uba54\\uc77c\\uc744 \\ubcf4\\ub0b8 \\uc0ac\\ub78c\\uc758 \\uc774\\uba54\\uc77c \\uc8fc\\uc18c\", \"type\": \"string\"}, \"subject\": {\"title\": \"Subject\", \"description\": \"\\uba54\\uc77c \\uc81c\\ubaa9\", \"type\": \"string\"}, \"summary\": {\"title\": \"Summary\", \"description\": \"\\uba54\\uc77c \\ubcf8\\ubb38\\uc744 \\uc694\\uc57d\\ud55c \\ud14d\\uc2a4\\ud2b8\", \"type\": \"string\"}, \"date\": {\"title\": \"Date\", \"description\": \"\\uba54\\uc77c \\ubcf8\\ubb38\\uc5d0 \\uc5b8\\uae09\\ub41c \\ubbf8\\ud305 \\ub0a0\\uc9dc\\uc640 \\uc2dc\\uac04\", \"type\": \"string\"}}, \"required\": [\"person\", \"email\", \"subject\", \"summary\", \"date\"]}\n",
      "```\n"
     ]
    }
   ],
   "source": [
    "print(parser.get_format_instructions())"
   ]
  },
  {
   "cell_type": "markdown",
   "metadata": {},
   "source": [
    "1.**question**: 유저의 질문<br>\n",
    "2.**email_conversation**: 이메일 본문의 내용 입력<br>\n",
    "3.**format**: 형식을 지정합니다.<br>"
   ]
  },
  {
   "cell_type": "code",
   "execution_count": 9,
   "metadata": {},
   "outputs": [],
   "source": [
    "prompt = PromptTemplate.from_template(\n",
    "    \"\"\"\n",
    "You are a helpful assistant. Please answer the following questions in KOREAN. \n",
    "\n",
    "QUESTION:\n",
    "{question}\n",
    "\n",
    "EMAIL CONVERSATION:\n",
    "{email_conversation}\n",
    "\n",
    "FORMAT:\n",
    "{format}\n",
    "\"\"\"\n",
    ")\n",
    "\n",
    "# format 에 PydanticOutputParser의 부분 포맷팅(partial) 추가\n",
    "prompt = prompt.partial(format=parser.get_format_instructions())"
   ]
  },
  {
   "cell_type": "code",
   "execution_count": 13,
   "metadata": {},
   "outputs": [
    {
     "name": "stdout",
     "output_type": "stream",
     "text": [
      "```json\n",
      "{\n",
      "  \"person\": \"김철수\",\n",
      "  \"email\": \"chulsoo.kim@bikecorporation.me\",\n",
      "  \"subject\": \"\\\"ZENESIS\\\" 자전거 유통 협력 및 미팅 일정 제안\",\n",
      "  \"summary\": \"바이크코퍼레이션의 김철수 상무가 이은채 대리님에게 ZENESIS 자전거의 브로슈어 요청과 협력 논의를 위한 미팅 제안을 보냈습니다.\",\n",
      "  \"date\": \"2024-01-15\"\n",
      "}\n",
      "```"
     ]
    }
   ],
   "source": [
    "chain = prompt | llm\n",
    "response = chain.stream(\n",
    "    {\n",
    "        \"email_conversation\": email_conversation,\n",
    "        \"question\": \"이메일 내용중 주요 내용을 추출해 주세요.\",\n",
    "    }\n",
    ")\n",
    "\n",
    "# 결과는 JSON 형태로 출력됩니다.\n",
    "output = stream_response(response, return_output=True)"
   ]
  },
  {
   "cell_type": "code",
   "execution_count": 14,
   "metadata": {},
   "outputs": [],
   "source": [
    "structured_output = parser.parse(output)"
   ]
  },
  {
   "cell_type": "code",
   "execution_count": 15,
   "metadata": {},
   "outputs": [
    {
     "name": "stdout",
     "output_type": "stream",
     "text": [
      "person='김철수' email='chulsoo.kim@bikecorporation.me' subject='\"ZENESIS\" 자전거 유통 협력 및 미팅 일정 제안' summary='바이크코퍼레이션의 김철수 상무가 이은채 대리님에게 ZENESIS 자전거의 브로슈어 요청과 협력 논의를 위한 미팅 제안을 보냈습니다.' date='2024-01-15'\n"
     ]
    }
   ],
   "source": [
    "print(structured_output)"
   ]
  }
 ],
 "metadata": {
  "kernelspec": {
   "display_name": "langchain-rag-UhYHSyIM-py3.11",
   "language": "python",
   "name": "python3"
  },
  "language_info": {
   "codemirror_mode": {
    "name": "ipython",
    "version": 3
   },
   "file_extension": ".py",
   "mimetype": "text/x-python",
   "name": "python",
   "nbconvert_exporter": "python",
   "pygments_lexer": "ipython3",
   "version": "3.11.0"
  }
 },
 "nbformat": 4,
 "nbformat_minor": 2
}
