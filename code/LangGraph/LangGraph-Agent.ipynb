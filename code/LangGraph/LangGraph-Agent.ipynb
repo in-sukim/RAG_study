{
 "cells": [
  {
   "cell_type": "code",
   "execution_count": 1,
   "metadata": {},
   "outputs": [
    {
     "name": "stdout",
     "output_type": "stream",
     "text": [
      "LangSmith 추적을 시작합니다.\n",
      "[프로젝트명]\n",
      "LangGraph-Module\n"
     ]
    },
    {
     "data": {
      "text/plain": [
       "True"
      ]
     },
     "execution_count": 1,
     "metadata": {},
     "output_type": "execute_result"
    }
   ],
   "source": [
    "from dotenv import load_dotenv\n",
    "from langchain_teddynote import logging\n",
    "\n",
    "logging.langsmith('LangGraph-Module')\n",
    "load_dotenv()"
   ]
  },
  {
   "cell_type": "code",
   "execution_count": 2,
   "metadata": {},
   "outputs": [],
   "source": [
    "from langchain_community.tools import TavilySearchResults\n",
    "\n",
    "tool = TavilySearchResults(\n",
    "    max_results=5\n",
    ")\n",
    "\n",
    "tools = [tool]\n",
    "\n",
    "# print(tool.invoke(\"랭체인 테디노트 튜토리얼\"))"
   ]
  },
  {
   "cell_type": "code",
   "execution_count": 3,
   "metadata": {},
   "outputs": [],
   "source": [
    "from typing import Annotated\n",
    "from typing_extensions import TypedDict\n",
    "from langgraph.graph import add_messages\n",
    "\n",
    "class State(TypedDict):\n",
    "    # Annotated는 타입에 대한 추가적인 제약사항이나 메타데이터를 제공하는 데 사용.\n",
    "    messages: Annotated[list, add_messages]"
   ]
  },
  {
   "cell_type": "markdown",
   "metadata": {},
   "source": [
    "llm 정의 및 도구 바인딩"
   ]
  },
  {
   "cell_type": "code",
   "execution_count": 4,
   "metadata": {},
   "outputs": [],
   "source": [
    "from langchain_openai import ChatOpenAI\n",
    "\n",
    "llm = ChatOpenAI(model=\"gpt-4o-mini\", temperature=0)\n",
    "\n",
    "llm_with_tools = llm.bind_tools(tools)"
   ]
  },
  {
   "cell_type": "markdown",
   "metadata": {},
   "source": [
    "노드 정의"
   ]
  },
  {
   "cell_type": "code",
   "execution_count": 5,
   "metadata": {},
   "outputs": [],
   "source": [
    "def chatbot(state: State):\n",
    "    answer = llm_with_tools.invoke(state[\"messages\"])\n",
    "\n",
    "    return {\"messages\": [answer]}"
   ]
  },
  {
   "cell_type": "markdown",
   "metadata": {},
   "source": [
    "그래프 생성 및 노드 추가"
   ]
  },
  {
   "cell_type": "code",
   "execution_count": 6,
   "metadata": {},
   "outputs": [
    {
     "data": {
      "text/plain": [
       "<langgraph.graph.state.StateGraph at 0x142191d90>"
      ]
     },
     "execution_count": 6,
     "metadata": {},
     "output_type": "execute_result"
    }
   ],
   "source": [
    "from langgraph.graph import StateGraph\n",
    "\n",
    "graph_builder = StateGraph(State)\n",
    "\n",
    "graph_builder.add_node(\"chatbot\", chatbot)"
   ]
  },
  {
   "cell_type": "markdown",
   "metadata": {},
   "source": [
    "## 도구 노드 정의\n",
    "\n",
    "도구가 호출될 경우, 실제로 실행할 수 있는 함수. 새로운 노드에 도구 추가.<br>\n",
    "가장 최근 메시지를 확인하고 메시지에 tool_calls가 포함되어 있는 경우 도구를 호출하는 BasicToolNode 구현.<br>\n",
    "LangGraph에 pre-built 되어 있는 ToolNode로 대체 가능."
   ]
  },
  {
   "cell_type": "code",
   "execution_count": 7,
   "metadata": {},
   "outputs": [
    {
     "data": {
      "text/plain": [
       "<langgraph.graph.state.StateGraph at 0x142191d90>"
      ]
     },
     "execution_count": 7,
     "metadata": {},
     "output_type": "execute_result"
    }
   ],
   "source": [
    "import json\n",
    "from langchain_core.messages import ToolMessage\n",
    "\n",
    "class BasicToolNode:\n",
    "    \"\"\"\n",
    "    Run tools requested in the AImessages node.\n",
    "    \"\"\"\n",
    "\n",
    "    def __init__(self, tools:list) ->  None:\n",
    "        self.tools_list = {tool.name: tool for tool in tools}\n",
    "    \n",
    "    def __call__(self, inputs: dict):\n",
    "        # 메시지가 존재할 경우 가장 최근 메시지 1개 추출\n",
    "        if messages := inputs.get(\"messages\", []):\n",
    "            message = messages[-1]\n",
    "        else:\n",
    "            raise ValueError(\"No message found in input\")\n",
    "        \n",
    "        # 도구 호출 결과\n",
    "        outputs = []\n",
    "        for tool_call in message.tool_calls:\n",
    "            # 도구 호출 후 결과 저장\n",
    "            tool_result = self.tools_list[tool_call['name']].invoke(tool_call['args'])\n",
    "            outputs.append(\n",
    "                # 도구 호출 결과를 메시지로 저장\n",
    "                ToolMessage(\n",
    "                    content = json.dumps(\n",
    "                        tool_result, ensure_ascii=False\n",
    "                    ),\n",
    "                    name = tool_call['name'],\n",
    "                    tool_call_id = tool_call['id'],\n",
    "                )\n",
    "            )\n",
    "        return {\"messages\": outputs}\n",
    "\n",
    "# 도구 노드 생성    \n",
    "tool_node = BasicToolNode(tools = [tool])\n",
    "\n",
    "# 그래프에 도구 노드 추가\n",
    "graph_builder.add_node(\"tools\", tool_node)"
   ]
  },
  {
   "cell_type": "markdown",
   "metadata": {},
   "source": [
    "## 조건부 엣지(Conditional Edge)\n",
    "\n",
    "도구 노드가 추가되면 conditional edge를 정의할 수 있다.<br>\n",
    "일반적으로 'if' 문을 포함하여 현재 그래프 상태에 따라 다른 노드로 라우팅한다. 이러한 함수는 현재 그래프 state를 받아 다음에 호출할 node를 나태는 문자열 또는 문자열 목록을 반환.<br>\n",
    "**add_conditional_edges**를 호출하여 그래프에 추가.<Br>\n",
    "조건은 도구 호출이 있으면 tools로, 없으면 END로 라우팅.\n",
    "\n",
    "- 참고\n",
    "langgraph 에 pre-built 되어 있는 tools_condition 으로 대체 가능.\n",
    "\n",
    "### 매개변수\n",
    "\n",
    "- source (str): 시작 노드, 이 노드를 나갈 때 조건부 엣지 실행.\n",
    "- path(Union[Callable, Runnable]): 다음 노드를 결정하는 호출 가능한 객체 또는 Runnable. path_map을 지정하지 않으면 하나 이상의 노드를 반환해야 한다. END 를 반환하면 그래프 실행 중지.\n",
    "- path_map(Optional[Union[dic[Hashable,str], list[str]]]): 경로와 노드 이름 간의 매핑. 생략하면 path가 반환하는 값이 노드 이름이어야 함.\n",
    "- then(Optional[str]): path로 선택된 노드 실행 후 실행할 노드의 이름.\n",
    "\n",
    "### 반환값\n",
    "- self: 메서드 체이닝을 위해 자기 자신을 반환.\n",
    "\n",
    "### 주요기능\n",
    "1. 조건부 엣지를 그래프에 추가.\n",
    "2. path_map을 딕셔너리로 변환\n",
    "3. path 함수의 변환 타입을 분석하여 자동으로 path_map을 생성할 수 있다.\n",
    "4. 조건부 분기를 그래프에 저장.\n",
    "\n",
    "\n",
    "### 참고\n",
    "\n",
    "- 이미 컴파일된 그래프에 엣지를 추가하면 경고 메시지가 출력됩니다.\n",
    "- path 함수의 반환 값에 대한 타입 힌트가 없거나 path_map이 제공되지 않으면, 그래프 시각화 시 해당 엣지가 그래프의 모든 노드로 전환될 수 있다고 가정합니다.\n",
    "- 동일한 이름의 분기가 이미 존재하는 경우 ValueError가 발생합니다."
   ]
  },
  {
   "cell_type": "code",
   "execution_count": 8,
   "metadata": {},
   "outputs": [],
   "source": [
    "from langgraph.graph import START, END\n",
    "\n",
    "\n",
    "def route_tools(\n",
    "    state: State,\n",
    "):\n",
    "    if messages := state.get(\"messages\", []):\n",
    "        # 가장 최근 AI 메시지 추출\n",
    "        ai_message = messages[-1]\n",
    "    else:\n",
    "        # 입력 상태에 메시지가 없는 경우 예외 발생\n",
    "        raise ValueError(f\"No messages found in input state to tool_edge: {state}\")\n",
    "\n",
    "    # AI 메시지에 도구 호출이 있는 경우 \"tools\" 반환\n",
    "    if hasattr(ai_message, \"tool_calls\") and len(ai_message.tool_calls) > 0:\n",
    "        # 도구 호출이 있는 경우 \"tools\" 반환\n",
    "        return \"tools\"\n",
    "    # 도구 호출이 없는 경우 \"END\" 반환\n",
    "    return END\n",
    "\n",
    "\n",
    "# `tools_condition` 함수는 챗봇이 도구 사용을 요청하면 \"tools\"를 반환하고, 직접 응답이 가능한 경우 \"END\"를 반환\n",
    "graph_builder.add_conditional_edges(\n",
    "    source=\"chatbot\",\n",
    "    path=route_tools,\n",
    "    # route_tools 의 반환값이 \"tools\" 인 경우 \"tools\" 노드로, 그렇지 않으면 END 노드로 라우팅\n",
    "    path_map={\"tools\": \"tools\", END: END},\n",
    ")\n",
    "\n",
    "# tools > chatbot\n",
    "graph_builder.add_edge(\"tools\", \"chatbot\")\n",
    "\n",
    "# START > chatbot\n",
    "graph_builder.add_edge(START, \"chatbot\")\n",
    "\n",
    "# 그래프 컴파일\n",
    "graph = graph_builder.compile()"
   ]
  },
  {
   "cell_type": "code",
   "execution_count": 9,
   "metadata": {},
   "outputs": [
    {
     "data": {
      "image/jpeg": "[encoded data removed]",
      "text/plain": [
       "<IPython.core.display.Image object>"
      ]
     },
     "metadata": {},
     "output_type": "display_data"
    }
   ],
   "source": [
    "from langchain_teddynote.graphs import visualize_graph\n",
    "\n",
    "visualize_graph(graph)"
   ]
  },
  {
   "cell_type": "code",
   "execution_count": 10,
   "metadata": {},
   "outputs": [
    {
     "name": "stdout",
     "output_type": "stream",
     "text": [
      "\n",
      "==============\n",
      "STEP: messages\n",
      "==============\n",
      "\n",
      "content='테디노트 YouTube 채널에 대해서 검색해 줘' additional_kwargs={} response_metadata={} id='2a60933d-ce90-4ad0-acd8-53a67cb87ce7'\n",
      "\n",
      "==============\n",
      "STEP: messages\n",
      "==============\n",
      "\n",
      "content='' additional_kwargs={'tool_calls': [{'id': 'call_GWfhqkA7tJd0H2WkQ6b4Lbng', 'function': {'arguments': '{\"query\":\"테디노트 YouTube 채널\"}', 'name': 'tavily_search_results_json'}, 'type': 'function'}], 'refusal': None} response_metadata={'token_usage': {'completion_tokens': 25, 'prompt_tokens': 93, 'total_tokens': 118, 'completion_tokens_details': {'audio_tokens': 0, 'reasoning_tokens': 0, 'accepted_prediction_tokens': 0, 'rejected_prediction_tokens': 0}, 'prompt_tokens_details': {'audio_tokens': 0, 'cached_tokens': 0}}, 'model_name': 'gpt-4o-mini-2024-07-18', 'system_fingerprint': 'fp_0ba0d124f1', 'finish_reason': 'tool_calls', 'logprobs': None} id='run-9e5d7c88-e97e-4107-8703-22ee0e11ae23-0' tool_calls=[{'name': 'tavily_search_results_json', 'args': {'query': '테디노트 YouTube 채널'}, 'id': 'call_GWfhqkA7tJd0H2WkQ6b4Lbng', 'type': 'tool_call'}] usage_metadata={'input_tokens': 93, 'output_tokens': 25, 'total_tokens': 118, 'input_token_details': {'audio': 0, 'cache_read': 0}, 'output_token_details': {'audio': 0, 'reasoning': 0}}\n",
      "\n",
      "==============\n",
      "STEP: messages\n",
      "==============\n",
      "\n",
      "content='[{\"url\": \"https://teddynote.com/\", \"content\": \"테디노트.dev Teddy Lee (이경록) 👋. YouTube 테디노트; 블로그 테디노트; LinkedIn; LangChain. LangChain 한국어 튜토리얼 Github; LangChain 한국어 튜토리얼 위키독스 전자책\"}, {\"url\": \"https://www.youtube.com/shorts/VFMY3Tu46v4\", \"content\": \"[패스트캠퍼스 X 테디노트] RAG 비법노트에서!!https://fastcampus.co.kr/data_online_teddy---📍 \\\\\"테디노트의 RAG 비법노트\\\\\" 랭체인 강의\"}, {\"url\": \"https://linktr.ee/teddynote\", \"content\": \"YouTube. LinkedIn. GitHub. Email. Amazon AWS GenAI Loft Seoul 행사 - 발표자료(PDF) [FastCampus] 테디노트의 RAG 비법노트🙌. 🔥[100% 무료] 테디노트 YouTube 콘텐츠 학습 순서🔥. 유튜브. 📘 랭체인 한국어 튜토리얼🇰🇷. Github. 테디노트-Gencon2024-ModularRAG-20240921.pdf.\"}, {\"url\": \"https://teddylee777.github.io/thoughts/book-recom-2023/\", \"content\": \"🔥알림🔥 ① 테디노트 유튜브 - 구경하러 가기! ② LangChain 한국어 튜토리얼 바로가기 👀 ③ 랭체인 노트 무료 전자책(wikidocs) 바로가기 🙌 ④ RAG 비법노트 LangChain 강의오픈 바로가기 🙌 ⑤ 서울대 PyTorch 딥러닝 강의 바로가기 🙌 [2023년 업데이트] 데이터 분석/인공지능을 공부하려는 분들께 경험을\"}, {\"url\": \"https://teddylee777.github.io/lectures/\", \"content\": \"텐서플로 개발자 자격증 취득\\\\n🙏 아래의 내용을 참고해 주세요 🙏\\\\n📌 VOD 강의 링크\\\\n💻 한 방으로 끝내는 판다스(Pandas) 데이터 분석 - 전자책 포함\\\\n🙏 아래의 내용을 참고해 주세요 🙏\\\\n📌 VOD 강의 링크\\\\n🌱 한 권으로 끝내는 파이썬(Python) 코딩 입문 - 전자책 포함\\\\n🙏 아래의 내용을 참고해 주세요 🙏\\\\n📌 VOD 강의 링크\\\\n🌱 깃헙 블로그(Github blog)로 차별화 된 나만의 홈페이지 만들기!\\\\n 🔥알림🔥\\\\n① 테디노트 유튜브 -\\\\n구경하러 가기!\\\\n② 서울대 X 테디노트 ChatGPT & PyTorch 강의\\\\n강의 커리큘럼 👀\\\\n강의\\\\n아래에 나열된 강의는 모두 제가 직접 촬영 및 진행한 내 새끼같은 강의들입니다.\\\\n 주제별로 강의 영상을 시리즈로 모아 놓았어요😊\\\\n구독, 좋아요👍 그리고 댓글 감사합니다🥰\\\\n📌 지금 당장 유튜브 보러가기\\\\n✏️ 머신러닝 스터디 혼자 해보기\\\\n깃헙(GitHub)에 혼자서 데이터 분석, 머신러닝, 딥러닝을 스터디 할 수 있도록 주제별로 정리해 놓았어요✌️\\\\n저도 혼자서 공부를 했었는데, 이해가 쏙쏙 되는 강의와 블로그 주소들을 메모해 두었다가 정리해 본 내용이에요.\\\\n 강의 링크\\\\n🌱 스트림릿(Streamlit)을 활용한 파이썬 웹앱 제작하기\\\\n🙏 아래의 내용을 참고해 주세요 🙏\\\\n스트림릿(streamlit)을 활용하여 파이썬 웹앱 대시보드를 구현해보고 싶으신 분들께 추천 드립니다🤩\\\\n데이터 분석/대시보드 제작 그리고 머신러닝 모델을 배포해서 서비스화 시키는 과정입니다😊\\\\n파이썬 기본 문법만 알고 계신다면 부담 없이 도전해 만들어 보고 싶으신 분들께 추천 드립니다🤩\\\\n코딩은 거의 없기 때문에 코린이도 문제 없어요😊\\\\n테디노트와 같은 블로그를 만들어 보고 싶으시다면 지금 바로 도전해 보세요 🥰\\\\n📌 VOD\"}]' name='tavily_search_results_json' id='66478bc5-7825-41d0-9d64-239663f9db6b' tool_call_id='call_GWfhqkA7tJd0H2WkQ6b4Lbng'\n",
      "\n",
      "==============\n",
      "STEP: messages\n",
      "==============\n",
      "\n",
      "content='테디노트는 YouTube 채널을 운영하며, 주로 데이터 분석, 인공지능, 머신러닝, 그리고 프로그래밍 관련 강의를 제공합니다. 이 채널은 다양한 튜토리얼과 강의를 통해 학습 자료를 제공하고 있으며, 특히 LangChain과 관련된 콘텐츠가 포함되어 있습니다.\\n\\n- [테디노트 공식 웹사이트](https://teddynote.com/)\\n- [테디노트 YouTube 채널](https://www.youtube.com/shorts/VFMY3Tu46v4) (RAG 비법노트 강의)\\n- [링크트리](https://linktr.ee/teddynote)에서 다양한 자료와 강의 링크를 확인할 수 있습니다.\\n\\n테디노트는 또한 GitHub와 블로그를 통해 추가적인 학습 자료를 제공하고 있으며, 강의는 주제별로 시리즈로 구성되어 있습니다.' additional_kwargs={'refusal': None} response_metadata={'token_usage': {'completion_tokens': 193, 'prompt_tokens': 1122, 'total_tokens': 1315, 'completion_tokens_details': {'audio_tokens': 0, 'reasoning_tokens': 0, 'accepted_prediction_tokens': 0, 'rejected_prediction_tokens': 0}, 'prompt_tokens_details': {'audio_tokens': 0, 'cached_tokens': 0}}, 'model_name': 'gpt-4o-mini-2024-07-18', 'system_fingerprint': 'fp_0ba0d124f1', 'finish_reason': 'stop', 'logprobs': None} id='run-3a90104e-a23d-4035-91aa-ae2724237444-0' usage_metadata={'input_tokens': 1122, 'output_tokens': 193, 'total_tokens': 1315, 'input_token_details': {'audio': 0, 'cache_read': 0}, 'output_token_details': {'audio': 0, 'reasoning': 0}}\n"
     ]
    }
   ],
   "source": [
    "inputs = {\"messages\": \"테디노트 YouTube 채널에 대해서 검색해 줘\"}\n",
    "\n",
    "for event in graph.stream(inputs, stream_mode=\"values\"):\n",
    "    for key, value in event.items():\n",
    "        print(f\"\\n==============\\nSTEP: {key}\\n==============\\n\")\n",
    "        # display_message_tree(value[\"messages\"][-1])\n",
    "        print(value[-1])"
   ]
  }
 ],
 "metadata": {
  "kernelspec": {
   "display_name": "langchain-rag-UhYHSyIM-py3.11",
   "language": "python",
   "name": "python3"
  },
  "language_info": {
   "codemirror_mode": {
    "name": "ipython",
    "version": 3
   },
   "file_extension": ".py",
   "mimetype": "text/x-python",
   "name": "python",
   "nbconvert_exporter": "python",
   "pygments_lexer": "ipython3",
   "version": "3.11.0"
  }
 },
 "nbformat": 4,
 "nbformat_minor": 2
}
