{
 "cells": [
  {
   "cell_type": "code",
   "execution_count": 1,
   "metadata": {},
   "outputs": [
    {
     "name": "stdout",
     "output_type": "stream",
     "text": [
      "LangSmith 추적을 시작합니다.\n",
      "[프로젝트명]\n",
      "LangGraph-Modules\n"
     ]
    }
   ],
   "source": [
    "from langchain_teddynote import logging\n",
    "from dotenv import load_dotenv\n",
    "\n",
    "load_dotenv()\n",
    "\n",
    "logging.langsmith(\"LangGraph-Modules\")\n",
    "\n"
   ]
  },
  {
   "cell_type": "code",
   "execution_count": 4,
   "metadata": {},
   "outputs": [],
   "source": [
    "from typing import Annotated, List, Dict\n",
    "from typing_extensions import TypedDict\n",
    "\n",
    "from langchain_core.tools import tool\n",
    "from langchain_openai import ChatOpenAI\n",
    "from langgraph.checkpoint.memory import MemorySaver\n",
    "from langgraph.graph import StateGraph, START, END\n",
    "from langgraph.graph.message import add_messages\n",
    "from langgraph.prebuilt import ToolNode, tools_condition\n",
    "from langchain_teddynote.graphs import visualize_graph\n",
    "from langchain_teddynote.tools import GoogleNews\n",
    "\n",
    "\n",
    "########## 1. 상태 정의 ##########\n",
    "# 상태 정의\n",
    "class State(TypedDict):\n",
    "    # 메시지 목록 주석 추가\n",
    "    messages: Annotated[list, add_messages]\n",
    "\n",
    "\n",
    "########## 2. 도구 정의 및 바인딩 ##########\n",
    "# 도구 초기화\n",
    "# 키워드로 뉴스 검색하는 도구 생성\n",
    "news_tool = GoogleNews()\n",
    "\n",
    "\n",
    "@tool\n",
    "def search_keyword(query: str) -> List[Dict[str, str]]:\n",
    "    \"\"\"Look up news by keyword\"\"\"\n",
    "    news_tool = GoogleNews()\n",
    "    return news_tool.search_by_keyword(query, k=5)\n",
    "\n",
    "\n",
    "tools = [search_keyword]\n",
    "\n",
    "# LLM 초기화\n",
    "llm = ChatOpenAI(model=\"gpt-4o-mini\")\n",
    "\n",
    "# 도구와 LLM 결합\n",
    "llm_with_tools = llm.bind_tools(tools)\n",
    "\n",
    "\n",
    "########## 3. 노드 추가 ##########\n",
    "# 챗봇 함수 정의\n",
    "def chatbot(state: State):\n",
    "    # 메시지 호출 및 반환\n",
    "    return {\"messages\": [llm_with_tools.invoke(state[\"messages\"])]}\n",
    "\n",
    "\n",
    "# 상태 그래프 생성\n",
    "graph_builder = StateGraph(State)\n",
    "\n",
    "# 챗봇 노드 추가\n",
    "graph_builder.add_node(\"chatbot\", chatbot)\n",
    "\n",
    "\n",
    "# 도구 노드 생성 및 추가\n",
    "tool_node = ToolNode(tools=tools)\n",
    "\n",
    "# 도구 노드 추가\n",
    "graph_builder.add_node(\"tools\", tool_node)\n",
    "\n",
    "# 조건부 엣지\n",
    "graph_builder.add_conditional_edges(\n",
    "    \"chatbot\",\n",
    "    tools_condition,\n",
    ")\n",
    "\n",
    "########## 4. 엣지 추가 ##########\n",
    "\n",
    "# tools > chatbot\n",
    "graph_builder.add_edge(\"tools\", \"chatbot\")\n",
    "\n",
    "# START > chatbot\n",
    "graph_builder.add_edge(START, \"chatbot\")\n",
    "\n",
    "# chatbot > END\n",
    "graph_builder.add_edge(\"chatbot\", END)\n",
    "\n",
    "########## 5. MemorySaver 추가 ##########\n",
    "\n",
    "# 메모리 저장소 초기화\n",
    "memory = MemorySaver()"
   ]
  },
  {
   "cell_type": "markdown",
   "metadata": {},
   "source": [
    "그래프 컴파일 후 , tools 노드 전에 interrupt_before 지정."
   ]
  },
  {
   "cell_type": "code",
   "execution_count": 6,
   "metadata": {},
   "outputs": [],
   "source": [
    "graph = graph_builder.compile(checkpointer=memory)"
   ]
  },
  {
   "cell_type": "code",
   "execution_count": 7,
   "metadata": {},
   "outputs": [
    {
     "data": {
      "image/jpeg": "[encoded data removed]",
      "text/plain": [
       "<IPython.core.display.Image object>"
      ]
     },
     "metadata": {},
     "output_type": "display_data"
    }
   ],
   "source": [
    "visualize_graph(graph)"
   ]
  },
  {
   "cell_type": "code",
   "execution_count": 11,
   "metadata": {},
   "outputs": [
    {
     "name": "stdout",
     "output_type": "stream",
     "text": [
      "\n",
      "[messages]\n",
      "\n",
      "================================\u001b[1m Human Message \u001b[0m=================================\n",
      "\n",
      "AI 관련 최신 뉴스를 알려주세요.\n",
      "\n",
      "[messages]\n",
      "\n",
      "================================\u001b[1m Human Message \u001b[0m=================================\n",
      "\n",
      "AI 관련 최신 뉴스를 알려주세요.\n",
      "==================================\u001b[1m Ai Message \u001b[0m==================================\n",
      "Tool Calls:\n",
      "  search_keyword (call_cszJr2ABNCMVzymSq05LPu89)\n",
      " Call ID: call_cszJr2ABNCMVzymSq05LPu89\n",
      "  Args:\n",
      "    query: AI\n"
     ]
    }
   ],
   "source": [
    "from langchain_teddynote.messages import pretty_print_messages\n",
    "from langchain_core.runnables import RunnableConfig\n",
    "\n",
    "# 질문\n",
    "question = \"AI 관련 최신 뉴스를 알려주세요.\"\n",
    "\n",
    "# 초기 입력 State 를 정의\n",
    "input = State(messages=[(\"user\", question)])\n",
    "\n",
    "# config 설정\n",
    "config = RunnableConfig(\n",
    "    recursion_limit=10,  # 최대 10개의 노드까지 방문. 그 이상은 RecursionError 발생\n",
    "    configurable={\"thread_id\": \"1\"},  # 스레드 ID 설정\n",
    "    tags=[\"my-rag\"],  # Tag\n",
    ")\n",
    "\n",
    "for event in graph.stream(\n",
    "    input=input,\n",
    "    config=config,\n",
    "    stream_mode=\"values\",\n",
    "    interrupt_before=[\"tools\"],  # tools 실행 전 interrupt(tools 노드 실행 전 중단)\n",
    "):\n",
    "    for key, value in event.items():\n",
    "        # key 는 노드 이름\n",
    "        print(f\"\\n[{key}]\\n\")\n",
    "\n",
    "        # value 는 노드의 출력값\n",
    "        # print(value)\n",
    "        pretty_print_messages(value)\n",
    "\n",
    "        # value 에는 state 가 dict 형태로 저장(values 의 key 값)\n",
    "        if \"messages\" in value:\n",
    "            print(f\"메시지 개수: {len(value['messages'])}\")"
   ]
  },
  {
   "cell_type": "code",
   "execution_count": 12,
   "metadata": {},
   "outputs": [
    {
     "data": {
      "text/plain": [
       "('tools',)"
      ]
     },
     "execution_count": 12,
     "metadata": {},
     "output_type": "execute_result"
    }
   ],
   "source": [
    "# 그래프 상태 스냅샷 생성\n",
    "snapshot = graph.get_state(config)\n",
    "\n",
    "# 다음 스냅샷 상태\n",
    "snapshot.next"
   ]
  },
  {
   "cell_type": "markdown",
   "metadata": {},
   "source": [
    "__END__에 도달하지 않았기 때문에 .next의 값이 'tools'를 가지고 있다."
   ]
  },
  {
   "cell_type": "code",
   "execution_count": 13,
   "metadata": {},
   "outputs": [
    {
     "name": "stdout",
     "output_type": "stream",
     "text": [
      "    \u001b[96mindex [0]\u001b[0m\n",
      "        \u001b[94mname\u001b[0m: \"search_keyword\"\n",
      "        \u001b[94margs\u001b[0m: {\"query\": \"AI\"}\n",
      "        \u001b[94mid\u001b[0m: \"call_cszJr2ABNCMVzymSq05LPu89\"\n",
      "        \u001b[94mtype\u001b[0m: \"tool_call\"\n"
     ]
    }
   ],
   "source": [
    "from langchain_teddynote.messages import display_message_tree\n",
    "\n",
    "# 메시지 스냅샷에서 마지막 메시지 추출\n",
    "existing_messages = snapshot.values[\"messages\"][-1]\n",
    "\n",
    "display_message_tree(existing_messages.tool_calls)"
   ]
  },
  {
   "cell_type": "markdown",
   "metadata": {},
   "source": [
    "이전에 종료된 지점 이후부터 다시 실행."
   ]
  },
  {
   "cell_type": "code",
   "execution_count": 14,
   "metadata": {},
   "outputs": [
    {
     "name": "stdout",
     "output_type": "stream",
     "text": [
      "==================================\u001b[1m Ai Message \u001b[0m==================================\n",
      "Tool Calls:\n",
      "  search_keyword (call_cszJr2ABNCMVzymSq05LPu89)\n",
      " Call ID: call_cszJr2ABNCMVzymSq05LPu89\n",
      "  Args:\n",
      "    query: AI\n",
      "=================================\u001b[1m Tool Message \u001b[0m=================================\n",
      "Name: search_keyword\n",
      "\n",
      "[{\"url\": \"https://news.google.com/rss/articles/CBMiVkFVX3lxTE9CemxrWGpGVnJybWtBYU1ycHpINENocEUtUVE5TGx5U1pEdXRvU0c5Z0wzSGhLbHVNQjlrXzMtZkp2LWhMNEQ3Sk01bmsyaUZZTm5zTExB?oc=5\", \"content\": \"\\\"엔비디아 AI칩 블랙웰, 서버 탑재시 과열\\\" - ZD넷 코리아\"}, {\"url\": \"https://news.google.com/rss/articles/CBMiW0FVX3lxTE9TTG9id0N2ekRlZHdpbHhkUFNkdnRYak9kUThETW9SSFV1ZmUtZzNpamZRNEttWTlfOFBNMmFxdVFuYko4ZmxHYnVIVmxaQU95MDFzTFo5UDlzVkHSAV5BVV95cUxNdHZBU3ZEMFRocXVZMFVyZ2ZEVDh1MkNOdEtXTGZuYUVfWkg5Q0dvRjRHd1QtM2JZNnRTNlIzSmdpN2FMbDFIZWJIZVZiM0JJZ2xOS3FlMllLTzZLSWZn?oc=5\", \"content\": \"\\\"엔비디아 AI칩 '블랙웰' 서버 과열 문제…해결 시도중\\\"(종합) - 연합뉴스\"}, {\"url\": \"https://news.google.com/rss/articles/CBMiYEFVX3lxTE5GZVJkdDh3WlU5SGthMDcyeDZqaE1CSTZpX2xNS3BFaHFaejVtMldDYi1RVWVjZHhMa0ZzVWRfUXE2c090dkRHWXZIUmZCd0VnWG5PeEJPNGhuYW5rZzZxdw?oc=5\", \"content\": \"‘더 많이 학습’ AI 확장 모델 한계왔나…엔비디아 수익감소 우려도 - 한겨레\"}, {\"url\": \"https://news.google.com/rss/articles/CBMiakFVX3lxTE9PcGZnVUZhMVN2bEktNFhlVkQtU1lRT0RMX3JOUXI1cEZmckdtRm1KWVBLODFNTTNzNWZrXzdoTkxVS3hHOXozWmU1dXNRekxWMkF0ckd3d1Fid0xLZ2E0TnhNdHVSU2VPblE?oc=5\", \"content\": \"미국 청년 25% \\\"AI와 로맨틱한 관계 가능\\\"...성인물 많이 볼수록 더 긍정적 - AI타임스\"}, {\"url\": \"https://news.google.com/rss/articles/CBMidkFVX3lxTE9rQnA4ZzJwYWV1U1VWMmh3QTlGVERTd3Bkb240cGtZVTl5UWp6WW1QWnlEcFZ4UEpaV1JzQ1d1NDlkU181T2E2YTN3c0lmMTBUMmd2dFRxVDNMZkFrWmpISmZHQjRVdDdPSk15dDEwekRqSkpKdVHSAWZBVV95cUxNdXF3dHNNdS1FV2VWNGhHMVlaSzBvOXc0TWVOWEpYLU1qZmFPSUh6amlRZHlmZ0w2X1ZEYWdhV3BZZkhPMy1wOWpENXlqaF81X2NTcm5fVnJNY1psQkZUd244dTItMnc?oc=5\", \"content\": \"“생각 않고 빨리 답얻는 AI교과서… 사고력 더 떨어질것” - 동아일보\"}]\n",
      "==================================\u001b[1m Ai Message \u001b[0m==================================\n",
      "\n",
      "다음은 최근 AI 관련 뉴스입니다:\n",
      "\n",
      "1. [“엔비디아 AI칩 블랙웰, 서버 탑재시 과열” - ZD넷 코리아](https://news.google.com/rss/articles/CBMiVkFVX3lxTE9CemxrWGpGVnJybWtBYU1ycHpINENocEUtUVE5TGx5U1pEdXRvU0c5Z0wzSGhLbHVNQjlrXzMtZkp2LWhMNEQ3Sk01bmsyaUZZTm5zTExB?oc=5)\n",
      "\n",
      "2. [“엔비디아 AI칩 '블랙웰' 서버 과열 문제…해결 시도중” - 연합뉴스](https://news.google.com/rss/articles/CBMiW0FVX3lxTE9TTG9id0N2ekRlZHdpbHhkUFNkdnRYak9kUThETW9SSFV1ZmUtZzNpamZRNEttWTlfOFBNMmFxdVFuYko4ZmxHYnVIVmxaQU95MDFzTFo5UDlzVkHSAV5BVV95cUxNdHZBU3ZEMFRocXVZMFVyZ2ZEVDh1MkNOdEtXTGZuYUVfWkg5Q0dvRjRHd1QtM2JZNnRTNlIzSmdpN2FMbDFIZWJIZVZiM0JJZ2xOS3FlMllLTzZLSWZn?oc=5)\n",
      "\n",
      "3. [“‘더 많이 학습’ AI 확장 모델 한계왔나…엔비디아 수익감소 우려도” - 한겨레](https://news.google.com/rss/articles/CBMiYEFVX3lxTE5GZVJkdDh3WlU5SGthMDcyeDZqaE1CSTZpX2xNS3BFaHFaejVtMldDYi1RVWVjZHhMa0ZzVWRfUXE2c090dkRHWXZIUmZCd0VnWG5PeEJPNGhuYW5rZzZxdw?oc=5)\n",
      "\n",
      "4. [“미국 청년 25% 'AI와 로맨틱한 관계 가능'...성인물 많이 볼수록 더 긍정적” - AI타임스](https://news.google.com/rss/articles/CBMiakFVX3lxTE9PcGZnVUZhMVN2bEktNFhlVkQtU1lRT0RMX3JOUXI1cEZmckdtRm1KWVBLODFNTTNzNWZrXzdoTkxVS3hHOXozWmU1dXNRekxWMkF0ckd3d1Fid0xLZ2E0TnhNdHVSU2VPblE?oc=5)\n",
      "\n",
      "5. [“생각 않고 빨리 답얻는 AI교과서… 사고력 더 떨어질것” - 동아일보](https://news.google.com/rss/articles/CBMidkFVX3lxTE9rQnA4ZzJwYWV1U1VWMmh3QTlGVERTd3Bkb240cGtZVTl5UWp6WW1QWnlEcFZ4UEpaV1JzQ1d1NDlkU181T2E2YTN3c0lmMTBUMmd2dFRxVDNMZkFrWmpISmZHQjRVdDdPSk15dDEwekRqSkpKdVHSAWZBVV95cUxNdXF3dHNNdS1FV2VWNGhHMVlaSzBvOXc0TWVOWEpYLU1qZmFPSUh6amlRZHlmZ0w2X1ZEYWdhV3BZZkhPMy1wOWpENXlqaF81X2NTcm5fVnJNY1psQkZUd244dTItMnc?oc=5)\n",
      "\n",
      "이 뉴스를 통해 AI 분야의 최신 동향을 확인하실 수 있습니다.\n"
     ]
    }
   ],
   "source": [
    "events = graph.stream(None, config, stream_mode = \"values\")\n",
    "\n",
    "for event in events:\n",
    "    # 메시지가 이벤트에 포함된 경우\n",
    "    if \"messages\" in event:\n",
    "        event[\"messages\"][-1].pretty_print()"
   ]
  },
  {
   "cell_type": "markdown",
   "metadata": {},
   "source": [
    "interrupt를 통해 챗봇에 인간이 개입할 수 있는 실행을 추가하여 인간의 감독과 개입이 가능.<br>\n",
    "서비스에 적용할 경우 잠재적인 UI 제공이 가능하고, checkpointer를 통해 그래프가 무기한 중지되고 언제든 재개 가능.\n",
    "\n",
    "\n",
    "상태 기록을 통해 원하는 상태를 지정하여 해당지점에서 다시 시작 가능."
   ]
  },
  {
   "cell_type": "code",
   "execution_count": 19,
   "metadata": {},
   "outputs": [
    {
     "name": "stdout",
     "output_type": "stream",
     "text": [
      "메시지 수:  4 다음 노드:  ()\n",
      "--------------------------------------------------------------------------------\n",
      "메시지 수:  3 다음 노드:  ('chatbot',)\n",
      "--------------------------------------------------------------------------------\n",
      "메시지 수:  2 다음 노드:  ('tools',)\n",
      "--------------------------------------------------------------------------------\n",
      "메시지 수:  1 다음 노드:  ('chatbot',)\n",
      "--------------------------------------------------------------------------------\n",
      "메시지 수:  0 다음 노드:  ('__start__',)\n",
      "--------------------------------------------------------------------------------\n"
     ]
    }
   ],
   "source": [
    "to_replay = None\n",
    "\n",
    "# 상태 기록 가져오기\n",
    "for state in graph.get_state_history(config):\n",
    "    # 메시지 수 및 다음 상태 출력\n",
    "    print(\"메시지 수: \", len(state.values[\"messages\"]), \"다음 노드: \", state.next)\n",
    "    print(\"-\" * 80)\n",
    "    # 특정 상태 선택 기준: 채팅 메시지 수\n",
    "    if len(state.values[\"messages\"]) == 3:\n",
    "        to_replay = state"
   ]
  },
  {
   "cell_type": "code",
   "execution_count": 20,
   "metadata": {},
   "outputs": [
    {
     "name": "stdout",
     "output_type": "stream",
     "text": [
      "('chatbot',)\n",
      "{'configurable': {'thread_id': '1', 'checkpoint_ns': '', 'checkpoint_id': '1efa5c45-b79e-6ef4-8002-5b21cf0d15c0'}}\n"
     ]
    }
   ],
   "source": [
    "print(to_replay.next)\n",
    "\n",
    "print(to_replay.config)"
   ]
  },
  {
   "cell_type": "markdown",
   "metadata": {},
   "source": [
    "- **replay 기능**<br>\n",
    "\n",
    "검색이 끝나고 결과가 chatbot 노드에 전달하면서 최종 답변을 생성하는 과정을 다시 실행."
   ]
  },
  {
   "cell_type": "code",
   "execution_count": 21,
   "metadata": {},
   "outputs": [
    {
     "name": "stdout",
     "output_type": "stream",
     "text": [
      "=================================\u001b[1m Tool Message \u001b[0m=================================\n",
      "Name: search_keyword\n",
      "\n",
      "[{\"url\": \"https://news.google.com/rss/articles/CBMiVkFVX3lxTE9CemxrWGpGVnJybWtBYU1ycHpINENocEUtUVE5TGx5U1pEdXRvU0c5Z0wzSGhLbHVNQjlrXzMtZkp2LWhMNEQ3Sk01bmsyaUZZTm5zTExB?oc=5\", \"content\": \"\\\"엔비디아 AI칩 블랙웰, 서버 탑재시 과열\\\" - ZD넷 코리아\"}, {\"url\": \"https://news.google.com/rss/articles/CBMiW0FVX3lxTE9TTG9id0N2ekRlZHdpbHhkUFNkdnRYak9kUThETW9SSFV1ZmUtZzNpamZRNEttWTlfOFBNMmFxdVFuYko4ZmxHYnVIVmxaQU95MDFzTFo5UDlzVkHSAV5BVV95cUxNdHZBU3ZEMFRocXVZMFVyZ2ZEVDh1MkNOdEtXTGZuYUVfWkg5Q0dvRjRHd1QtM2JZNnRTNlIzSmdpN2FMbDFIZWJIZVZiM0JJZ2xOS3FlMllLTzZLSWZn?oc=5\", \"content\": \"\\\"엔비디아 AI칩 '블랙웰' 서버 과열 문제…해결 시도중\\\"(종합) - 연합뉴스\"}, {\"url\": \"https://news.google.com/rss/articles/CBMiYEFVX3lxTE5GZVJkdDh3WlU5SGthMDcyeDZqaE1CSTZpX2xNS3BFaHFaejVtMldDYi1RVWVjZHhMa0ZzVWRfUXE2c090dkRHWXZIUmZCd0VnWG5PeEJPNGhuYW5rZzZxdw?oc=5\", \"content\": \"‘더 많이 학습’ AI 확장 모델 한계왔나…엔비디아 수익감소 우려도 - 한겨레\"}, {\"url\": \"https://news.google.com/rss/articles/CBMiakFVX3lxTE9PcGZnVUZhMVN2bEktNFhlVkQtU1lRT0RMX3JOUXI1cEZmckdtRm1KWVBLODFNTTNzNWZrXzdoTkxVS3hHOXozWmU1dXNRekxWMkF0ckd3d1Fid0xLZ2E0TnhNdHVSU2VPblE?oc=5\", \"content\": \"미국 청년 25% \\\"AI와 로맨틱한 관계 가능\\\"...성인물 많이 볼수록 더 긍정적 - AI타임스\"}, {\"url\": \"https://news.google.com/rss/articles/CBMidkFVX3lxTE9rQnA4ZzJwYWV1U1VWMmh3QTlGVERTd3Bkb240cGtZVTl5UWp6WW1QWnlEcFZ4UEpaV1JzQ1d1NDlkU181T2E2YTN3c0lmMTBUMmd2dFRxVDNMZkFrWmpISmZHQjRVdDdPSk15dDEwekRqSkpKdVHSAWZBVV95cUxNdXF3dHNNdS1FV2VWNGhHMVlaSzBvOXc0TWVOWEpYLU1qZmFPSUh6amlRZHlmZ0w2X1ZEYWdhV3BZZkhPMy1wOWpENXlqaF81X2NTcm5fVnJNY1psQkZUd244dTItMnc?oc=5\", \"content\": \"“생각 않고 빨리 답얻는 AI교과서… 사고력 더 떨어질것” - 동아일보\"}]\n",
      "==================================\u001b[1m Ai Message \u001b[0m==================================\n",
      "\n",
      "다음은 AI 관련 최신 뉴스입니다:\n",
      "\n",
      "1. [엔비디아 AI칩 블랙웰, 서버 탑재시 과열](https://news.google.com/rss/articles/CBMiVkFVX3lxTE9CemxrWGpGVnJybWtBYU1ycHpINENocEUtUVE5TGx5U1pEdXRvU0c5Z0wzSGhLbHVNQjlrXzMtZkp2LWhMNEQ3Sk01bmsyaUZZTm5zTExB?oc=5) - ZD넷 코리아\n",
      "\n",
      "2. [엔비디아 AI칩 '블랙웰' 서버 과열 문제…해결 시도중](https://news.google.com/rss/articles/CBMiW0FVX3lxTE9TTG9id0N2ekRlZHdpbHhkUFNkdnRYak9kUThETW9SSFV1ZmUtZzNpamZRNEttWTlfOFBNMmFxdVFuYko4ZmxHYnVIVmxaQU95MDFzTFo5UDlzVkHSAV5BVV95cUxNdHZBU3ZEMFRocXVZMFVyZ2ZEVDh1MkNOdEtXTGZuYUVfWkg5Q0dvRjRHd1QtM2JZNnRTNlIzSmdpN2FMbDFIZWJIZVZiM0JJZ2xOS3FlMllLTzZLSWZn?oc=5) - 연합뉴스\n",
      "\n",
      "3. [‘더 많이 학습’ AI 확장 모델 한계왔나…엔비디아 수익감소 우려도](https://news.google.com/rss/articles/CBMiYEFVX3lxTE5GZVJkdDh3WlU5SGthMDcyeDZqaE1CSTZpX2xNS3BFaHFaejVtMldDYi1RVWVjZHhMa0ZzVWRfUXE2c090dkRHWXZIUmZCd0VnWG5PeEJPNGhuYW5rZzZxdw?oc=5) - 한겨레\n",
      "\n",
      "4. [미국 청년 25% \"AI와 로맨틱한 관계 가능\"...성인물 많이 볼수록 더 긍정적](https://news.google.com/rss/articles/CBMidkFVX3lxTE9PcGZnVUZhMVN2bEktNFhlVkQtU1lRT0RMX3JOUXI1cEZmckdtRm1KWVBLODFNTTNzNWZrXzdoTkxVS3hHOXozWmU1dXNRekxWMkF0ckd3d1Fid0xLZ2E0TnhNdHVSU2VPblE?oc=5) - AI타임스\n",
      "\n",
      "5. [“생각 않고 빨리 답얻는 AI교과서… 사고력 더 떨어질것”](https://news.google.com/rss/articles/CBMidkFVX3lxTE9rQnA4ZzJwYWV1U1VWMmh3QTlGVERTd3Bkb240cGtZVTl5UWp6WW1QWnlEcFZ4UEpaV1JzQ1d1NDlkU181T2E2YTN3c0lmMTBUMmd2dFRxVDNMZkFrWmpISmZHQjRVdDdPSk15dDEwekRqSkpKdVHSAWZBVV95cUxNdXF3dHNNdS1FV2VWNGhHMVlaSzBvOXc0TWVOWEpYLU1qZmFPSUh6amlRZHlmZ0w2X1ZEYWdhV3BZZkhPMy1wOWpENXlqaF81X2NTcm5fVnJNY1psQkZUd244dTItMnc?oc=5) - 동아일보\n",
      "\n",
      "각 기사를 클릭하면 더 자세한 내용을 확인할 수 있습니다.\n"
     ]
    }
   ],
   "source": [
    "# `to_replay.config`는 `checkpoint_id`는 체크포인터에 저장된 상태에 해당\n",
    "for event in graph.stream(None, to_replay.config, stream_mode=\"values\"):\n",
    "    # 메시지가 이벤트에 포함된 경우\n",
    "    if \"messages\" in event:\n",
    "        # 마지막 메시지 출력\n",
    "        event[\"messages\"][-1].pretty_print()"
   ]
  }
 ],
 "metadata": {
  "kernelspec": {
   "display_name": "langchain-rag-UhYHSyIM-py3.11",
   "language": "python",
   "name": "python3"
  },
  "language_info": {
   "codemirror_mode": {
    "name": "ipython",
    "version": 3
   },
   "file_extension": ".py",
   "mimetype": "text/x-python",
   "name": "python",
   "nbconvert_exporter": "python",
   "pygments_lexer": "ipython3",
   "version": "3.11.0"
  }
 },
 "nbformat": 4,
 "nbformat_minor": 2
}
