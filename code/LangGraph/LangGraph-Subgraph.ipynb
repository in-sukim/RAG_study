{
 "cells": [
  {
   "cell_type": "code",
   "execution_count": 1,
   "metadata": {},
   "outputs": [
    {
     "name": "stdout",
     "output_type": "stream",
     "text": [
      "LangSmith 추적을 시작합니다.\n",
      "[프로젝트명]\n",
      "LangGraph-Modules\n"
     ]
    },
    {
     "data": {
      "text/plain": [
       "True"
      ]
     },
     "execution_count": 1,
     "metadata": {},
     "output_type": "execute_result"
    }
   ],
   "source": [
    "# API 키를 환경변수로 관리하기 위한 설정 파일\n",
    "from dotenv import load_dotenv\n",
    "from langchain_teddynote import logging\n",
    "\n",
    "# 프로젝트 이름을 입력합니다.\n",
    "logging.langsmith(\"LangGraph-Modules\")\n",
    "# API 키 정보 로드\n",
    "load_dotenv()"
   ]
  },
  {
   "cell_type": "code",
   "execution_count": 7,
   "metadata": {},
   "outputs": [],
   "source": [
    "from langgraph.graph import START, END, StateGraph\n",
    "from typing import TypedDict\n",
    "\n",
    "\n",
    "# 서브그래프 상태 정의를 위한 TypedDict 클래스, 부모 그래프와 공유되는 name 키와 서브그래프 전용 family_name 키 포함\n",
    "class ChildState(TypedDict):\n",
    "    name: str  # 부모 그래프와 공유되는 상태 키\n",
    "    family_name: str\n",
    "\n",
    "\n",
    "# 서브그래프의 첫 번째 노드, family_name 키에 초기값 설정\n",
    "def subgraph_node_1(state: ChildState):\n",
    "    return {\"family_name\": \"Choi\"}\n",
    "\n",
    "\n",
    "# 서브그래프의 두 번째 노드, 서브그래프 전용 family_name 키와 공유 name 키를 결합하여 새로운 상태 생성\n",
    "def subgraph_node_2(state: ChildState):\n",
    "    # 서브그래프 내부에서만 사용 가능한 family_name 키와 공유 상태 키 name를 사용하여 업데이트 수행\n",
    "    return {\"name\": f'{state[\"name\"]} {state[\"family_name\"]}'}\n",
    "\n",
    "\n",
    "# 서브그래프 구조 정의 및 노드 간 연결 관계 설정\n",
    "subgraph_builder = StateGraph(ChildState)\n",
    "subgraph_builder.add_node(subgraph_node_1)\n",
    "subgraph_builder.add_node(subgraph_node_2)\n",
    "subgraph_builder.add_edge(START, \"subgraph_node_1\")\n",
    "subgraph_builder.add_edge(\"subgraph_node_1\", \"subgraph_node_2\")\n",
    "subgraph = subgraph_builder.compile()"
   ]
  },
  {
   "cell_type": "code",
   "execution_count": 8,
   "metadata": {},
   "outputs": [
    {
     "data": {
      "image/jpeg": "[encoded data removed]",
      "text/plain": [
       "<IPython.core.display.Image object>"
      ]
     },
     "metadata": {},
     "output_type": "display_data"
    }
   ],
   "source": [
    "from langchain_teddynote.graphs import visualize_graph\n",
    "\n",
    "visualize_graph(subgraph, xray=True)"
   ]
  },
  {
   "cell_type": "code",
   "execution_count": 9,
   "metadata": {},
   "outputs": [],
   "source": [
    "# 부모 그래프의 상태 정의를 위한 TypedDict 클래스, name 키만 포함\n",
    "class ParentState(TypedDict):\n",
    "    name: str\n",
    "    company: str\n",
    "\n",
    "\n",
    "# 부모 그래프의 첫 번째 노드, name 키의 값을 수정하여 새로운 상태 생성\n",
    "def node_1(state: ParentState):\n",
    "    return {\"name\": f'My name is {state[\"name\"]}'}\n",
    "\n",
    "\n",
    "# 부모 그래프 구조 정의 및 서브그래프를 포함한 노드 간 연결 관계 설정\n",
    "builder = StateGraph(ParentState)\n",
    "builder.add_node(\"node_1\", node_1)\n",
    "# 컴파일된 서브그래프를 부모 그래프의 노드로 추가\n",
    "builder.add_node(\"node_2\", subgraph)\n",
    "builder.add_edge(START, \"node_1\")\n",
    "builder.add_edge(\"node_1\", \"node_2\")\n",
    "builder.add_edge(\"node_2\", END)\n",
    "graph = builder.compile()"
   ]
  },
  {
   "cell_type": "code",
   "execution_count": 10,
   "metadata": {},
   "outputs": [
    {
     "data": {
      "image/jpeg": "[encoded data removed]",
      "text/plain": [
       "<IPython.core.display.Image object>"
      ]
     },
     "metadata": {},
     "output_type": "display_data"
    }
   ],
   "source": [
    "from langchain_teddynote.graphs import visualize_graph\n",
    "\n",
    "visualize_graph(graph, xray=True)"
   ]
  },
  {
   "cell_type": "code",
   "execution_count": 11,
   "metadata": {},
   "outputs": [
    {
     "name": "stdout",
     "output_type": "stream",
     "text": [
      "{'node_1': {'name': 'My name is Teddy'}}\n",
      "{'node_2': {'name': 'My name is Teddy Choi'}}\n"
     ]
    }
   ],
   "source": [
    "# 그래프 스트림에서 청크 단위로 데이터 처리 및 각 청크 출력\n",
    "for chunk in graph.stream({\"name\": \"Teddy\"}):\n",
    "    print(chunk)"
   ]
  },
  {
   "cell_type": "code",
   "execution_count": 12,
   "metadata": {},
   "outputs": [
    {
     "name": "stdout",
     "output_type": "stream",
     "text": [
      "((), {'node_1': {'name': 'My name is Teddy'}})\n",
      "(('node_2:88cfcefc-f87c-8880-da09-e064c886cff8',), {'subgraph_node_1': {'family_name': 'Choi'}})\n",
      "(('node_2:88cfcefc-f87c-8880-da09-e064c886cff8',), {'subgraph_node_2': {'name': 'My name is Teddy Choi'}})\n",
      "((), {'node_2': {'name': 'My name is Teddy Choi'}})\n"
     ]
    }
   ],
   "source": [
    "# 그래프 스트리밍 처리를 통한 서브그래프 데이터 청크 단위 순차 출력\n",
    "# subgraphs 파라미터를 True로 설정하여 하위 그래프 포함 스트리밍 처리\n",
    "for chunk in graph.stream({\"name\": \"Teddy\"}, subgraphs=True):\n",
    "    print(chunk)"
   ]
  },
  {
   "cell_type": "markdown",
   "metadata": {},
   "source": [
    "## Case 2: 스키마 키를 공유하지 않는 경우\n",
    "- 하위 그래프를 호출하는 노드 함수 추가\n",
    "더 복잡한 시스템의 경우, 상위 그래프와 완전히 다른 스키마를 가진 하위 그래프를 정의해야 할 수 있다(공유되는 상태 키가 없는 경우).\n",
    "\n",
    "이러한 경우라면, 하위 그래프를 호출하는 노드 함수를 정의해야 함.\n",
    "\n",
    "하위 그래프를 호출하기 전에 상위 상태(Parent State) -> 하위 그래프 상태(Child State) 로 변환,<Br>\n",
    "노드에서 상태 업데이트를 반환하기 전에 결과를 다시 상위 상태(Parent State) 로 변환.\n",
    "\n",
    "### 참고\n",
    "\n",
    "동일한 노드 내에서 두 개 이상의 subgraph를 호출할 수 없습니다."
   ]
  },
  {
   "cell_type": "code",
   "execution_count": 13,
   "metadata": {},
   "outputs": [],
   "source": [
    "# 서브그래프의 상태 타입 정의 (부모 그래프와 키를 공유하지 않음)\n",
    "class ChildState(TypedDict):\n",
    "    # 부모 그래프와 공유되지 않는 키들\n",
    "    name: str\n",
    "\n",
    "\n",
    "# 서브그래프의 첫 번째 노드: name 키에 초기값 설정\n",
    "def subgraph_node_1(state: ChildState):\n",
    "    return {\"name\": \"Teddy \" + state[\"name\"]}\n",
    "\n",
    "\n",
    "# 서브그래프의 두 번째 노드: name 값 그대로 반환\n",
    "def subgraph_node_2(state: ChildState):\n",
    "    return {\"name\": f'My name is {state[\"name\"]}'}\n",
    "\n",
    "\n",
    "# 서브그래프 빌더 초기화 및 노드 연결 구성\n",
    "subgraph_builder = StateGraph(ChildState)\n",
    "subgraph_builder.add_node(subgraph_node_1)\n",
    "subgraph_builder.add_node(subgraph_node_2)\n",
    "subgraph_builder.add_edge(START, \"subgraph_node_1\")\n",
    "subgraph_builder.add_edge(\"subgraph_node_1\", \"subgraph_node_2\")\n",
    "subgraph = subgraph_builder.compile()\n",
    "\n",
    "\n",
    "# 부모 그래프의 상태 타입 정의\n",
    "class ParentState(TypedDict):\n",
    "    family_name: str\n",
    "    full_name: str\n",
    "\n",
    "\n",
    "# 부모 그래프의 첫 번째 노드: family_name 값 그대로 반환\n",
    "def node_1(state: ParentState):\n",
    "    return {\"family_name\": state[\"family_name\"]}\n",
    "\n",
    "\n",
    "# 부모 그래프의 두 번째 노드: 서브그래프와 상태 변환 및 결과 처리\n",
    "def node_2(state: ParentState):\n",
    "    # 부모 상태를 서브그래프 상태로 변환\n",
    "    response = subgraph.invoke({\"name\": state[\"family_name\"]})\n",
    "    # 서브그래프 응답을 부모 상태로 변환\n",
    "    return {\"full_name\": response[\"name\"]}\n",
    "\n",
    "\n",
    "# 부모 그래프 빌더 초기화 및 노드 연결 구성\n",
    "builder = StateGraph(ParentState)\n",
    "builder.add_node(\"node_1\", node_1)\n",
    "\n",
    "# 컴파일된 서브그래프 대신 서브그래프를 호출하는 node_2 함수 사용\n",
    "builder.add_node(\"node_2\", node_2)\n",
    "builder.add_edge(START, \"node_1\")\n",
    "builder.add_edge(\"node_1\", \"node_2\")\n",
    "builder.add_edge(\"node_2\", END)\n",
    "graph = builder.compile()"
   ]
  },
  {
   "cell_type": "code",
   "execution_count": 14,
   "metadata": {},
   "outputs": [
    {
     "data": {
      "image/jpeg": "[encoded data removed]",
      "text/plain": [
       "<IPython.core.display.Image object>"
      ]
     },
     "metadata": {},
     "output_type": "display_data"
    }
   ],
   "source": [
    "from langchain_teddynote.graphs import visualize_graph\n",
    "\n",
    "visualize_graph(graph, xray=True)"
   ]
  },
  {
   "cell_type": "code",
   "execution_count": 15,
   "metadata": {},
   "outputs": [
    {
     "name": "stdout",
     "output_type": "stream",
     "text": [
      "((), {'node_1': {'family_name': 'Lee'}})\n",
      "(('node_2:ead59e7c-35a3-80f2-4d20-814c319ed8a1',), {'subgraph_node_1': {'name': 'Teddy Lee'}})\n",
      "(('node_2:ead59e7c-35a3-80f2-4d20-814c319ed8a1',), {'subgraph_node_2': {'name': 'My name is Teddy Lee'}})\n",
      "((), {'node_2': {'full_name': 'My name is Teddy Lee'}})\n"
     ]
    }
   ],
   "source": [
    "# 그래프 스트리밍 처리를 통한 서브그래프 데이터 청크 단위 순차 출력\n",
    "# subgraphs=True 옵션으로 하위 그래프 포함하여 스트림 데이터 처리\n",
    "for chunk in graph.stream({\"family_name\": \"Lee\"}, subgraphs=True):\n",
    "    print(chunk)"
   ]
  }
 ],
 "metadata": {
  "kernelspec": {
   "display_name": "langchain-rag-UhYHSyIM-py3.11",
   "language": "python",
   "name": "python3"
  },
  "language_info": {
   "codemirror_mode": {
    "name": "ipython",
    "version": 3
   },
   "file_extension": ".py",
   "mimetype": "text/x-python",
   "name": "python",
   "nbconvert_exporter": "python",
   "pygments_lexer": "ipython3",
   "version": "3.11.0"
  }
 },
 "nbformat": 4,
 "nbformat_minor": 2
}
