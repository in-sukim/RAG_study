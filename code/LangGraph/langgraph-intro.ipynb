{
 "cells": [
  {
   "cell_type": "markdown",
   "metadata": {},
   "source": [
    "## LangGraph\n",
    "*에이전트* 및 *멀티에이전트 워크플로우* 를 만드는 데 사용되는 LLM.<br>\n",
    "*상태저장, 멀티 액터* 애플리케이션을 구축하기 위한 라이브러리. <br>\n",
    "\n",
    "*주기(Cycle), 제어가능성, 지속성* 이라는 핵심 이점 제공. 대부분의 에이전트 아키텍처에 필수적인 *주기를 포함하는 플로우를 정의할 수 있어 DAG 기반 솔루션과 차별화*<br>\n",
    "애플리케이션의 흐름과 상태 모두 세밀하게 제어할 수 있어 안정적인 에이전트를 만드는데 도움. 지속성이 내장되어 있어 고급 휴먼 인더 루프 및 메모리 기능을 사용 가능.<br>"
   ]
  },
  {
   "cell_type": "code",
   "execution_count": 6,
   "metadata": {},
   "outputs": [
    {
     "name": "stdout",
     "output_type": "stream",
     "text": [
      "LangSmith 추적을 시작합니다.\n",
      "[프로젝트명]\n",
      "LANGGRAPH\n"
     ]
    },
    {
     "data": {
      "text/plain": [
       "True"
      ]
     },
     "execution_count": 6,
     "metadata": {},
     "output_type": "execute_result"
    }
   ],
   "source": [
    "from dotenv import load_dotenv\n",
    "from langchain_teddynote import logging\n",
    "\n",
    "logging.langsmith(\"LANGGRAPH\")\n",
    "load_dotenv()\n",
    "\n"
   ]
  },
  {
   "cell_type": "markdown",
   "metadata": {},
   "source": [
    "## 노드와 엣지\n",
    "- GraphState(상태 저장 그래프)\n",
    "    - 그래프의 각 노드가 계산의 단계를 나타내며, 그래프는 계산이 진행됨에 따라 전달되고 업데이트되는 상태를 유지하는 상태 저장 그래프 개념을 중심으로 작동.\n",
    "- Node(노드)\n",
    "    - 각 노드는 함수 또는 계산 단계를 나타냄. 입력 처리, 의사 결정, 외부 API와의 상호 작용 등 특정 작업을 수행하도록 노드를 정의할 수 있다.\n",
    "- Edge(엣지)\n",
    "    - 노드를 연결하여 계산의 흐름을 정의. 조건부 엣지를 지원, 그래프의 현재 상태에 따라 실행할 다음 노드를 동적으로 결정할 수 있다."
   ]
  },
  {
   "cell_type": "markdown",
   "metadata": {},
   "source": [
    "GraphState"
   ]
  },
  {
   "cell_type": "code",
   "execution_count": 7,
   "metadata": {},
   "outputs": [],
   "source": [
    "from typing import TypedDict\n",
    "\n",
    "class GraphState(TypedDict):\n",
    "    goal: str # 목표\n",
    "    todo: list[str] # 할 일 목록\n",
    "    current_job: str # 현재 작업\n",
    "    total_time: int # 총 소요시간(시간)\n",
    "    time_spent: int # 소요시간(시간)\n",
    "    status: str # 상태(진행중, 다음 작업, 종료)"
   ]
  },
  {
   "cell_type": "markdown",
   "metadata": {},
   "source": [
    "Node & Edge"
   ]
  },
  {
   "cell_type": "code",
   "execution_count": 8,
   "metadata": {},
   "outputs": [],
   "source": [
    "from langchain_openai import ChatOpenAI\n",
    "from langchain_core.prompts import ChatPromptTemplate\n",
    "from langchain_core.output_parsers import CommaSeparatedListOutputParser\n",
    "from rag.utils import format_task\n",
    "\n",
    "\n",
    "def create_todo_list(goal: str):\n",
    "    output_parser = CommaSeparatedListOutputParser()\n",
    "    prompt = ChatPromptTemplate.from_messages(\n",
    "        [\n",
    "            (\"system\", \n",
    "             \"당신은 나의 할일을 관리하는 비서입니다. 당신의 임무는 나를 위하여 주어진 목표에 대하여 할일 목록을 작성하는 것 입니다.\",\n",
    "            ),\n",
    "            (\"human\",\n",
    "             \"주어진 목표(goal)를 잘 수행하기 위하여 할일 목록을 작성해 주세요. '할일:걸리는시간(hour)' 으로 작성하세요. 걸리는 시간은 반올림하여 int 로 작성하세요.\\n\\n#목표: {goal}\\n\\n#형식: {format_instuctions}\",\n",
    "            ),\n",
    "        ]\n",
    "    )\n",
    "    prompt = prompt.partial(format_instuctions=output_parser.get_format_instructions())\n",
    "    llm = ChatOpenAI(model_name=\"gpt-4-turbo\")\n",
    "    chain = prompt | llm | CommaSeparatedListOutputParser()\n",
    "\n",
    "    output = chain.invoke({\"goal\": goal})\n",
    "    return output"
   ]
  },
  {
   "cell_type": "code",
   "execution_count": 9,
   "metadata": {},
   "outputs": [
    {
     "data": {
      "text/plain": [
       "['LangChain 공식 사이트 방문:1',\n",
       " 'RAG 개념 이해를 위한 문서 읽기:2',\n",
       " '튜토리얼 실습 환경 설정:1',\n",
       " '튜토리얼 실습 따라하기:3',\n",
       " '실습 내용 복습 및 추가 질문 정리:1']"
      ]
     },
     "execution_count": 9,
     "metadata": {},
     "output_type": "execute_result"
    }
   ],
   "source": [
    "todo = create_todo_list(\"LangChain 튜토리얼로 RAG 공부하기\")\n",
    "todo"
   ]
  },
  {
   "cell_type": "markdown",
   "metadata": {},
   "source": [
    "각 노드의 세부 기능 정의"
   ]
  },
  {
   "cell_type": "code",
   "execution_count": 10,
   "metadata": {},
   "outputs": [],
   "source": [
    "def list_todo(state: GraphState) -> GraphState:\n",
    "    goal = state[\"goal\"]\n",
    "    # 할 일 목록 생성\n",
    "    todo = create_todo_list(goal)\n",
    "    # 할 일 목록을 포맷팅\n",
    "    todo = format_task(todo)\n",
    "\n",
    "    return GraphState(todo=todo)\n",
    "\n",
    "\n",
    "def start_job(state: GraphState) -> GraphState:\n",
    "    todo = state[\"todo\"]\n",
    "    if len(todo):\n",
    "        current_job, total_time = todo.pop(0)\n",
    "        status = \"진행중\"\n",
    "        time_spent = 0\n",
    "    return GraphState(\n",
    "        current_job=current_job,\n",
    "        total_time=total_time,\n",
    "        time_spent=time_spent,\n",
    "        status=status,\n",
    "    )\n",
    "\n",
    "def process_job(state: GraphState) -> GraphState:\n",
    "    time_spent = state[\"time_spent\"]\n",
    "    time_spent += 1\n",
    "\n",
    "    return GraphState(time_spent=time_spent)\n",
    "\n",
    "\n",
    "def check_process(state: GraphState) -> GraphState:\n",
    "    if state[\"time_spent\"] >= state[\"total_time\"]:\n",
    "        status = \"다음 작업\"\n",
    "        if len(state[\"todo\"]) == 0:\n",
    "            status = \"종료\"\n",
    "    else:\n",
    "        status = \"진행중\"\n",
    "    return GraphState(status=status)\n",
    "\n",
    "def next_step(state: GraphState) -> GraphState:\n",
    "    return state[\"status\"]"
   ]
  },
  {
   "cell_type": "markdown",
   "metadata": {},
   "source": [
    "그래프 정의"
   ]
  },
  {
   "cell_type": "code",
   "execution_count": 15,
   "metadata": {},
   "outputs": [],
   "source": [
    "from langgraph.graph import END, StateGraph\n",
    "from langgraph.checkpoint.memory import MemorySaver\n",
    "\n",
    "# langgraph.graph에서 StateGraph와 END 가져오기.\n",
    "workflow = StateGraph(GraphState)\n",
    "\n",
    "# 각 노드를 그래프에 추가\n",
    "workflow.add_node(\"list_todo\", list_todo) # 할일 목록 생성  \n",
    "workflow.add_node(\"start_job\", start_job) # 작업 시작\n",
    "workflow.add_node(\"process_job\", process_job) # 작업 진행\n",
    "workflow.add_node(\"check_process\", check_process) # 작업 체크\n",
    "\n",
    "# 각 노드 연걸\n",
    "workflow.add_edge(\"list_todo\", \"start_job\")\n",
    "workflow.add_edge(\"start_job\", \"process_job\")\n",
    "workflow.add_edge(\"process_job\", \"check_process\")\n",
    "\n",
    "# 조건부 엣지 추가\n",
    "workflow.add_conditional_edges(\n",
    "    \"check_process\",\n",
    "    next_step,\n",
    "    {\n",
    "        \"진행중\": \"process_job\",\n",
    "        \"다음 작업\": \"start_job\",\n",
    "        \"종료\": END,\n",
    "    },\n",
    ")\n",
    "\n",
    "# 그래프 시작점 정의\n",
    "workflow.set_entry_point(\"list_todo\")\n",
    "\n",
    "# 기록을 위한 메모리 저장소 설정\n",
    "memory = MemorySaver()\n",
    "\n",
    "# 그래프 컴파일\n",
    "app = workflow.compile(checkpointer = memory)"
   ]
  },
  {
   "cell_type": "markdown",
   "metadata": {},
   "source": [
    "그래프 시각화"
   ]
  },
  {
   "cell_type": "code",
   "execution_count": 16,
   "metadata": {},
   "outputs": [
    {
     "data": {
      "image/jpeg": "[encoded data removed]",
      "text/plain": [
       "<IPython.core.display.Image object>"
      ]
     },
     "metadata": {},
     "output_type": "display_data"
    }
   ],
   "source": [
    "from IPython.display import Image, display\n",
    "\n",
    "try:\n",
    "    display(\n",
    "        Image(app.get_graph(xray=True).draw_mermaid_png())\n",
    "    )\n",
    "\n",
    "except:\n",
    "    pass"
   ]
  },
  {
   "cell_type": "code",
   "execution_count": 17,
   "metadata": {},
   "outputs": [
    {
     "name": "stdout",
     "output_type": "stream",
     "text": [
      "'[NODE] list_todo'\n",
      "(\"<todo> [('주제 선정 및 자료 조사', 4), ('발표 구성 초안 작성', 2), ('PPT 슬라이드 제작', 3), ('발표 \"\n",
      " \"연습', 2), ('최종 검토 및 수정', 1)]\")\n",
      "'=============================='\n",
      "'[NODE] start_job'\n",
      "'<current_job> 주제 선정 및 자료 조사'\n",
      "'<total_time> 4'\n",
      "'<time_spent> 0'\n",
      "'<status> 진행중'\n",
      "'=============================='\n",
      "'[NODE] process_job'\n",
      "'<time_spent> 1'\n",
      "'=============================='\n",
      "'[NODE] check_process'\n",
      "'<status> 진행중'\n",
      "'=============================='\n",
      "'[NODE] process_job'\n",
      "'<time_spent> 2'\n",
      "'=============================='\n",
      "'[NODE] check_process'\n",
      "'<status> 진행중'\n",
      "'=============================='\n",
      "'[NODE] process_job'\n",
      "'<time_spent> 3'\n",
      "'=============================='\n",
      "'[NODE] check_process'\n",
      "'<status> 진행중'\n",
      "'=============================='\n",
      "'[NODE] process_job'\n",
      "'<time_spent> 4'\n",
      "'=============================='\n",
      "'[NODE] check_process'\n",
      "'<status> 다음 작업'\n",
      "'=============================='\n",
      "'[NODE] start_job'\n",
      "'<current_job> 발표 구성 초안 작성'\n",
      "'<total_time> 2'\n",
      "'<time_spent> 0'\n",
      "'<status> 진행중'\n",
      "'=============================='\n",
      "'[NODE] process_job'\n",
      "'<time_spent> 1'\n",
      "'=============================='\n",
      "'[NODE] check_process'\n",
      "'<status> 진행중'\n",
      "'=============================='\n",
      "'[NODE] process_job'\n",
      "'<time_spent> 2'\n",
      "'=============================='\n",
      "'[NODE] check_process'\n",
      "'<status> 다음 작업'\n",
      "'=============================='\n",
      "'[NODE] start_job'\n",
      "'<current_job> PPT 슬라이드 제작'\n",
      "'<total_time> 3'\n",
      "'<time_spent> 0'\n",
      "'<status> 진행중'\n",
      "'=============================='\n",
      "'[NODE] process_job'\n",
      "'<time_spent> 1'\n",
      "'=============================='\n",
      "'[NODE] check_process'\n",
      "'<status> 진행중'\n",
      "'=============================='\n",
      "'[NODE] process_job'\n",
      "'<time_spent> 2'\n",
      "'=============================='\n",
      "'[NODE] check_process'\n",
      "'<status> 진행중'\n",
      "'=============================='\n",
      "'[NODE] process_job'\n",
      "'<time_spent> 3'\n",
      "'=============================='\n",
      "'[NODE] check_process'\n",
      "'<status> 다음 작업'\n",
      "'=============================='\n",
      "'[NODE] start_job'\n",
      "'<current_job> 발표 연습'\n",
      "'<total_time> 2'\n",
      "'<time_spent> 0'\n",
      "'<status> 진행중'\n",
      "'=============================='\n",
      "'[NODE] process_job'\n",
      "'<time_spent> 1'\n",
      "'=============================='\n",
      "'[NODE] check_process'\n",
      "'<status> 진행중'\n",
      "'=============================='\n",
      "'[NODE] process_job'\n",
      "'<time_spent> 2'\n",
      "'=============================='\n",
      "'[NODE] check_process'\n",
      "'<status> 다음 작업'\n",
      "'=============================='\n",
      "'[NODE] start_job'\n",
      "'<current_job> 최종 검토 및 수정'\n",
      "'<total_time> 1'\n",
      "'<time_spent> 0'\n",
      "'<status> 진행중'\n",
      "'=============================='\n",
      "'[NODE] process_job'\n",
      "'<time_spent> 1'\n",
      "'=============================='\n",
      "'[NODE] check_process'\n",
      "'<status> 종료'\n",
      "'=============================='\n"
     ]
    }
   ],
   "source": [
    "import pprint\n",
    "from langgraph.errors import GraphRecursionError\n",
    "from langchain_core.runnables import RunnableConfig\n",
    "\n",
    "config = RunnableConfig(recursion_limit=100, configurable={\"thread_id\": \"TODO\"})\n",
    "\n",
    "# GraphState 객체를 활용하여 질문을 입력합니다.\n",
    "inputs = GraphState(goal=\"랭체인(LangChain) 밋업에서 발표자료를 준비하기\")\n",
    "\n",
    "# app.stream을 통해 입력된 메시지에 대한 출력을 스트리밍합니다.\n",
    "try:\n",
    "    for output in app.stream(inputs, config=config):\n",
    "        # 출력된 결과에서 키와 값을 순회합니다.\n",
    "        for key, value in output.items():\n",
    "            # 노드의 이름과 해당 노드에서 나온 출력을 출력합니다.\n",
    "            pprint.pprint(f\"[NODE] {key}\")\n",
    "            for k, v in value.items():\n",
    "                pprint.pprint(f\"<{k}> {v}\")\n",
    "            pprint.pprint(\"===\" * 10)\n",
    "            # 출력 값을 예쁘게 출력합니다.\n",
    "            # pprint.pprint(value, indent=2, width=80, depth=None)\n",
    "except GraphRecursionError as e:\n",
    "    pprint.pprint(f\"Recursion limit reached: {e}\")"
   ]
  }
 ],
 "metadata": {
  "kernelspec": {
   "display_name": "langchain-rag-UhYHSyIM-py3.11",
   "language": "python",
   "name": "python3"
  },
  "language_info": {
   "codemirror_mode": {
    "name": "ipython",
    "version": 3
   },
   "file_extension": ".py",
   "mimetype": "text/x-python",
   "name": "python",
   "nbconvert_exporter": "python",
   "pygments_lexer": "ipython3",
   "version": "3.11.0"
  }
 },
 "nbformat": 4,
 "nbformat_minor": 2
}
