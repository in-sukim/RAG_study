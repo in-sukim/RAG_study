{
 "cells": [
  {
   "cell_type": "markdown",
   "metadata": {},
   "source": [
    "## Plan-and-Exectute\n",
    "1. User Request\n",
    "\n",
    "2. Plan(Generate Tasks)\n",
    "\n",
    "3. Execute Tasks(Single Task Agent)\n",
    "\n",
    "4. Update State with Task Resuls\n",
    "\n",
    "(a) Re-plan more tasks<br>\n",
    "\n",
    "(b) Respond to User\n",
    "\n",
    "\n",
    "ReAct style agent와 다른 점.\n",
    "- 장기 계획 수립(long-term planning)\n",
    "- 수행 단계에서 더 작은 모델 사용, 계획 단계에서만 큰 모델 사용."
   ]
  },
  {
   "cell_type": "code",
   "execution_count": 1,
   "metadata": {},
   "outputs": [
    {
     "name": "stdout",
     "output_type": "stream",
     "text": [
      "LangSmith 추적을 시작합니다.\n",
      "[프로젝트명]\n",
      "LangGraph\n"
     ]
    },
    {
     "data": {
      "text/plain": [
       "True"
      ]
     },
     "execution_count": 1,
     "metadata": {},
     "output_type": "execute_result"
    }
   ],
   "source": [
    "from dotenv import load_dotenv\n",
    "from langchain_teddynote import logging\n",
    "\n",
    "logging.langsmith(\"LangGraph\")\n",
    "load_dotenv()"
   ]
  },
  {
   "cell_type": "markdown",
   "metadata": {},
   "source": [
    "### Define Tools"
   ]
  },
  {
   "cell_type": "code",
   "execution_count": 2,
   "metadata": {},
   "outputs": [],
   "source": [
    "from langchain_community.tools.tavily_search import TavilySearchResults\n",
    "\n",
    "tools = [TavilySearchResults(max_results = 3)]"
   ]
  },
  {
   "cell_type": "code",
   "execution_count": 4,
   "metadata": {},
   "outputs": [
    {
     "data": {
      "text/plain": [
       "[{'url': 'https://www.weatherapi.com/',\n",
       "  'content': \"{'location': {'name': 'San Francisco', 'region': 'California', 'country': 'United States of America', 'lat': 37.775, 'lon': -122.4183, 'tz_id': 'America/Los_Angeles', 'localtime_epoch': 1731567048, 'localtime': '2024-11-13 22:50'}, 'current': {'last_updated_epoch': 1731566700, 'last_updated': '2024-11-13 22:45', 'temp_c': 13.9, 'temp_f': 57.0, 'is_day': 0, 'condition': {'text': 'Partly cloudy', 'icon': '//cdn.weatherapi.com/weather/64x64/night/116.png', 'code': 1003}, 'wind_mph': 5.1, 'wind_kph': 8.3, 'wind_degree': 205, 'wind_dir': 'SSW', 'pressure_mb': 1020.0, 'pressure_in': 30.13, 'precip_mm': 0.0, 'precip_in': 0.0, 'humidity': 77, 'cloud': 75, 'feelslike_c': 13.5, 'feelslike_f': 56.4, 'windchill_c': 12.9, 'windchill_f': 55.2, 'heatindex_c': 13.2, 'heatindex_f': 55.7, 'dewpoint_c': 12.5, 'dewpoint_f': 54.4, 'vis_km': 16.0, 'vis_miles': 9.0, 'uv': 0.0, 'gust_mph': 8.7, 'gust_kph': 14.0}}\"},\n",
       " {'url': 'https://abc7news.com/post/weather-bay-area-forecast-temperatures/39468/',\n",
       "  'content': 'ABC7 News Meteorologist Sandhya Patel has your AccuWeather forecast for Wednesday. ... November 14, 2024 1:12AM. ... Track rain in San Francisco Bay Area with Live Doppler 7.'},\n",
       " {'url': 'https://www.timeanddate.com/weather/@z-us-94123/ext',\n",
       "  'content': 'Calendar 2024; Calendar 2025; Monthly Calendar; Printable Calendar (PDF) ... San Francisco 14 Day Extended Forecast. Time/General; Weather . Weather Today/Tomorrow ; Hour-by-Hour Forecast ; 14 Day Forecast ; ... (Weather station: San Francisco International Airport, USA). See more current weather.'}]"
      ]
     },
     "execution_count": 4,
     "metadata": {},
     "output_type": "execute_result"
    }
   ],
   "source": [
    "tools[0].invoke(\"What's the weather in San Francisco?\")"
   ]
  },
  {
   "cell_type": "markdown",
   "metadata": {},
   "source": [
    "### Define Execution Agent"
   ]
  },
  {
   "cell_type": "code",
   "execution_count": 12,
   "metadata": {},
   "outputs": [
    {
     "name": "stdout",
     "output_type": "stream",
     "text": [
      "================================\u001b[1m System Message \u001b[0m================================\n",
      "\n",
      "You are a helpful assistant.\n",
      "\n",
      "=============================\u001b[1m Messages Placeholder \u001b[0m=============================\n",
      "\n",
      "\u001b[33;1m\u001b[1;3m{messages}\u001b[0m\n"
     ]
    }
   ],
   "source": [
    "from langchain import hub\n",
    "from langchain_openai import ChatOpenAI\n",
    "from langgraph.prebuilt import create_react_agent\n",
    "\n",
    "prompt = hub.pull(\"ih/ih-react-agent-executor\")\n",
    "prompt.pretty_print()\n",
    "\n",
    "llm = ChatOpenAI(model = \"gpt-4o-mini\", temperature = 0)\n",
    "agent_executor = create_react_agent(llm, tools, state_modifier = prompt)"
   ]
  },
  {
   "cell_type": "code",
   "execution_count": 6,
   "metadata": {},
   "outputs": [
    {
     "data": {
      "text/plain": [
       "{'messages': [HumanMessage(content='2024년 노벨 문학상 시상자', additional_kwargs={}, response_metadata={}, id='382b11d9-cd8a-4068-b263-1d4ef3f72f35'),\n",
       "  AIMessage(content='', additional_kwargs={'tool_calls': [{'id': 'call_qu0sgYm7F7eV98TJSKaW06UY', 'function': {'arguments': '{\"query\":\"2024년 노벨 문학상 시상자\"}', 'name': 'tavily_search_results_json'}, 'type': 'function'}], 'refusal': None}, response_metadata={'token_usage': {'completion_tokens': 28, 'prompt_tokens': 96, 'total_tokens': 124, 'completion_tokens_details': {'audio_tokens': 0, 'reasoning_tokens': 0, 'accepted_prediction_tokens': 0, 'rejected_prediction_tokens': 0}, 'prompt_tokens_details': {'audio_tokens': 0, 'cached_tokens': 0}}, 'model_name': 'gpt-4o-mini-2024-07-18', 'system_fingerprint': 'fp_0ba0d124f1', 'finish_reason': 'tool_calls', 'logprobs': None}, id='run-de98b006-a1b2-427e-a1f9-41f0e8d119bf-0', tool_calls=[{'name': 'tavily_search_results_json', 'args': {'query': '2024년 노벨 문학상 시상자'}, 'id': 'call_qu0sgYm7F7eV98TJSKaW06UY', 'type': 'tool_call'}], usage_metadata={'input_tokens': 96, 'output_tokens': 28, 'total_tokens': 124, 'input_token_details': {'audio': 0, 'cache_read': 0}, 'output_token_details': {'audio': 0, 'reasoning': 0}}),\n",
       "  ToolMessage(content='[{\"url\": \"https://m.blog.naver.com/nahnon/222901136924\", \"content\": \"노벨 문학상 역대 수상자(1901-2024) 목록 자료를 탑재합니다. ... 2022년 - 노벨문학상 수상자 아니 에르노의 대표작 을 바로 2021년에 읽은 독자로서 노벨문학상 선정 이유가 충분히 이해되고 있는 만큼 말입니다. 시대를 앞서가는 해당 출판사 기획자의\"}, {\"url\": \"https://m.blog.naver.com/finsir/223614581657\", \"content\": \"2024 노벨문학상 수상자 한강 작가는 누구? : 네이버 블로그 블로그 카테고리 이동 꿈을 IT는 하루 2024 노벨문학상 수상자 한강 작가는 누구? 하루 본문 기타 기능 최초 수상자 한강 작가 그녀는 대한민국 사상 최초로 2024년 10월 노벨문학상을 수상한 대표적인 현대 소설가이자 시인이다. 그녀는 인간 존재에 대한 고통과 상처, 그리고 회복 가능성에 대한 작품으로 잘 알려져 있고 대표작으로는 채식주의자를 꼽을 수 있다. 이 작품은 2007년에 출간된 이후, 2016년에는 영국의 권위 있는 문학상 \\'맨부커 인터내셔널\\' 상까지 수상하며 우리나라뿐만 아니라 전세계적으로도 큰 주목을 받았다. 이 작품은 한 여성이 채식이라는 식습관을 선택하며 겪는 심리적, 사회적 변화에 따른 내적 갈등을 그리고 있다. 노벨문학상 수상자 한강 대표작 #노벨문학상 #2024노벨문학상 #한강 {\\\\\"title\\\\\":\\\\\"2024 노벨문학상 수상자 한강 작가는 누구? 대표작은?\\\\\",\\\\\"source\\\\\":\\\\\"https://blog.naver.com/finsir/223614581657\\\\\",\\\\\"blogName\\\\\":\\\\\"꿈을 IT..\\\\\",\\\\\"blogId\\\\\":\\\\\"finsir\\\\\",\\\\\"domainIdOrBlogId\\\\\":\\\\\"finsir\\\\\",\\\\\"nicknameOrBlogId\\\\\":\\\\\"하루\\\\\",\\\\\"logNo\\\\\":223614581657,\\\\\"smartEditorVersion\\\\\":4,\\\\\"lineDisplay\\\\\":true,\\\\\"outsideDisplay\\\\\":true,\\\\\"meDisplay\\\\\":true,\\\\\"cafeDisplay\\\\\":true,\\\\\"blogDisplay\\\\\":true} 이 블로그 홈 하루(finsir) 님을 이웃추가하고 새글을 받아보세요\"}, {\"url\": \"https://www.voakorea.com/a/7817604.html\", \"content\": \"말름 사무총장은 노벨문학상 수상자 발표 이후 한강 씨와 통화했다면서 \\\\\"평범한 하루를 보내고 있는 것 같았다\\\\\"며 \\\\\"아들과 저녁 식사를 막 마친 시간이었다\\\\\"고 설명했습니다. ... 10일 한국 서울의 서점에서 독자가 2024년 노벨문학상 수상자인 한강 작가의\"}]', name='tavily_search_results_json', id='57b3c41e-406d-4354-a4b4-d2eb94308d34', tool_call_id='call_qu0sgYm7F7eV98TJSKaW06UY', artifact={'query': '2024년 노벨 문학상 시상자', 'follow_up_questions': None, 'answer': None, 'images': [], 'results': [{'title': '노벨 문학상 역대 수상자(1901-2024) 목록 - 네이버 블로그', 'url': 'https://m.blog.naver.com/nahnon/222901136924', 'content': '노벨 문학상 역대 수상자(1901-2024) 목록 자료를 탑재합니다. ... 2022년 - 노벨문학상 수상자 아니 에르노의 대표작 을 바로 2021년에 읽은 독자로서 노벨문학상 선정 이유가 충분히 이해되고 있는 만큼 말입니다. 시대를 앞서가는 해당 출판사 기획자의', 'score': 0.9995592, 'raw_content': None}, {'title': '2024 노벨문학상 수상자 한강 작가는 누구? 대표작은? : 네이버 블로그', 'url': 'https://m.blog.naver.com/finsir/223614581657', 'content': '2024 노벨문학상 수상자 한강 작가는 누구? : 네이버 블로그 블로그 카테고리 이동 꿈을 IT는 하루 2024 노벨문학상 수상자 한강 작가는 누구? 하루 본문 기타 기능 최초 수상자 한강 작가 그녀는 대한민국 사상 최초로 2024년 10월 노벨문학상을 수상한 대표적인 현대 소설가이자 시인이다. 그녀는 인간 존재에 대한 고통과 상처, 그리고 회복 가능성에 대한 작품으로 잘 알려져 있고 대표작으로는 채식주의자를 꼽을 수 있다. 이 작품은 2007년에 출간된 이후, 2016년에는 영국의 권위 있는 문학상 \\'맨부커 인터내셔널\\' 상까지 수상하며 우리나라뿐만 아니라 전세계적으로도 큰 주목을 받았다. 이 작품은 한 여성이 채식이라는 식습관을 선택하며 겪는 심리적, 사회적 변화에 따른 내적 갈등을 그리고 있다. 노벨문학상 수상자 한강 대표작 #노벨문학상 #2024노벨문학상 #한강 {\"title\":\"2024 노벨문학상 수상자 한강 작가는 누구? 대표작은?\",\"source\":\"https://blog.naver.com/finsir/223614581657\",\"blogName\":\"꿈을 IT..\",\"blogId\":\"finsir\",\"domainIdOrBlogId\":\"finsir\",\"nicknameOrBlogId\":\"하루\",\"logNo\":223614581657,\"smartEditorVersion\":4,\"lineDisplay\":true,\"outsideDisplay\":true,\"meDisplay\":true,\"cafeDisplay\":true,\"blogDisplay\":true} 이 블로그 홈 하루(finsir) 님을 이웃추가하고 새글을 받아보세요', 'score': 0.9994684, 'raw_content': None}, {'title': '한강, 한국인 최초 노벨문학상 수상…\"역사적 트라우마에 맞선 강렬한 시적 산문\"', 'url': 'https://www.voakorea.com/a/7817604.html', 'content': '말름 사무총장은 노벨문학상 수상자 발표 이후 한강 씨와 통화했다면서 \"평범한 하루를 보내고 있는 것 같았다\"며 \"아들과 저녁 식사를 막 마친 시간이었다\"고 설명했습니다. ... 10일 한국 서울의 서점에서 독자가 2024년 노벨문학상 수상자인 한강 작가의', 'score': 0.9991959, 'raw_content': None}], 'response_time': 2.23}),\n",
       "  AIMessage(content='2024년 노벨 문학상 수상자는 한강 작가입니다. 한강은 대한민국의 현대 소설가이자 시인으로, 그녀의 대표작으로는 \"채식주의자\"가 있습니다. 이 작품은 2007년에 출간되어 2016년에는 맨부커 인터내셔널 상을 수상하기도 했습니다. 한강 작가는 인간 존재에 대한 고통과 회복 가능성에 대한 주제를 다루는 작품으로 잘 알려져 있습니다.\\n\\n더 자세한 내용은 [여기](https://blog.naver.com/finsir/223614581657)에서 확인하실 수 있습니다.', additional_kwargs={'refusal': None}, response_metadata={'token_usage': {'completion_tokens': 140, 'prompt_tokens': 775, 'total_tokens': 915, 'completion_tokens_details': {'audio_tokens': 0, 'reasoning_tokens': 0, 'accepted_prediction_tokens': 0, 'rejected_prediction_tokens': 0}, 'prompt_tokens_details': {'audio_tokens': 0, 'cached_tokens': 0}}, 'model_name': 'gpt-4o-mini-2024-07-18', 'system_fingerprint': 'fp_9b78b61c52', 'finish_reason': 'stop', 'logprobs': None}, id='run-ca65e753-e3b1-4d3d-b4e7-e14cc49c1c62-0', usage_metadata={'input_tokens': 775, 'output_tokens': 140, 'total_tokens': 915, 'input_token_details': {'audio': 0, 'cache_read': 0}, 'output_token_details': {'audio': 0, 'reasoning': 0}})]}"
      ]
     },
     "execution_count": 6,
     "metadata": {},
     "output_type": "execute_result"
    }
   ],
   "source": [
    "agent_executor.invoke({\"messages\": [(\"user\", \"2024년 노벨 문학상 시상자\")]})"
   ]
  },
  {
   "cell_type": "markdown",
   "metadata": {},
   "source": [
    "### Define the State\n",
    "\n",
    "1. input: string\n",
    "2. current plan: list of strings\n",
    "3. previous executed steps: list of tupels(step, result)\n",
    "4. final response: string"
   ]
  },
  {
   "cell_type": "code",
   "execution_count": 51,
   "metadata": {},
   "outputs": [],
   "source": [
    "import operator\n",
    "from typing import Annotated, List, Tuple\n",
    "from typing_extensions import TypedDict\n",
    "\n",
    "\n",
    "class PlanExecute(TypedDict):\n",
    "    input: str\n",
    "    plan: List[str]\n",
    "    past_steps: Annotated[List[Tuple], operator.add]\n",
    "    response: str"
   ]
  },
  {
   "cell_type": "markdown",
   "metadata": {},
   "source": [
    "### Planning Step"
   ]
  },
  {
   "cell_type": "code",
   "execution_count": 52,
   "metadata": {},
   "outputs": [],
   "source": [
    "from pydantic import BaseModel, Field\n",
    "\n",
    "class Plan(BaseModel):\n",
    "    \"\"\"Plan to follow in future.\"\"\"\n",
    "    steps: List[str] = Field(\n",
    "        description = \"different steps to follow, should be in sorted order\"\n",
    "    )"
   ]
  },
  {
   "cell_type": "code",
   "execution_count": 53,
   "metadata": {},
   "outputs": [],
   "source": [
    "from langchain_core.prompts import ChatPromptTemplate\n",
    "\n",
    "plan_prompt = ChatPromptTemplate.from_messages(\n",
    "    [\n",
    "        (\"system\",\n",
    "        \"\"\"For the given objective, come up with a simple step by step plan. \\\n",
    "This plan should involve individual tasks, that if executed correctly will yield the correct answer. Do not add any superfluous steps. \\ \n",
    "The result of the final step should be the final answer. Make sure that each step has all the information needed - do not skip steps.\"\"\"\n",
    "        ),\n",
    "        (\"placeholder\", \"{messages}\"),\n",
    "    ]\n",
    ")\n",
    "planner = plan_prompt | ChatOpenAI(\n",
    "    model = \"gpt-4o-mini\",\n",
    "    temperature = 0\n",
    ").with_structured_output(Plan)"
   ]
  },
  {
   "cell_type": "code",
   "execution_count": 54,
   "metadata": {},
   "outputs": [
    {
     "name": "stdout",
     "output_type": "stream",
     "text": [
      "steps=['2024년 노벨 문학상 시상일 확인', '2024년 노벨 문학상 후보자 발표 확인', '2024년 노벨 문학상 수상자 발표 확인', '2024년 노벨 문학상 수상자 이름 확인']\n",
      "2024년 노벨 문학상 시상일 확인\n"
     ]
    }
   ],
   "source": [
    "result = planner.invoke({\"messages\": [(\"user\", \"2024년 노벨 문학상 시상자\")]})\n",
    "print(result)\n",
    "print(result.steps[0])"
   ]
  },
  {
   "cell_type": "markdown",
   "metadata": {},
   "source": [
    "### Re-Plan Step"
   ]
  },
  {
   "cell_type": "code",
   "execution_count": 55,
   "metadata": {},
   "outputs": [],
   "source": [
    "from typing import Union\n",
    "\n",
    "\n",
    "class Response(BaseModel):\n",
    "    \"\"\"Response to user.\"\"\"\n",
    "\n",
    "    response: str\n",
    "\n",
    "\n",
    "class Act(BaseModel):\n",
    "    \"\"\"Action to perform.\"\"\"\n",
    "\n",
    "    action: Union[Response, Plan] = Field(\n",
    "        description=\"Action to perform. If you want to respond to user, use Response. \"\n",
    "        \"If you need to further use tools to get the answer, use Plan.\"\n",
    "    )\n",
    "\n",
    "\n",
    "replanner_prompt = ChatPromptTemplate.from_template(\n",
    "    \"\"\"For the given objective, come up with a simple step by step plan. \\\n",
    "This plan should involve individual tasks, that if executed correctly will yield the correct answer. Do not add any superfluous steps. \\\n",
    "The result of the final step should be the final answer. Make sure that each step has all the information needed - do not skip steps.\n",
    "\n",
    "Your objective was this:\n",
    "{input}\n",
    "\n",
    "Your original plan was this:\n",
    "{plan}\n",
    "\n",
    "You have currently done the follow steps:\n",
    "{past_steps}\n",
    "\n",
    "Update your plan accordingly. If no more steps are needed and you can return to the user, then respond with that. Otherwise, fill out the plan. Only add steps to the plan that still NEED to be done. Do not return previously done steps as part of the plan.\"\"\"\n",
    ")\n",
    "\n",
    "\n",
    "replanner = replanner_prompt | ChatOpenAI(\n",
    "    model=\"gpt-4o\", temperature=0\n",
    ").with_structured_output(Act)"
   ]
  },
  {
   "cell_type": "markdown",
   "metadata": {},
   "source": [
    "### Create the Graph"
   ]
  },
  {
   "cell_type": "code",
   "execution_count": 56,
   "metadata": {},
   "outputs": [],
   "source": [
    "from typing import Literal\n",
    "from langgraph.graph import END\n",
    "\n",
    "\n",
    "async def execute_step(state: PlanExecute):\n",
    "    plan = state[\"plan\"]\n",
    "    plan_str = \"\\n\".join(f\"{i+1}. {step}\" for i, step in enumerate(plan))\n",
    "    task = plan[0]\n",
    "    task_formatted = f\"\"\"For the following plan:\n",
    "{plan_str}\\n\\nYou are tasked with executing step {1}, {task}.\"\"\"\n",
    "    agent_response = await agent_executor.ainvoke(\n",
    "        {\"messages\": [(\"user\", task_formatted)]}\n",
    "    )\n",
    "    return {\n",
    "        \"past_steps\": [(task, agent_response[\"messages\"][-1].content)],\n",
    "    }\n",
    "\n",
    "\n",
    "async def plan_step(state: PlanExecute):\n",
    "    plan = await planner.ainvoke({\"messages\": [(\"user\", state[\"input\"])]})\n",
    "    return {\"plan\": plan.steps}\n",
    "\n",
    "\n",
    "async def replan_step(state: PlanExecute):\n",
    "    output = await replanner.ainvoke(state)\n",
    "    if isinstance(output.action, Response):\n",
    "        return {\"response\": output.action.response}\n",
    "    else:\n",
    "        return {\"plan\": output.action.steps}\n",
    "\n",
    "\n",
    "def should_end(state: PlanExecute):\n",
    "    if \"response\" in state and state[\"response\"]:\n",
    "        return END\n",
    "    else:\n",
    "        return \"agent\""
   ]
  },
  {
   "cell_type": "code",
   "execution_count": 61,
   "metadata": {},
   "outputs": [],
   "source": [
    "from langgraph.graph import StateGraph, START\n",
    "\n",
    "workflow = StateGraph(PlanExecute)\n",
    "\n",
    "# Add the plan node\n",
    "workflow.add_node(\"planner\", plan_step)\n",
    "\n",
    "# Add the execution step\n",
    "workflow.add_node(\"agent\", execute_step)\n",
    "\n",
    "# Add a replan node\n",
    "workflow.add_node(\"replan\", replan_step)\n",
    "\n",
    "workflow.add_edge(START, \"planner\")\n",
    "\n",
    "# From plan we go to agent\n",
    "workflow.add_edge(\"planner\", \"agent\")\n",
    "\n",
    "# From agent, we replan\n",
    "workflow.add_edge(\"agent\", \"replan\")\n",
    "\n",
    "workflow.add_conditional_edges(\n",
    "    \"replan\",\n",
    "    # Next, we pass in the function that will determine which node is called next.\n",
    "    should_end,\n",
    "    [\"agent\", END],\n",
    ")\n",
    "\n",
    "# Finally, we compile it!\n",
    "# This compiles it into a LangChain Runnable,\n",
    "# meaning you can use it as you would any other runnable\n",
    "app = workflow.compile()"
   ]
  },
  {
   "cell_type": "code",
   "execution_count": 62,
   "metadata": {},
   "outputs": [
    {
     "data": {
      "image/jpeg": "[encoded data removed]",
      "text/plain": [
       "<IPython.core.display.Image object>"
      ]
     },
     "metadata": {},
     "output_type": "display_data"
    }
   ],
   "source": [
    "from IPython.display import Image, display\n",
    "\n",
    "display(Image(app.get_graph(xray=True).draw_mermaid_png()))"
   ]
  },
  {
   "cell_type": "code",
   "execution_count": 65,
   "metadata": {},
   "outputs": [
    {
     "name": "stdout",
     "output_type": "stream",
     "text": [
      "{'plan': ['2024년 노벨 문학상 시상자에 대한 정보를 확인한다.', '2024년 노벨 문학상 시상자 발표일을 확인한다.', '발표된 시상자의 이름을 한국어로 정리한다.', '최종적으로 2024년 노벨 문학상 시상자를 한국어로 답변한다.']}\n",
      "{'past_steps': [('2024년 노벨 문학상 시상자에 대한 정보를 확인한다.', '2024년 노벨 문학상 시상자는 한국 작가 한강입니다. 한강은 한국 작가 최초로 노벨 문학상을 수상하게 되었으며, 이는 한국인으로서는 두 번째 노벨상 수상입니다. 첫 번째는 2000년에 평화상을 수상한 고(故) 김대중 전 대통령입니다. \\n\\n한강 작가는 이로써 한국 문학의 위상을 높이는 쾌거를 이루었습니다.')]}\n",
      "{'response': '2024년 노벨 문학상 시상자는 한국 작가 한강입니다. 한강은 한국 작가 최초로 노벨 문학상을 수상하게 되었으며, 이는 한국인으로서는 두 번째 노벨상 수상입니다. 첫 번째는 2000년에 평화상을 수상한 고(故) 김대중 전 대통령입니다. \\n\\n한강 작가는 이로써 한국 문학의 위상을 높이는 쾌거를 이루었습니다.'}\n"
     ]
    }
   ],
   "source": [
    "config = {\"recursion_limit\": 20}\n",
    "inputs = {\"input\": \"2024년 노벨 문학상 시상자가 누군지 한국어로 답변해줘\"}\n",
    "\n",
    "async for event in app.astream(inputs, config=config):\n",
    "    for k, v in event.items():\n",
    "        if k != \"__end__\":\n",
    "            print(v)"
   ]
  }
 ],
 "metadata": {
  "kernelspec": {
   "display_name": "langchain-rag-UhYHSyIM-py3.11",
   "language": "python",
   "name": "python3"
  },
  "language_info": {
   "codemirror_mode": {
    "name": "ipython",
    "version": 3
   },
   "file_extension": ".py",
   "mimetype": "text/x-python",
   "name": "python",
   "nbconvert_exporter": "python",
   "pygments_lexer": "ipython3",
   "version": "3.11.0"
  }
 },
 "nbformat": 4,
 "nbformat_minor": 2
}
