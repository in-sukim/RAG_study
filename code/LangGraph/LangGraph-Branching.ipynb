{
 "cells": [
  {
   "cell_type": "markdown",
   "metadata": {},
   "source": [
    "## 병렬 노드 실행을 위한 분기 생성 방법\n",
    "\n",
    "노드의 병렬실행은 저체 그래프 작업의 속도를 향상시키는데 필수적. LangGraph는 노드의 병렬 실행을 기본적으로 지원, 이는 그래프 기반 워크플로우의 성능을 크게 향상 시킬 수 있다.<br><br>\n",
    "병렬화는 **fan-out** 과 **fan-in** 메커니즘을 통해 구현되며, 표준 엣지와 **conditional_edges**를 활용."
   ]
  },
  {
   "cell_type": "code",
   "execution_count": 1,
   "metadata": {},
   "outputs": [
    {
     "name": "stdout",
     "output_type": "stream",
     "text": [
      "LangSmith 추적을 시작합니다.\n",
      "[프로젝트명]\n",
      "LangGraph-Modules\n"
     ]
    },
    {
     "data": {
      "text/plain": [
       "True"
      ]
     },
     "execution_count": 1,
     "metadata": {},
     "output_type": "execute_result"
    }
   ],
   "source": [
    "from dotenv import load_dotenv\n",
    "from langchain_teddynote import logging\n",
    "\n",
    "logging.langsmith(\"LangGraph-Modules\")\n",
    "load_dotenv()"
   ]
  },
  {
   "cell_type": "markdown",
   "metadata": {},
   "source": [
    "## 병렬 노드 fan-out 및 fan-in\n",
    "\n",
    "### fan-out / fan-in\n",
    "\n",
    "병렬 처리에서 fan-out과 fan-in은 작업을 나누고 모으는 과정.\n",
    "- fan-out: 하나의 노드에서 여러 노드로 작업을 분산.\n",
    "- fan-in: 여러 노드에서 하나의 노드로 작업을 모음."
   ]
  },
  {
   "cell_type": "code",
   "execution_count": 2,
   "metadata": {},
   "outputs": [],
   "source": [
    "from typing import Annotated, Any\n",
    "from typing_extensions import TypedDict\n",
    "from langgraph.graph import StateGraph, START, END\n",
    "from langgraph.graph.message import add_messages\n",
    "\n",
    "class State(TypedDict):\n",
    "    aggregate: Annotated[list, add_messages]\n",
    "\n",
    "# 노드 값 반환 클래스\n",
    "class RetrunNodeValue:\n",
    "    # 초기화\n",
    "    def __init__(self, node_secret: str):\n",
    "        self._value = node_secret\n",
    "    \n",
    "    # 호출 시 상태 업데이트\n",
    "    def __call__(self, state: State) -> Any:\n",
    "        print(f\"Adding {self._value} to {state['aggregate']}\")\n",
    "        return {\"aggregate\": [self._value]}\n",
    "\n",
    "# 상태 그래프 초기화\n",
    "builder = StateGraph(State)\n",
    "\n",
    "# 노드 A부터 D까지 생성 및 값 할당\n",
    "builder.add_node(\"a\", RetrunNodeValue(\"I'm A\"))\n",
    "builder.add_edge(START, \"a\")\n",
    "\n",
    "builder.add_node(\"b\", RetrunNodeValue(\"I'm B\"))\n",
    "builder.add_node(\"c\", RetrunNodeValue(\"I'm C\"))\n",
    "builder.add_node(\"d\", RetrunNodeValue(\"I'm D\"))\n",
    "\n",
    "# 노드 연결\n",
    "builder.add_edge(\"a\", \"b\")\n",
    "builder.add_edge(\"a\", \"c\")\n",
    "builder.add_edge(\"b\", \"d\")\n",
    "builder.add_edge(\"c\", \"d\")\n",
    "builder.add_edge(\"d\", END)\n",
    "\n",
    "# 그래프 컴파일\n",
    "graph = builder.compile()\n",
    "\n"
   ]
  },
  {
   "cell_type": "code",
   "execution_count": 3,
   "metadata": {},
   "outputs": [
    {
     "data": {
      "image/jpeg": "[encoded data removed]",
      "text/plain": [
       "<IPython.core.display.Image object>"
      ]
     },
     "metadata": {},
     "output_type": "display_data"
    }
   ],
   "source": [
    "from langchain_teddynote.graphs import visualize_graph\n",
    "\n",
    "visualize_graph(graph)"
   ]
  },
  {
   "cell_type": "code",
   "execution_count": 4,
   "metadata": {},
   "outputs": [
    {
     "name": "stdout",
     "output_type": "stream",
     "text": [
      "Adding I'm A to []\n",
      "Adding I'm B to [HumanMessage(content=\"I'm A\", additional_kwargs={}, response_metadata={}, id='77474f00-3d09-4a36-803f-5c5be4302eed')]\n",
      "Adding I'm C to [HumanMessage(content=\"I'm A\", additional_kwargs={}, response_metadata={}, id='77474f00-3d09-4a36-803f-5c5be4302eed')]\n",
      "Adding I'm D to [HumanMessage(content=\"I'm A\", additional_kwargs={}, response_metadata={}, id='77474f00-3d09-4a36-803f-5c5be4302eed'), HumanMessage(content=\"I'm B\", additional_kwargs={}, response_metadata={}, id='b46a4e51-7029-474a-86db-4e6705c83728'), HumanMessage(content=\"I'm C\", additional_kwargs={}, response_metadata={}, id='5d9b6c3d-9fa9-4cbe-a6ef-a20e33398cac')]\n"
     ]
    },
    {
     "data": {
      "text/plain": [
       "{'aggregate': [HumanMessage(content=\"I'm A\", additional_kwargs={}, response_metadata={}, id='77474f00-3d09-4a36-803f-5c5be4302eed'),\n",
       "  HumanMessage(content=\"I'm B\", additional_kwargs={}, response_metadata={}, id='b46a4e51-7029-474a-86db-4e6705c83728'),\n",
       "  HumanMessage(content=\"I'm C\", additional_kwargs={}, response_metadata={}, id='5d9b6c3d-9fa9-4cbe-a6ef-a20e33398cac'),\n",
       "  HumanMessage(content=\"I'm D\", additional_kwargs={}, response_metadata={}, id='79a1842c-14ce-4d49-ae6e-ddb878f0da43')]}"
      ]
     },
     "execution_count": 4,
     "metadata": {},
     "output_type": "execute_result"
    }
   ],
   "source": [
    "# 그래프 실행\n",
    "graph.invoke({\"aggregate\": []}, {\"configurable\": {\"thread_id\": \"foo\"}})"
   ]
  },
  {
   "cell_type": "markdown",
   "metadata": {},
   "source": [
    "오류가 발생하기 쉬운 작업(예: 불안정한 API 호출 처리)이 있는 경우, 두 가지 방법 존재.\n",
    "\n",
    "1. 노드 내에서 일반적인 Python 코드를 작성하여 예외를 포착하고 처리 가능.\n",
    "2. retry_policy 를 설정하여 특정 유형의 예외가 발생한 노드를 재시도하도록 그래프를 지시 가능.<br><br>\n",
    "\n",
    "실패한 분기만 재시도되므로 불필요한 작업 수행 안함."
   ]
  },
  {
   "cell_type": "code",
   "execution_count": 5,
   "metadata": {},
   "outputs": [],
   "source": [
    "from typing import Annotated\n",
    "from typing_extensions import TypedDict\n",
    "from langgraph.graph import StateGraph\n",
    "from langgraph.graph.message import add_messages\n",
    "\n",
    "\n",
    "# 상태 정의(add_messages 리듀서 사용)\n",
    "class State(TypedDict):\n",
    "    aggregate: Annotated[list, add_messages]\n",
    "\n",
    "\n",
    "# 노드 값 반환 클래스\n",
    "class ReturnNodeValue:\n",
    "    # 초기화\n",
    "    def __init__(self, node_secret: str):\n",
    "        self._value = node_secret\n",
    "\n",
    "    # 호출시 상태 업데이트\n",
    "    def __call__(self, state: State) -> Any:\n",
    "        print(f\"Adding {self._value} to {state['aggregate']}\")\n",
    "        return {\"aggregate\": [self._value]}\n",
    "\n",
    "\n",
    "# 상태 그래프 초기화\n",
    "builder = StateGraph(State)\n",
    "\n",
    "# 노드 생성\n",
    "builder.add_node(\"a\", ReturnNodeValue(\"I'm A\"))\n",
    "builder.add_edge(START, \"a\")\n",
    "builder.add_node(\"b1\", ReturnNodeValue(\"I'm B1\"))\n",
    "builder.add_node(\"b2\", ReturnNodeValue(\"I'm B2\"))\n",
    "builder.add_node(\"c\", ReturnNodeValue(\"I'm C\"))\n",
    "builder.add_node(\"d\", ReturnNodeValue(\"I'm D\"))\n",
    "\n",
    "# 노드 연결\n",
    "builder.add_edge(\"a\", \"b1\")\n",
    "builder.add_edge(\"a\", \"c\")\n",
    "builder.add_edge(\"b1\", \"b2\")\n",
    "builder.add_edge([\"b2\", \"c\"], \"d\")\n",
    "builder.add_edge(\"d\", END)\n",
    "\n",
    "# 그래프 컴파일\n",
    "graph = builder.compile()"
   ]
  },
  {
   "cell_type": "code",
   "execution_count": 6,
   "metadata": {},
   "outputs": [
    {
     "data": {
      "image/jpeg": "[encoded data removed]",
      "text/plain": [
       "<IPython.core.display.Image object>"
      ]
     },
     "metadata": {},
     "output_type": "display_data"
    }
   ],
   "source": [
    "\n",
    "from langchain_teddynote.graphs import visualize_graph\n",
    "\n",
    "visualize_graph(graph)"
   ]
  },
  {
   "cell_type": "code",
   "execution_count": 7,
   "metadata": {},
   "outputs": [
    {
     "name": "stdout",
     "output_type": "stream",
     "text": [
      "Adding I'm A to []\n",
      "Adding I'm B1 to [HumanMessage(content=\"I'm A\", additional_kwargs={}, response_metadata={}, id='e7167431-48d7-4082-a9d9-4593592949e4')]\n",
      "Adding I'm C to [HumanMessage(content=\"I'm A\", additional_kwargs={}, response_metadata={}, id='e7167431-48d7-4082-a9d9-4593592949e4')]\n",
      "Adding I'm B2 to [HumanMessage(content=\"I'm A\", additional_kwargs={}, response_metadata={}, id='e7167431-48d7-4082-a9d9-4593592949e4'), HumanMessage(content=\"I'm B1\", additional_kwargs={}, response_metadata={}, id='675e5ebe-e8a9-4348-9a7f-eecff79b1a32'), HumanMessage(content=\"I'm C\", additional_kwargs={}, response_metadata={}, id='5b309e92-1466-438e-b77a-524c24278de5')]\n",
      "Adding I'm D to [HumanMessage(content=\"I'm A\", additional_kwargs={}, response_metadata={}, id='e7167431-48d7-4082-a9d9-4593592949e4'), HumanMessage(content=\"I'm B1\", additional_kwargs={}, response_metadata={}, id='675e5ebe-e8a9-4348-9a7f-eecff79b1a32'), HumanMessage(content=\"I'm C\", additional_kwargs={}, response_metadata={}, id='5b309e92-1466-438e-b77a-524c24278de5'), HumanMessage(content=\"I'm B2\", additional_kwargs={}, response_metadata={}, id='7650fb56-9156-4785-bb9c-1ca8dcdd325d')]\n"
     ]
    },
    {
     "data": {
      "text/plain": [
       "{'aggregate': [HumanMessage(content=\"I'm A\", additional_kwargs={}, response_metadata={}, id='e7167431-48d7-4082-a9d9-4593592949e4'),\n",
       "  HumanMessage(content=\"I'm B1\", additional_kwargs={}, response_metadata={}, id='675e5ebe-e8a9-4348-9a7f-eecff79b1a32'),\n",
       "  HumanMessage(content=\"I'm C\", additional_kwargs={}, response_metadata={}, id='5b309e92-1466-438e-b77a-524c24278de5'),\n",
       "  HumanMessage(content=\"I'm B2\", additional_kwargs={}, response_metadata={}, id='7650fb56-9156-4785-bb9c-1ca8dcdd325d'),\n",
       "  HumanMessage(content=\"I'm D\", additional_kwargs={}, response_metadata={}, id='5ee69c1e-0663-4123-8798-a9d7841987bc')]}"
      ]
     },
     "execution_count": 7,
     "metadata": {},
     "output_type": "execute_result"
    }
   ],
   "source": [
    "# 빈 리스트를 사용한 그래프 집계 연산 실행, 모든 데이터에 대한 기본 집계 수행\n",
    "graph.invoke({\"aggregate\": []})"
   ]
  },
  {
   "cell_type": "markdown",
   "metadata": {},
   "source": [
    "## 조건부 분기(Conditional branching)\n",
    "\n",
    "fan-out이 결정적이지 않은 경우, add_conditional_edges를 직접 사용 가능.<br><br>\n",
    "조건부 분기 이후 연결된 알려진 'sink' 노드가 있는 경우, 조건부 엣지를 생성할 때 then=\"실행할 노드명\" 제공 가능."
   ]
  },
  {
   "cell_type": "code",
   "execution_count": 8,
   "metadata": {},
   "outputs": [],
   "source": [
    "from typing import Annotated, Sequence\n",
    "from typing_extensions import TypedDict\n",
    "from langgraph.graph import StateGraph, START, END\n",
    "\n",
    "# 상태 정의\n",
    "class State(TypedDict):\n",
    "    aggregate: Annotated[list, add_messages]\n",
    "    which: str\n",
    "\n",
    "# 노드별 고유 값을 반환하는 클래스\n",
    "class ReturnNodeValue:\n",
    "    def __init__(self, node_secret: str):\n",
    "        self._value = node_secret\n",
    "\n",
    "    def __call__(self, state: State) -> Any:\n",
    "        print(f\"Adding {self._value} to {state['aggregate']}\")\n",
    "        return {\"aggregate\": [self._value]}\n",
    "    \n",
    "# 상태 그래프 초기화\n",
    "builder = StateGraph(State)\n",
    "builder.add_node(\"a\", ReturnNodeValue(\"I'm A\"))\n",
    "builder.add_edge(START, \"a\")\n",
    "builder.add_node(\"b\", ReturnNodeValue(\"I'm B\"))\n",
    "builder.add_node(\"c\", ReturnNodeValue(\"I'm C\"))\n",
    "builder.add_node(\"d\", ReturnNodeValue(\"I'm D\"))\n",
    "builder.add_node(\"e\", ReturnNodeValue(\"I'm E\"))\n",
    "\n",
    "# 상태의 'which' 값에 따른 조건부 라우팅 경로 결정 함수\n",
    "def route_bc_or_cd(state: State) -> Sequence[str]:\n",
    "    if state['which'] == 'cd':\n",
    "        return ['c','d']\n",
    "    return ['b','c']\n",
    "\n",
    "intermediates = ['b','c','d']\n",
    "\n",
    "builder.add_conditional_edges(\n",
    "    'a',\n",
    "    route_bc_or_cd,\n",
    "    intermediates,\n",
    ")\n",
    "\n",
    "for node in intermediates:\n",
    "    builder.add_edge(node, 'e')\n",
    "\n",
    "\n",
    "builder.add_edge('e',END)\n",
    "graph = builder.compile()"
   ]
  },
  {
   "cell_type": "code",
   "execution_count": 9,
   "metadata": {},
   "outputs": [
    {
     "data": {
      "image/jpeg": "[encoded data removed]",
      "text/plain": [
       "<IPython.core.display.Image object>"
      ]
     },
     "metadata": {},
     "output_type": "display_data"
    }
   ],
   "source": [
    "from langchain_teddynote.graphs import visualize_graph\n",
    "\n",
    "visualize_graph(graph)"
   ]
  },
  {
   "cell_type": "markdown",
   "metadata": {},
   "source": []
  },
  {
   "cell_type": "code",
   "execution_count": 10,
   "metadata": {},
   "outputs": [
    {
     "name": "stdout",
     "output_type": "stream",
     "text": [
      "Adding I'm A to []\n",
      "Adding I'm B to [HumanMessage(content=\"I'm A\", additional_kwargs={}, response_metadata={}, id='af62bad1-3350-499f-9118-c55bc62954f2')]\n",
      "Adding I'm C to [HumanMessage(content=\"I'm A\", additional_kwargs={}, response_metadata={}, id='af62bad1-3350-499f-9118-c55bc62954f2')]\n",
      "Adding I'm E to [HumanMessage(content=\"I'm A\", additional_kwargs={}, response_metadata={}, id='af62bad1-3350-499f-9118-c55bc62954f2'), HumanMessage(content=\"I'm B\", additional_kwargs={}, response_metadata={}, id='a61c4f62-b25e-4736-aba7-561e13b3daa4'), HumanMessage(content=\"I'm C\", additional_kwargs={}, response_metadata={}, id='15b7b450-fb7f-4895-8dec-23f16ca629dd')]\n"
     ]
    },
    {
     "data": {
      "text/plain": [
       "{'aggregate': [HumanMessage(content=\"I'm A\", additional_kwargs={}, response_metadata={}, id='af62bad1-3350-499f-9118-c55bc62954f2'),\n",
       "  HumanMessage(content=\"I'm B\", additional_kwargs={}, response_metadata={}, id='a61c4f62-b25e-4736-aba7-561e13b3daa4'),\n",
       "  HumanMessage(content=\"I'm C\", additional_kwargs={}, response_metadata={}, id='15b7b450-fb7f-4895-8dec-23f16ca629dd'),\n",
       "  HumanMessage(content=\"I'm E\", additional_kwargs={}, response_metadata={}, id='aff8d183-d062-4909-9c3d-e8a704c4d741')],\n",
       " 'which': 'bc'}"
      ]
     },
     "execution_count": 10,
     "metadata": {},
     "output_type": "execute_result"
    }
   ],
   "source": [
    "# 그래프 실행(which: bc 로 지정)\n",
    "graph.invoke({\"aggregate\": [], \"which\": \"bc\"})"
   ]
  },
  {
   "cell_type": "code",
   "execution_count": 14,
   "metadata": {},
   "outputs": [
    {
     "name": "stdout",
     "output_type": "stream",
     "text": [
      "Adding I'm A to []\n",
      "Adding I'm C to [HumanMessage(content=\"I'm A\", additional_kwargs={}, response_metadata={}, id='ba56f336-a29d-4853-86f4-cd8ded2ea36c')]\n",
      "Adding I'm D to [HumanMessage(content=\"I'm A\", additional_kwargs={}, response_metadata={}, id='ba56f336-a29d-4853-86f4-cd8ded2ea36c')]\n",
      "Adding I'm E to [HumanMessage(content=\"I'm A\", additional_kwargs={}, response_metadata={}, id='ba56f336-a29d-4853-86f4-cd8ded2ea36c'), HumanMessage(content=\"I'm C\", additional_kwargs={}, response_metadata={}, id='10403d2b-4725-47c3-977a-7a9fff577fa0'), HumanMessage(content=\"I'm D\", additional_kwargs={}, response_metadata={}, id='cd660464-e209-41ab-a089-433b3f347493')]\n"
     ]
    },
    {
     "data": {
      "text/plain": [
       "{'aggregate': [HumanMessage(content=\"I'm A\", additional_kwargs={}, response_metadata={}, id='ba56f336-a29d-4853-86f4-cd8ded2ea36c'),\n",
       "  HumanMessage(content=\"I'm C\", additional_kwargs={}, response_metadata={}, id='10403d2b-4725-47c3-977a-7a9fff577fa0'),\n",
       "  HumanMessage(content=\"I'm D\", additional_kwargs={}, response_metadata={}, id='cd660464-e209-41ab-a089-433b3f347493'),\n",
       "  HumanMessage(content=\"I'm E\", additional_kwargs={}, response_metadata={}, id='2c7466b6-bbb0-4367-a033-639fc14929b7')],\n",
       " 'which': 'cd'}"
      ]
     },
     "execution_count": 14,
     "metadata": {},
     "output_type": "execute_result"
    }
   ],
   "source": [
    "# 그래프 실행(which: cd 로 지정)\n",
    "graph.invoke({\"aggregate\": [], \"which\": \"cd\"})"
   ]
  },
  {
   "cell_type": "markdown",
   "metadata": {},
   "source": [
    "## fan-out 값의 신뢰도에 따른 정렬\n",
    "\n",
    "병렬로 펼쳐진 노드들은 하나의 \"super-step\"으로 실행됩니다. 각 super-step 에서 발생한 업데이트들은 해당 super-step 이 완료된 후 순차적으로 상태에 적용됩니다.\n",
    "\n",
    "병렬 super-step 에서 일관된 사전 정의된 업데이트 순서가 필요한 경우, 출력값을 식별 키와 함께 상태의 별도 필드에 기록한 다음, 팬아웃된 각 노드에서 집결 지점까지 일반 edge 를 추가하여 \"sink\" 노드에서 이들을 결합해야 합니다.\n",
    "\n"
   ]
  },
  {
   "cell_type": "code",
   "execution_count": 15,
   "metadata": {},
   "outputs": [],
   "source": [
    "# 팬아웃 값들의 병합 로직 구현, 빈 리스트 처리 및 리스트 연결 수행\n",
    "def reduce_fanouts(left, right):\n",
    "    if left is None:\n",
    "        left = []\n",
    "    if not right:\n",
    "        # 덮어쓰기\n",
    "        return []\n",
    "    return left + right\n",
    "\n",
    "\n",
    "# 상태 관리를 위한 타입 정의, 집계 및 팬아웃 값 저장 구조 설정\n",
    "class State(TypedDict):\n",
    "    # add_messages 리듀서 사용\n",
    "    aggregate: Annotated[list, add_messages]\n",
    "    fanout_values: Annotated[list, reduce_fanouts]\n",
    "    which: str\n",
    "\n",
    "\n",
    "# 그래프 초기화\n",
    "builder = StateGraph(State)\n",
    "builder.add_node(\"a\", ReturnNodeValue(\"I'm A\"))\n",
    "builder.add_edge(START, \"a\")\n",
    "\n",
    "\n",
    "# 병렬 노드 값 반환 클래스\n",
    "class ParallelReturnNodeValue:\n",
    "    def __init__(\n",
    "        self,\n",
    "        node_secret: str,\n",
    "        reliability: float,\n",
    "    ):\n",
    "        self._value = node_secret\n",
    "        self._reliability = reliability\n",
    "\n",
    "    # 호출시 상태 업데이트\n",
    "    def __call__(self, state: State) -> Any:\n",
    "        print(f\"Adding {self._value} to {state['aggregate']} in parallel.\")\n",
    "        return {\n",
    "            \"fanout_values\": [\n",
    "                {\n",
    "                    \"value\": [self._value],\n",
    "                    \"reliability\": self._reliability,\n",
    "                }\n",
    "            ]\n",
    "        }\n",
    "\n",
    "\n",
    "# 신뢰도(reliability)가 다른 병렬 노드들 추가\n",
    "builder.add_node(\"b\", ParallelReturnNodeValue(\"I'm B\", reliability=0.1))\n",
    "builder.add_node(\"c\", ParallelReturnNodeValue(\"I'm C\", reliability=0.9))\n",
    "builder.add_node(\"d\", ParallelReturnNodeValue(\"I'm D\", reliability=0.5))\n",
    "\n",
    "\n",
    "# 팬아웃 값들을 신뢰도 기준으로 정렬하고 최종 집계 수행\n",
    "def aggregate_fanout_values(state: State) -> Any:\n",
    "    # 신뢰도 기준 정렬\n",
    "    ranked_values = sorted(\n",
    "        state[\"fanout_values\"], key=lambda x: x[\"reliability\"], reverse=True\n",
    "    )\n",
    "    print(ranked_values)\n",
    "    return {\n",
    "        \"aggregate\": [x[\"value\"][0] for x in ranked_values] + [\"I'm E\"],\n",
    "        \"fanout_values\": [],\n",
    "    }\n",
    "\n",
    "\n",
    "# 집계 노드 추가\n",
    "builder.add_node(\"e\", aggregate_fanout_values)\n",
    "\n",
    "\n",
    "# 상태에 따른 조건부 라우팅 로직 구현\n",
    "def route_bc_or_cd(state: State) -> Sequence[str]:\n",
    "    if state[\"which\"] == \"cd\":\n",
    "        return [\"c\", \"d\"]\n",
    "    return [\"b\", \"c\"]\n",
    "\n",
    "\n",
    "# 중간 노드들 설정 및 조건부 엣지 추가\n",
    "intermediates = [\"b\", \"c\", \"d\"]\n",
    "builder.add_conditional_edges(\"a\", route_bc_or_cd, intermediates)\n",
    "\n",
    "# 중간 노드들과 최종 집계 노드 연결\n",
    "for node in intermediates:\n",
    "    builder.add_edge(node, \"e\")\n",
    "\n",
    "# 그래프 완성을 위한 최종\n",
    "graph = builder.compile()"
   ]
  },
  {
   "cell_type": "code",
   "execution_count": 16,
   "metadata": {},
   "outputs": [
    {
     "data": {
      "image/jpeg": "[encoded data removed]",
      "text/plain": [
       "<IPython.core.display.Image object>"
      ]
     },
     "metadata": {},
     "output_type": "display_data"
    }
   ],
   "source": [
    "from langchain_teddynote.graphs import visualize_graph\n",
    "\n",
    "visualize_graph(graph)"
   ]
  },
  {
   "cell_type": "markdown",
   "metadata": {},
   "source": [
    "병렬로 노드 실행시 결과를 reliability 기준으로 정렬합니다.\n",
    "- b: reliability=0.1\n",
    "- c: reliability=0.9\n",
    "- d: reliability=0.5"
   ]
  },
  {
   "cell_type": "code",
   "execution_count": 17,
   "metadata": {},
   "outputs": [
    {
     "name": "stdout",
     "output_type": "stream",
     "text": [
      "Adding I'm A to []\n",
      "Adding I'm B to [HumanMessage(content=\"I'm A\", additional_kwargs={}, response_metadata={}, id='70404bcd-cd39-43b1-a50c-e95711331e70')] in parallel.\n",
      "Adding I'm C to [HumanMessage(content=\"I'm A\", additional_kwargs={}, response_metadata={}, id='70404bcd-cd39-43b1-a50c-e95711331e70')] in parallel.\n",
      "[{'value': [\"I'm C\"], 'reliability': 0.9}, {'value': [\"I'm B\"], 'reliability': 0.1}]\n"
     ]
    },
    {
     "data": {
      "text/plain": [
       "{'aggregate': [HumanMessage(content=\"I'm A\", additional_kwargs={}, response_metadata={}, id='70404bcd-cd39-43b1-a50c-e95711331e70'),\n",
       "  HumanMessage(content=\"I'm C\", additional_kwargs={}, response_metadata={}, id='15094680-8c19-498e-8b13-f5cb6af5d93c'),\n",
       "  HumanMessage(content=\"I'm B\", additional_kwargs={}, response_metadata={}, id='d97f646d-8818-48cb-87f6-8d06a0fe1c54'),\n",
       "  HumanMessage(content=\"I'm E\", additional_kwargs={}, response_metadata={}, id='e4bfffa9-d7e5-41cb-9259-4a0c94b096ff')],\n",
       " 'fanout_values': [],\n",
       " 'which': 'bc'}"
      ]
     },
     "execution_count": 17,
     "metadata": {},
     "output_type": "execute_result"
    }
   ],
   "source": [
    "# 그래프 실행(which: bc 로 지정)\n",
    "graph.invoke({\"aggregate\": [], \"which\": \"bc\", \"fanout_values\": []})"
   ]
  },
  {
   "cell_type": "code",
   "execution_count": 21,
   "metadata": {},
   "outputs": [
    {
     "name": "stdout",
     "output_type": "stream",
     "text": [
      "Adding I'm A to []\n",
      "Adding I'm C to [HumanMessage(content=\"I'm A\", additional_kwargs={}, response_metadata={}, id='0249d4f2-57df-476a-83c7-28221f9e6e76')] in parallel.\n",
      "Adding I'm D to [HumanMessage(content=\"I'm A\", additional_kwargs={}, response_metadata={}, id='0249d4f2-57df-476a-83c7-28221f9e6e76')] in parallel.\n",
      "[{'value': [\"I'm C\"], 'reliability': 0.9}, {'value': [\"I'm D\"], 'reliability': 0.5}]\n"
     ]
    },
    {
     "data": {
      "text/plain": [
       "{'aggregate': [HumanMessage(content=\"I'm A\", additional_kwargs={}, response_metadata={}, id='0249d4f2-57df-476a-83c7-28221f9e6e76'),\n",
       "  HumanMessage(content=\"I'm C\", additional_kwargs={}, response_metadata={}, id='c6189674-0b75-46a4-af92-1250b18c5bf4'),\n",
       "  HumanMessage(content=\"I'm D\", additional_kwargs={}, response_metadata={}, id='b9e0c658-7753-44a8-974e-8ce0dab08d99'),\n",
       "  HumanMessage(content=\"I'm E\", additional_kwargs={}, response_metadata={}, id='a0534a51-db9d-45a3-835e-1d137b68a044')],\n",
       " 'fanout_values': [],\n",
       " 'which': 'cd'}"
      ]
     },
     "execution_count": 21,
     "metadata": {},
     "output_type": "execute_result"
    }
   ],
   "source": [
    "# 그래프 실행(which: cd 로 지정)\n",
    "graph.invoke({\"aggregate\": [], \"which\": \"cd\"})"
   ]
  }
 ],
 "metadata": {
  "kernelspec": {
   "display_name": "langchain-rag-UhYHSyIM-py3.11",
   "language": "python",
   "name": "python3"
  },
  "language_info": {
   "codemirror_mode": {
    "name": "ipython",
    "version": 3
   },
   "file_extension": ".py",
   "mimetype": "text/x-python",
   "name": "python",
   "nbconvert_exporter": "python",
   "pygments_lexer": "ipython3",
   "version": "3.11.0"
  }
 },
 "nbformat": 4,
 "nbformat_minor": 2
}
