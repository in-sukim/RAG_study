{
 "cells": [
  {
   "cell_type": "code",
   "execution_count": 1,
   "metadata": {},
   "outputs": [
    {
     "data": {
      "text/plain": [
       "True"
      ]
     },
     "execution_count": 1,
     "metadata": {},
     "output_type": "execute_result"
    }
   ],
   "source": [
    "from dotenv import load_dotenv\n",
    "\n",
    "load_dotenv()\n"
   ]
  },
  {
   "cell_type": "code",
   "execution_count": 2,
   "metadata": {},
   "outputs": [],
   "source": [
    "from rag.pdf import PDFRetrievalChain\n",
    "\n",
    "pdf = PDFRetrievalChain([\"data/SPRI_AI_Brief_2023년12월호_F.pdf\"]).create_chain()\n",
    "pdf_retriever = pdf.retriever\n",
    "pdf_chain = pdf.chain"
   ]
  },
  {
   "cell_type": "code",
   "execution_count": 3,
   "metadata": {},
   "outputs": [],
   "source": [
    "from typing import TypedDict\n",
    "\n",
    "\n",
    "# GraphState 상태를 저장하는 용도로 사용합니다.\n",
    "class GraphState(TypedDict):\n",
    "    question: str  # 질문\n",
    "    context: str  # 문서의 검색 결과\n",
    "    answer: str  # 답변\n",
    "    relevance: str  # 답변의 문서에 대한 관련성"
   ]
  },
  {
   "cell_type": "code",
   "execution_count": 4,
   "metadata": {},
   "outputs": [
    {
     "data": {
      "text/plain": [
       "'notGrounded'"
      ]
     },
     "execution_count": 4,
     "metadata": {},
     "output_type": "execute_result"
    }
   ],
   "source": [
    "from rag.utils import format_docs\n",
    "from langchain_upstage import UpstageGroundednessCheck\n",
    "\n",
    "# 업스테이지 문서 관련성 체크 기능을 설정합니다. https://upstage.ai\n",
    "upstage_ground_checker = UpstageGroundednessCheck()\n",
    "\n",
    "# 업스테이지 문서 관련성 체크를 실행합니다.\n",
    "upstage_ground_checker.run(\n",
    "    {\n",
    "        \"context\": format_docs(\n",
    "            pdf_retriever.invoke(\"삼성전자가 개발한 생성AI 의 이름은\")\n",
    "        ),\n",
    "        \"answer\": \"삼성전자가 개발한 생성AI 의 이름은 `빅스비 AI` 입니다.\",\n",
    "    }\n",
    ")"
   ]
  },
  {
   "cell_type": "code",
   "execution_count": 6,
   "metadata": {},
   "outputs": [],
   "source": [
    "# 문서에서 검색하여 관련성 있는 문서를 retrieval.\n",
    "def retrieve_document(state: GraphState) -> GraphState:\n",
    "    # Question 에 대한 문서 검색을 retriever 수행.\n",
    "    retrieved_docs = pdf_retriever.invoke(state[\"question\"])\n",
    "    # 검색된 문서를 context 키에 저장.\n",
    "    return GraphState(context=format_docs(retrieved_docs))\n",
    "\n",
    "\n",
    "# Chain을 사용하여 답변을 생성.\n",
    "def llm_answer(state: GraphState) -> GraphState:\n",
    "    return GraphState(\n",
    "        answer=pdf_chain.invoke(\n",
    "            {\"question\": state[\"question\"], \"context\": state[\"context\"]}\n",
    "        )\n",
    "    )"
   ]
  },
  {
   "cell_type": "code",
   "execution_count": 7,
   "metadata": {},
   "outputs": [],
   "source": [
    "# 관련성 체크를 실행합니다.\n",
    "def relevance_check(state: GraphState) -> GraphState:\n",
    "    # 관련성 체크를 실행합니다. 결과: grounded, notGrounded, notSure\n",
    "    response = upstage_ground_checker.run(\n",
    "        {\"context\": state[\"context\"], \"answer\": state[\"answer\"]}\n",
    "    )\n",
    "    return GraphState(\n",
    "        relevance=response,\n",
    "        context=state[\"context\"],\n",
    "        answer=state[\"answer\"],\n",
    "        question=state[\"question\"],\n",
    "    )\n",
    "\n",
    "\n",
    "# 관련성 체크 결과를 반환합니다.\n",
    "def is_relevant(state: GraphState) -> GraphState:\n",
    "    if state[\"relevance\"] == \"grounded\":\n",
    "        return \"관련성 O\"\n",
    "    elif state[\"relevance\"] == \"notGrounded\":\n",
    "        return \"관련성 X\"\n",
    "    elif state[\"relevance\"] == \"notSure\":\n",
    "        return \"확인불가\""
   ]
  },
  {
   "cell_type": "markdown",
   "metadata": {},
   "source": [
    "그래프 정의"
   ]
  },
  {
   "cell_type": "code",
   "execution_count": 10,
   "metadata": {},
   "outputs": [],
   "source": [
    "from langgraph.graph import END, StateGraph\n",
    "from langgraph.checkpoint.memory import MemorySaver\n",
    "\n",
    "workflow = StateGraph(GraphState)\n",
    "\n",
    "# 노드 정의\n",
    "workflow.add_node(\"retrieve\", retrieve_document)\n",
    "workflow.add_node(\"llm_answer\", llm_answer)\n",
    "workflow.add_node(\"relevance_check\", relevance_check)\n",
    "\n",
    "# 노드 연결\n",
    "workflow.add_edge(\"retrieve\", \"llm_answer\")\n",
    "workflow.add_edge(\"llm_answer\", \"relevance_check\")\n",
    "\n",
    "# 조건부 엣지 추가\n",
    "workflow.add_conditional_edges(\n",
    "    \"relevance_check\", # 관련성 체크 노드에서 나온 결과를 is_relevant 함수에 전달\n",
    "    is_relevant,\n",
    "    {\n",
    "        \"관련성 O\": END, # 관련성이 있으면 종료\n",
    "        \"관련성 X\": \"retrieve\", # 관련성이 없으면 다시 답변 생성\n",
    "        \"확인불가\": \"retrieve\", # 관련성 체크 결과가 모호하다면 다시 답변 생성\n",
    "    },\n",
    ")\n",
    "\n",
    "# 시작점 설정\n",
    "workflow.set_entry_point(\"retrieve\")\n",
    "\n",
    "# 메모리 설정\n",
    "memory = MemorySaver()\n",
    "\n",
    "# 그래프 컴파일\n",
    "app = workflow.compile(checkpointer=memory)"
   ]
  },
  {
   "cell_type": "code",
   "execution_count": 12,
   "metadata": {},
   "outputs": [
    {
     "data": {
      "image/jpeg": "[encoded data removed]",
      "text/plain": [
       "<IPython.core.display.Image object>"
      ]
     },
     "metadata": {},
     "output_type": "display_data"
    }
   ],
   "source": [
    "from IPython.display import Image, display\n",
    "\n",
    "try:\n",
    "    display(\n",
    "        Image(app.get_graph(xray=True).draw_mermaid_png())\n",
    "    )  # 실행 가능한 객체의 그래프를 mermaid 형식의 PNG로 그려서 표시합니다. xray=True는 추가적인 세부 정보를 포함합니다.\n",
    "except:\n",
    "    # 이 부분은 추가적인 의존성이 필요하며 선택적으로 실행됩니다.\n",
    "    pass"
   ]
  },
  {
   "cell_type": "code",
   "execution_count": 13,
   "metadata": {},
   "outputs": [
    {
     "name": "stdout",
     "output_type": "stream",
     "text": [
      "Question: \t 삼성전자가 개발한 생성형 AI의 이름은?\n",
      "Answer: \t 삼성전자가 개발한 생성형 AI의 이름은 '삼성 가우스'입니다. (출처: data/SPRI_AI_Brief_2023년12월호_F.pdf, 페이지 13)\n",
      "Relevance: \t grounded\n"
     ]
    }
   ],
   "source": [
    "from langchain_core.runnables import RunnableConfig\n",
    "\n",
    "# recursion_limit: 최대 반복 횟수, thread_id: 실행 ID (구분용)\n",
    "config = RunnableConfig(recursion_limit=13, configurable={\"thread_id\": \"SELF-RAG\"})\n",
    "\n",
    "# GraphState 객체를 활용하여 질문을 입력합니다.\n",
    "inputs = GraphState(question=\"삼성전자가 개발한 생성형 AI의 이름은?\")\n",
    "output = app.invoke(inputs, config=config)\n",
    "\n",
    "# 출력 결과를 확인합니다.\n",
    "print(\"Question: \\t\", output[\"question\"])\n",
    "print(\"Answer: \\t\", output[\"answer\"])\n",
    "print(\"Relevance: \\t\", output[\"relevance\"])"
   ]
  },
  {
   "cell_type": "code",
   "execution_count": 14,
   "metadata": {},
   "outputs": [
    {
     "name": "stdout",
     "output_type": "stream",
     "text": [
      "'[NODE] retrieve'\n",
      "('<context> <document><content>SPRi AI Brief |\\n'\n",
      " '2023-12월호\\n'\n",
      " '삼성전자, 자체 개발 생성 AI ‘삼성 가우스’ 공개\\n'\n",
      " 'KEY Contents\\n'\n",
      " 'n 삼성전자가 온디바이스에서 작동 가능하며 언어, 코드, 이미지의 3개 모델로 구성된 자체 개발 생성\\n'\n",
      " 'AI 모델 ‘삼성 가우스’를 공개\\n'\n",
      " 'n 삼성전자는 삼성 가우스를 다양한 제품에 단계적으로 탑재할 계획으로, 온디바이스 작동이 가능한\\n'\n",
      " '삼성 가우스는 외부로 사용자 정보가 유출될 위험이 없다는 장점을 보유\\n'\n",
      " '£언어, 코드, 이미지의 3개 모델로 구성된 삼성 가우스, 온디바이스 작동 지원\\n'\n",
      " 'n 삼성전자가 2023년 11월 8일 열린 ‘삼성 AI 포럼 2023’ 행사에서 자체 개발한 생성 AI 모델\\n'\n",
      " '‘삼성 가우스’를 최초 공개\\n'\n",
      " '∙ 정규분포 이론을 정립한 천재 수학자 가우스(Gauss)의 이름을 본뜬 삼성 가우스는 다양한 상황에\\n'\n",
      " '최적화된 크기의 모델 선택이 가능\\n'\n",
      " '∙ 삼성 가우스는 라이선스나 개인정보를 침해하지 않는 안전한 데이터를 통해 '\n",
      " '학습되었으며,</content><source>data/SPRI_AI_Brief_2023년12월호_F.pdf</source><page>13</page></document>\\n'\n",
      " '<document><content>형식의 텍스트 생성에서도 GPT-4에 준하는 성능을 기록했으나, RAG 포함 질문과 답변에서는 허깅\\n'\n",
      " '페이스의 제퍼(Zephyr-7b)가 라마2를 능가\\n'\n",
      " '<갈릴레오의 LLM 환각 지수(RAG 포함 질문과 답변 기준)>\\n'\n",
      " '☞ 출처: Galileo, LLM Hallucination Index, '\n",
      " '2023.11.15.</content><source>data/SPRI_AI_Brief_2023년12월호_F.pdf</source><page>20</page></document>\\n'\n",
      " '<document><content>앤스로픽에 최대 40억 달러의 투자 계획을 공개\\n'\n",
      " '∙ 한편, 2023년 11월 8일 블룸버그 보도에 따르면 앤스로픽은 구글의 클라우드 서비스 사용을 위해\\n'\n",
      " '4년간 30억 달러 규모의 계약을 체결\\n'\n",
      " '∙ 오픈AI 창업자 그룹의 일원이었던 다리오(Dario Amodei)와 다니엘라 아모데이(Daniela Amodei)\\n'\n",
      " '남매가 2021년 설립한 앤스로픽은 챗GPT의 대항마 ‘클로드(Claude)’ LLM을 개발\\n'\n",
      " 'n 아마존과 구글의 앤스로픽 투자에 앞서, 마이크로소프트는 차세대 AI 모델의 대표 주자인 오픈\\n'\n",
      " 'AI와 협력을 확대\\n'\n",
      " '∙ 마이크로소프트는 오픈AI에 앞서 투자한 30억 달러에 더해 2023년 1월 추가로 100억 달러를\\n'\n",
      " '투자하기로 하면서 오픈AI의 지분 49%를 확보했으며, 오픈AI는 마이크로소프트의 애저(Azure)\\n'\n",
      " '클라우드 플랫폼을 사용해 AI 모델을 훈련\\n'\n",
      " '£구글, 클라우드 경쟁력 강화를 위해 생성 AI 투자 '\n",
      " '확대</content><source>data/SPRI_AI_Brief_2023년12월호_F.pdf</source><page>14</page></document>\\n'\n",
      " '<document><content>오르티즈(Karla Ortiz)는 이미지 생성 AI 서비스를 개발한 3개 기업을 상대로 저작권 침해 '\n",
      " '소송을 제기\\n'\n",
      " '∙ 예술가들은 3개 기업이 AI 모델을 학습시키기 위해 원작자 동의 없이 작품을 학습 데이터셋에\\n'\n",
      " '포함하여 저작권을 침해했다고 주장했으며, 법원은 지난 4월 피소 기업들이 제출한 기각 신청을\\n'\n",
      " '수용해 소송을 기각\\n'\n",
      " 'n 오릭 판사는 판결문에서 소송을 기각한 핵심 이유로 예술가들의 저작권 미등록을 제시\\n'\n",
      " '∙ 판결문은 소송을 제기한 캘리 맥커넌과 칼라 오르티즈가 미국 저작권청에 예술 작품에 대한 저작권을\\n'\n",
      " '제출하지 않았다는 점을 지적했으며, 사라 앤더슨은 고소장에 인용된 수백 개의 작품 중 16개 작품에\\n'\n",
      " '대해서만 저작권을 보유\\n'\n",
      " 'n 판결문은 또한 생성 AI 모델 훈련에 사용된 모든 이미지에 저작권이 있다거나, 생성 AI로 만든\\n'\n",
      " '이미지가 저작물을 이용해 훈련되었으므로 저작물의 파생 이미지라는 주장은 개연성이 부족하다고\\n'\n",
      " '지적</content><source>data/SPRI_AI_Brief_2023년12월호_F.pdf</source><page>7</page></document>\\n'\n",
      " '<document><content>2단계: 유능(숙련된 인간의 50% 이상) 미달성\\n'\n",
      " '어시스턴트), IBM 왓슨\\n'\n",
      " '3단계: 전문가(숙련된 인간의 90% 이상) 문법 교정기(그래머리), 생성 이미지 모델(달리2) 미달성\\n'\n",
      " '4단계: 거장(숙련된 인간의 99% 이상) 딥블루, 알파고 미달성\\n'\n",
      " '5단계: 초인간(인간을 100% 능가) 알파폴드, 알파제로, 스톡피시 미달성\\n'\n",
      " '☞ 출처 : Arxiv.org, Levels of AGI: Operationalizing Progress on the Path to '\n",
      " 'AGI, 2023.11.04.\\n'\n",
      " '16</content><source>data/SPRI_AI_Brief_2023년12월호_F.pdf</source><page>19</page></document>')\n",
      "'=============================='\n",
      "'[NODE] llm_answer'\n",
      "(\"<answer> 삼성전자가 개발한 생성형 AI의 이름은 '삼성 가우스'입니다. (출처: SPRi AI Brief, 2023년 12월호, \"\n",
      " '페이지 13)')\n",
      "'=============================='\n",
      "'[NODE] relevance_check'\n",
      "'<question> 삼성전자가 개발한 생성형 AI의 이름은?'\n",
      "('<context> <document><content>SPRi AI Brief |\\n'\n",
      " '2023-12월호\\n'\n",
      " '삼성전자, 자체 개발 생성 AI ‘삼성 가우스’ 공개\\n'\n",
      " 'KEY Contents\\n'\n",
      " 'n 삼성전자가 온디바이스에서 작동 가능하며 언어, 코드, 이미지의 3개 모델로 구성된 자체 개발 생성\\n'\n",
      " 'AI 모델 ‘삼성 가우스’를 공개\\n'\n",
      " 'n 삼성전자는 삼성 가우스를 다양한 제품에 단계적으로 탑재할 계획으로, 온디바이스 작동이 가능한\\n'\n",
      " '삼성 가우스는 외부로 사용자 정보가 유출될 위험이 없다는 장점을 보유\\n'\n",
      " '£언어, 코드, 이미지의 3개 모델로 구성된 삼성 가우스, 온디바이스 작동 지원\\n'\n",
      " 'n 삼성전자가 2023년 11월 8일 열린 ‘삼성 AI 포럼 2023’ 행사에서 자체 개발한 생성 AI 모델\\n'\n",
      " '‘삼성 가우스’를 최초 공개\\n'\n",
      " '∙ 정규분포 이론을 정립한 천재 수학자 가우스(Gauss)의 이름을 본뜬 삼성 가우스는 다양한 상황에\\n'\n",
      " '최적화된 크기의 모델 선택이 가능\\n'\n",
      " '∙ 삼성 가우스는 라이선스나 개인정보를 침해하지 않는 안전한 데이터를 통해 '\n",
      " '학습되었으며,</content><source>data/SPRI_AI_Brief_2023년12월호_F.pdf</source><page>13</page></document>\\n'\n",
      " '<document><content>형식의 텍스트 생성에서도 GPT-4에 준하는 성능을 기록했으나, RAG 포함 질문과 답변에서는 허깅\\n'\n",
      " '페이스의 제퍼(Zephyr-7b)가 라마2를 능가\\n'\n",
      " '<갈릴레오의 LLM 환각 지수(RAG 포함 질문과 답변 기준)>\\n'\n",
      " '☞ 출처: Galileo, LLM Hallucination Index, '\n",
      " '2023.11.15.</content><source>data/SPRI_AI_Brief_2023년12월호_F.pdf</source><page>20</page></document>\\n'\n",
      " '<document><content>앤스로픽에 최대 40억 달러의 투자 계획을 공개\\n'\n",
      " '∙ 한편, 2023년 11월 8일 블룸버그 보도에 따르면 앤스로픽은 구글의 클라우드 서비스 사용을 위해\\n'\n",
      " '4년간 30억 달러 규모의 계약을 체결\\n'\n",
      " '∙ 오픈AI 창업자 그룹의 일원이었던 다리오(Dario Amodei)와 다니엘라 아모데이(Daniela Amodei)\\n'\n",
      " '남매가 2021년 설립한 앤스로픽은 챗GPT의 대항마 ‘클로드(Claude)’ LLM을 개발\\n'\n",
      " 'n 아마존과 구글의 앤스로픽 투자에 앞서, 마이크로소프트는 차세대 AI 모델의 대표 주자인 오픈\\n'\n",
      " 'AI와 협력을 확대\\n'\n",
      " '∙ 마이크로소프트는 오픈AI에 앞서 투자한 30억 달러에 더해 2023년 1월 추가로 100억 달러를\\n'\n",
      " '투자하기로 하면서 오픈AI의 지분 49%를 확보했으며, 오픈AI는 마이크로소프트의 애저(Azure)\\n'\n",
      " '클라우드 플랫폼을 사용해 AI 모델을 훈련\\n'\n",
      " '£구글, 클라우드 경쟁력 강화를 위해 생성 AI 투자 '\n",
      " '확대</content><source>data/SPRI_AI_Brief_2023년12월호_F.pdf</source><page>14</page></document>\\n'\n",
      " '<document><content>오르티즈(Karla Ortiz)는 이미지 생성 AI 서비스를 개발한 3개 기업을 상대로 저작권 침해 '\n",
      " '소송을 제기\\n'\n",
      " '∙ 예술가들은 3개 기업이 AI 모델을 학습시키기 위해 원작자 동의 없이 작품을 학습 데이터셋에\\n'\n",
      " '포함하여 저작권을 침해했다고 주장했으며, 법원은 지난 4월 피소 기업들이 제출한 기각 신청을\\n'\n",
      " '수용해 소송을 기각\\n'\n",
      " 'n 오릭 판사는 판결문에서 소송을 기각한 핵심 이유로 예술가들의 저작권 미등록을 제시\\n'\n",
      " '∙ 판결문은 소송을 제기한 캘리 맥커넌과 칼라 오르티즈가 미국 저작권청에 예술 작품에 대한 저작권을\\n'\n",
      " '제출하지 않았다는 점을 지적했으며, 사라 앤더슨은 고소장에 인용된 수백 개의 작품 중 16개 작품에\\n'\n",
      " '대해서만 저작권을 보유\\n'\n",
      " 'n 판결문은 또한 생성 AI 모델 훈련에 사용된 모든 이미지에 저작권이 있다거나, 생성 AI로 만든\\n'\n",
      " '이미지가 저작물을 이용해 훈련되었으므로 저작물의 파생 이미지라는 주장은 개연성이 부족하다고\\n'\n",
      " '지적</content><source>data/SPRI_AI_Brief_2023년12월호_F.pdf</source><page>7</page></document>\\n'\n",
      " '<document><content>2단계: 유능(숙련된 인간의 50% 이상) 미달성\\n'\n",
      " '어시스턴트), IBM 왓슨\\n'\n",
      " '3단계: 전문가(숙련된 인간의 90% 이상) 문법 교정기(그래머리), 생성 이미지 모델(달리2) 미달성\\n'\n",
      " '4단계: 거장(숙련된 인간의 99% 이상) 딥블루, 알파고 미달성\\n'\n",
      " '5단계: 초인간(인간을 100% 능가) 알파폴드, 알파제로, 스톡피시 미달성\\n'\n",
      " '☞ 출처 : Arxiv.org, Levels of AGI: Operationalizing Progress on the Path to '\n",
      " 'AGI, 2023.11.04.\\n'\n",
      " '16</content><source>data/SPRI_AI_Brief_2023년12월호_F.pdf</source><page>19</page></document>')\n",
      "(\"<answer> 삼성전자가 개발한 생성형 AI의 이름은 '삼성 가우스'입니다. (출처: SPRi AI Brief, 2023년 12월호, \"\n",
      " '페이지 13)')\n",
      "'<relevance> grounded'\n",
      "'=============================='\n"
     ]
    }
   ],
   "source": [
    "import pprint\n",
    "from langgraph.errors import GraphRecursionError\n",
    "from langchain_core.runnables import RunnableConfig\n",
    "\n",
    "config = RunnableConfig(recursion_limit=13, configurable={\"thread_id\": \"SELF-RAG\"})\n",
    "\n",
    "# GraphState 객체를 활용하여 질문을 입력합니다.\n",
    "inputs = GraphState(question=\"삼성전자가 개발한 생성형 AI의 이름은?\")\n",
    "\n",
    "# app.stream을 통해 입력된 메시지에 대한 출력을 스트리밍합니다.\n",
    "try:\n",
    "    for output in app.stream(inputs, config=config):\n",
    "        # 출력된 결과에서 키와 값을 순회합니다.\n",
    "        for key, value in output.items():\n",
    "            # 노드의 이름과 해당 노드에서 나온 출력을 출력합니다.\n",
    "            pprint.pprint(f\"[NODE] {key}\")\n",
    "            for k, v in value.items():\n",
    "                pprint.pprint(f\"<{k}> {v}\")\n",
    "            pprint.pprint(\"===\" * 10)\n",
    "            # 출력 값을 예쁘게 출력합니다.\n",
    "            # pprint.pprint(value, indent=2, width=80, depth=None)\n",
    "except GraphRecursionError as e:\n",
    "    pprint.pprint(f\"Recursion limit reached: {e}\")"
   ]
  },
  {
   "cell_type": "code",
   "execution_count": 15,
   "metadata": {},
   "outputs": [
    {
     "name": "stdout",
     "output_type": "stream",
     "text": [
      "Question: \t 삼성전자가 개발한 생성형 AI의 이름은?\n",
      "Answer: \t 삼성전자가 개발한 생성형 AI의 이름은 '삼성 가우스'입니다. (출처: SPRi AI Brief, 2023년 12월호, 페이지 13)\n",
      "Relevance: \t grounded\n"
     ]
    }
   ],
   "source": [
    "print(\"Question: \\t\", output[\"relevance_check\"][\"question\"])\n",
    "print(\"Answer: \\t\", output[\"relevance_check\"][\"answer\"])\n",
    "print(\"Relevance: \\t\", output[\"relevance_check\"][\"relevance\"])"
   ]
  }
 ],
 "metadata": {
  "kernelspec": {
   "display_name": "langchain-rag-UhYHSyIM-py3.11",
   "language": "python",
   "name": "python3"
  },
  "language_info": {
   "codemirror_mode": {
    "name": "ipython",
    "version": 3
   },
   "file_extension": ".py",
   "mimetype": "text/x-python",
   "name": "python",
   "nbconvert_exporter": "python",
   "pygments_lexer": "ipython3",
   "version": "3.11.0"
  }
 },
 "nbformat": 4,
 "nbformat_minor": 2
}
