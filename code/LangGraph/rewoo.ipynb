{
 "cells": [
  {
   "cell_type": "markdown",
   "metadata": {},
   "source": [
    "## Reasoning without Observation\n",
    "\n",
    "### ReAct 에이전트와의 차이점\n",
    "\n",
    "#### 1. 토큰 소비 및 실행 시간 감소\n",
    "- **단일 패스 방식**: 사용할 도구 체인을 한 번에 생성\n",
    "- **ReACT 방식과의 차이점**: \n",
    "  - ReACT는 각 추론 단계마다 LLM 호출 필요\n",
    "  - 시스템 프롬프트와 이전 단계를 매번 반복 제공해야 함\n",
    "  - 이로 인한 중복된 프롬프트 발생\n",
    "\n",
    "#### 2. 미세조정(Fine-tuning) 과정 단순화\n",
    "- **도구 출력 독립성**: 계획 데이터가 도구의 출력에 의존하지 않음\n",
    "- **이론적 장점**: 실제 도구를 실행하지 않고도 모델 미세조정 가능"
   ]
  },
  {
   "cell_type": "markdown",
   "metadata": {},
   "source": [
    "### ReWOO 구성요소\n",
    "- Planner: Generate the plan in the follwing format:\n",
    "    - Plan: \\<reasoning\\>\n",
    "    - #E1 = Tool[argument for tool]\n",
    "    - Plan: \\<reasoning\\>\n",
    "    - #E2 = Tool[argument for tool with E1 variable substitution]\n",
    "    - ...\n",
    "- Worker: executes the tool with the provided arguments.\n",
    "- Solver: generates the answer for the initial task based on the tool observations.\n",
    "\n",
    "Planner, Solver는 LLM 호출을 통해 동작. 변수 대체를 통해 Planner LLM 중복 호출 피할 수 있다."
   ]
  },
  {
   "cell_type": "code",
   "execution_count": 1,
   "metadata": {},
   "outputs": [
    {
     "name": "stdout",
     "output_type": "stream",
     "text": [
      "LangSmith 추적을 시작합니다.\n",
      "[프로젝트명]\n",
      "rewoo\n"
     ]
    }
   ],
   "source": [
    "from langchain_teddynote import logging\n",
    "from dotenv import load_dotenv\n",
    "\n",
    "load_dotenv()\n",
    "logging.langsmith(\"rewoo\")"
   ]
  },
  {
   "cell_type": "markdown",
   "metadata": {},
   "source": [
    "### Graph State 정의"
   ]
  },
  {
   "cell_type": "code",
   "execution_count": 2,
   "metadata": {},
   "outputs": [],
   "source": [
    "from typing import List\n",
    "from typing_extensions import TypedDict\n",
    "\n",
    "class ReWOO(TypedDict):\n",
    "    task: str\n",
    "    plan_string: str\n",
    "    steps: List\n",
    "    results: dict\n",
    "    result: str"
   ]
  },
  {
   "cell_type": "markdown",
   "metadata": {},
   "source": [
    "### Planner\n",
    "\n",
    "LLM을 통해 목록 형태로 계획 생성. 각 작업들의 인자는 문자열로 구성, 다른 작업 결과로부터 변수 대체에 사용되는 변수(#E{0-9}+) 포함.<Br>\n",
    "#E{0-9}+ 변수는 다른 작업 결과로 대체되어 중복 호출 방지."
   ]
  },
  {
   "cell_type": "code",
   "execution_count": 7,
   "metadata": {},
   "outputs": [],
   "source": [
    "from langchain_openai import ChatOpenAI\n",
    "\n",
    "model = ChatOpenAI(model=\"gpt-4o\", temperature=0)\n",
    "\n",
    "prompt = \"\"\"\n",
    "For the following task, make plans that can solve the problem step by step. For each plan, indicate \\\n",
    "which external tool together with tool input to retrieve evidence. You can store the evidence into a \\\n",
    "variable #E that can be called by later tools. (Plan, #E1, Plan, #E2, Plan, ...)\n",
    "\n",
    "Tools can be one of the following:\n",
    "(1) Google[input]: Worker that searches results from Google. Useful when you need to find short\n",
    "and succinct answers about a specific topic. The input should be a search query.\n",
    "(2) LLM[input]: A pretrained LLM like yourself. Useful when you need to act with general\n",
    "world knowledge and common sense. Prioritize it when you are confident in solving the problem\n",
    "yourself. Input can be any instruction.\n",
    "\n",
    "For example,\n",
    "Task: Thomas, Toby, and Rebecca worked a total of 157 hours in one week. Thomas worked x\n",
    "hours. Toby worked 10 hours less than twice what Thomas worked, and Rebecca worked 8 hours\n",
    "less than Toby. How many hours did Rebecca work?\n",
    "Plan: Given Thomas worked x hours, translate the problem into algebraic expressions and solve\n",
    "with Wolfram Alpha. #E1 = WolframAlpha[Solve x + (2x − 10) + ((2x − 10) − 8) = 157]\n",
    "Plan: Find out the number of hours Thomas worked. #E2 = LLM[What is x, given #E1]\n",
    "Plan: Calculate the number of hours Rebecca worked. #E3 = Calculator[(2 ∗ #E2 − 10) − 8]\n",
    "\n",
    "Begin! \n",
    "Describe your plans with rich details. Each Plan should be followed by only one #E.\n",
    "\n",
    "Task: {task}\n",
    "\"\"\""
   ]
  },
  {
   "cell_type": "code",
   "execution_count": 8,
   "metadata": {},
   "outputs": [],
   "source": [
    "task = \"2024년 노벨 문학상 수상자는 누구야?\"\n",
    "result = model.invoke(prompt.format(task = task))"
   ]
  },
  {
   "cell_type": "code",
   "execution_count": 9,
   "metadata": {},
   "outputs": [
    {
     "name": "stdout",
     "output_type": "stream",
     "text": [
      "Plan: To find out who won the 2024 Nobel Prize in Literature, I will search for the most recent and reliable information on the internet. #E1 = Google[2024 Nobel Prize in Literature winner]\n",
      "\n",
      "Plan: Retrieve the name of the 2024 Nobel Prize in Literature winner from the search results. #E2 = LLM[Extract the name of the 2024 Nobel Prize in Literature winner from #E1]\n"
     ]
    }
   ],
   "source": [
    "print(result.content)"
   ]
  },
  {
   "cell_type": "code",
   "execution_count": 10,
   "metadata": {},
   "outputs": [],
   "source": [
    "import re\n",
    "from langchain_core.prompts import ChatPromptTemplate\n",
    "\n",
    "# task 변수(#E) 추출\n",
    "regex_pattern = r\"Plan:\\s*(.+)\\s*(#E\\d+)\\s*=\\s*(\\w+)\\s*\\[([^\\]]+)\\]\"\n",
    "prompt_template = ChatPromptTemplate.from_messages([(\"user\", prompt)])\n",
    "planner = prompt_template | model\n",
    "\n",
    "def get_plan(state: ReWOO):\n",
    "    task = state['task']\n",
    "    result = planner.invoke({\"task\": task})\n",
    "    matches = re.findall(regex_pattern, result.content)\n",
    "    \n",
    "    return {\"steps\": matches, \"plan_string\": result.content}"
   ]
  },
  {
   "cell_type": "code",
   "execution_count": 28,
   "metadata": {},
   "outputs": [],
   "source": [
    "test = \"\"\"\n",
    "Plan: To find out who won the 2024 Nobel Prize in Literature, I will search for the most recent and reliable information on the internet. #E1 = Google[2024 Nobel Prize in Literature winner]\n",
    "\n",
    "Plan: Retrieve the name of the 2024 Nobel Prize in Literature winner from the search results. #E2 = LLM[Extract the name of the 2024 Nobel Prize in Literature winner from #E1]\"\"\""
   ]
  },
  {
   "cell_type": "code",
   "execution_count": 32,
   "metadata": {},
   "outputs": [
    {
     "name": "stdout",
     "output_type": "stream",
     "text": [
      "('To find out who won the 2024 Nobel Prize in Literature, I will search for the most recent and reliable information on the internet. ', '#E1', 'Google', '2024 Nobel Prize in Literature winner')\n"
     ]
    }
   ],
   "source": [
    "regex_pattern = r\"Plan:\\s*(.+)\\s*(#E\\d+)\\s*=\\s*(\\w+)\\s*\\[([^\\]]+)\\]\"\n",
    "matches = re.findall(regex_pattern, test)\n",
    "print(matches[0])"
   ]
  },
  {
   "cell_type": "markdown",
   "metadata": {},
   "source": [
    "### Executor"
   ]
  },
  {
   "cell_type": "code",
   "execution_count": 11,
   "metadata": {},
   "outputs": [],
   "source": [
    "from langchain_community.tools.tavily_search import TavilySearchResults\n",
    "\n",
    "search = TavilySearchResults()\n"
   ]
  },
  {
   "cell_type": "code",
   "execution_count": 16,
   "metadata": {},
   "outputs": [],
   "source": [
    "def _get_current_task(state: ReWOO):\n",
    "    if \"results\" not in state or state[\"results\"] is None:\n",
    "        return 1\n",
    "    if len(state[\"results\"]) == len(state[\"steps\"]):\n",
    "        return None\n",
    "    else:\n",
    "        return len(state[\"results\"]) + 1\n",
    "    \n",
    "def tool_execution(state: ReWOO):\n",
    "    \"\"\"Worker node that executes the tools of a given plan.\"\"\"\n",
    "    _step = _get_current_task(state)\n",
    "    _, step_name, tool, tool_input = state[\"steps\"][_step - 1]\n",
    "    _results = (state[\"results\"] or {}) if \"results\" in state else {}\n",
    "    for k, v in _results.items():\n",
    "        tool_input = tool_input.replace(k,v)\n",
    "    if tool == \"Google\":\n",
    "        result = search.invoke(tool_input)\n",
    "    elif tool == \"LLM\":\n",
    "        result = model.invoke(tool_input)\n",
    "    else:\n",
    "        raise ValueError\n",
    "    _results[step_name] = str(result)\n",
    "    return {\"results\": _results}\n",
    "    "
   ]
  },
  {
   "cell_type": "markdown",
   "metadata": {},
   "source": [
    "### Solver"
   ]
  },
  {
   "cell_type": "code",
   "execution_count": 17,
   "metadata": {},
   "outputs": [],
   "source": [
    "solve_prompt = \"\"\"Solve the following task or problem. To solve the problem, we have made step-by-step Plan and \\\n",
    "retrieved corresponding Evidence to each Plan. Use them with caution since long evidence might \\\n",
    "contain irrelevant information.\n",
    "\n",
    "{plan}\n",
    "\n",
    "Now solve the question or task according to provided Evidence above. Respond with the answer\n",
    "directly with no extra words.\n",
    "\n",
    "Task: {task}\n",
    "Response:\"\"\"\n",
    "\n",
    "\n",
    "def solve(state: ReWOO):\n",
    "    plan = \"\"\n",
    "    for _plan, step_name, tool, tool_input in state[\"steps\"]:\n",
    "        _results = (state[\"results\"] or {}) if \"results\" in state else {}\n",
    "        for k, v in _results.items():\n",
    "            tool_input = tool_input.replace(k, v)\n",
    "            # 이전 결과 변수로 값 치환\n",
    "            step_name = step_name.replace(k,v)\n",
    "        plan += f\"{_plan}\\n{step_name} = {tool}[{tool_input}]\"\n",
    "    prompt = solve_prompt.format(plan = plan, task=state['task'])\n",
    "    result = model.invoke(prompt)\n",
    "    return {\"result\": result.content}"
   ]
  },
  {
   "cell_type": "markdown",
   "metadata": {},
   "source": [
    "## Graph 정의"
   ]
  },
  {
   "cell_type": "code",
   "execution_count": 18,
   "metadata": {},
   "outputs": [],
   "source": [
    "def _route(state):\n",
    "    _step = _get_current_task(state)\n",
    "    if _step is None:\n",
    "        return \"solve\"\n",
    "    else:\n",
    "        return \"tool\""
   ]
  },
  {
   "cell_type": "code",
   "execution_count": 19,
   "metadata": {},
   "outputs": [],
   "source": [
    "from langgraph.graph import END, StateGraph, START\n",
    "\n",
    "graph = StateGraph(ReWOO)\n",
    "\n",
    "# 노드 추가\n",
    "graph.add_node(\"plan\", get_plan)\n",
    "graph.add_node(\"tool\", tool_execution)\n",
    "graph.add_node(\"solve\", solve)\n",
    "\n",
    "# 엣지 추가\n",
    "graph.add_edge(START, \"plan\")\n",
    "graph.add_edge(\"plan\", \"tool\")\n",
    "graph.add_edge(\"solve\", END)\n",
    "\n",
    "# 조건부 엣지 추가\n",
    "graph.add_conditional_edges(\n",
    "    \"tool\",\n",
    "    _route\n",
    ")\n",
    "\n",
    "app = graph.compile()"
   ]
  },
  {
   "cell_type": "code",
   "execution_count": 24,
   "metadata": {},
   "outputs": [],
   "source": [
    "task = \"2024년 노벨 문학상 수상자가 누군지 한국어로 설명해줘.\""
   ]
  },
  {
   "cell_type": "code",
   "execution_count": 25,
   "metadata": {},
   "outputs": [
    {
     "name": "stdout",
     "output_type": "stream",
     "text": [
      "{'plan': {'plan_string': 'Plan: 먼저, 2024년 노벨 문학상 수상자가 발표되었는지 확인하기 위해 최신 정보를 검색합니다. #E1 = Google[2024 Nobel Literature Prize winner]\\n\\nPlan: #E1의 검색 결과를 바탕으로 2024년 노벨 문학상 수상자에 대한 정보를 한국어로 요약합니다. #E2 = LLM[Translate and summarize #E1 in Korean]', 'steps': [('먼저, 2024년 노벨 문학상 수상자가 발표되었는지 확인하기 위해 최신 정보를 검색합니다. ', '#E1', 'Google', '2024 Nobel Literature Prize winner'), ('#E1의 검색 결과를 바탕으로 2024년 노벨 문학상 수상자에 대한 정보를 한국어로 요약합니다. ', '#E2', 'LLM', 'Translate and summarize #E1 in Korean')]}}\n",
      "---\n",
      "{'tool': {'results': {'#E1': '[{\\'url\\': \\'https://en.wikipedia.org/wiki/2024_Nobel_Prize_in_Literature\\', \\'content\\': \\'The 2024 Nobel Prize in Literature was awarded to the South Korean author Han Kang (born 1970) \"for her intense poetic prose that confronts historical traumas and exposes the fragility of human life\". It was announced by the Swedish Academy in Stockholm, Sweden, on 10 October 2024 and will be awarded on 10 December 2024. [1]She is the first South Korean and first Asian woman to win the Nobel\\'}, {\\'url\\': \\'https://www.cnn.com/2024/10/10/style/han-kang-nobel-prize-literature-intl/index.html\\', \\'content\\': \\'The 2024 Nobel Prize in literature has been awarded to Han Kang, a South Korean author, for her “intense poetic prose that confronts historical traumas and exposes the fragility of human life.” In a statement posted to Facebook on Thursday, South Korean President Yoon Suk Yeol described Han’s win as “a great achievement in the history of Korean literature” and a “national occasion.” He added: “Han has turned the painful scars of our modern history into great literature.” Anna-Karin Palm, a member of the Nobel Committee for literature, said readers unfamiliar with Han’s work should begin with “Human Acts,” a 2014 novel reflecting on the 1980 Gwangju Uprising, when more than 100 civilians were killed during pro-democracy demonstrations led by students in the South Korean city.\\'}, {\\'url\\': \\'https://www.nobelprize.org/prizes/literature/2024/prize-announcement/\\', \\'content\\': \\'The Nobel Prize in Literature 2024 - Prize announcement - NobelPrize.org Nobel Prizes & laureates All Nobel Prizes All Nobel Prizes 2024 Literature prize About the prize The Nobel Prize in Literature 2024 Announcement of the Nobel Prize in Literature 2024 to Han Kang by Mats Malm, Permanent Secretary of the Swedish Academy, on 10 October 2024. Following the announcement, Anna-Karin Palm, co-opted member of the Nobel Committee for Literature, was interviewed by the Nobel Prize Museum’s Carin Klaesson about the 2024 Nobel Prize in Literature to Han Kang. Nobel Prize Outreach AB 2024. Nobel Prizes and laureates Nobel Prizes 2024 About the Nobel Prize organisation For more than a century, these academic institutions have worked independently to select Nobel Prize laureates. The Nobel Prize\\'}, {\\'url\\': \\'https://www.pbs.org/newshour/arts/watch-live-the-winner-of-the-2024-nobel-prize-in-literature-is\\', \\'content\\': \\'WATCH: South Korean author Han Kang wins Nobel Prize for literature | PBS News https://www.pbs.org/newshour/arts/watch-live-the-winner-of-the-2024-nobel-prize-in-literature-is WATCH: South Korean author Han Kang wins Nobel Prize for literature STOCKHOLM (AP) — South Korean poet and novelist Han Kang was awarded the Nobel Prize in literature Thursday for a poetic and unsettling body of work that the Nobel committee said “confronts historical traumas and exposes the fragility of human life.” A slow-burning international literary star who has won multiple awards in Korea and Europe, Han is the first Asian woman and the first South Korean writer to win the Nobel literature prize. Han is the second South Korean national to win a Nobel Prize. WATCH: Norwegian writer Jon Fosse awarded 2023 Nobel Prize in literatureBy David Keyton, Mike Corder, Associated Press\\'}, {\\'url\\': \\'https://www.reuters.com/world/han-kang-wins-2024-nobel-literature-prize-2024-10-10/\\', \\'content\\': \\'Item 1 of 7 South Korean author Han Kang, the winner of the 2024 Nobel Prize in Literature, makes a speech in Gwangju, South Korea, in this photo taken in 2023. Yonhap via REUTERS\\'}]'}}}\n",
      "---\n",
      "{'tool': {'results': {'#E1': '[{\\'url\\': \\'https://en.wikipedia.org/wiki/2024_Nobel_Prize_in_Literature\\', \\'content\\': \\'The 2024 Nobel Prize in Literature was awarded to the South Korean author Han Kang (born 1970) \"for her intense poetic prose that confronts historical traumas and exposes the fragility of human life\". It was announced by the Swedish Academy in Stockholm, Sweden, on 10 October 2024 and will be awarded on 10 December 2024. [1]She is the first South Korean and first Asian woman to win the Nobel\\'}, {\\'url\\': \\'https://www.cnn.com/2024/10/10/style/han-kang-nobel-prize-literature-intl/index.html\\', \\'content\\': \\'The 2024 Nobel Prize in literature has been awarded to Han Kang, a South Korean author, for her “intense poetic prose that confronts historical traumas and exposes the fragility of human life.” In a statement posted to Facebook on Thursday, South Korean President Yoon Suk Yeol described Han’s win as “a great achievement in the history of Korean literature” and a “national occasion.” He added: “Han has turned the painful scars of our modern history into great literature.” Anna-Karin Palm, a member of the Nobel Committee for literature, said readers unfamiliar with Han’s work should begin with “Human Acts,” a 2014 novel reflecting on the 1980 Gwangju Uprising, when more than 100 civilians were killed during pro-democracy demonstrations led by students in the South Korean city.\\'}, {\\'url\\': \\'https://www.nobelprize.org/prizes/literature/2024/prize-announcement/\\', \\'content\\': \\'The Nobel Prize in Literature 2024 - Prize announcement - NobelPrize.org Nobel Prizes & laureates All Nobel Prizes All Nobel Prizes 2024 Literature prize About the prize The Nobel Prize in Literature 2024 Announcement of the Nobel Prize in Literature 2024 to Han Kang by Mats Malm, Permanent Secretary of the Swedish Academy, on 10 October 2024. Following the announcement, Anna-Karin Palm, co-opted member of the Nobel Committee for Literature, was interviewed by the Nobel Prize Museum’s Carin Klaesson about the 2024 Nobel Prize in Literature to Han Kang. Nobel Prize Outreach AB 2024. Nobel Prizes and laureates Nobel Prizes 2024 About the Nobel Prize organisation For more than a century, these academic institutions have worked independently to select Nobel Prize laureates. The Nobel Prize\\'}, {\\'url\\': \\'https://www.pbs.org/newshour/arts/watch-live-the-winner-of-the-2024-nobel-prize-in-literature-is\\', \\'content\\': \\'WATCH: South Korean author Han Kang wins Nobel Prize for literature | PBS News https://www.pbs.org/newshour/arts/watch-live-the-winner-of-the-2024-nobel-prize-in-literature-is WATCH: South Korean author Han Kang wins Nobel Prize for literature STOCKHOLM (AP) — South Korean poet and novelist Han Kang was awarded the Nobel Prize in literature Thursday for a poetic and unsettling body of work that the Nobel committee said “confronts historical traumas and exposes the fragility of human life.” A slow-burning international literary star who has won multiple awards in Korea and Europe, Han is the first Asian woman and the first South Korean writer to win the Nobel literature prize. Han is the second South Korean national to win a Nobel Prize. WATCH: Norwegian writer Jon Fosse awarded 2023 Nobel Prize in literatureBy David Keyton, Mike Corder, Associated Press\\'}, {\\'url\\': \\'https://www.reuters.com/world/han-kang-wins-2024-nobel-literature-prize-2024-10-10/\\', \\'content\\': \\'Item 1 of 7 South Korean author Han Kang, the winner of the 2024 Nobel Prize in Literature, makes a speech in Gwangju, South Korea, in this photo taken in 2023. Yonhap via REUTERS\\'}]', '#E2': 'content=\\'한강, 2024년 노벨 문학상 수상\\\\n\\\\n2024년 노벨 문학상은 한국 작가 한강에게 수여되었습니다. 스웨덴 아카데미는 2024년 10월 10일 스톡홀름에서 한강의 \"역사적 트라우마를 직시하고 인간 삶의 취약성을 드러내는 강렬한 시적 산문\"을 이유로 그녀를 수상자로 발표했습니다. 한강은 노벨 문학상을 수상한 최초의 한국인이자 아시아 여성입니다. \\\\n\\\\n한국의 윤석열 대통령은 한강의 수상을 \"한국 문학사에서의 위대한 성취\"이자 \"국가적 경사\"라고 표현하며, \"한강은 우리의 현대사에서의 아픈 상처를 위대한 문학으로 승화시켰다\"고 덧붙였습니다. 노벨 문학상 위원회의 안나-카린 팜은 한강의 작품을 처음 접하는 독자들에게 1980년 광주 민주화 운동을 반영한 2014년 소설 \"소년이 온다\"를 추천했습니다. \\\\n\\\\n한강은 한국과 유럽에서 여러 상을 수상한 국제적인 문학 스타로, 그녀의 작품은 역사적 트라우마를 직시하고 인간 삶의 취약성을 드러내는 것으로 평가받고 있습니다. 한강은 노벨 문학상을 수상한 두 번째 한국인입니다.\\' additional_kwargs={\\'refusal\\': None} response_metadata={\\'token_usage\\': {\\'completion_tokens\\': 315, \\'prompt_tokens\\': 844, \\'total_tokens\\': 1159, \\'completion_tokens_details\\': {\\'audio_tokens\\': 0, \\'reasoning_tokens\\': 0, \\'accepted_prediction_tokens\\': 0, \\'rejected_prediction_tokens\\': 0}, \\'prompt_tokens_details\\': {\\'audio_tokens\\': 0, \\'cached_tokens\\': 0}}, \\'model_name\\': \\'gpt-4o-2024-08-06\\', \\'system_fingerprint\\': \\'fp_159d8341cc\\', \\'finish_reason\\': \\'stop\\', \\'logprobs\\': None} id=\\'run-730bc861-820c-4a62-803b-472f99771eac-0\\' usage_metadata={\\'input_tokens\\': 844, \\'output_tokens\\': 315, \\'total_tokens\\': 1159, \\'input_token_details\\': {\\'audio\\': 0, \\'cache_read\\': 0}, \\'output_token_details\\': {\\'audio\\': 0, \\'reasoning\\': 0}}'}}}\n",
      "---\n",
      "{'solve': {'result': '2024년 노벨 문학상은 한국 작가 한강에게 수여되었습니다. 그녀는 \"역사적 트라우마를 직시하고 인간 삶의 취약성을 드러내는 강렬한 시적 산문\"으로 수상자로 선정되었습니다. 한강은 노벨 문학상을 수상한 최초의 한국인이자 아시아 여성입니다.'}}\n",
      "---\n"
     ]
    }
   ],
   "source": [
    "for s in app.stream({\"task\": task}):\n",
    "    print(s)\n",
    "    print('---')"
   ]
  },
  {
   "cell_type": "code",
   "execution_count": 27,
   "metadata": {},
   "outputs": [
    {
     "name": "stdout",
     "output_type": "stream",
     "text": [
      "2024년 노벨 문학상은 한국 작가 한강에게 수여되었습니다. 그녀는 \"역사적 트라우마를 직시하고 인간 삶의 취약성을 드러내는 강렬한 시적 산문\"으로 수상자로 선정되었습니다. 한강은 노벨 문학상을 수상한 최초의 한국인이자 아시아 여성입니다.\n"
     ]
    }
   ],
   "source": [
    "print(s[\"solve\"][\"result\"])"
   ]
  }
 ],
 "metadata": {
  "kernelspec": {
   "display_name": "langchain-rag-UhYHSyIM-py3.11",
   "language": "python",
   "name": "python3"
  },
  "language_info": {
   "codemirror_mode": {
    "name": "ipython",
    "version": 3
   },
   "file_extension": ".py",
   "mimetype": "text/x-python",
   "name": "python",
   "nbconvert_exporter": "python",
   "pygments_lexer": "ipython3",
   "version": "3.11.0"
  }
 },
 "nbformat": 4,
 "nbformat_minor": 2
}
