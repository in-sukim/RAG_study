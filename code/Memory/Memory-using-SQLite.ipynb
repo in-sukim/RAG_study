{
 "cells": [
  {
   "cell_type": "markdown",
   "metadata": {},
   "source": [
    "### SQL(SQLAlchemy)\n",
    "\n",
    "**SQLAlchemy** Python 프로그래밍 언어용 오픈소스 SQL 툴킷이자 객체 관계 매퍼(ORM).<Br>\n",
    "대화내용을 어플리케이션이 종료되어도 저장해야 하는 경우 유용."
   ]
  },
  {
   "cell_type": "code",
   "execution_count": 1,
   "metadata": {},
   "outputs": [
    {
     "name": "stdout",
     "output_type": "stream",
     "text": [
      "LangSmith 추적을 시작합니다.\n",
      "[프로젝트명]\n",
      "SQLAlchemy\n"
     ]
    }
   ],
   "source": [
    "from dotenv import load_dotenv\n",
    "\n",
    "load_dotenv()\n",
    "\n",
    "from langchain_teddynote import logging\n",
    "\n",
    "logging.langsmith(\"SQLAlchemy\")"
   ]
  },
  {
   "cell_type": "markdown",
   "metadata": {},
   "source": [
    "### 사용방법\n",
    "\n",
    "storage를 사용하려면 다음 2가지 필요:\n",
    "\n",
    "1. Session Id - 사용자 이름, 이메일, 채팅 ID 등과 같은 세션의 고유 식별자.\n",
    "\n",
    "2. Connection string - 데이터베이스 연결을 지정하는 문자열. 이 문자열은 SQLAlchemy의 create_engine 함수에 전달.\n",
    "\n",
    "- SQLChatMessageHistory 클래스를 사용하여 대화 메시지 기록을 관리.\n",
    "- session_id와 connection_string을 인자로 전달하여 SQLChatMessageHistory 인스턴스를 생성.\n",
    "- add_user_message 메서드를 사용하여 사용자 메시지를 대화 기록에 추가.\n",
    "- add_ai_message 메서드를 사용하여 AI 메시지를 대화 기록에 추가."
   ]
  },
  {
   "cell_type": "code",
   "execution_count": 5,
   "metadata": {},
   "outputs": [],
   "source": [
    "from langchain_community.chat_message_histories import SQLChatMessageHistory\n",
    "\n",
    "# SQLChatMessageHistory 객체를 생성하고 세션 ID와 데이터베이스 연결 문자열 전달\n",
    "# 유저별로 세션 아이디를 다르게 줄 수 있다.\n",
    "chat_message_history = SQLChatMessageHistory(\n",
    "    session_id = 'sql_history', connection = 'sqlite:///sqlite.db'\n",
    ")"
   ]
  },
  {
   "cell_type": "code",
   "execution_count": 6,
   "metadata": {},
   "outputs": [],
   "source": [
    "# 사용자 메시지 추가\n",
    "chat_message_history.add_user_message(\n",
    "    \"안녕? 만나서 반가워. 내이름은 테디야. 나는 랭체인 개발자야. 앞으로 잘 부탁해!\"\n",
    ")\n",
    "\n",
    "# AI 메세지 추가\n",
    "chat_message_history.add_ai_message(\"안녕 테디, 만나서 반가워, 나도 잘 부탁해!\")"
   ]
  },
  {
   "cell_type": "code",
   "execution_count": 7,
   "metadata": {},
   "outputs": [
    {
     "data": {
      "text/plain": [
       "[HumanMessage(content='안녕? 만나서 반가워. 내이름은 테디야. 나는 랭체인 개발자야. 앞으로 잘 부탁해!'),\n",
       " AIMessage(content='안녕 테디, 만나서 반가워, 나도 잘 부탁해!')]"
      ]
     },
     "execution_count": 7,
     "metadata": {},
     "output_type": "execute_result"
    }
   ],
   "source": [
    "# 채팅 메시지 기록의 메세지들\n",
    "chat_message_history.messages"
   ]
  },
  {
   "cell_type": "code",
   "execution_count": 10,
   "metadata": {},
   "outputs": [],
   "source": [
    "from langchain_core.prompts import (\n",
    "    ChatPromptTemplate,\n",
    "    MessagesPlaceholder,\n",
    ")\n",
    "from langchain_core.runnables.history import RunnableWithMessageHistory\n",
    "from langchain_openai import ChatOpenAI\n",
    "from langchain_core.output_parsers import StrOutputParser"
   ]
  },
  {
   "cell_type": "code",
   "execution_count": 11,
   "metadata": {},
   "outputs": [],
   "source": [
    "prompt = ChatPromptTemplate.from_messages(\n",
    "    [\n",
    "        # 시스템 메세지 설정하여 어시스턴스 역할 정의\n",
    "        (\"system\", \"You are a helpful assistant.\"),\n",
    "        # 이전 대화 내용을 포함하기 위해 Placeholder 추가.\n",
    "        MessagesPlaceholder(variable_name=\"chat_history\"),\n",
    "        (\"human\", \"{question}\"), # 사용자의 질문을 입력받는 메시지 설정\n",
    "    ]\n",
    ")\n",
    "\n",
    "chain = prompt | ChatOpenAI(model_name = 'gpt-4o-mini', temperature=0) | StrOutputParser()"
   ]
  },
  {
   "cell_type": "code",
   "execution_count": 12,
   "metadata": {},
   "outputs": [],
   "source": [
    "# sqlite.db에서 대화내용 가져오는 함수\n",
    "def get_chat_history(user_id, conversation_id):\n",
    "    return SQLChatMessageHistory(\n",
    "        table_name = user_id,\n",
    "        session_id = conversation_id,\n",
    "        connection='sqlite:///sqlite.db'\n",
    "    )"
   ]
  },
  {
   "cell_type": "markdown",
   "metadata": {},
   "source": [
    "config_fields 설정. 대화정보를 조회할 때 참고 정보로 활용.\n",
    "- user_id: 사용자 ID\n",
    "- conversation_id: 대화 ID"
   ]
  },
  {
   "cell_type": "code",
   "execution_count": 14,
   "metadata": {},
   "outputs": [],
   "source": [
    "from langchain_core.runnables.utils import ConfigurableFieldSpec\n",
    "\n",
    "config_fields = [\n",
    "    ConfigurableFieldSpec(\n",
    "        id = \"user_id\",\n",
    "        annotation= str,\n",
    "        name = \"User ID\",\n",
    "        description=\"Unique identifier for a user.\",\n",
    "        default = \"\",\n",
    "        is_shared=True,\n",
    "    ),\n",
    "    ConfigurableFieldSpec(\n",
    "        id = \"conversation_id\",\n",
    "        annotation= str,\n",
    "        name = \"Conversation ID\",\n",
    "        description=\"Unique identifier for a conversation.\",\n",
    "        default = \"\",\n",
    "        is_shared=True,\n",
    "    )\n",
    "]"
   ]
  },
  {
   "cell_type": "code",
   "execution_count": 22,
   "metadata": {},
   "outputs": [],
   "source": [
    "chain_with_history = RunnableWithMessageHistory(\n",
    "    chain,\n",
    "    get_chat_history,\n",
    "    input_messages_key = \"question\",\n",
    "    history_messages_key= \"chat_history\",\n",
    "    history_factory_config=config_fields,\n",
    ")"
   ]
  },
  {
   "cell_type": "code",
   "execution_count": 23,
   "metadata": {},
   "outputs": [],
   "source": [
    "# \"configurable\" 키 아래에 \"user_id\", \"conversation_id\" key-value 쌍으로 설정.\n",
    "config = {\"configurable\": {\"user_id\": \"user1\", \"conversation_id\" : \"conversation1\"}}"
   ]
  },
  {
   "cell_type": "markdown",
   "metadata": {},
   "source": [
    "질문에 이름을 물어보는 질문. 이전에 대화정보가 있다면 올바르게 답 출력\n",
    "- chain_with_history 객체는 invoke 메서드를 호출하여 질문에 대한 답변 생성.\n",
    "- invoke 메서드에는 질문 딕셔너리와 config 설정이 전달."
   ]
  },
  {
   "cell_type": "code",
   "execution_count": 24,
   "metadata": {},
   "outputs": [],
   "source": [
    "response = chain_with_history.invoke({\"question\": \"안녕 반가워, 내 이름은 테디야\"}, config)"
   ]
  },
  {
   "cell_type": "code",
   "execution_count": 25,
   "metadata": {},
   "outputs": [
    {
     "name": "stdout",
     "output_type": "stream",
     "text": [
      "안녕하세요, 테디! 반가워요. 어떻게 도와드릴까요?\n"
     ]
    }
   ],
   "source": [
    "print(response)"
   ]
  },
  {
   "cell_type": "code",
   "execution_count": 26,
   "metadata": {},
   "outputs": [],
   "source": [
    "response_name = chain_with_history.invoke({\"question\": \"내 이름이 뭐라고?\"}, config)"
   ]
  },
  {
   "cell_type": "code",
   "execution_count": 27,
   "metadata": {},
   "outputs": [
    {
     "name": "stdout",
     "output_type": "stream",
     "text": [
      "당신의 이름은 테디입니다! 맞나요?\n"
     ]
    }
   ],
   "source": [
    "print(response_name)"
   ]
  },
  {
   "cell_type": "markdown",
   "metadata": {},
   "source": [
    "SQLite에 저장된 user2의 대화내용에서 이름에 관한 정보가 없기 때문에 답변하지 못하는 모습."
   ]
  },
  {
   "cell_type": "code",
   "execution_count": 28,
   "metadata": {},
   "outputs": [
    {
     "name": "stdout",
     "output_type": "stream",
     "text": [
      "죄송하지만, 당신의 이름을 알 수 없습니다. 당신의 이름을 알려주시면 좋겠습니다!\n"
     ]
    }
   ],
   "source": [
    "config = {\"configurable\": {\"user_id\": \"user2\", \"conversation_id\" : \"conversation1\"}}\n",
    "response_user2 = chain_with_history.invoke({\"question\": \"내 이름이 뭐라고?\"}, config)\n",
    "print(response_user2)"
   ]
  }
 ],
 "metadata": {
  "kernelspec": {
   "display_name": "langchain-rag-UhYHSyIM-py3.11",
   "language": "python",
   "name": "python3"
  },
  "language_info": {
   "codemirror_mode": {
    "name": "ipython",
    "version": 3
   },
   "file_extension": ".py",
   "mimetype": "text/x-python",
   "name": "python",
   "nbconvert_exporter": "python",
   "pygments_lexer": "ipython3",
   "version": "3.11.0"
  }
 },
 "nbformat": 4,
 "nbformat_minor": 2
}
