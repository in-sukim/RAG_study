{
 "cells": [
  {
   "cell_type": "markdown",
   "metadata": {},
   "source": [
    "### ConversationSummaryMemory\n",
    "\n",
    "시간 경과에 따른 **대화의 요약** 생성. 시간 경과에 따른 메모리를 압축하는데 도움.<br>\n",
    "대화가 진행되는 동안 대화를 요약하고 현재 메모리에 저장.<br>\n",
    "과거 대화를 모두 메모리에 저장하면 토큰을 너무 많이 차지 하는 문제 발생. 이를 해결하는데 유용"
   ]
  },
  {
   "cell_type": "code",
   "execution_count": 1,
   "metadata": {},
   "outputs": [
    {
     "name": "stdout",
     "output_type": "stream",
     "text": [
      "LangSmith 추적을 시작합니다.\n",
      "[프로젝트명]\n",
      "ConversationSummaryMemory\n"
     ]
    }
   ],
   "source": [
    "from dotenv import load_dotenv\n",
    "\n",
    "load_dotenv()\n",
    "\n",
    "from langchain_teddynote import logging\n",
    "\n",
    "logging.langsmith(\"ConversationSummaryMemory\")"
   ]
  },
  {
   "cell_type": "code",
   "execution_count": 2,
   "metadata": {},
   "outputs": [],
   "source": [
    "from langchain.memory import ConversationSummaryMemory\n",
    "from langchain_openai import ChatOpenAI\n",
    "\n",
    "\n",
    "llm = ChatOpenAI(\n",
    "    model_name = 'gpt-4o-mini',\n",
    "    temperature= 0\n",
    ")\n",
    "memory = ConversationSummaryMemory(llm = llm, return_messages= True)"
   ]
  },
  {
   "cell_type": "code",
   "execution_count": 3,
   "metadata": {},
   "outputs": [],
   "source": [
    "memory.save_context(\n",
    "    inputs={\"human\": \"유럽 여행 패키지의 가격은 얼마인가요?\"},\n",
    "    outputs={\n",
    "        \"ai\": \"유럽 14박 15일 패키지의 기본 가격은 3,500유로입니다. 이 가격에는 항공료, 호텔 숙박비, 지정된 관광지 입장료가 포함되어 있습니다. 추가 비용은 선택하신 옵션 투어나 개인 경비에 따라 달라집니다.\"\n",
    "    },\n",
    ")\n",
    "memory.save_context(\n",
    "    inputs={\"human\": \"여행 중에 방문할 주요 관광지는 어디인가요?\"},\n",
    "    outputs={\n",
    "        \"ai\": \"이 여행에서는 파리의 에펠탑, 로마의 콜로세움, 베를린의 브란덴부르크 문, 취리히의 라이네폴 등 유럽의 유명한 관광지들을 방문합니다. 각 도시의 대표적인 명소들을 포괄적으로 경험하실 수 있습니다.\"\n",
    "    },\n",
    ")\n",
    "memory.save_context(\n",
    "    inputs={\"human\": \"여행자 보험은 포함되어 있나요?\"},\n",
    "    outputs={\n",
    "        \"ai\": \"네, 모든 여행자에게 기본 여행자 보험을 제공합니다. 이 보험은 의료비 지원, 긴급 상황 발생 시 지원 등을 포함합니다. 추가적인 보험 보장을 원하시면 상향 조정이 가능합니다.\"\n",
    "    },\n",
    ")\n",
    "memory.save_context(\n",
    "    inputs={\n",
    "        \"human\": \"항공편 좌석을 비즈니스 클래스로 업그레이드할 수 있나요? 비용은 어떻게 되나요?\"\n",
    "    },\n",
    "    outputs={\n",
    "        \"ai\": \"항공편 좌석을 비즈니스 클래스로 업그레이드하는 것이 가능합니다. 업그레이드 비용은 왕복 기준으로 약 1,200유로 추가됩니다. 비즈니스 클래스에서는 더 넓은 좌석, 우수한 기내식, 그리고 추가 수하물 허용량 등의 혜택을 제공합니다.\"\n",
    "    },\n",
    ")\n",
    "memory.save_context(\n",
    "    inputs={\"human\": \"패키지에 포함된 호텔의 등급은 어떻게 되나요?\"},\n",
    "    outputs={\n",
    "        \"ai\": \"이 패키지에는 4성급 호텔 숙박이 포함되어 있습니다. 각 호텔은 편안함과 편의성을 제공하며, 중심지에 위치해 관광지와의 접근성이 좋습니다. 모든 호텔은 우수한 서비스와 편의 시설을 갖추고 있습니다.\"\n",
    "    },\n",
    ")\n",
    "memory.save_context(\n",
    "    inputs={\"human\": \"식사 옵션에 대해 더 자세히 알려주실 수 있나요?\"},\n",
    "    outputs={\n",
    "        \"ai\": \"이 여행 패키지는 매일 아침 호텔에서 제공되는 조식을 포함하고 있습니다. 점심과 저녁 식사는 포함되어 있지 않아, 여행자가 자유롭게 현지의 다양한 음식을 경험할 수 있는 기회를 제공합니다. 또한, 각 도시별로 추천 식당 리스트를 제공하여 현지의 맛을 최대한 즐길 수 있도록 도와드립니다.\"\n",
    "    },\n",
    ")\n",
    "memory.save_context(\n",
    "    inputs={\"human\": \"패키지 예약 시 예약금은 얼마인가요? 취소 정책은 어떻게 되나요?\"},\n",
    "    outputs={\n",
    "        \"ai\": \"패키지 예약 시 500유로의 예약금이 필요합니다. 취소 정책은 예약일로부터 30일 전까지는 전액 환불이 가능하며, 이후 취소 시에는 예약금이 환불되지 않습니다. 여행 시작일로부터 14일 전 취소 시 50%의 비용이 청구되며, 그 이후는 전액 비용이 청구됩니다.\"\n",
    "    },\n",
    ")"
   ]
  },
  {
   "cell_type": "code",
   "execution_count": 4,
   "metadata": {},
   "outputs": [
    {
     "name": "stdout",
     "output_type": "stream",
     "text": [
      "[SystemMessage(content='The human asks about the price of a European travel package. The AI responds that the basic price for a 14-night, 15-day package is 3,500 euros, which includes airfare, hotel accommodations, and entrance fees to designated tourist sites, with additional costs depending on selected optional tours or personal expenses. The human then inquires about the main tourist attractions included in the trip, and the AI lists famous sites such as the Eiffel Tower in Paris, the Colosseum in Rome, the Brandenburg Gate in Berlin, and the Rhine Falls in Zurich, highlighting that travelers will experience the iconic landmarks of each city. The human further asks if traveler insurance is included, and the AI confirms that basic traveler insurance is provided, covering medical expenses and emergency support, with options for additional coverage available. The human then asks if it is possible to upgrade to business class for the flights and inquires about the cost. The AI confirms that upgrading to business class is possible for an additional fee of approximately 1,200 euros round trip, offering benefits such as wider seats, superior in-flight meals, and increased baggage allowance. The human then asks about the hotel ratings included in the package, and the AI explains that the package includes accommodations in 4-star hotels, which provide comfort and convenience, are centrally located for easy access to tourist sites, and offer excellent service and amenities. Finally, the human asks for more details about meal options, and the AI explains that the package includes daily breakfast at the hotel, while lunch and dinner are not included, allowing travelers to explore local cuisine, and that a list of recommended restaurants in each city will be provided to enhance their culinary experience. The human then inquires about the deposit required for booking the package and the cancellation policy. The AI states that a deposit of 500 euros is needed for booking, and the cancellation policy allows for a full refund if canceled 30 days before the reservation date; otherwise, the deposit is non-refundable, with a 50% charge if canceled 14 days before the trip, and full charges apply for cancellations after that.')]\n"
     ]
    }
   ],
   "source": [
    "print(memory.load_memory_variables({})['history'])"
   ]
  },
  {
   "cell_type": "markdown",
   "metadata": {},
   "source": [
    "### ConversationSummaryBefferMemory\n",
    "\n",
    "최근 대화내용의 버퍼 메모리는 유지하되, 이전 대화내용을 완전히 flush 하지 않고 요약으로 컴파일하여 메모리에 저장.<br>\n",
    "flush 하는 기준은 대화의 갯수가 아닌 토큰을 기준으로 설정."
   ]
  },
  {
   "cell_type": "code",
   "execution_count": 14,
   "metadata": {},
   "outputs": [],
   "source": [
    "from langchain.memory import ConversationSummaryBufferMemory\n",
    "\n",
    "memory = ConversationSummaryBufferMemory(\n",
    "    llm = llm, \n",
    "    max_token_limit = 200,\n",
    "    return_messages= True)"
   ]
  },
  {
   "cell_type": "code",
   "execution_count": 15,
   "metadata": {},
   "outputs": [],
   "source": [
    "memory.save_context(\n",
    "    inputs={\"human\": \"유럽 여행 패키지의 가격은 얼마인가요?\"},\n",
    "    outputs={\n",
    "        \"ai\": \"유럽 14박 15일 패키지의 기본 가격은 3,500유로입니다. 이 가격에는 항공료, 호텔 숙박비, 지정된 관광지 입장료가 포함되어 있습니다. 추가 비용은 선택하신 옵션 투어나 개인 경비에 따라 달라집니다.\"\n",
    "    },\n",
    ")"
   ]
  },
  {
   "cell_type": "code",
   "execution_count": 16,
   "metadata": {},
   "outputs": [
    {
     "name": "stdout",
     "output_type": "stream",
     "text": [
      "[HumanMessage(content='유럽 여행 패키지의 가격은 얼마인가요?'), AIMessage(content='유럽 14박 15일 패키지의 기본 가격은 3,500유로입니다. 이 가격에는 항공료, 호텔 숙박비, 지정된 관광지 입장료가 포함되어 있습니다. 추가 비용은 선택하신 옵션 투어나 개인 경비에 따라 달라집니다.')]\n"
     ]
    }
   ],
   "source": [
    "print(memory.load_memory_variables({})['history'])"
   ]
  },
  {
   "cell_type": "markdown",
   "metadata": {},
   "source": [
    "200 토큰이 넘는 대화내용 메모리에 저장"
   ]
  },
  {
   "cell_type": "code",
   "execution_count": 17,
   "metadata": {},
   "outputs": [],
   "source": [
    "memory.save_context(\n",
    "    inputs={\"human\": \"여행 중에 방문할 주요 관광지는 어디인가요?\"},\n",
    "    outputs={\n",
    "        \"ai\": \"이 여행에서는 파리의 에펠탑, 로마의 콜로세움, 베를린의 브란덴부르크 문, 취리히의 라이네폴 등 유럽의 유명한 관광지들을 방문합니다. 각 도시의 대표적인 명소들을 포괄적으로 경험하실 수 있습니다.\"\n",
    "    },\n",
    ")\n",
    "memory.save_context(\n",
    "    inputs={\"human\": \"여행자 보험은 포함되어 있나요?\"},\n",
    "    outputs={\n",
    "        \"ai\": \"네, 모든 여행자에게 기본 여행자 보험을 제공합니다. 이 보험은 의료비 지원, 긴급 상황 발생 시 지원 등을 포함합니다. 추가적인 보험 보장을 원하시면 상향 조정이 가능합니다.\"\n",
    "    },\n",
    ")\n",
    "memory.save_context(\n",
    "    inputs={\n",
    "        \"human\": \"항공편 좌석을 비즈니스 클래스로 업그레이드할 수 있나요? 비용은 어떻게 되나요?\"\n",
    "    },\n",
    "    outputs={\n",
    "        \"ai\": \"항공편 좌석을 비즈니스 클래스로 업그레이드하는 것이 가능합니다. 업그레이드 비용은 왕복 기준으로 약 1,200유로 추가됩니다. 비즈니스 클래스에서는 더 넓은 좌석, 우수한 기내식, 그리고 추가 수하물 허용량 등의 혜택을 제공합니다.\"\n",
    "    },\n",
    ")\n",
    "memory.save_context(\n",
    "    inputs={\"human\": \"패키지에 포함된 호텔의 등급은 어떻게 되나요?\"},\n",
    "    outputs={\n",
    "        \"ai\": \"이 패키지에는 4성급 호텔 숙박이 포함되어 있습니다. 각 호텔은 편안함과 편의성을 제공하며, 중심지에 위치해 관광지와의 접근성이 좋습니다. 모든 호텔은 우수한 서비스와 편의 시설을 갖추고 있습니다.\"\n",
    "    },\n",
    ")"
   ]
  },
  {
   "cell_type": "markdown",
   "metadata": {},
   "source": [
    "200토큰 제한이 넘자 이전의 대화내용을 요약하여 메모리에 저장."
   ]
  },
  {
   "cell_type": "code",
   "execution_count": 18,
   "metadata": {},
   "outputs": [
    {
     "name": "stdout",
     "output_type": "stream",
     "text": [
      "[SystemMessage(content='The human asks about the price of a European travel package. The AI responds that the basic price for a 14-night, 15-day package is 3,500 euros, which includes airfare, hotel accommodations, and entrance fees to designated tourist sites, with additional costs depending on selected optional tours or personal expenses. The human then inquires about the main tourist attractions included in the trip, and the AI lists famous sites such as the Eiffel Tower in Paris, the Colosseum in Rome, the Brandenburg Gate in Berlin, and the Rhine Falls in Zurich, highlighting that travelers will experience the iconic landmarks of each city. The human further asks if traveler insurance is included, and the AI confirms that basic traveler insurance is provided, covering medical expenses and emergency support, with options for additional coverage available.'), HumanMessage(content='항공편 좌석을 비즈니스 클래스로 업그레이드할 수 있나요? 비용은 어떻게 되나요?'), AIMessage(content='항공편 좌석을 비즈니스 클래스로 업그레이드하는 것이 가능합니다. 업그레이드 비용은 왕복 기준으로 약 1,200유로 추가됩니다. 비즈니스 클래스에서는 더 넓은 좌석, 우수한 기내식, 그리고 추가 수하물 허용량 등의 혜택을 제공합니다.'), HumanMessage(content='패키지에 포함된 호텔의 등급은 어떻게 되나요?'), AIMessage(content='이 패키지에는 4성급 호텔 숙박이 포함되어 있습니다. 각 호텔은 편안함과 편의성을 제공하며, 중심지에 위치해 관광지와의 접근성이 좋습니다. 모든 호텔은 우수한 서비스와 편의 시설을 갖추고 있습니다.')]\n"
     ]
    }
   ],
   "source": [
    "print(memory.load_memory_variables({})['history']) "
   ]
  },
  {
   "cell_type": "code",
   "execution_count": null,
   "metadata": {},
   "outputs": [],
   "source": []
  }
 ],
 "metadata": {
  "kernelspec": {
   "display_name": "langchain-rag-UhYHSyIM-py3.11",
   "language": "python",
   "name": "python3"
  },
  "language_info": {
   "codemirror_mode": {
    "name": "ipython",
    "version": 3
   },
   "file_extension": ".py",
   "mimetype": "text/x-python",
   "name": "python",
   "nbconvert_exporter": "python",
   "pygments_lexer": "ipython3",
   "version": "3.11.0"
  }
 },
 "nbformat": 4,
 "nbformat_minor": 2
}
