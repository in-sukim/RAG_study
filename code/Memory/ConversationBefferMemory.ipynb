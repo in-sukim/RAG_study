{
 "cells": [
  {
   "cell_type": "markdown",
   "metadata": {},
   "source": [
    "### ConversationBefferMemory\n",
    "\n",
    "메시지를 저장한 다음 변수에 메시지를 추출할 수 있게 해주는 역할"
   ]
  },
  {
   "cell_type": "code",
   "execution_count": 2,
   "metadata": {},
   "outputs": [
    {
     "name": "stdout",
     "output_type": "stream",
     "text": [
      "LangSmith 추적을 시작합니다.\n",
      "[프로젝트명]\n",
      "ConversationBefferMemory\n"
     ]
    }
   ],
   "source": [
    "from dotenv import load_dotenv\n",
    "\n",
    "load_dotenv()\n",
    "\n",
    "from langchain_teddynote import logging\n",
    "\n",
    "logging.langsmith('ConversationBefferMemory')"
   ]
  },
  {
   "cell_type": "markdown",
   "metadata": {},
   "source": [
    "**save_context(inputs,outputs)** 메서드를 사용하여 대화 기록을 저장 가능\n",
    "- inputs, outputs 두개의 인자\n",
    "- inputs: 사용자의 입력, outputs: LLM 출력\n",
    "- 대화기록이 history 키에 저장\n",
    "- load_memory_variables 메서드를 사용하여 저장된 대화기록 확인 가능."
   ]
  },
  {
   "cell_type": "code",
   "execution_count": 5,
   "metadata": {},
   "outputs": [],
   "source": [
    "from langchain.memory import ConversationBufferMemory\n",
    "\n",
    "memory = ConversationBufferMemory()\n",
    "\n",
    "memory.save_context(\n",
    "    inputs = {\n",
    "        \"human\": \"안녕하세요, 비대면으로 은행 계좌를 개설하고 싶습니다. 어떻게 시작해야 하나요?\",\n",
    "    },\n",
    "    outputs = {\n",
    "        \"ai\":\"안녕하세요! 계좌 개설을 원하신다니 기쁩니다. 먼저 본인 인증을 위해 신분증을 준비해 주시겠어요?\"\n",
    "    },\n",
    ")"
   ]
  },
  {
   "cell_type": "code",
   "execution_count": 6,
   "metadata": {},
   "outputs": [
    {
     "data": {
      "text/plain": [
       "ConversationBufferMemory(chat_memory=InMemoryChatMessageHistory(messages=[HumanMessage(content='안녕하세요, 비대면으로 은행 계좌를 개설하고 싶습니다. 어떻게 시작해야 하나요?'), AIMessage(content='안녕하세요! 계좌 개설을 원하신다니 기쁩니다. 먼저 본인 인증을 위해 신분증을 준비해 주시겠어요?')]))"
      ]
     },
     "execution_count": 6,
     "metadata": {},
     "output_type": "execute_result"
    }
   ],
   "source": [
    "memory"
   ]
  },
  {
   "cell_type": "markdown",
   "metadata": {},
   "source": [
    "memory의 **load_memory_variables({})** 함수는 메시지 히스토리를 반환."
   ]
  },
  {
   "cell_type": "code",
   "execution_count": 7,
   "metadata": {},
   "outputs": [
    {
     "data": {
      "text/plain": [
       "{'history': 'Human: 안녕하세요, 비대면으로 은행 계좌를 개설하고 싶습니다. 어떻게 시작해야 하나요?\\nAI: 안녕하세요! 계좌 개설을 원하신다니 기쁩니다. 먼저 본인 인증을 위해 신분증을 준비해 주시겠어요?'}"
      ]
     },
     "execution_count": 7,
     "metadata": {},
     "output_type": "execute_result"
    }
   ],
   "source": [
    "memory.load_memory_variables({})"
   ]
  },
  {
   "cell_type": "code",
   "execution_count": 9,
   "metadata": {},
   "outputs": [],
   "source": [
    "memory = ConversationBufferMemory(return_messages=True)\n",
    "\n",
    "memory.save_context(\n",
    "    inputs={\n",
    "        \"human\": \"안녕하세요, 비대면으로 은행 계좌를 개설하고 싶습니다. 어떻게 시작해야 하나요?\"\n",
    "    },\n",
    "    outputs={\n",
    "        \"ai\": \"안녕하세요! 계좌 개설을 원하신다니 기쁩니다. 먼저, 본인 인증을 위해 신분증을 준비해 주시겠어요?\"\n",
    "    },\n",
    ")\n",
    "\n",
    "memory.save_context(\n",
    "    inputs={\"human\": \"네, 신분증을 준비했습니다. 이제 무엇을 해야 하나요?\"},\n",
    "    outputs={\n",
    "        \"ai\": \"감사합니다. 신분증 앞뒤를 명확하게 촬영하여 업로드해 주세요. 이후 본인 인증 절차를 진행하겠습니다.\"\n",
    "    },\n",
    ")\n",
    "\n",
    "memory.save_context(\n",
    "    inputs={\"human\": \"사진을 업로드했습니다. 본인 인증은 어떻게 진행되나요?\"},\n",
    "    outputs={\n",
    "        \"ai\": \"업로드해 주신 사진을 확인했습니다. 이제 휴대폰을 통한 본인 인증을 진행해 주세요. 문자로 발송된 인증번호를 입력해 주시면 됩니다.\"\n",
    "    },\n",
    ")"
   ]
  },
  {
   "cell_type": "code",
   "execution_count": 10,
   "metadata": {},
   "outputs": [
    {
     "data": {
      "text/plain": [
       "ConversationBufferMemory(chat_memory=InMemoryChatMessageHistory(messages=[HumanMessage(content='안녕하세요, 비대면으로 은행 계좌를 개설하고 싶습니다. 어떻게 시작해야 하나요?'), AIMessage(content='안녕하세요! 계좌 개설을 원하신다니 기쁩니다. 먼저, 본인 인증을 위해 신분증을 준비해 주시겠어요?'), HumanMessage(content='네, 신분증을 준비했습니다. 이제 무엇을 해야 하나요?'), AIMessage(content='감사합니다. 신분증 앞뒤를 명확하게 촬영하여 업로드해 주세요. 이후 본인 인증 절차를 진행하겠습니다.'), HumanMessage(content='사진을 업로드했습니다. 본인 인증은 어떻게 진행되나요?'), AIMessage(content='업로드해 주신 사진을 확인했습니다. 이제 휴대폰을 통한 본인 인증을 진행해 주세요. 문자로 발송된 인증번호를 입력해 주시면 됩니다.')]), return_messages=True)"
      ]
     },
     "execution_count": 10,
     "metadata": {},
     "output_type": "execute_result"
    }
   ],
   "source": [
    "memory"
   ]
  },
  {
   "cell_type": "code",
   "execution_count": 13,
   "metadata": {},
   "outputs": [],
   "source": [
    "from langchain_openai import ChatOpenAI\n",
    "from langchain.chains import ConversationChain\n",
    "\n",
    "# LLM 모델을 생성.\n",
    "llm = ChatOpenAI(\n",
    "    model_name = 'gpt-4o-mini',\n",
    "    temperature=0\n",
    "    )\n",
    "\n",
    "# ConversationChain을 생성.\n",
    "conversation = ConversationChain(\n",
    "    # ConversationBufferMemory를 사용.\n",
    "    llm=llm,\n",
    "    memory=ConversationBufferMemory(),\n",
    ")"
   ]
  },
  {
   "cell_type": "code",
   "execution_count": 14,
   "metadata": {},
   "outputs": [
    {
     "name": "stdout",
     "output_type": "stream",
     "text": [
      "안녕하세요! 비대면으로 은행 계좌를 개설하는 것은 요즘 매우 편리한 방법입니다. 일반적으로 다음과 같은 단계로 진행할 수 있습니다:\n",
      "\n",
      "1. **은행 선택**: 먼저, 어떤 은행에서 계좌를 개설할지 결정해야 합니다. 각 은행마다 제공하는 서비스와 수수료가 다르니, 비교해보는 것이 좋습니다.\n",
      "\n",
      "2. **온라인 신청**: 선택한 은행의 웹사이트나 모바일 앱에 접속하여 계좌 개설 신청서를 작성합니다. 이때, 개인 정보와 연락처, 필요한 서류를 입력해야 합니다.\n",
      "\n",
      "3. **신원 확인**: 비대면 계좌 개설을 위해 신원 확인 절차가 필요합니다. 보통 신분증(주민등록증, 운전면허증 등)과 같은 신분증명서를 사진으로 제출해야 합니다.\n",
      "\n",
      "4. **계좌 유형 선택**: 원하는 계좌 유형(예: 일반 예금, 적금, 체크카드 등)을 선택합니다. 각 계좌의 조건과 혜택을 잘 살펴보세요.\n",
      "\n",
      "5. **약관 동의**: 계좌 개설에 필요한 약관을 읽고 동의해야 합니다. 이때, 수수료나 서비스 이용 조건 등을 잘 확인하는 것이 중요합니다.\n",
      "\n",
      "6. **계좌 개설 완료**: 모든 절차가 완료되면, 은행에서 계좌 개설 완료 통지를 받을 것입니다. 이후에는 인터넷 뱅킹이나 모바일 뱅킹을 통해 계좌를 관리할 수 있습니다.\n",
      "\n",
      "각 은행마다 세부 절차가 조금씩 다를 수 있으니, 선택한 은행의 공식 웹사이트에서 구체적인 정보를 확인하는 것이 좋습니다. 추가로 궁금한 점이 있으면 언제든지 물어보세요!\n"
     ]
    }
   ],
   "source": [
    "# 대화를 시작.\n",
    "response = conversation.predict(\n",
    "    input=\"안녕하세요, 비대면으로 은행 계좌를 개설하고 싶습니다. 어떻게 시작해야 하나요?\"\n",
    ")\n",
    "print(response)"
   ]
  },
  {
   "cell_type": "code",
   "execution_count": 15,
   "metadata": {},
   "outputs": [
    {
     "name": "stdout",
     "output_type": "stream",
     "text": [
      "물론입니다! 비대면으로 은행 계좌를 개설하는 단계는 다음과 같습니다:\n",
      "\n",
      "- **은행 선택**: 계좌를 개설할 은행 결정\n",
      "- **온라인 신청**: 은행 웹사이트나 앱에서 신청서 작성\n",
      "- **신원 확인**: 신분증 사진 제출\n",
      "- **계좌 유형 선택**: 원하는 계좌 유형 선택 (예: 일반 예금, 적금 등)\n",
      "- **약관 동의**: 계좌 개설 약관 읽고 동의\n",
      "- **계좌 개설 완료**: 계좌 개설 완료 통지 수신 후 인터넷/모바일 뱅킹 이용\n",
      "\n",
      "각 은행마다 세부 절차가 다를 수 있으니, 공식 웹사이트에서 확인하는 것이 좋습니다. 추가 질문이 있으면 언제든지 말씀해 주세요!\n"
     ]
    }
   ],
   "source": [
    "# 이전 대화내용을 불렛포인트로 정리해 달라는 요청.\n",
    "response = conversation.predict(\n",
    "    input=\"이전 답변을 불렛포인트 형식으로 정리하여 알려주세요.\"\n",
    ")\n",
    "print(response)"
   ]
  },
  {
   "cell_type": "markdown",
   "metadata": {},
   "source": [
    "memory에 너무 많은 chat history를 저장할 경우 LLM의 입력토큰을 넘어갈 수 있어 관리가 필요."
   ]
  }
 ],
 "metadata": {
  "kernelspec": {
   "display_name": "langchain-rag-UhYHSyIM-py3.11",
   "language": "python",
   "name": "python3"
  },
  "language_info": {
   "codemirror_mode": {
    "name": "ipython",
    "version": 3
   },
   "file_extension": ".py",
   "mimetype": "text/x-python",
   "name": "python",
   "nbconvert_exporter": "python",
   "pygments_lexer": "ipython3",
   "version": "3.11.0"
  }
 },
 "nbformat": 4,
 "nbformat_minor": 2
}
