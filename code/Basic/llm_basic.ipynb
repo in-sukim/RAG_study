{
 "cells": [
  {
   "cell_type": "code",
   "execution_count": 2,
   "metadata": {},
   "outputs": [
    {
     "data": {
      "text/plain": [
       "True"
      ]
     },
     "execution_count": 2,
     "metadata": {},
     "output_type": "execute_result"
    }
   ],
   "source": [
    "from dotenv import load_dotenv\n",
    "\n",
    "load_dotenv()"
   ]
  },
  {
   "cell_type": "code",
   "execution_count": 3,
   "metadata": {},
   "outputs": [
    {
     "name": "stdout",
     "output_type": "stream",
     "text": [
      "LangSmith 추적을 시작합니다.\n",
      "[프로젝트명]\n",
      "rag_study\n"
     ]
    }
   ],
   "source": [
    "from langchain_teddynote import logging\n",
    "\n",
    "logging.langsmith(\"rag_study\")"
   ]
  },
  {
   "cell_type": "code",
   "execution_count": 4,
   "metadata": {},
   "outputs": [
    {
     "name": "stdout",
     "output_type": "stream",
     "text": [
      "content='서울입니다. 서울은 대한민국의 수도이며, 600년 이상 된 도시로써 세계에서 가장 오래된 수도 중 하나입니다. 서울은 한반도의 중심에 위치해 있으며, 북쪽으로는 개성, 남쪽으로는 부산과 연결되어 있습니다' response_metadata={'model': 'ollama-ko-0502', 'created_at': '2024-07-02T10:53:06.100982Z', 'message': {'role': 'assistant', 'content': ''}, 'done_reason': 'stop', 'done': True, 'total_duration': 10117910375, 'load_duration': 2551658875, 'prompt_eval_count': 76, 'prompt_eval_duration': 1060519000, 'eval_count': 59, 'eval_duration': 6496249000} id='run-f2b1662c-2cca-4c70-9b34-29782859e84f-0'\n",
      "\n",
      "[답변]: 서울입니다. 서울은 대한민국의 수도이며, 600년 이상 된 도시로써 세계에서 가장 오래된 수도 중 하나입니다. 서울은 한반도의 중심에 위치해 있으며, 북쪽으로는 개성, 남쪽으로는 부산과 연결되어 있습니다\n"
     ]
    }
   ],
   "source": [
    "from langchain_community.chat_models import ChatOllama\n",
    "from langchain_core.messages import HumanMessage\n",
    "\n",
    "llm = ChatOllama(temperature=0, model=\"ollama-ko-0502\")\n",
    "question = \"대한민국의 수도는 어디인가요?\"\n",
    "messages = [HumanMessage(content=question)]\n",
    "\n",
    "result = llm.invoke(messages)\n",
    "print(result)\n",
    "print(f\"\\n[답변]: {result.content}\")"
   ]
  },
  {
   "cell_type": "markdown",
   "metadata": {},
   "source": [
    "### ChatOllama에서는 동작 X"
   ]
  },
  {
   "cell_type": "code",
   "execution_count": 7,
   "metadata": {},
   "outputs": [
    {
     "name": "stdout",
     "output_type": "stream",
     "text": [
      "content='서울입니다. 서울은 대한민국의 수도이며, 600년 이상 된 도시로써 세계에서 가장 오래된 수도 중 하나입니다. 서울은 한반도의 중심에 위치해 있으며, 북쪽으로는 개성, 남쪽으로는 부산과 연결되어 있습니다' response_metadata={'model': 'ollama-ko-0502', 'created_at': '2024-07-02T07:39:54.349259Z', 'message': {'role': 'assistant', 'content': ''}, 'done_reason': 'stop', 'done': True, 'total_duration': 6760078791, 'load_duration': 1695541, 'prompt_eval_duration': 260688000, 'eval_count': 59, 'eval_duration': 6494384000} id='run-3d1a5a36-6e0e-4538-8395-e3aa7f0977ee-0'\n",
      "\n",
      "[답변]: 서울입니다. 서울은 대한민국의 수도이며, 600년 이상 된 도시로써 세계에서 가장 오래된 수도 중 하나입니다. 서울은 한반도의 중심에 위치해 있으며, 북쪽으로는 개성, 남쪽으로는 부산과 연결되어 있습니다\n"
     ]
    }
   ],
   "source": [
    "llm_with_logprob = ChatOllama(temperature=0, model=\"ollama-ko-0502\").bind(logprobs=True)\n",
    "question = \"대한민국의 수도는 어디인가요?\"\n",
    "messages = [HumanMessage(content=question)]\n",
    "\n",
    "result = llm_with_logprob.invoke(messages)\n",
    "print(result)\n",
    "print(f\"\\n[답변]: {result.content}\")"
   ]
  },
  {
   "cell_type": "markdown",
   "metadata": {},
   "source": [
    "## 스트리밍 출력\n",
    "\n",
    "스트리밍 옵션은 질의에 대한 답변을 실시간으로 받을 때 유용"
   ]
  },
  {
   "cell_type": "code",
   "execution_count": 5,
   "metadata": {},
   "outputs": [
    {
     "name": "stdout",
     "output_type": "stream",
     "text": [
      "서울입니다. 서울은 대한민국의 수도이며, 600년 이상 된 도시로써 세계에서 가장 오래된 수도 중 하나입니다. 서울은 한반도의 중심에 위치해 있으며, 북쪽으로는 개성, 남쪽으로는 부산과 연결되어 있습니다"
     ]
    }
   ],
   "source": [
    "# 답변을 저장하지 않음\n",
    "answer = llm.stream(messages)\n",
    "\n",
    "for token in answer:\n",
    "    print(token.content, end=\"\", flush=True)"
   ]
  },
  {
   "cell_type": "code",
   "execution_count": 13,
   "metadata": {},
   "outputs": [
    {
     "name": "stdout",
     "output_type": "stream",
     "text": [
      "서울입니다. 서울은 대한민국의 수도이며, 600년 이상 된 도시로써 세계에서 가장 오래된 수도 중 하나입니다. 서울은 한반도의 중심에 위치해 있으며, 북쪽으로는 개성, 남쪽으로는 부산과 연결되어 있습니다"
     ]
    }
   ],
   "source": [
    "answer = llm.stream(messages)\n",
    "final_anwser = \"\"\n",
    "for token in answer:\n",
    "    print(token.content, end=\"\", flush=True)\n",
    "    final_anwser += token.content"
   ]
  },
  {
   "cell_type": "code",
   "execution_count": 15,
   "metadata": {},
   "outputs": [
    {
     "name": "stdout",
     "output_type": "stream",
     "text": [
      "서울입니다. 서울은 대한민국의 수도이며, 600년 이상 된 도시로써 세계에서 가장 오래된 수도 중 하나입니다. 서울은 한반도의 중심에 위치해 있으며, 북쪽으로는 개성, 남쪽으로는 부산과 연결되어 있습니다\n"
     ]
    }
   ],
   "source": [
    "# final_answer 객체에 답변 저장.\n",
    "print(final_anwser)"
   ]
  },
  {
   "cell_type": "code",
   "execution_count": 10,
   "metadata": {},
   "outputs": [
    {
     "name": "stdout",
     "output_type": "stream",
     "text": [
      "워싱턴 D.C.입니다. 미국의 수도인 워싱턴 D.C.는 1790년에 건설되었고, 현재 약 70만 명이 거주하고 있습니다"
     ]
    }
   ],
   "source": [
    "from langchain_teddynote.messages import stream_response\n",
    "\n",
    "question = \"미국의 수도는 어디야?\"\n",
    "messages = [HumanMessage(content=question)]\n",
    "answer = llm.stream(messages)\n",
    "fianl_output2 = stream_response(answer, return_output=True)"
   ]
  },
  {
   "cell_type": "code",
   "execution_count": 11,
   "metadata": {},
   "outputs": [
    {
     "data": {
      "text/plain": [
       "'워싱턴 D.C.입니다. 미국의 수도인 워싱턴 D.C.는 1790년에 건설되었고, 현재 약 70만 명이 거주하고 있습니다'"
      ]
     },
     "execution_count": 11,
     "metadata": {},
     "output_type": "execute_result"
    }
   ],
   "source": [
    "fianl_output2"
   ]
  }
 ],
 "metadata": {
  "kernelspec": {
   "display_name": "langchain-rag-SOzJDm4L-py3.11",
   "language": "python",
   "name": "python3"
  },
  "language_info": {
   "codemirror_mode": {
    "name": "ipython",
    "version": 3
   },
   "file_extension": ".py",
   "mimetype": "text/x-python",
   "name": "python",
   "nbconvert_exporter": "python",
   "pygments_lexer": "ipython3",
   "version": "3.11.0"
  }
 },
 "nbformat": 4,
 "nbformat_minor": 2
}
