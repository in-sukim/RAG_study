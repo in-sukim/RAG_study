{
 "cells": [
  {
   "cell_type": "code",
   "execution_count": 1,
   "metadata": {},
   "outputs": [
    {
     "name": "stdout",
     "output_type": "stream",
     "text": [
      "LangSmith 추적을 시작합니다.\n",
      "[프로젝트명]\n",
      "runnable_study\n"
     ]
    }
   ],
   "source": [
    "from langchain_teddynote import logging\n",
    "\n",
    "\n",
    "logging.langsmith(\"runnable_study\")"
   ]
  },
  {
   "cell_type": "code",
   "execution_count": 5,
   "metadata": {},
   "outputs": [],
   "source": [
    "from langchain_core.prompts import PromptTemplate\n",
    "from langchain_community.chat_models import ChatOllama\n",
    "\n",
    "prompt = PromptTemplate.from_template('{num}의 10배는?')\n",
    "llm = ChatOllama(model = 'llama3')"
   ]
  },
  {
   "cell_type": "code",
   "execution_count": 6,
   "metadata": {},
   "outputs": [
    {
     "data": {
      "text/plain": [
       "AIMessage(content='😊\\n\\n5의 10배 means \"10 times 5\".\\n\\nTo calculate this, you would multiply 5 by 10:\\n\\n5 × 10 = 50\\n\\nSo, 5의 10배 is 50! 👍', response_metadata={'model': 'llama3', 'created_at': '2024-07-05T12:32:35.473384Z', 'message': {'role': 'assistant', 'content': ''}, 'done_reason': 'stop', 'done': True, 'total_duration': 11444025041, 'load_duration': 6840246458, 'prompt_eval_count': 17, 'prompt_eval_duration': 332232000, 'eval_count': 51, 'eval_duration': 4268218000}, id='run-1b9a5aca-90c5-4f98-87d4-ffa7ce60271a-0')"
      ]
     },
     "execution_count": 6,
     "metadata": {},
     "output_type": "execute_result"
    }
   ],
   "source": [
    "chain = prompt | llm \n",
    "\n",
    "\n",
    "chain.invoke({\"num\": 5})"
   ]
  },
  {
   "cell_type": "markdown",
   "metadata": {},
   "source": [
    "RunnalblePassthrough는 runnable 객체이며, invoke() 메소드를 사용하여 별도 실행 가능."
   ]
  },
  {
   "cell_type": "code",
   "execution_count": 7,
   "metadata": {},
   "outputs": [
    {
     "data": {
      "text/plain": [
       "{'num': 10}"
      ]
     },
     "execution_count": 7,
     "metadata": {},
     "output_type": "execute_result"
    }
   ],
   "source": [
    "from langchain_core.runnables import RunnablePassthrough\n",
    "\n",
    "\n",
    "RunnablePassthrough().invoke({\"num\": 10})"
   ]
  },
  {
   "cell_type": "code",
   "execution_count": 8,
   "metadata": {},
   "outputs": [
    {
     "data": {
      "text/plain": [
       "AIMessage(content='😊\\n\\n10의 10배는 100입니다. (The 10 times of 10 is 100.)', response_metadata={'model': 'llama3', 'created_at': '2024-07-05T12:35:41.159544Z', 'message': {'role': 'assistant', 'content': ''}, 'done_reason': 'stop', 'done': True, 'total_duration': 3255931875, 'load_duration': 3512875, 'prompt_eval_count': 12, 'prompt_eval_duration': 1026820000, 'eval_count': 26, 'eval_duration': 2223382000}, id='run-9c22d046-5554-4dc5-94bc-4561f4839176-0')"
      ]
     },
     "execution_count": 8,
     "metadata": {},
     "output_type": "execute_result"
    }
   ],
   "source": [
    "# 사용자의 입력을 전달\n",
    "# key을 기억하고 입력하지 않아도 값만 전달할 수 있음.\n",
    "runnable_chain  = {\"num\": RunnablePassthrough()} | prompt | llm\n",
    "\n",
    "runnable_chain.invoke(10)"
   ]
  },
  {
   "cell_type": "markdown",
   "metadata": {},
   "source": [
    "RunnalblePassthrough.assign()\n",
    "- 입력 값으로 들어온 값의 key/value 쌍과 새롭게 할당된 key/value 쌍을 합친다."
   ]
  },
  {
   "cell_type": "code",
   "execution_count": 9,
   "metadata": {},
   "outputs": [
    {
     "data": {
      "text/plain": [
       "{'num': 1, 'new_num': 3}"
      ]
     },
     "execution_count": 9,
     "metadata": {},
     "output_type": "execute_result"
    }
   ],
   "source": [
    "(RunnablePassthrough.assign(new_num = lambda x: x[\"num\"] * 3)).invoke({\"num\": 1})"
   ]
  },
  {
   "cell_type": "markdown",
   "metadata": {},
   "source": [
    "## RunnableParallel"
   ]
  },
  {
   "cell_type": "code",
   "execution_count": 11,
   "metadata": {},
   "outputs": [
    {
     "data": {
      "text/plain": [
       "{'passed': {'num': 1}, 'extra': {'num': 1, 'mult': 3}, 'modified': 2}"
      ]
     },
     "execution_count": 11,
     "metadata": {},
     "output_type": "execute_result"
    }
   ],
   "source": [
    "from langchain_core.runnables import RunnableParallel\n",
    "\n",
    "# RunnableParallel 인스턴스 생성. 여러 Runnalble 인스턴스를 병렬로 실행 가능\n",
    "runnalble = RunnableParallel(\n",
    "    # RunnablePassthrough 인스턴스를 'passed' 키워드 인자로 전달. 입력된 데이터 그대로 통과시키는 역할\n",
    "    passed = RunnablePassthrough(),\n",
    "    # 'extra' 키워드 인자로 RunnablePassthorough.assign을 사용하여 'mult' 람다 함수 할당. 입력된 딕셔너리의 'num'의 값 3배 증가\n",
    "    extra = RunnablePassthrough.assign(mult = lambda x : x[\"num\"] * 3),\n",
    "    # 'modified' 키워드 인자로 람다 함수 전달. 입력된 딕셔너리의 'num' 키에 해당하는 값에 1을 더함.\n",
    "    modified = lambda x: x[\"num\"] + 1, \n",
    ")\n",
    "runnalble.invoke({\"num\": 1})\n"
   ]
  },
  {
   "cell_type": "code",
   "execution_count": 16,
   "metadata": {},
   "outputs": [],
   "source": [
    "from langchain_core.output_parsers import StrOutputParser\n",
    "chain1 = (\n",
    "    {\"country\": RunnablePassthrough()} \n",
    "    | PromptTemplate.from_template(\"{country} 의 수도는?\")\n",
    "    | llm\n",
    "    | StrOutputParser()\n",
    "    )\n",
    "\n",
    "chain2 = (\n",
    "    {\"country\": RunnablePassthrough()} \n",
    "    | PromptTemplate.from_template(\"{country} 의 면적은?\")\n",
    "    | llm\n",
    "    | StrOutputParser()\n",
    "    )\n"
   ]
  },
  {
   "cell_type": "code",
   "execution_count": 17,
   "metadata": {},
   "outputs": [
    {
     "data": {
      "text/plain": [
       "{'capitial': '😊\\n\\nThe capital of South Korea is 서울특별시 (Seoul).',\n",
       " 'area': '🇰🇷 The Republic of Korea, also known as South Korea, has a total area of approximately 100,363 square kilometers (38,750 square miles). 📍'}"
      ]
     },
     "execution_count": 17,
     "metadata": {},
     "output_type": "execute_result"
    }
   ],
   "source": [
    "combined_chain = RunnableParallel(capitial = chain1, area = chain2)\n",
    "combined_chain.invoke('대한민국')"
   ]
  },
  {
   "cell_type": "markdown",
   "metadata": {},
   "source": [
    "## RunnableLambda\n",
    "\n",
    "RunnableLambda를 사용하여 사용자 정의 함수를 맵핑 가능\n"
   ]
  },
  {
   "cell_type": "code",
   "execution_count": 43,
   "metadata": {},
   "outputs": [
    {
     "name": "stdout",
     "output_type": "stream",
     "text": [
      "입력받은 변수 a의 값: None\n"
     ]
    },
    {
     "data": {
      "text/plain": [
       "'Jul-05'"
      ]
     },
     "execution_count": 43,
     "metadata": {},
     "output_type": "execute_result"
    }
   ],
   "source": [
    "from langchain_core.runnables import RunnableLambda\n",
    "from langchain_core.output_parsers import StrOutputParser\n",
    "from langchain_core.prompts import PromptTemplate\n",
    "from datetime import datetime\n",
    "\n",
    "\n",
    "def get_today(a):\n",
    "    print(f\"입력받은 변수 a의 값: {a}\")\n",
    "    return datetime.today().strftime(\"%b-%d\")\n",
    "\n",
    "get_today(None)"
   ]
  },
  {
   "cell_type": "code",
   "execution_count": 44,
   "metadata": {},
   "outputs": [],
   "source": [
    "from langchain_core.runnables import RunnablePassthrough, RunnableLambda\n",
    "\n",
    "prompt = PromptTemplate.from_template(\n",
    "    \"{today} 가 생일인 유명인 {n} 명을 나열하세요. 생년월일도 작성해 주세요.\"\n",
    ")\n",
    "\n",
    "llm = ChatOllama(model = 'ollama-ko-0502')\n",
    "\n",
    "chain = (\n",
    "    {\"today\": RunnableLambda(get_today),\"n\": RunnablePassthrough()}\n",
    "    | prompt\n",
    "    | llm\n",
    "    | StrOutputParser()\n",
    ")"
   ]
  },
  {
   "cell_type": "code",
   "execution_count": 45,
   "metadata": {},
   "outputs": [
    {
     "name": "stdout",
     "output_type": "stream",
     "text": [
      "입력받은 변수 a의 값: 3\n"
     ]
    },
    {
     "data": {
      "text/plain": [
       "'이름, 생년월일을 입력하십시오.\\n1. 김정은(1994 년 1 월 8 일) 2. 이승기(1987 년 10 월 16 일) 3. 박지성(1981 년 2 월 25 일'"
      ]
     },
     "execution_count": 45,
     "metadata": {},
     "output_type": "execute_result"
    }
   ],
   "source": [
    "chain.invoke(3)"
   ]
  },
  {
   "cell_type": "code",
   "execution_count": 50,
   "metadata": {},
   "outputs": [],
   "source": [
    "from langchain_core.runnables import RunnablePassthrough, RunnableLambda\n",
    "from operator import itemgetter\n",
    "prompt = PromptTemplate.from_template(\n",
    "    \"{today} 가 생일인 유명인 {n} 명을 나열하세요. 생년월일도 작성해 주세요.\"\n",
    ")\n",
    "\n",
    "llm = ChatOllama(model = 'ollama-ko-0502')\n",
    "\n",
    "chain = (\n",
    "    {\"today\": RunnableLambda(get_today),\"n\": itemgetter(\"n\")}\n",
    "    | prompt\n",
    "    | llm\n",
    "    | StrOutputParser()\n",
    ")"
   ]
  },
  {
   "cell_type": "code",
   "execution_count": 51,
   "metadata": {},
   "outputs": [
    {
     "name": "stdout",
     "output_type": "stream",
     "text": [
      "입력받은 변수 a의 값: {'n': 3}\n"
     ]
    },
    {
     "data": {
      "text/plain": [
       "'이름, 생년월일을 입력하십시오.\\n1. 김정은(1994 년 1 월 8 일) 2. 이승기(1987 년 10 월 16 일) 3. 박지성(1981 년 2 월 25 일'"
      ]
     },
     "execution_count": 51,
     "metadata": {},
     "output_type": "execute_result"
    }
   ],
   "source": [
    "chain.invoke({\"n\":3})"
   ]
  },
  {
   "cell_type": "code",
   "execution_count": 52,
   "metadata": {},
   "outputs": [],
   "source": [
    "from operator import itemgetter\n",
    "\n",
    "from langchain_core.prompts import ChatPromptTemplate\n",
    "from langchain_core.runnables import RunnableLambda\n",
    "\n",
    "\n",
    "# 문장의 길이를 반환하는 함수입니다.\n",
    "def length_function(text):\n",
    "    return len(text)\n",
    "\n",
    "\n",
    "# 두 문장의 길이를 곱한 값을 반환하는 함수입니다.\n",
    "def _multiple_length_function(text1, text2):\n",
    "    return len(text1) * len(text2)\n",
    "\n",
    "\n",
    "# _multiple_length_function 함수를 사용하여 두 문장의 길이를 곱한 값을 반환하는 함수입니다.\n",
    "def multiple_length_function(_dict):\n",
    "    return _multiple_length_function(_dict[\"text1\"], _dict[\"text2\"])\n",
    "\n",
    "\n",
    "prompt = ChatPromptTemplate.from_template(\"{a} + {b} 는 무엇인가요?\")\n",
    "model = ChatOllama(model = 'ollama-ko-0502')\n",
    "\n",
    "chain1 = prompt | model\n",
    "\n",
    "chain = (\n",
    "    {\n",
    "        \"a\": itemgetter(\"word1\") | RunnableLambda(length_function),\n",
    "        \"b\": {\"text1\": itemgetter(\"word1\"), \"text2\": itemgetter(\"word2\")}\n",
    "        | RunnableLambda(multiple_length_function),\n",
    "    }\n",
    "    | prompt\n",
    "    | model\n",
    ")"
   ]
  },
  {
   "cell_type": "code",
   "execution_count": 54,
   "metadata": {},
   "outputs": [
    {
     "data": {
      "text/plain": [
       "AIMessage(content='5 와 25 를 더하면 30 이 됩니다. 5 와 25 의 합을 계산하는 방법은 다음과 같습니다. 먼저, 5 에서 1 을 빼면 4 가 되고, 25 에서 1 을 빼면 24 가 됩니다. 그리고 4 와 24 를 더하면 28 이 되고, 28 에서 2 를 빼면 26 이 되며, 26 에서 5 를 빼면 21 이 됩니다. 마지막으로 21 과 25 를 더하면 46 이 되고, 46 에서 1 을 빼면 45 가 되므로, 5 와 25 의 합은 45 가 됩니다', response_metadata={'model': 'ollama-ko-0502', 'created_at': '2024-07-05T13:37:11.978647Z', 'message': {'role': 'assistant', 'content': ''}, 'done_reason': 'stop', 'done': True, 'total_duration': 17561255750, 'load_duration': 4830334, 'prompt_eval_count': 15, 'prompt_eval_duration': 770515000, 'eval_count': 154, 'eval_duration': 16778002000}, id='run-a57faa01-bc48-43db-a510-cf47561359a3-0')"
      ]
     },
     "execution_count": 54,
     "metadata": {},
     "output_type": "execute_result"
    }
   ],
   "source": [
    "chain.invoke({'word1': 'hello','word2': 'world'})"
   ]
  }
 ],
 "metadata": {
  "kernelspec": {
   "display_name": "langchain-rag-UhYHSyIM-py3.11",
   "language": "python",
   "name": "python3"
  },
  "language_info": {
   "codemirror_mode": {
    "name": "ipython",
    "version": 3
   },
   "file_extension": ".py",
   "mimetype": "text/x-python",
   "name": "python",
   "nbconvert_exporter": "python",
   "pygments_lexer": "ipython3",
   "version": "3.11.0"
  }
 },
 "nbformat": 4,
 "nbformat_minor": 2
}
