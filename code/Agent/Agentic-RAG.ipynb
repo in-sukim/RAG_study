{
 "cells": [
  {
   "cell_type": "markdown",
   "metadata": {},
   "source": [
    "## Agentic RAG\n",
    "최신 정보에 접근하여 검색결과를 가지고 답변을 생성하는 에이전트.<br>\n",
    "질문에 따라 문서를 검색하여 답변하거나, 인터넷 검색 도구를 활용하여 답변하는 에이전트.<br>\n",
    "**RAG 를 수행하되, Agent를 활용하여 RAG를 수행한다면 이를 Agentic RAG라고 함.**"
   ]
  },
  {
   "cell_type": "markdown",
   "metadata": {},
   "source": [
    "## 도구(Tools)\n",
    "Agent가 활용할 도구를 정의하여 Agent가 추론(reasoning)을 수행할 때 활용하도록 할 수 있다.<br>"
   ]
  },
  {
   "cell_type": "code",
   "execution_count": 1,
   "metadata": {},
   "outputs": [
    {
     "data": {
      "text/plain": [
       "True"
      ]
     },
     "execution_count": 1,
     "metadata": {},
     "output_type": "execute_result"
    }
   ],
   "source": [
    "from dotenv import load_dotenv\n",
    "load_dotenv()"
   ]
  },
  {
   "cell_type": "code",
   "execution_count": 2,
   "metadata": {},
   "outputs": [
    {
     "name": "stdout",
     "output_type": "stream",
     "text": [
      "LangSmith 추적을 시작합니다.\n",
      "[프로젝트명]\n",
      "Agents\n"
     ]
    }
   ],
   "source": [
    "from langchain_teddynote import logging\n",
    "\n",
    "logging.langsmith('Agents')"
   ]
  },
  {
   "cell_type": "code",
   "execution_count": 3,
   "metadata": {},
   "outputs": [],
   "source": [
    "from langchain_community.tools.tavily_search import TavilySearchResults\n",
    "\n",
    "# TavilySearchResults 클래스의 인스턴스를 생성합니다\n",
    "# k=6은 검색 결과를 6개까지 가져오겠다는 의미입니다\n",
    "search = TavilySearchResults(k=6)"
   ]
  },
  {
   "cell_type": "code",
   "execution_count": 4,
   "metadata": {},
   "outputs": [
    {
     "data": {
      "text/plain": [
       "[{'url': 'https://blog.naver.com/PostView.naver?blogId=amour1115&logNo=223386213560',\n",
       "  'content': '카카오 프렌즈 판교 아지트점. . 연중무휴 12:00-21:00. 토, 일 12:00-20:00. . 경기 성남시 분당구 판교역로 166. 카카오 판교 아지트 1층 카카오 프렌즈. 031-301-7225. 존재하지 않는 이미지입니다.'},\n",
       " {'url': 'https://blog.naver.com/PostView.naver?blogId=twsilver0&logNo=223614680235',\n",
       "  'content': '판교 카카오 아지트 :: 귀여움 가득한 판교역 카카오 프렌즈샵 방문기 건물이 너무 화려해서 완전 제 취향이였네요 카카오 아지트 한번 구경해줘야죠 카카오 아지트 입성 카카오 아지트 구경을 해줘요 곳곳에 카카오 프렌즈 캐릭터가 있어서 카카오 아지트 1층에 카카오 프렌즈 판교아지트점 죠르디 랜덤 미니 키링 인형 카카오 아지트 들리실 일 있으면  카카오 프렌즈 샵은 꼭 가주세요  카카오 아지트 구경해보는거 추천 드립니다 고객님의 PC가 악성코드에 감염될 경우 시스템성능 저하,개인정보 유출등의 피해를 입을 수 있으니 주의하시기 바랍니다. 저작권을 침해하는 컨텐츠가 포함되어 있는 게시물의 경우 글보내기 기능을 제한하고 있습니다. 건강한 인터넷 환경을 만들어 나갈 수 있도록 고객님의 많은 관심과 협조를 부탁드립니다. 저작권을 침해하는 컨텐츠가 포함되어 있는 게시물의 경우 주제 분류 기능을 제한하고 있습니다. 건강한 인터넷 환경을 만들어 나갈 수 있도록 고객님의 많은 관심과 협조를 부탁드립니다.'},\n",
       " {'url': 'https://m.blog.naver.com/kimsso333/223186761448',\n",
       "  'content': '\\u200b\\n\\u200b\\n\\u200b\\n\\u200b\\n선물 후보로 끝까지 고민했던\\n춘식이 얼음틀 ㅋㅋㅋ\\n\\u200b\\n\\u200b\\n\\u200b\\n\\u200b\\n카카오프렌즈 판교점\\n한쪽에는 콜프용품들도\\n한가득 준비되어 있었고용\\n\\u200b\\n\\u200b\\n\\u200b\\n\\u200b\\n카카오톡에 이모티콘 친구들도\\nMD로 있어서 귀엽더라고요!\\n\\u200b\\n\\u200b\\n\\u200b\\n\\u200b\\n귀여운 루피와\\n일본에서 온 빤쮸토끼도\\n매장 한켠에 있었어요 ㅎㅎㅎ\\n\\u200b\\n\\u200b\\n\\u200b\\n\\u200b\\n보드게임도 있규여\\n\\u200b\\n\\u200b\\n\\u200b\\n\\u200b\\n피규어와 비타민까지 -\\n\\u200b\\n맘만먹으면\\n카카오로 집꾸미기 가~넝~\\n\\u200b\\n\\u200b\\n\\u200b\\n\\u200b\\n최고심X춘식이 쏘큐트\\n\\u200b\\n\\u200b\\n\\u200b\\n\\u200b\\n직장인 조르디 💚\\n컴퓨터 비싼거 쓰네 ~\\n\\u200b\\n\\u200b\\n\\u200b\\n\\u200b\\n이 친구들이 제가 최종적으로 픽한\\n친구에게 줄 선물 ㅋㅋㅋㅋ\\n\\u200b\\n최고심x춘식이 8. 18. 9:56\\n\\u200b\\n\\u200b\\n오늘은 퇴근길에 친구 선물사러들린\\n판교 카카오프렌즈샵을 소개해드려요!\\n\\u200b\\n\\u200b\\n\\u200b\\n판교 카카오프렌즈샵은 판교역이랑 딱붙어있어서\\n퇴근할때마다 한번가봐야지…가 1년이 넘었고\\nㅋㅋㅋㅋㅋㅋㅋㅋㅋㅋㅋㅋㅋㅋㅋㅋ\\n\\u200b\\n그러다가 친구가 곧 생일인데\\n받고싶단 선물이 소박하여 춘식이러버를 위해\\n추가선물을 구입하고자 퇴근길에 다녀왓어요 😎\\n\\u200b\\n\\u200b\\n경기도 성남시 분당구 판교역로 166 카카오판교아지트 1층 카카오프렌즈\\n\\u200b\\n<카카오프렌즈 판교아지트점>\\n\\u200b\\n📍위치 : 카카오판교 아지트 1층\\n⏰ 영업시간 : 10:00 ~ 21:00\\n\\u200b\\n\\u200b\\n\\u200b\\n\\u200b\\n다양한 세일전이 진행중이었는데\\n내가 사고싶은건 세일 안하쥬 🥲..ㅋㅋㅋ\\n\\u200b\\n\\u200b\\n\\u200b\\n\\u200b\\n대형쿠션과 인형, 발매트, 목베게에\\n \\u200b\\n\\u200b\\n\\u200b\\n\\u200b\\n라이딩하는 춘식이와 라이언 쏘큐트 - 💛\\n\\u200b\\n\\u200b\\n\\u200b\\n\\u200b\\n요즘 넷플릭스가\\n여기저기랑 엄청 콜라보하던데\\n카카오프렌즈도 참지못하고\\nDP로 MD를 출시했더라고요\\n\\u200b\\n\\u200b\\n\\u200b\\n\\u200b\\n그리고 국민티셔츠\\n마리떼 프랑소와 저버와 콜라보한\\n귀여운 인형과 키링들까지\\n\\u200b\\n\\u200b\\n\\u200b\\n\\u200b\\n카카오프렌즈 판교점의\\n귀여운 춘식이 모먼트 - 💛\\nㅋㅋㅋㅋㅋㅋㅋㅋㅋㅋㅋㅋㅋㅋ\\n\\u200b\\n\\u200b\\n\\u200b\\n\\u200b\\n여기 춘식존 귀여운게 많더라고요!\\n 지킴이펜이 될 것 같아\\n제 것도 살까 고민했어요\\nㅋㅋㅋㅋㅋㅋㅋㅋㅋㅋㅋㅋㅋㅋㅋ\\n\\u200b\\n\\u200b\\n\\u200b\\n오늘 포스팅이 도움되셨다면\\n공감(❤️)과 팬추가(🙂) 부탁드려요\\n\\u200b\\n\\u200b\\n\\u200b\\n여행의 즐거움과\\n쇼핑의 재미를 공유해요♥\\n- 주활동지역 광교/판교\\n- 3월 푸꾸옥 여행예정\\n수요일에는 쇼핑 콘텐츠\\n금요일에는 여행 콘텐츠\\n* 협업문의\\nkimsso333@naver.com\\nSince 2012\\n이 블로그\\n[블챌] 체크인 챌린지\\n카테고리 글\\n카테고리\\n이 블로그\\n[블챌] 체크인 챌린지\\n카테고리 글 배낭도 있공\\n\\u200b\\n\\u200b\\n\\u200b\\n\\u200b\\n매장 전반적인 느낌은 이렇게 깔-끔-\\n\\u200b\\n\\u200b\\n\\u200b\\n\\u200b\\n여름을 맞이한 컵과 인형들 ❤️\\n라이언 얼음과 아이스크림틀과\\n\\u200b\\n\\u200b\\n\\u200b\\n\\u200b\\n쏘큐트한 춘식이 포토존!\\n'},\n",
       " {'url': 'https://blog.naver.com/PostView.naver?blogId=mmno&logNo=223315998458',\n",
       "  'content': '검색\\n블로그\\n경기도 가볼 만한 곳 카카오 프렌즈 판교 아지트점 방문기\\n\\u200b\\n경기도 가볼 만한 곳 판교\\n카카오 빌딩 투어\\n카카오 아지트 위치\\n주소 : 경기도 성남시 판교역로 166\\n\\u200b\\n안녕하세요. ^^\\n\\u200b\\n\\u200b\\n경기도 성남시 분당구 판교역로 166 카카오판교아지트 1층 카카오프렌즈\\n저녁 먹어주고 맥주 한잔 마실때 배안부르게 자꾸만 손이가는 먹태 고소한 마요네즈 청양고추 간장 소스랑 ...\\nblog.naver.com\\n안녕하셔요 미니레인 이여요!! 작성자 이외의 방문자에게는 이용이 제한되었습니다.\\n{ALERTMESSAGE}\\n이용제한 파일 : {FILENAME}\\n네이버는 블로그를 통해 저작물이 무단으로 공유되는 것을 막기 위해,\\n저작권을 침해하는 컨텐츠가 포함되어 있는 게시물의 경우 글보내기 기능을 제한하고 있습니다.\\n 2. 블로그 아이디는 한번 변경하면\\n다시 변경이 불가능합니다.\\n변경하시겠습니까?\\n블로그 아이디는 한번 정하면\\n다시 변경이 불가능합니다.\\n \\u200b\\n\\u200b\\n경기도 가볼 만한 곳\\n카카오 프렌즈 판교 아지트\\n드디어 도착한 카카오 프렌즈 판교 아지트.'},\n",
       " {'url': 'https://smilemonkey.tistory.com/entry/판교-아지트-건물-카카오-프렌즈-샵-오픈-예정-22년-가을',\n",
       "  'content': '# 함께 보면 좋은 글\\n이마트 일렉트로마트 애플 제품 - 수험생 할인 혜택/프로모션 (수험생 선물 추천)\\n[2023년 연말정산 준비] 직장인 연말정산 총정리 (작년과 달라진 점, 환급액 늘리는 방법, 세테크)\\n미슐랭 가이드 서울 2023 레스토랑 리스트 총정리 (지도 위치, 신규 등극)\\n카카오 오피스가 위치한 판교 아지트 \"카카오 프렌즈 샵\"\\n카카오프렌즈샵이\\xa0현재\\xa0판교\\xa0아지트\\xa0건물\\xa01층에\\xa0오픈을\\xa0위해\\xa0공사 중에\\xa0있습니다.\\xa0해당\\xa0건물은\\xa022년\\xa07월\\xa0정도에\\xa0공사를\\xa0마치고\\xa0현재\\xa0오피스로\\xa0사용되고\\xa0있습니다.\\xa0 현재\\xa0카카오\\xa0캐릭터가\\xa0출근하는\\xa0모습의\\xa0그림으로\\xa0유리창을\\xa0가려놓은\\xa0상태이고,\\xa0상당히\\xa0큰\\xa0규모로\\xa0들어올\\xa0것으로\\xa0보입니다.\\xa0 오픈하게\\xa0되면\\xa0다양한\\xa0이벤트도\\xa0진행을\\xa0할\\xa0것이고\\xa0그때\\xa0다시\\xa0글을\\xa0통해\\xa0이용\\xa0후기를\\xa0써보도록\\xa0하겠습니다.\\n 다양한\\xa0손가락\\xa0제스처/동작으로\\xa0지원하는\\xa0기능을\\xa0설정\\xa0가능합니다.\\xa0상세한\\xa0내용을\\xa0통해\\xa0작업\\xa0효율을\\xa0높\\nsmilemonkey.tistory.com\\n포인트 적립되는 페이코/PAYCO 티머니 교통카드 등록방법/만들기 (실 가입 후기, 안드로이드만 가능)\\n포인트 적립되는 페이코/PAYCO 티머니 교통카드 등록방법/만들기 (실 가입후기, 안드로이드만 가\\n페이코/PAYCO 앱을 통해서 티머니 교통카드를 만드는 방법에 관해 알아보겠습니다. 노트북 터치 패드(touch pad) 설정으로 불필요한 시간 줄이기\\n노트북 터치 패드(touch pad) 설정으로 불필요한 시간 줄이기\\n간단한\\xa0노트북\\xa0터치\\xa0패드\\xa0설정으로\\xa0불필요한\\xa0시간을\\xa0줄일\\xa0수\\xa0있습니다.\\xa0'}]"
      ]
     },
     "execution_count": 4,
     "metadata": {},
     "output_type": "execute_result"
    }
   ],
   "source": [
    "search.invoke(\"판교 카카오 프렌즈샵 아지트점의 전화번호는 무엇인가요?\")"
   ]
  },
  {
   "cell_type": "markdown",
   "metadata": {},
   "source": [
    "## 문서 기반 문서 검색 도구: Retrieval\n"
   ]
  },
  {
   "cell_type": "code",
   "execution_count": 5,
   "metadata": {},
   "outputs": [],
   "source": [
    "from langchain.text_splitter import RecursiveCharacterTextSplitter\n",
    "from langchain_community.vectorstores import FAISS\n",
    "from langchain_openai import OpenAIEmbeddings\n",
    "from langchain.document_loaders import PyPDFLoader\n",
    "\n",
    "# PDF 파일 로드, 파일 경로 입력\n",
    "loader = PyPDFLoader('data/SPRI_AI_Brief_2023년12월호_F.pdf')\n",
    "\n",
    "# 텍스트 분할기를 통해 문서 분할\n",
    "text_splitter = RecursiveCharacterTextSplitter(chunk_size=1000, chunk_overlap=100)\n",
    "\n",
    "# 문서 로드 분할\n",
    "split_docs = loader.load_and_split(text_splitter)\n",
    "\n",
    "# 벡터 저장소 생성\n",
    "vector_store = FAISS.from_documents(split_docs, OpenAIEmbeddings())\n",
    "\n",
    "retriever = vector_store.as_retriever()\n"
   ]
  },
  {
   "cell_type": "code",
   "execution_count": 6,
   "metadata": {},
   "outputs": [
    {
     "data": {
      "text/plain": [
       "[Document(metadata={'source': 'data/SPRI_AI_Brief_2023년12월호_F.pdf', 'page': 12}, page_content='SPRi AI Brief |  \\n2023-12 월호\\n10삼성전자 , 자체 개발 생성 AI ‘삼성 가우스 ’ 공개\\nn삼성전자가 온디바이스에서 작동 가능하며 언어, 코드, 이미지의 3개 모델로 구성된 자체 개발 생성 \\nAI 모델 ‘삼성 가우스 ’를 공개\\nn삼성전자는 삼성 가우스를 다양한 제품에 단계적으로 탑재할 계획으로 , 온디바이스 작동이 가능한 \\n삼성 가우스는 외부로 사용자 정보가 유출될 위험이 없다는 장점을 보유KEY Contents\\n£언어, 코드, 이미지의 3개 모델로 구성된 삼성 가우스 , 온디바이스 작동 지원\\nn삼성전자가 2023 년 11월 8일 열린 ‘삼성 AI 포럼 2023’ 행사에서 자체 개발한 생성 AI 모델 \\n‘삼성 가우스 ’를 최초 공개\\n∙정규분포 이론을 정립한 천재 수학자 가우스 (Gauss) 의 이름을 본뜬 삼성 가우스는 다양한 상황에 \\n최적화된 크기의 모델 선택이 가능\\n∙삼성 가우스는 라이선스나 개인정보를 침해하지 않는 안전한 데이터를 통해 학습되었으며 , \\n온디바이스에서 작동하도록 설계되어 외부로 사용자의 정보가 유출되지 않는 장점을 보유\\n∙삼성전자는 삼성 가우스를 활용한 온디바이스 AI 기술도 소개했으며 , 생성 AI 모델을 다양한 제품에 \\n단계적으로 탑재할 계획\\nn삼성 가우스는 △텍스트를 생성하는 언어모델 △코드를 생성하는 코드 모델 △이미지를 생성하는  \\n이미지 모델의 3개 모델로 구성\\n∙언어 모델은 클라우드와 온디바이스 대상 다양한 모델로 구성되며 , 메일 작성, 문서 요약, 번역 업무의 \\n처리를 지원\\n∙코드 모델 기반의 AI 코딩 어시스턴트 ‘코드아이 (code.i)’ 는 대화형 인터페이스로 서비스를 제공하며 \\n사내 소프트웨어 개발에 최적화\\n∙이미지 모델은 창의적인 이미지를 생성하고 기존 이미지를 원하는 대로 바꿀 수 있도록 지원하며 \\n저해상도 이미지의 고해상도 전환도 지원\\nnIT 전문지 테크리퍼블릭 (TechRepublic) 은 온디바이스 AI가 주요 기술 트렌드로 부상했다며 ,'),\n",
       " Document(metadata={'source': 'data/SPRI_AI_Brief_2023년12월호_F.pdf', 'page': 12}, page_content='저해상도 이미지의 고해상도 전환도 지원\\nnIT 전문지 테크리퍼블릭 (TechRepublic) 은 온디바이스 AI가 주요 기술 트렌드로 부상했다며 , \\n2024 년부터 가우스를 탑재한 삼성 스마트폰이 메타의 라마(Llama)2 를 탑재한 퀄컴 기기 및 구글 \\n어시스턴트를 적용한 구글 픽셀(Pixel) 과 경쟁할 것으로 예상\\n☞ 출처 : 삼성전자 , ‘삼성 AI 포럼’서 자체 개발 생성형 AI ‘삼성 가우스 ’ 공개, 2023.11.08.\\n삼성전자 , ‘삼성 개발자 콘퍼런스 코리아 2023’ 개최, 2023.11.14.\\nTechRepublic, Samsung Gauss: Samsung Research Reveals Generative AI, 2023.11.08.'),\n",
       " Document(metadata={'source': 'data/SPRI_AI_Brief_2023년12월호_F.pdf', 'page': 1}, page_content='2023 년 12월호\\nⅠ. 인공지능 산업 동향 브리프\\n 1. 정책/법제 \\n   ▹ 미국, 안전하고 신뢰할 수 있는 AI 개발과 사용에 관한 행정명령 발표  ························· 1\\n   ▹ G7, 히로시마 AI 프로세스를 통해 AI 기업 대상 국제 행동강령에 합의··························· 2\\n   ▹ 영국 AI 안전성 정상회의에 참가한 28개국, AI 위험에 공동 대응 선언··························· 3\\n   ▹ 미국 법원, 예술가들이 생성 AI 기업에 제기한 저작권 소송 기각····································· 4\\n   ▹ 미국 연방거래위원회 , 저작권청에 소비자 보호와 경쟁 측면의 AI 의견서 제출················· 5\\n   ▹ EU AI 법 3자 협상, 기반모델 규제 관련 견해차로 난항··················································· 6\\n \\n 2. 기업/산업 \\n   ▹ 미국 프런티어 모델 포럼, 1,000 만 달러 규모의 AI 안전 기금 조성································ 7\\n   ▹ 코히어 , 데이터 투명성 확보를 위한 데이터 출처 탐색기 공개  ······································· 8\\n   ▹ 알리바바 클라우드 , 최신 LLM ‘통이치엔원 2.0’ 공개 ······················································ 9\\n   ▹ 삼성전자 , 자체 개발 생성 AI ‘삼성 가우스 ’ 공개 ··························································· 10\\n   ▹ 구글, 앤스로픽에 20억 달러 투자로 생성 AI 협력 강화 ················································ 11'),\n",
       " Document(metadata={'source': 'data/SPRI_AI_Brief_2023년12월호_F.pdf', 'page': 15}, page_content='1. 정책/법제  2. 기업/산업 3. 기술/연구  4. 인력/교육\\n빌 게이츠 , AI 에이전트로 인한 컴퓨터 사용의 패러다임 변화 전망\\nn빌 게이츠가 5년 내 일상언어로 모든 작업을 처리할 수 있는 AI 에이전트가 보급되며 컴퓨터를 \\n사용하는 방식이 완전히 바뀔 것으로 예상\\nn에이전트의 보급은 컴퓨터 분야를 넘어 산업 전 영역에 영향을 미칠 전망으로 특히 의료와 \\n교육, 생산성 , 엔터테인먼트 ·쇼핑 영역에서 고가로 제공되던 서비스가 대중화될 전망KEY Contents\\n£5년 내 기기에 일상언어로 말하기만 하면 되는 AI 에이전트의 보급 예상\\nn빌 게이츠 마이크로소프트 창업자가 2023 년 11월 9일 공식 블로그를 통해 AI 에이전트가 컴퓨터  \\n사용방식과 소프트웨어 산업을 완전히 변화시킬 것이라는 전망을 제시\\n∙자연어에 반응하고 사용자에 대한 지식을 바탕으로 다양한 작업을 수행하는 소프트웨어를 의미하는 \\n에이전트는 컴퓨터 사용방식이 키보드 입력에서 아이콘 클릭으로 바뀐 이후 최대의 컴퓨팅 혁명을 \\n가져올 전망\\n∙현재는 컴퓨터 작업 시 작업 내용에 따라 각각 다른 앱을 사용해야 하지만 5년 내 에이전트의 발전으로 \\n기기에 일상언어로 말하기만 하면 되는 미래가 도래할 것\\n∙온라인에 접속하는 모든 사람이 AI 기반의 개인 비서를 사용할 수 있게 되며, 에이전트는 사용자에 대한 \\n풍부한 지식을 바탕으로 맞춤화된 대응이 가능하며 시간이 지날수록 개선됨\\n∙일례로 여행 계획 수립 시 AI 챗봇이 예산에 맞는 호텔을 제안하는데 머문다면 , 에이전트는 사용자의 여행 \\n패턴을 분석해 여행지를 제안하고 관심사에 따른 활동을 추천하며 선호하는 스타일의 레스토랑 예약도 가능  \\n£AI 에이전트가 의료와 교육, 생산성 , 엔터테인먼트 ·쇼핑 영역의 서비스 대중화를 주도할 것\\nn에이전트로 인해 주목할 만한 변화는 고비용 서비스의 대중화로 특히 △의료 △교육 △생산성 △\\n엔터테인먼트 ·쇼핑의 4개 영역에서 대규모 변화 예상')]"
      ]
     },
     "execution_count": 6,
     "metadata": {},
     "output_type": "execute_result"
    }
   ],
   "source": [
    "# 문서에서 관련성 높은 문서 찾기.\n",
    "retriever.invoke(\"삼성전자가 개발한 생성형 AI 관련 내용을 문서에서 찾아줘\")"
   ]
  },
  {
   "cell_type": "markdown",
   "metadata": {},
   "source": [
    "에이전트가 사용할 수 있는 도구(Tool)로 변환.\n",
    "create_retriever_tool 함수로 retriever를 도구로 변환."
   ]
  },
  {
   "cell_type": "code",
   "execution_count": 9,
   "metadata": {},
   "outputs": [],
   "source": [
    "from langchain.tools.retriever import create_retriever_tool\n",
    "\n",
    "retriever_tool = create_retriever_tool(\n",
    "    retriever,\n",
    "    name = 'pdf_search',\n",
    "    description = 'use this tool to search for information in the PDF document'\n",
    ")"
   ]
  },
  {
   "cell_type": "markdown",
   "metadata": {},
   "source": [
    "Agent가 사용할 도구 목록 정의\n"
   ]
  },
  {
   "cell_type": "code",
   "execution_count": 10,
   "metadata": {},
   "outputs": [],
   "source": [
    "tools = [search, retriever_tool]"
   ]
  },
  {
   "cell_type": "markdown",
   "metadata": {},
   "source": [
    "## Agent 생성\n",
    "\n",
    "Agent가 활용할 LLM 정의, 프롬프트 정의.\n",
    "- 멀티턴 대화를 지원하지 않을거라면 'chat_history' 제거해도 무방"
   ]
  },
  {
   "cell_type": "code",
   "execution_count": 11,
   "metadata": {},
   "outputs": [],
   "source": [
    "from langchain_openai import ChatOpenAI\n",
    "from langchain_core.prompts import ChatPromptTemplate\n",
    "\n",
    "llm = ChatOpenAI(\n",
    "    model = 'gpt-4o-mini',\n",
    "    temperature = 0.0\n",
    ")\n",
    "\n",
    "prompt = ChatPromptTemplate.from_messages([\n",
    "    (\"system\", \"You are a helpful assistant,\"\n",
    "    \"Make sure to use the 'pdf_search' tool for searching information in the PDF document.\"\n",
    "    \"If you can't find the information from the PDF document, use the 'search' tool for searching information from the web.\"\n",
    "    ),\n",
    "    (\"placeholder\", \"{chat_history}\"),\n",
    "    (\"human\", \"{input}\"),\n",
    "    (\"placeholder\", \"{agent_scratchpad}\"),\n",
    "])"
   ]
  },
  {
   "cell_type": "code",
   "execution_count": 12,
   "metadata": {},
   "outputs": [],
   "source": [
    "# Tool calling Agent 생성\n",
    "from langchain.agents import create_tool_calling_agent\n",
    "\n",
    "agent = create_tool_calling_agent(llm, tools, prompt)\n"
   ]
  },
  {
   "cell_type": "markdown",
   "metadata": {},
   "source": [
    "생성한 agent를 실행하는 AgentExecutor 생성"
   ]
  },
  {
   "cell_type": "code",
   "execution_count": 14,
   "metadata": {},
   "outputs": [],
   "source": [
    "from langchain.agents import AgentExecutor\n",
    "\n",
    "agent_executor = AgentExecutor(agent=agent, tools=tools, verbose=False)"
   ]
  },
  {
   "cell_type": "markdown",
   "metadata": {},
   "source": [
    "## Agent 실행"
   ]
  },
  {
   "cell_type": "code",
   "execution_count": 15,
   "metadata": {},
   "outputs": [],
   "source": [
    "from langchain_teddynote.messages import AgentStreamParser\n",
    "\n",
    "agent_stream_parser = AgentStreamParser()"
   ]
  },
  {
   "cell_type": "code",
   "execution_count": 17,
   "metadata": {},
   "outputs": [
    {
     "name": "stdout",
     "output_type": "stream",
     "text": [
      "[도구 호출]\n",
      "Tool: tavily_search_results_json\n",
      "query: 2024년 프로야구 한국시리즈 우승 팀\n",
      "Log: \n",
      "Invoking: `tavily_search_results_json` with `{'query': '2024년 프로야구 한국시리즈 우승 팀'}`\n",
      "\n",
      "\n",
      "\n",
      "[관찰 내용]\n",
      "Observation: [{'url': 'https://namu.wiki/w/2024+신한+SOL+Bank+KBO+한국시리즈', 'content': '2024년 kbo 한국시리즈 우승팀. ... 올 시즌 kia는 한국프로야구 43년 역사상 단일 시즌 최다 실책을 기록했을 만큼 매우 불안한 수비를 보여주고 있다. ... 가을야구 경험 부족 2017년 한국시리즈 이후 포스트시즌이 단 2번 뿐이고, 그마저도 전부 5위로 진출해서 와일드'}, {'url': 'https://m.blog.naver.com/dicasub/223637908357', 'content': '프로야구 한국시리즈 역대 우승팀 및 팀별 우승 횟수(~2024년까지) : 네이버 블로그 본문 바로가기 카테고리 이동 디카섭(DiCaSub)의 스포츠 통계 이야기 야구[국내일반] [공지] 프로야구 한국시리즈 역대 우승팀 및 팀별 우승 횟수(~2024년까지) 디카섭 DiCaSub 이웃추가 본문 기타 기능 공유하기 국내 프로야구(KBO) 한국시리즈 역대 우승팀 정리 삼성과의 상대전적 4승 1패로 KIA가 한국시리즈 우승 트로피를 들어올렸습니다!! 역대 한국시리즈 우승팀 현황을 아래 <표>와 <그림>으로 정리해보았습니다. 국내 프로야구(KBO) 구단(팀)별 한국시리즈 우승 횟수<표> 국내 프로야구(KBO) 구단(팀)별 한국시리즈 우승 횟수<그림> [그림1] 국내 프로야구(KBO) 구단(팀)별 한국시리즈 우승 횟수 (막대형) [그림2] 국내 프로야구(KBO) 구단(팀)별 한국시리즈 우승 횟수 (원형) https://blog.naver.com/dicasub/223603577717 2024년 국내 프로야구(KBO) 정규리그 최종 순위 정리(월별 순위 분석/최종)2024년 국내 프로야구(KBO) 정규리그 최종 순위 정리 (월별 순위 분석/최종) 드디어 오늘 2024년 국내 ... http://blog.naver.com/dicasub #야구 #한국시리즈 댓글 1 공유하기 {\"title\":\"프로야구 한국시리즈 역대 우승팀 및 팀별 우승 횟수(~2024년까지)\",\"source\":\"https://blog.naver.com/dicasub/223637908357\",\"blogName\":\"디카섭(Di..\",\"blogId\":\"dicasub\",\"domainIdOrBlogId\":\"dicasub\",\"nicknameOrBlogId\":\"디카섭 DiCaSub\",\"logNo\":223637908357,\"smartEditorVersion\":4,\"meDisplay\":true,\"lineDisplay\":true,\"outsideDisplay\":false,\"cafeDisplay\":true,\"blogDisplay\":true} 댓글 1 공유하기 취소 이웃추가'}, {'url': 'https://namu.wiki/w/2024년+한국시리즈', 'content': '2024년 kbo 한국시리즈 우승팀. ks 승리 팀 ... 한국 구기종목 프로스포츠 최초 1980년대 출생 한국인 감독이 우승. [7] kbo 리그 최초 2000년대에 선수 데뷔한 감독이'}, {'url': 'https://www.kmib.co.kr/article/view.asp?arcid=0020668111', 'content': \"프로야구 한국시리즈에서 kia 타이거즈가 7년 만에 정상을 차지하며 통산 12번째 우승컵을 품에 안았다. 정규리그 1위 팀 kia는 28일 광주 기아챔피언스필드에서 열린 '2024 신한sol뱅크 kbo 한국시리즈(ks·7전 4승제)' 5차전에서 삼성 라이온즈에 7대5로 역전승을 거뒀다.\"}, {'url': 'https://www.yna.co.kr/view/GYH20241028001100044', 'content': '(서울=연합뉴스) 김민지 기자 = kia 타이거즈가 7년 만에 한국시리즈 정상에 올랐다. 정규리그 1위 팀 kia는 28일 2024 신한 sol 뱅크 kbo 한국시리즈(ks·7전 4승제) 5차전에서 삼성 라이온즈에 7-5로 역전승하며 팀 통산 12번째 우승컵을 품에 안았다.'}]\n",
      "[최종 답변]\n",
      "2024년 프로야구 한국시리즈에서 KIA 타이거즈가 우승하였습니다. KIA는 7년 만에 정상에 오르며 통산 12번째 우승컵을 차지했습니다. 한국시리즈 5차전에서 삼성 라이온즈를 7-5로 역전승하며 우승을 결정지었습니다.\n"
     ]
    }
   ],
   "source": [
    "result = agent_executor.stream(\n",
    "    {\"input\": \"2024년 프로야구 한국시리즈 우승 팀이 누구인지 알려줘.\"}\n",
    ")\n",
    "for step in result:\n",
    "    agent_stream_parser.process_agent_steps(step)\n"
   ]
  },
  {
   "cell_type": "code",
   "execution_count": 18,
   "metadata": {},
   "outputs": [
    {
     "name": "stdout",
     "output_type": "stream",
     "text": [
      "[도구 호출]\n",
      "Tool: pdf_search\n",
      "query: 삼성전자 생성형 AI\n",
      "Log: \n",
      "Invoking: `pdf_search` with `{'query': '삼성전자 생성형 AI'}`\n",
      "\n",
      "\n",
      "\n",
      "[관찰 내용]\n",
      "Observation: SPRi AI Brief |  \n",
      "2023-12 월호\n",
      "10삼성전자 , 자체 개발 생성 AI ‘삼성 가우스 ’ 공개\n",
      "n삼성전자가 온디바이스에서 작동 가능하며 언어, 코드, 이미지의 3개 모델로 구성된 자체 개발 생성 \n",
      "AI 모델 ‘삼성 가우스 ’를 공개\n",
      "n삼성전자는 삼성 가우스를 다양한 제품에 단계적으로 탑재할 계획으로 , 온디바이스 작동이 가능한 \n",
      "삼성 가우스는 외부로 사용자 정보가 유출될 위험이 없다는 장점을 보유KEY Contents\n",
      "£언어, 코드, 이미지의 3개 모델로 구성된 삼성 가우스 , 온디바이스 작동 지원\n",
      "n삼성전자가 2023 년 11월 8일 열린 ‘삼성 AI 포럼 2023’ 행사에서 자체 개발한 생성 AI 모델 \n",
      "‘삼성 가우스 ’를 최초 공개\n",
      "∙정규분포 이론을 정립한 천재 수학자 가우스 (Gauss) 의 이름을 본뜬 삼성 가우스는 다양한 상황에 \n",
      "최적화된 크기의 모델 선택이 가능\n",
      "∙삼성 가우스는 라이선스나 개인정보를 침해하지 않는 안전한 데이터를 통해 학습되었으며 , \n",
      "온디바이스에서 작동하도록 설계되어 외부로 사용자의 정보가 유출되지 않는 장점을 보유\n",
      "∙삼성전자는 삼성 가우스를 활용한 온디바이스 AI 기술도 소개했으며 , 생성 AI 모델을 다양한 제품에 \n",
      "단계적으로 탑재할 계획\n",
      "n삼성 가우스는 △텍스트를 생성하는 언어모델 △코드를 생성하는 코드 모델 △이미지를 생성하는  \n",
      "이미지 모델의 3개 모델로 구성\n",
      "∙언어 모델은 클라우드와 온디바이스 대상 다양한 모델로 구성되며 , 메일 작성, 문서 요약, 번역 업무의 \n",
      "처리를 지원\n",
      "∙코드 모델 기반의 AI 코딩 어시스턴트 ‘코드아이 (code.i)’ 는 대화형 인터페이스로 서비스를 제공하며 \n",
      "사내 소프트웨어 개발에 최적화\n",
      "∙이미지 모델은 창의적인 이미지를 생성하고 기존 이미지를 원하는 대로 바꿀 수 있도록 지원하며 \n",
      "저해상도 이미지의 고해상도 전환도 지원\n",
      "nIT 전문지 테크리퍼블릭 (TechRepublic) 은 온디바이스 AI가 주요 기술 트렌드로 부상했다며 ,\n",
      "\n",
      "저해상도 이미지의 고해상도 전환도 지원\n",
      "nIT 전문지 테크리퍼블릭 (TechRepublic) 은 온디바이스 AI가 주요 기술 트렌드로 부상했다며 , \n",
      "2024 년부터 가우스를 탑재한 삼성 스마트폰이 메타의 라마(Llama)2 를 탑재한 퀄컴 기기 및 구글 \n",
      "어시스턴트를 적용한 구글 픽셀(Pixel) 과 경쟁할 것으로 예상\n",
      "☞ 출처 : 삼성전자 , ‘삼성 AI 포럼’서 자체 개발 생성형 AI ‘삼성 가우스 ’ 공개, 2023.11.08.\n",
      "삼성전자 , ‘삼성 개발자 콘퍼런스 코리아 2023’ 개최, 2023.11.14.\n",
      "TechRepublic, Samsung Gauss: Samsung Research Reveals Generative AI, 2023.11.08.\n",
      "\n",
      "1. 정책/법제  2. 기업/산업 3. 기술/연구  4. 인력/교육\n",
      "빌 게이츠 , AI 에이전트로 인한 컴퓨터 사용의 패러다임 변화 전망\n",
      "n빌 게이츠가 5년 내 일상언어로 모든 작업을 처리할 수 있는 AI 에이전트가 보급되며 컴퓨터를 \n",
      "사용하는 방식이 완전히 바뀔 것으로 예상\n",
      "n에이전트의 보급은 컴퓨터 분야를 넘어 산업 전 영역에 영향을 미칠 전망으로 특히 의료와 \n",
      "교육, 생산성 , 엔터테인먼트 ·쇼핑 영역에서 고가로 제공되던 서비스가 대중화될 전망KEY Contents\n",
      "£5년 내 기기에 일상언어로 말하기만 하면 되는 AI 에이전트의 보급 예상\n",
      "n빌 게이츠 마이크로소프트 창업자가 2023 년 11월 9일 공식 블로그를 통해 AI 에이전트가 컴퓨터  \n",
      "사용방식과 소프트웨어 산업을 완전히 변화시킬 것이라는 전망을 제시\n",
      "∙자연어에 반응하고 사용자에 대한 지식을 바탕으로 다양한 작업을 수행하는 소프트웨어를 의미하는 \n",
      "에이전트는 컴퓨터 사용방식이 키보드 입력에서 아이콘 클릭으로 바뀐 이후 최대의 컴퓨팅 혁명을 \n",
      "가져올 전망\n",
      "∙현재는 컴퓨터 작업 시 작업 내용에 따라 각각 다른 앱을 사용해야 하지만 5년 내 에이전트의 발전으로 \n",
      "기기에 일상언어로 말하기만 하면 되는 미래가 도래할 것\n",
      "∙온라인에 접속하는 모든 사람이 AI 기반의 개인 비서를 사용할 수 있게 되며, 에이전트는 사용자에 대한 \n",
      "풍부한 지식을 바탕으로 맞춤화된 대응이 가능하며 시간이 지날수록 개선됨\n",
      "∙일례로 여행 계획 수립 시 AI 챗봇이 예산에 맞는 호텔을 제안하는데 머문다면 , 에이전트는 사용자의 여행 \n",
      "패턴을 분석해 여행지를 제안하고 관심사에 따른 활동을 추천하며 선호하는 스타일의 레스토랑 예약도 가능  \n",
      "£AI 에이전트가 의료와 교육, 생산성 , 엔터테인먼트 ·쇼핑 영역의 서비스 대중화를 주도할 것\n",
      "n에이전트로 인해 주목할 만한 변화는 고비용 서비스의 대중화로 특히 △의료 △교육 △생산성 △\n",
      "엔터테인먼트 ·쇼핑의 4개 영역에서 대규모 변화 예상\n",
      "\n",
      "SPRi AI Brief |  \n",
      "2023-12 월호\n",
      "4미국 법원, 예술가들이 생성 AI 기업에 제기한 저작권 소송 기각\n",
      "n미국 캘리포니아 북부지방법원은 미드저니 , 스태빌리티 AI, 디비언트아트를 대상으로 예술가 \n",
      "3인이 제기한 저작권 침해 소송을 기각\n",
      "n법원은 기각 이유로 고소장에 제시된 상당수 작품이 저작권청에 등록되지 않았으며 , AI로 \n",
      "생성된 이미지와 특정 작품 간 유사성을 입증하기 어렵다는 점을 제시 KEY Contents\n",
      "£예술가들의 AI 저작권 침해 소송, 저작권 미등록과 증거불충분으로 기각\n",
      "n미국 캘리포니아 북부지방법원의 윌리엄 오릭(W illiam Orrick) 판사는 2023년 10월 30일 미드저니\n",
      "(M idjourney),  스태빌리티 AI(Stability AI), 디비언트아트 (DeviantArt) 에 제기된 저작권 침해 소송을 기각 \n",
      "∙2023 년 1월 예술가 사라 앤더슨 (Sarah Anderson), 캘리 맥커넌 (Kelly McKernan), 칼라 \n",
      "오르티즈 (Karla Ortiz) 는 이미지 생성 AI 서비스를 개발한 3개 기업을 상대로 저작권 침해 소송을 제기\n",
      "∙예술가들은 3개 기업이 AI 모델을 학습시키기 위해 원작자 동의 없이 작품을 학습 데이터셋에 \n",
      "포함하여 저작권을 침해했다고 주장했으며 , 법원은 지난 4월 피소 기업들이 제출한 기각 신청을 \n",
      "수용해 소송을 기각 \n",
      "n오릭 판사는 판결문에서 소송을 기각한 핵심 이유로 예술가들의 저작권 미등록을 제시\n",
      "∙판결문은 소송을 제기한 캘리 맥커넌과 칼라 오르티즈가 미국 저작권청에 예술 작품에 대한 저작권을 \n",
      "제출하지 않았다는 점을 지적했으며 , 사라 앤더슨은 고소장에 인용된 수백 개의 작품 중 16개 작품에 \n",
      "대해서만 저작권을 보유\n",
      "n판결문은 또한 생성 AI 모델 훈련에 사용된 모든 이미지에 저작권이 있다거나 , 생성 AI로 만든 \n",
      "이미지가 저작물을 이용해 훈련되었으므로 저작물의 파생 이미지라는 주장은 개연성이  부족하다고  \n",
      "지적\n",
      "[최종 답변]\n",
      "삼성전자가 개발한 생성형 AI에 대한 내용은 다음과 같습니다:\n",
      "\n",
      "- **삼성 가우스**: 삼성전자는 2023년 11월 8일 '삼성 AI 포럼 2023'에서 자체 개발한 생성형 AI 모델인 '삼성 가우스'를 공개했습니다. 이 모델은 언어, 코드, 이미지의 3개 모델로 구성되어 있으며, 온디바이스에서 작동할 수 있도록 설계되었습니다. 이는 사용자 정보가 외부로 유출될 위험이 없다는 장점을 가지고 있습니다.\n",
      "\n",
      "- **모델 구성**: 삼성 가우스는 다음과 같은 세 가지 모델로 구성됩니다:\n",
      "  1. **언어 모델**: 메일 작성, 문서 요약, 번역 등의 작업을 지원합니다.\n",
      "  2. **코드 모델**: AI 코딩 어시스턴트 '코드아이(code.i)'를 통해 대화형 인터페이스로 서비스를 제공하며, 사내 소프트웨어 개발에 최적화되어 있습니다.\n",
      "  3. **이미지 모델**: 창의적인 이미지를 생성하고 기존 이미지를 수정할 수 있으며, 저해상도 이미지를 고해상도로 변환하는 기능도 지원합니다.\n",
      "\n",
      "- **안전한 데이터 학습**: 삼성 가우스는 라이선스나 개인정보를 침해하지 않는 안전한 데이터를 통해 학습되었으며, 다양한 제품에 단계적으로 탑재될 계획입니다.\n",
      "\n",
      "- **경쟁 전망**: IT 전문지에 따르면, 2024년부터 삼성 가우스를 탑재한 삼성 스마트폰이 메타의 라마(Llama)2를 탑재한 퀄컴 기기 및 구글 어시스턴트를 적용한 구글 픽셀(Pixel)과 경쟁할 것으로 예상됩니다.\n",
      "\n",
      "이 정보는 삼성전자가 발표한 내용을 바탕으로 하며, 생성형 AI 기술의 발전과 그 활용 가능성에 대한 기대를 보여줍니다.\n"
     ]
    }
   ],
   "source": [
    "result = agent_executor.stream(\n",
    "    {\"input\": \"삼성전자가 개발한 생성형 AI 관련 내용을 문서에서 찾아줘\"}\n",
    ")\n",
    "for step in result:\n",
    "    agent_stream_parser.process_agent_steps(step)"
   ]
  },
  {
   "cell_type": "markdown",
   "metadata": {},
   "source": [
    "## 이전 대화내용 기억하는 Agent\n",
    "이전의 대화내용을 기억하기 위해서는 RunnableWithMessageHistory 를 사용하여 AgentExecutor를 감싸줌.\n"
   ]
  },
  {
   "cell_type": "code",
   "execution_count": 20,
   "metadata": {},
   "outputs": [],
   "source": [
    "from langchain_community.chat_message_histories import ChatMessageHistory\n",
    "from langchain_core.runnables import RunnableWithMessageHistory\n",
    "\n",
    "# session_id를 저장할 딕셔너리\n",
    "store = {}\n",
    "\n",
    "def get_session_history(session_id):\n",
    "    if session_id not in store:\n",
    "        # 세션 아이디가 없으면 새로운 ChatMessageHistory 인스턴스 생성\n",
    "        store[session_id] = ChatMessageHistory()\n",
    "    return store[session_id]\n",
    "\n",
    "agent_with_chat_history = RunnableWithMessageHistory(\n",
    "    agent_executor,\n",
    "    # 대화 session_id\n",
    "    get_session_history,\n",
    "    # 프롬프트 질문이 입력되는 key: input\n",
    "    input_messages_key=\"input\",\n",
    "    # 프롬프트의 메세지가 입력되는 key: chat_history\n",
    "    history_messages_key=\"chat_history\",\n",
    ")\n"
   ]
  },
  {
   "cell_type": "code",
   "execution_count": 21,
   "metadata": {},
   "outputs": [
    {
     "name": "stdout",
     "output_type": "stream",
     "text": [
      "[도구 호출]\n",
      "Tool: pdf_search\n",
      "query: 삼성전자 생성형 AI\n",
      "Log: \n",
      "Invoking: `pdf_search` with `{'query': '삼성전자 생성형 AI'}`\n",
      "\n",
      "\n",
      "\n",
      "[관찰 내용]\n",
      "Observation: SPRi AI Brief |  \n",
      "2023-12 월호\n",
      "10삼성전자 , 자체 개발 생성 AI ‘삼성 가우스 ’ 공개\n",
      "n삼성전자가 온디바이스에서 작동 가능하며 언어, 코드, 이미지의 3개 모델로 구성된 자체 개발 생성 \n",
      "AI 모델 ‘삼성 가우스 ’를 공개\n",
      "n삼성전자는 삼성 가우스를 다양한 제품에 단계적으로 탑재할 계획으로 , 온디바이스 작동이 가능한 \n",
      "삼성 가우스는 외부로 사용자 정보가 유출될 위험이 없다는 장점을 보유KEY Contents\n",
      "£언어, 코드, 이미지의 3개 모델로 구성된 삼성 가우스 , 온디바이스 작동 지원\n",
      "n삼성전자가 2023 년 11월 8일 열린 ‘삼성 AI 포럼 2023’ 행사에서 자체 개발한 생성 AI 모델 \n",
      "‘삼성 가우스 ’를 최초 공개\n",
      "∙정규분포 이론을 정립한 천재 수학자 가우스 (Gauss) 의 이름을 본뜬 삼성 가우스는 다양한 상황에 \n",
      "최적화된 크기의 모델 선택이 가능\n",
      "∙삼성 가우스는 라이선스나 개인정보를 침해하지 않는 안전한 데이터를 통해 학습되었으며 , \n",
      "온디바이스에서 작동하도록 설계되어 외부로 사용자의 정보가 유출되지 않는 장점을 보유\n",
      "∙삼성전자는 삼성 가우스를 활용한 온디바이스 AI 기술도 소개했으며 , 생성 AI 모델을 다양한 제품에 \n",
      "단계적으로 탑재할 계획\n",
      "n삼성 가우스는 △텍스트를 생성하는 언어모델 △코드를 생성하는 코드 모델 △이미지를 생성하는  \n",
      "이미지 모델의 3개 모델로 구성\n",
      "∙언어 모델은 클라우드와 온디바이스 대상 다양한 모델로 구성되며 , 메일 작성, 문서 요약, 번역 업무의 \n",
      "처리를 지원\n",
      "∙코드 모델 기반의 AI 코딩 어시스턴트 ‘코드아이 (code.i)’ 는 대화형 인터페이스로 서비스를 제공하며 \n",
      "사내 소프트웨어 개발에 최적화\n",
      "∙이미지 모델은 창의적인 이미지를 생성하고 기존 이미지를 원하는 대로 바꿀 수 있도록 지원하며 \n",
      "저해상도 이미지의 고해상도 전환도 지원\n",
      "nIT 전문지 테크리퍼블릭 (TechRepublic) 은 온디바이스 AI가 주요 기술 트렌드로 부상했다며 ,\n",
      "\n",
      "저해상도 이미지의 고해상도 전환도 지원\n",
      "nIT 전문지 테크리퍼블릭 (TechRepublic) 은 온디바이스 AI가 주요 기술 트렌드로 부상했다며 , \n",
      "2024 년부터 가우스를 탑재한 삼성 스마트폰이 메타의 라마(Llama)2 를 탑재한 퀄컴 기기 및 구글 \n",
      "어시스턴트를 적용한 구글 픽셀(Pixel) 과 경쟁할 것으로 예상\n",
      "☞ 출처 : 삼성전자 , ‘삼성 AI 포럼’서 자체 개발 생성형 AI ‘삼성 가우스 ’ 공개, 2023.11.08.\n",
      "삼성전자 , ‘삼성 개발자 콘퍼런스 코리아 2023’ 개최, 2023.11.14.\n",
      "TechRepublic, Samsung Gauss: Samsung Research Reveals Generative AI, 2023.11.08.\n",
      "\n",
      "1. 정책/법제  2. 기업/산업 3. 기술/연구  4. 인력/교육\n",
      "빌 게이츠 , AI 에이전트로 인한 컴퓨터 사용의 패러다임 변화 전망\n",
      "n빌 게이츠가 5년 내 일상언어로 모든 작업을 처리할 수 있는 AI 에이전트가 보급되며 컴퓨터를 \n",
      "사용하는 방식이 완전히 바뀔 것으로 예상\n",
      "n에이전트의 보급은 컴퓨터 분야를 넘어 산업 전 영역에 영향을 미칠 전망으로 특히 의료와 \n",
      "교육, 생산성 , 엔터테인먼트 ·쇼핑 영역에서 고가로 제공되던 서비스가 대중화될 전망KEY Contents\n",
      "£5년 내 기기에 일상언어로 말하기만 하면 되는 AI 에이전트의 보급 예상\n",
      "n빌 게이츠 마이크로소프트 창업자가 2023 년 11월 9일 공식 블로그를 통해 AI 에이전트가 컴퓨터  \n",
      "사용방식과 소프트웨어 산업을 완전히 변화시킬 것이라는 전망을 제시\n",
      "∙자연어에 반응하고 사용자에 대한 지식을 바탕으로 다양한 작업을 수행하는 소프트웨어를 의미하는 \n",
      "에이전트는 컴퓨터 사용방식이 키보드 입력에서 아이콘 클릭으로 바뀐 이후 최대의 컴퓨팅 혁명을 \n",
      "가져올 전망\n",
      "∙현재는 컴퓨터 작업 시 작업 내용에 따라 각각 다른 앱을 사용해야 하지만 5년 내 에이전트의 발전으로 \n",
      "기기에 일상언어로 말하기만 하면 되는 미래가 도래할 것\n",
      "∙온라인에 접속하는 모든 사람이 AI 기반의 개인 비서를 사용할 수 있게 되며, 에이전트는 사용자에 대한 \n",
      "풍부한 지식을 바탕으로 맞춤화된 대응이 가능하며 시간이 지날수록 개선됨\n",
      "∙일례로 여행 계획 수립 시 AI 챗봇이 예산에 맞는 호텔을 제안하는데 머문다면 , 에이전트는 사용자의 여행 \n",
      "패턴을 분석해 여행지를 제안하고 관심사에 따른 활동을 추천하며 선호하는 스타일의 레스토랑 예약도 가능  \n",
      "£AI 에이전트가 의료와 교육, 생산성 , 엔터테인먼트 ·쇼핑 영역의 서비스 대중화를 주도할 것\n",
      "n에이전트로 인해 주목할 만한 변화는 고비용 서비스의 대중화로 특히 △의료 △교육 △생산성 △\n",
      "엔터테인먼트 ·쇼핑의 4개 영역에서 대규모 변화 예상\n",
      "\n",
      "SPRi AI Brief |  \n",
      "2023-12 월호\n",
      "4미국 법원, 예술가들이 생성 AI 기업에 제기한 저작권 소송 기각\n",
      "n미국 캘리포니아 북부지방법원은 미드저니 , 스태빌리티 AI, 디비언트아트를 대상으로 예술가 \n",
      "3인이 제기한 저작권 침해 소송을 기각\n",
      "n법원은 기각 이유로 고소장에 제시된 상당수 작품이 저작권청에 등록되지 않았으며 , AI로 \n",
      "생성된 이미지와 특정 작품 간 유사성을 입증하기 어렵다는 점을 제시 KEY Contents\n",
      "£예술가들의 AI 저작권 침해 소송, 저작권 미등록과 증거불충분으로 기각\n",
      "n미국 캘리포니아 북부지방법원의 윌리엄 오릭(W illiam Orrick) 판사는 2023년 10월 30일 미드저니\n",
      "(M idjourney),  스태빌리티 AI(Stability AI), 디비언트아트 (DeviantArt) 에 제기된 저작권 침해 소송을 기각 \n",
      "∙2023 년 1월 예술가 사라 앤더슨 (Sarah Anderson), 캘리 맥커넌 (Kelly McKernan), 칼라 \n",
      "오르티즈 (Karla Ortiz) 는 이미지 생성 AI 서비스를 개발한 3개 기업을 상대로 저작권 침해 소송을 제기\n",
      "∙예술가들은 3개 기업이 AI 모델을 학습시키기 위해 원작자 동의 없이 작품을 학습 데이터셋에 \n",
      "포함하여 저작권을 침해했다고 주장했으며 , 법원은 지난 4월 피소 기업들이 제출한 기각 신청을 \n",
      "수용해 소송을 기각 \n",
      "n오릭 판사는 판결문에서 소송을 기각한 핵심 이유로 예술가들의 저작권 미등록을 제시\n",
      "∙판결문은 소송을 제기한 캘리 맥커넌과 칼라 오르티즈가 미국 저작권청에 예술 작품에 대한 저작권을 \n",
      "제출하지 않았다는 점을 지적했으며 , 사라 앤더슨은 고소장에 인용된 수백 개의 작품 중 16개 작품에 \n",
      "대해서만 저작권을 보유\n",
      "n판결문은 또한 생성 AI 모델 훈련에 사용된 모든 이미지에 저작권이 있다거나 , 생성 AI로 만든 \n",
      "이미지가 저작물을 이용해 훈련되었으므로 저작물의 파생 이미지라는 주장은 개연성이  부족하다고  \n",
      "지적\n",
      "[최종 답변]\n",
      "삼성전자가 개발한 생성형 AI에 대한 내용은 다음과 같습니다:\n",
      "\n",
      "- **삼성 가우스**: 삼성전자는 2023년 11월 8일 '삼성 AI 포럼 2023'에서 자체 개발한 생성형 AI 모델인 '삼성 가우스'를 공개했습니다. 이 모델은 언어, 코드, 이미지의 3개 모델로 구성되어 있으며, 온디바이스에서 작동할 수 있도록 설계되었습니다. 이는 사용자 정보가 외부로 유출될 위험이 없다는 장점을 가지고 있습니다.\n",
      "\n",
      "- **모델 구성**: 삼성 가우스는 다음과 같은 세 가지 모델로 구성됩니다:\n",
      "  1. **언어 모델**: 메일 작성, 문서 요약, 번역 등의 작업을 지원합니다.\n",
      "  2. **코드 모델**: AI 코딩 어시스턴트 '코드아이(code.i)'를 통해 대화형 인터페이스로 서비스를 제공하며, 사내 소프트웨어 개발에 최적화되어 있습니다.\n",
      "  3. **이미지 모델**: 창의적인 이미지를 생성하고 기존 이미지를 수정할 수 있으며, 저해상도 이미지를 고해상도로 변환하는 기능도 지원합니다.\n",
      "\n",
      "- **안전한 데이터 학습**: 삼성 가우스는 라이선스나 개인정보를 침해하지 않는 안전한 데이터를 통해 학습되었으며, 다양한 제품에 단계적으로 탑재될 계획입니다.\n",
      "\n",
      "- **경쟁 전망**: IT 전문지에 따르면, 2024년부터 삼성 가우스를 탑재한 삼성 스마트폰이 메타의 라마(Llama)2를 탑재한 퀄컴 기기 및 구글 어시스턴트를 적용한 구글 픽셀(Pixel)과 경쟁할 것으로 예상됩니다.\n",
      "\n",
      "이 정보는 삼성전자가 발표한 내용을 바탕으로 하며, 생성형 AI 기술의 발전과 그 활용 가능성에 대한 기대를 보여줍니다.\n"
     ]
    }
   ],
   "source": [
    "response = agent_with_chat_history.stream(\n",
    "    {\"input\": \"삼성전자가 개발한 생성형 AI 관련 내용을 문서에서 찾아줘\"},\n",
    "    # session_id 설정\n",
    "    config = {\"configurable\": {\"session_id\": \"123\"}}\n",
    "\n",
    ")\n",
    "for step in response:\n",
    "    agent_stream_parser.process_agent_steps(step)"
   ]
  },
  {
   "cell_type": "code",
   "execution_count": 22,
   "metadata": {},
   "outputs": [
    {
     "name": "stdout",
     "output_type": "stream",
     "text": [
      "[최종 답변]\n",
      "Here is the translation of the previous response into English:\n",
      "\n",
      "- **Samsung Gauss**: On November 8, 2023, Samsung Electronics unveiled its generative AI model called 'Samsung Gauss' at the 'Samsung AI Forum 2023'. This model consists of three components: language, code, and image models, and is designed to operate on-device, ensuring that user information is not at risk of being leaked externally.\n",
      "\n",
      "- **Model Composition**: Samsung Gauss is composed of the following three models:\n",
      "  1. **Language Model**: Supports tasks such as email writing, document summarization, and translation.\n",
      "  2. **Code Model**: Provides a conversational interface through the AI coding assistant 'code.i', optimized for in-house software development.\n",
      "  3. **Image Model**: Capable of generating creative images and modifying existing ones, as well as converting low-resolution images to high-resolution.\n",
      "\n",
      "- **Safe Data Learning**: Samsung Gauss is trained on safe data that does not infringe on licenses or personal information, and it is planned to be gradually integrated into various products.\n",
      "\n",
      "- **Competitive Outlook**: According to IT publications, Samsung Gauss-equipped smartphones are expected to compete with Qualcomm devices featuring Meta's Llama 2 and Google Pixel devices utilizing Google Assistant starting in 2024.\n",
      "\n",
      "This information is based on Samsung's announcements and reflects the advancements in generative AI technology and the expectations for its potential applications.\n"
     ]
    }
   ],
   "source": [
    "response = agent_with_chat_history.stream(\n",
    "    {\"input\": \"이전의 답변 영어로 번역해줘\"},\n",
    "    # session_id 설정\n",
    "    config = {\"configurable\": {\"session_id\": \"123\"}}\n",
    "\n",
    ")\n",
    "for step in response:\n",
    "    agent_stream_parser.process_agent_steps(step)"
   ]
  }
 ],
 "metadata": {
  "kernelspec": {
   "display_name": "langchain-rag-UhYHSyIM-py3.11",
   "language": "python",
   "name": "python3"
  },
  "language_info": {
   "codemirror_mode": {
    "name": "ipython",
    "version": 3
   },
   "file_extension": ".py",
   "mimetype": "text/x-python",
   "name": "python",
   "nbconvert_exporter": "python",
   "pygments_lexer": "ipython3",
   "version": "3.11.0"
  }
 },
 "nbformat": 4,
 "nbformat_minor": 2
}
