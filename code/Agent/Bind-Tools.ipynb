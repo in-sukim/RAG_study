{
 "cells": [
  {
   "cell_type": "markdown",
   "metadata": {},
   "source": [
    "## LLM 도구 바인딩(Binding Tools)\n",
    "\n",
    "LLM 모델이 도구를 호출할 수 있으려면 chat 요청 시 모델에 도구 스키마(tool schema)를 포함해야 함.<br>\n",
    "도구 호출(tool calling) 기능을 지원하는 LangChain Chat Model은 .bind_tools() 메서드를 구현하여 LangChain 도구 객체, Pydantic 클래스 또는 <br>JSON 스키마 목록을 수신하고 공급자별 예상 형식으로 채팅 모델에 바인딩.<br>\n",
    "바인딩된 Chat Model의 후속 호출은 모델 API에 대한 모든 호출에 도구 스키마를 포함."
   ]
  },
  {
   "cell_type": "code",
   "execution_count": 1,
   "metadata": {},
   "outputs": [
    {
     "name": "stdout",
     "output_type": "stream",
     "text": [
      "LangSmith 추적을 시작합니다.\n",
      "[프로젝트명]\n",
      "Bind-Tools\n"
     ]
    }
   ],
   "source": [
    "from dotenv import load_dotenv\n",
    "from langchain_teddynote import logging\n",
    "\n",
    "load_dotenv()\n",
    "logging.langsmith(\"Bind-Tools\")"
   ]
  },
  {
   "cell_type": "markdown",
   "metadata": {},
   "source": [
    "### Binding할 Tool 정의\n",
    "- get_word_length: 단어의 길이를 반환하는 함수\n",
    "- add_function: 두 숫자를 더하는 함수\n",
    "- naver_news_crawl: 네이버 뉴스 기사를 크롤링하여 본문 내용을 반환하는 함수\n",
    "\n",
    "참고\n",
    "- 도구를 정의할 때 @tool 데코레이터를 사용하여 도구 정의\n",
    "- docstring은 가급적 영어로 작성하는 것을 권장"
   ]
  },
  {
   "cell_type": "code",
   "execution_count": 2,
   "metadata": {},
   "outputs": [],
   "source": [
    "import re\n",
    "import requests\n",
    "from bs4 import BeautifulSoup\n",
    "from langchain.agents import tool\n",
    "\n",
    "# 도구를 정의\n",
    "@tool\n",
    "def get_word_length(word: str) -> int:\n",
    "    \"\"\"Returns the length of a word.\"\"\"\n",
    "    return len(word)\n",
    "\n",
    "\n",
    "@tool\n",
    "def add_function(a: float, b: float) -> float:\n",
    "    \"\"\"Adds two numbers together.\"\"\"\n",
    "    return a + b\n",
    "\n",
    "\n",
    "@tool\n",
    "def naver_news_crawl(news_url: str) -> str:\n",
    "    \"\"\"Crawls a 네이버 (naver.com) news article and returns the body content.\"\"\"\n",
    "    # HTTP GET 요청 보내기\n",
    "    response = requests.get(news_url)\n",
    "\n",
    "    # 요청이 성공했는지 확인\n",
    "    if response.status_code == 200:\n",
    "        # BeautifulSoup을 사용하여 HTML 파싱\n",
    "        soup = BeautifulSoup(response.text, \"html.parser\")\n",
    "\n",
    "        # 원하는 정보 추출\n",
    "        title = soup.find(\"h2\", id=\"title_area\").get_text()\n",
    "        content = soup.find(\"div\", id=\"contents\").get_text()\n",
    "        cleaned_title = re.sub(r\"\\n{2,}\", \"\\n\", title)\n",
    "        cleaned_content = re.sub(r\"\\n{2,}\", \"\\n\", content)\n",
    "    else:\n",
    "        print(f\"HTTP 요청 실패. 응답 코드: {response.status_code}\")\n",
    "\n",
    "    return f\"{cleaned_title}\\n{cleaned_content}\"\n",
    "\n",
    "\n",
    "tools = [get_word_length, add_function, naver_news_crawl]"
   ]
  },
  {
   "cell_type": "code",
   "execution_count": 3,
   "metadata": {},
   "outputs": [],
   "source": [
    "from langchain_openai import ChatOpenAI\n",
    "\n",
    "llm = ChatOpenAI(model=\"gpt-4o-mini\", temperature=0)\n",
    "\n",
    "llm_with_tools = llm.bind_tools(tools)"
   ]
  },
  {
   "cell_type": "code",
   "execution_count": 4,
   "metadata": {},
   "outputs": [
    {
     "data": {
      "text/plain": [
       "[{'name': 'get_word_length',\n",
       "  'args': {'word': 'teddynote'},\n",
       "  'id': 'call_htzzg7Q3Knt2h7PfgYB4nrVG',\n",
       "  'type': 'tool_call'}]"
      ]
     },
     "execution_count": 4,
     "metadata": {},
     "output_type": "execute_result"
    }
   ],
   "source": [
    "# 결과 tool_calls에 저장. .tool_calls를 확인하여 도구 호출 결과 확인 가능.\n",
    "llm_with_tools.invoke(\"What is the length of the word 'teddynote'?\").tool_calls"
   ]
  },
  {
   "cell_type": "code",
   "execution_count": 7,
   "metadata": {},
   "outputs": [],
   "source": [
    "from langchain_core.output_parsers import JsonOutputToolsParser\n",
    "\n",
    "chain = llm_with_tools | JsonOutputToolsParser()\n",
    "tool_call_result = chain.invoke(\"What is the length of the word 'teddynote'?\")"
   ]
  },
  {
   "cell_type": "code",
   "execution_count": 8,
   "metadata": {},
   "outputs": [
    {
     "data": {
      "text/plain": [
       "[{'args': {'word': 'teddynote'}, 'type': 'get_word_length'}]"
      ]
     },
     "execution_count": 8,
     "metadata": {},
     "output_type": "execute_result"
    }
   ],
   "source": [
    "tool_call_result"
   ]
  },
  {
   "cell_type": "code",
   "execution_count": 9,
   "metadata": {},
   "outputs": [
    {
     "data": {
      "text/plain": [
       "{'args': {'word': 'teddynote'}, 'type': 'get_word_length'}"
      ]
     },
     "execution_count": 9,
     "metadata": {},
     "output_type": "execute_result"
    }
   ],
   "source": [
    "tool_call_result[0]"
   ]
  },
  {
   "cell_type": "code",
   "execution_count": 10,
   "metadata": {},
   "outputs": [],
   "source": [
    "def excute_tool_calls(tool_call_results):\n",
    "    \"\"\"\n",
    "    도구 호출 결과를 실행하는 함수.\n",
    "    :param tool_call_result: 도구 호출 결과 리스트\n",
    "    :param tools: 사용 가능한 도구 리스트\n",
    "    \"\"\"\n",
    "    for tool_call_result in tool_call_results:\n",
    "        # 도구 이름과 인자 추출\n",
    "        tool_name = tool_call_result[\"type\"]\n",
    "        tool_args = tool_call_result[\"args\"]\n",
    "        # 도구 이름과 일치하는 도구 찾아 실행\n",
    "        # next() 함수를 사용하여 일치하는 첫번째 도구 찾기.\n",
    "        matching_tool = next((tool for tool in tools if tool.name == tool_name), None)\n",
    "\n",
    "        if matching_tool:\n",
    "            # 일치하는 도구 찾았다면 해당 도구 실행\n",
    "            result = matching_tool.invoke(tool_args)\n",
    "            # 실행 결과 출력.\n",
    "            print(f\"[실행도구] {tool_name}\\n[실행결과] {result}\")\n",
    "        else:\n",
    "            print(f\"도구 이름과 일치하는 도구를 찾을 수 없습니다: {tool_name}\")"
   ]
  },
  {
   "cell_type": "code",
   "execution_count": 11,
   "metadata": {},
   "outputs": [
    {
     "name": "stdout",
     "output_type": "stream",
     "text": [
      "[실행도구] get_word_length\n",
      "[실행결과] 9\n"
     ]
    }
   ],
   "source": [
    "excute_tool_calls(tool_call_result)"
   ]
  },
  {
   "cell_type": "markdown",
   "metadata": {},
   "source": [
    "### bind_tools + Parser + Execution\n",
    "\n",
    "위의 과정을 한번에 실행\n",
    "- llm_with_tools: 도구를 바인딩한 모델\n",
    "- JsonOutputToolsParser(): 도구 호출 결과를 JSON 형식으로 파싱\n",
    "- excute_tool_calls(): 도구 호출 결과를 실행하는 함수\n",
    "\n",
    "흐름 정리\n",
    "- 모델에 도구 바인딩\n",
    "- 도구 호출 결과 파싱\n",
    "- 도구 호출 결과 실행"
   ]
  },
  {
   "cell_type": "code",
   "execution_count": 12,
   "metadata": {},
   "outputs": [],
   "source": [
    "from langchain_core.output_parsers.openai_tools import JsonOutputToolsParser\n",
    "\n",
    "chain = llm_with_tools | JsonOutputToolsParser() | excute_tool_calls"
   ]
  },
  {
   "cell_type": "code",
   "execution_count": 13,
   "metadata": {},
   "outputs": [
    {
     "name": "stdout",
     "output_type": "stream",
     "text": [
      "[실행도구] get_word_length\n",
      "[실행결과] 9\n"
     ]
    }
   ],
   "source": [
    "# 실행 결과\n",
    "chain.invoke(\"What is the length of the word 'teddynote'?\")"
   ]
  },
  {
   "cell_type": "code",
   "execution_count": 15,
   "metadata": {},
   "outputs": [
    {
     "name": "stdout",
     "output_type": "stream",
     "text": [
      "[실행도구] add_function\n",
      "[실행결과] 235.7\n"
     ]
    }
   ],
   "source": [
    "chain.invoke(\"114.5 + 121.2\")"
   ]
  },
  {
   "cell_type": "markdown",
   "metadata": {},
   "source": [
    "### bind_tools > Agent & AgentExecutor로 대체\n",
    "bind_tools()는 모델에 사용할 수 있는 스키마(도구) 제공.\n",
    "AgentExecutor는 실제로 llm 호출, 올바른 도구로 라우팅, 실행, 모델 재호출 등을 위한 실행 루프를 생성."
   ]
  },
  {
   "cell_type": "code",
   "execution_count": 16,
   "metadata": {},
   "outputs": [],
   "source": [
    "from langchain_core.prompts import ChatPromptTemplate, MessagesPlaceholder\n",
    "from langchain_openai import ChatOpenAI\n",
    "\n",
    "llm = ChatOpenAI(\n",
    "    model=\"gpt-4o-mini\",\n",
    "    temperature=0\n",
    ")\n",
    "\n",
    "prompt = ChatPromptTemplate.from_messages([\n",
    "    (\"system\", \"You are very powerful assistant, but don't know current events.\"),\n",
    "    (\"user\", \"{input}\"),\n",
    "    MessagesPlaceholder(variable_name=\"agent_scratchpad\")\n",
    "    ]\n",
    ")"
   ]
  },
  {
   "cell_type": "code",
   "execution_count": 17,
   "metadata": {},
   "outputs": [],
   "source": [
    "from langchain.agents import create_tool_calling_agent\n",
    "from langchain.agents import AgentExecutor\n",
    "\n",
    "# 이전에 정의한 도구 사용\n",
    "tools = [get_word_length, add_function, naver_news_crawl]\n",
    "\n",
    "# Agent 생성\n",
    "agent = create_tool_calling_agent(llm, tools, prompt)\n",
    "\n",
    "# AgentExecutor 생성\n",
    "agent_executor = AgentExecutor(\n",
    "    agent=agent,\n",
    "    tools = tools,\n",
    "    verbose = True,\n",
    "    handle_parse_errors = True,\n",
    ")                           "
   ]
  },
  {
   "cell_type": "code",
   "execution_count": 18,
   "metadata": {},
   "outputs": [
    {
     "name": "stdout",
     "output_type": "stream",
     "text": [
      "\n",
      "\n",
      "\u001b[1m> Entering new AgentExecutor chain...\u001b[0m\n",
      "\u001b[32;1m\u001b[1;3m\n",
      "Invoking: `get_word_length` with `{'word': 'teddynote'}`\n",
      "\n",
      "\n",
      "\u001b[0m\u001b[36;1m\u001b[1;3m9\u001b[0m\u001b[32;1m\u001b[1;3mThe word 'teddynote' has 9 letters.\u001b[0m\n",
      "\n",
      "\u001b[1m> Finished chain.\u001b[0m\n",
      "The word 'teddynote' has 9 letters.\n"
     ]
    }
   ],
   "source": [
    "result = agent_executor.invoke({\"input\": \"How many letters in the word 'teddynote'?\"})\n",
    "\n",
    "print(result[\"output\"])"
   ]
  },
  {
   "cell_type": "code",
   "execution_count": 19,
   "metadata": {},
   "outputs": [
    {
     "name": "stdout",
     "output_type": "stream",
     "text": [
      "\n",
      "\n",
      "\u001b[1m> Entering new AgentExecutor chain...\u001b[0m\n",
      "\u001b[32;1m\u001b[1;3m\n",
      "Invoking: `add_function` with `{'a': 114.5, 'b': 121.2}`\n",
      "\n",
      "\n",
      "\u001b[0m\u001b[33;1m\u001b[1;3m235.7\u001b[0m\u001b[32;1m\u001b[1;3mThe sum of 114.5 and 121.2 is 235.7.\u001b[0m\n",
      "\n",
      "\u001b[1m> Finished chain.\u001b[0m\n",
      "The sum of 114.5 and 121.2 is 235.7.\n"
     ]
    }
   ],
   "source": [
    "result2 = agent_executor.invoke({\"input\": \"114.5 + 121.2\"})\n",
    "\n",
    "print(result2[\"output\"])"
   ]
  },
  {
   "cell_type": "code",
   "execution_count": 20,
   "metadata": {},
   "outputs": [
    {
     "name": "stdout",
     "output_type": "stream",
     "text": [
      "\n",
      "\n",
      "\u001b[1m> Entering new AgentExecutor chain...\u001b[0m\n",
      "\u001b[32;1m\u001b[1;3m\n",
      "Invoking: `add_function` with `{'a': 114.5, 'b': 121.2}`\n",
      "\n",
      "\n",
      "\u001b[0m\u001b[33;1m\u001b[1;3m235.7\u001b[0m\u001b[32;1m\u001b[1;3m\n",
      "Invoking: `add_function` with `{'a': 34.2, 'b': 110.1}`\n",
      "\n",
      "\n",
      "\u001b[0m\u001b[33;1m\u001b[1;3m144.3\u001b[0m\u001b[32;1m\u001b[1;3m\n",
      "Invoking: `add_function` with `{'a': 235.7, 'b': 144.3}`\n",
      "\n",
      "\n",
      "\u001b[0m\u001b[33;1m\u001b[1;3m380.0\u001b[0m\u001b[32;1m\u001b[1;3m114.5 + 121.2 + 34.2 + 110.1의 계산 결과는 380.0입니다.\u001b[0m\n",
      "\n",
      "\u001b[1m> Finished chain.\u001b[0m\n",
      "114.5 + 121.2 + 34.2 + 110.1의 계산 결과는 380.0입니다.\n",
      "=============\n",
      "\n",
      "380.0\n"
     ]
    }
   ],
   "source": [
    "result3 = agent_executor.invoke({\"input\": \"114.5 + 121.2 + 34.2 + 110.1 의 계산 결과는?\"})\n",
    "\n",
    "print(result3[\"output\"])\n",
    "print(\"=============\\n\")\n",
    "print(114.5 + 121.2 + 34.2 + 110.1)"
   ]
  },
  {
   "cell_type": "code",
   "execution_count": 21,
   "metadata": {},
   "outputs": [
    {
     "name": "stdout",
     "output_type": "stream",
     "text": [
      "\n",
      "\n",
      "\u001b[1m> Entering new AgentExecutor chain...\u001b[0m\n",
      "\u001b[32;1m\u001b[1;3m\n",
      "Invoking: `naver_news_crawl` with `{'news_url': 'https://n.news.naver.com/mnews/hotissue/article/092/0002347672?type=series&cid=2000065'}`\n",
      "\n",
      "\n",
      "\u001b[0m\u001b[38;5;200m\u001b[1;3m[미장브리핑] 9월 미국 CPI 주목…3분기 S&P500 실적 발표\n",
      "\n",
      "\t\t\t▲10일(현지시간) 미국 9월 소비자물가지수(CPI) 발표 예정. 고용 지표가 양호하게 나온 가운데 물가 지표 주목. 9월 미국 비농업고용 25만4천명 증가해 시장 예상치 14만명 크게 상회. 이는 6개월 래 최대 규모로 지난 12개월 평균값 20만3천명 증가한 것보다도 높은 수치. 9월 실업률은 4.1%로 2개월 연속 하락했으며, 평균 시간당 임금은 전년 동월 대비 4% 증가해 5월 이후 최고 수준.▲시장에서 9월 헤드라인 CPI는 8월 전년 동월 대비 2.6% 로 5개월 연속 둔화하고 9월에는 2.3% 증가로 추가 하락 예상. 전월 대비도 8월 0.2% 둔화 예상. 근원 CPI는 지난 8월 3.2%와 비슷한 수준 관측.▲11일에는 미국 9월 제조업물가지수(PPI) 발표. 지난 6월 부터 8월까지 반등 추세 꺾여. 8월은 1.7% 증가.\n",
      "(사진=이미지투데이)▲11월 미국 연방준비제도(연준) 공개시장위원회(FOMC) 에서 0.50%p 인하 기대가 크케 후퇴한 가운데, 9일에는 FOMC 의사록 공개. 지난 9월 회의에서 빅컷(0.50%p) 단행한 배경과 인플레이션 전망에 대한 논의를 알 수 있을 것으로 보여.▲미국 스탠다드앤푸어스(S&P) 500 기업의 3분기 실적 발표 시작. 평균 이익증가율 추정치는 전년 동기 대비 4.6%로 5개분기 연속 플러스이나 증가폭은 둔화 예상. 11일부터 JP모건체이스, 웰스파고 등 대형은행들의 실적 발표.▲FTSE 러셀은 8일 정례 시장분류 결과를 발표. 한국은 2022년 관찰대상국 지정 이후 금번 시장접근성 등급(L1) 상향으로 세계국채지수(WGBI) 에 편입될 지 관심. 주식의 경우 지난 2009년부터 선진국 지수에 편입돼 있는 한국 증시에 대해 공매도 제한 등을 이유로 관찰 대상국으로 지정할지 관심. 지정되더라도 검토 기간이 있어 즉각 제외되지는 않음.\n",
      "손희연 기자(kunst@zdnet.co.kr)\n",
      "기자 프로필\n",
      "지디넷코리아\n",
      "지디넷코리아\n",
      "손희연 기자\n",
      "구독\n",
      "구독중\n",
      "구독자 0\n",
      "응원수\n",
      "0\n",
      "디지털이 접목되는 금융·식음료업계를 취재합니다 \n",
      "[미장브리핑] ASML 주가 16% 폭락…나스닥 1%대 하락\n",
      "'도 넘은 발언 자중' 이복현 \"대출 안 꺾였으면 금리 인하 어려웠을 것\"\n",
      "지디넷코리아의 구독 많은 기자를 구독해보세요!\n",
      "닫기\n",
      "Copyright ⓒ ZDNet Korea. All rights reserved. 무단 전재 및 재배포 금지.\n",
      " \n",
      "이 기사는 언론사에서 IT 섹션으로 분류했습니다.\n",
      "기사 섹션 분류 안내\n",
      "기사의 섹션 정보는 해당 언론사의 분류를 따르고 있습니다. 언론사는 개별 기사를 2개 이상 섹션으로 중복 분류할 수 있습니다.\n",
      "닫기\n",
      "구독\n",
      "메인에서 바로 보는 언론사 편집 뉴스 지금 바로 구독해보세요!\n",
      "구독중\n",
      "메인에서 바로 보는 언론사 편집 뉴스 지금 바로 확인해보세요!\n",
      "지디넷코리아 '홈페이지'\n",
      "QR 코드를 클릭하면 크게 볼 수 있어요.\n",
      "QR을 촬영해보세요.\n",
      "지디넷코리아 '홈페이지'\n",
      "닫기\n",
      "네이버 채널 구독하기\n",
      "지디넷코리아\n",
      "지디넷코리아\n",
      "\t\t\t주요뉴스해당 언론사에서 선정하며 언론사 페이지(아웃링크)로 이동해 볼 수 있습니다.\n",
      "KB금융, 광주 1인 여성 자영업자에 월 100만원 지원\n",
      "아파트만? 이제 빌라 주담대도 갈아타자\n",
      "카카오뱅크, 6일 새벽 금융거래 일시 중단\n",
      "우리은행 올해만 세 번째 금융사고…\"허위서류로 55억 대출\"\n",
      "이 기사를 추천합니다\n",
      "기사 추천은 24시간 내 50회까지 참여할 수 있습니다.\n",
      "닫기\n",
      "쏠쏠정보\n",
      "0\n",
      "흥미진진\n",
      "0\n",
      "공감백배\n",
      "0\n",
      "분석탁월\n",
      "0\n",
      "후속강추\n",
      "0\n",
      " \n",
      "모두에게 보여주고 싶은 기사라면?beta\n",
      "이 기사를 추천합니다 버튼을 눌러주세요.  집계 기간 동안 추천을 많이 받은 기사는 네이버 자동 기사배열 영역에 추천 요소로 활용됩니다.\n",
      "레이어 닫기\n",
      " \n",
      "연재\n",
      "미장브리핑\n",
      "구독 명\n",
      "구독\n",
      "구독중\n",
      "구독해주셔서 감사합니다\n",
      "구독한 연재는 설정 페이지에서확인할 수 있습니다\n",
      "닫기\n",
      "더보기\n",
      "중동발 위기 고조…국제유가 급등\n",
      "9월 미국 CPI 주목…3분기 S&P500 실적 발표\n",
      "중동발 긴장 고조…한 때 원유값 급등\n",
      "지디넷코리아 언론사홈 바로가기\n",
      " \n",
      "기자 구독 후 기사보기\n",
      "구독 없이 계속 보기\n",
      "연재 구독 후 기사보기\n",
      "구독 없이 계속 보기\n",
      "\u001b[0m\u001b[32;1m\u001b[1;3m기사 요약:\n",
      "\n",
      "9월 10일(현지시간) 미국의 소비자물가지수(CPI) 발표가 예정되어 있으며, 고용 지표가 양호한 가운데 물가 지표에 주목하고 있다. 9월 비농업 고용은 25만4천명 증가하여 시장 예상치를 크게 상회했으며, 실업률은 4.1%로 하락했다. 9월 헤드라인 CPI는 8월 대비 2.3% 증가할 것으로 예상되며, 근원 CPI는 3.2% 수준을 유지할 것으로 보인다.\n",
      "\n",
      "11일에는 제조업물가지수(PPI) 발표가 예정되어 있으며, 미국 연방준비제도(FOMC)에서는 금리 인하 기대가 줄어들고 있다. 또한, S&P 500 기업의 3분기 실적 발표가 시작되며, 평균 이익 증가율은 4.6%로 예상된다. 한국은 FTSE 러셀의 시장접근성 등급이 상향 조정될 가능성이 있어 주목받고 있다.\u001b[0m\n",
      "\n",
      "\u001b[1m> Finished chain.\u001b[0m\n",
      "기사 요약:\n",
      "\n",
      "9월 10일(현지시간) 미국의 소비자물가지수(CPI) 발표가 예정되어 있으며, 고용 지표가 양호한 가운데 물가 지표에 주목하고 있다. 9월 비농업 고용은 25만4천명 증가하여 시장 예상치를 크게 상회했으며, 실업률은 4.1%로 하락했다. 9월 헤드라인 CPI는 8월 대비 2.3% 증가할 것으로 예상되며, 근원 CPI는 3.2% 수준을 유지할 것으로 보인다.\n",
      "\n",
      "11일에는 제조업물가지수(PPI) 발표가 예정되어 있으며, 미국 연방준비제도(FOMC)에서는 금리 인하 기대가 줄어들고 있다. 또한, S&P 500 기업의 3분기 실적 발표가 시작되며, 평균 이익 증가율은 4.6%로 예상된다. 한국은 FTSE 러셀의 시장접근성 등급이 상향 조정될 가능성이 있어 주목받고 있다.\n"
     ]
    }
   ],
   "source": [
    "result4 = agent_executor.invoke(\n",
    "    {\n",
    "        \"input\": \"뉴스 기사를 요약해 줘: https://n.news.naver.com/mnews/hotissue/article/092/0002347672?type=series&cid=2000065\"\n",
    "    }\n",
    ")\n",
    "print(result4[\"output\"])"
   ]
  }
 ],
 "metadata": {
  "kernelspec": {
   "display_name": "langchain-rag-UhYHSyIM-py3.11",
   "language": "python",
   "name": "python3"
  },
  "language_info": {
   "codemirror_mode": {
    "name": "ipython",
    "version": 3
   },
   "file_extension": ".py",
   "mimetype": "text/x-python",
   "name": "python",
   "nbconvert_exporter": "python",
   "pygments_lexer": "ipython3",
   "version": "3.11.0"
  }
 },
 "nbformat": 4,
 "nbformat_minor": 2
}
