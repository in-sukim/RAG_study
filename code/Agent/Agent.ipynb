{
 "cells": [
  {
   "cell_type": "markdown",
   "metadata": {},
   "source": [
    "## 도구 호출 에이전트(Tool Calling Agent)\n",
    "\n",
    "도구 호출을 사용하면 모델이 하나 이상의 도구가 호출되어야 하는 시기를 감지하고 해당 도구에 전달해야 하는 입력으로 전달 가능.<br>\n",
    "API 호출에서도 도구를 설명하고 모델이 이러한 도구를 호출하기 위한 인수가 포함된 JSON과 같은 구조화된 객체를 출력하도록 지능적으로 선택 가능.<br>\n",
    "도구 API의 목표는 일반 텍스트 완성이나 채팅 API를 사용하여 수행할 수 있는 것보다 더 안정적이고 유효하고 유용한 도구 호출(tool call)을 반환하는 것. <br>\n",
    "이러한 구조화된 출력을 도구 호출 채팅 모델에 여러 도구를 바인딩하고 모델이 호출할 도구를 선택할 수 있다는 사실과 결합하여 쿼리가 해결할 때까지 반복적으로 도구를 호출하고<br>\n",
    "결과를 수신하는 에이전트를 만들 수 있다.<br>"
   ]
  },
  {
   "cell_type": "code",
   "execution_count": 1,
   "metadata": {},
   "outputs": [
    {
     "name": "stdout",
     "output_type": "stream",
     "text": [
      "LangSmith 추적을 시작합니다.\n",
      "[프로젝트명]\n",
      "CH15-Agents\n"
     ]
    }
   ],
   "source": [
    "# LangSmith 추적을 설정합니다. https://smith.langchain.com\n",
    "# !pip install -qU langchain-teddynote\n",
    "from langchain_teddynote import logging\n",
    "\n",
    "# 프로젝트 이름을 입력합니다.\n",
    "logging.langsmith(\"CH15-Agents\")"
   ]
  },
  {
   "cell_type": "code",
   "execution_count": 2,
   "metadata": {},
   "outputs": [
    {
     "name": "stdout",
     "output_type": "stream",
     "text": [
      "도구 이름: search_news\n",
      "도구 설명: Search Google News by input keyword\n",
      "도구 이름: python_repl_tool\n",
      "도구 설명: Use this to execute python code. If you want to see the output of a value,\n",
      "    you should print it out with `print(...)`. This is visible to the user.\n"
     ]
    }
   ],
   "source": [
    "from langchain.tools import tool\n",
    "from typing import List, Dict, Annotated\n",
    "from langchain_teddynote.tools import GoogleNews\n",
    "from langchain_experimental.utilities import PythonREPL\n",
    "\n",
    "\n",
    "# 도구 생성\n",
    "@tool\n",
    "def search_news(query: str) -> List[Dict[str, str]]:\n",
    "    \"\"\"Search Google News by input keyword\"\"\"\n",
    "    news_tool = GoogleNews()\n",
    "    return news_tool.search_by_keyword(query, k=5)\n",
    "\n",
    "\n",
    "# 도구 생성\n",
    "@tool\n",
    "def python_repl_tool(\n",
    "    code: Annotated[str, \"The python code to execute to generate your chart.\"],\n",
    "):\n",
    "    \"\"\"Use this to execute python code. If you want to see the output of a value,\n",
    "    you should print it out with `print(...)`. This is visible to the user.\"\"\"\n",
    "    result = \"\"\n",
    "    try:\n",
    "        result = PythonREPL().run(code)\n",
    "    except BaseException as e:\n",
    "        print(f\"Failed to execute. Error: {repr(e)}\")\n",
    "    finally:\n",
    "        return result\n",
    "\n",
    "\n",
    "print(f\"도구 이름: {search_news.name}\")\n",
    "print(f\"도구 설명: {search_news.description}\")\n",
    "print(f\"도구 이름: {python_repl_tool.name}\")\n",
    "print(f\"도구 설명: {python_repl_tool.description}\")"
   ]
  },
  {
   "cell_type": "code",
   "execution_count": 3,
   "metadata": {},
   "outputs": [],
   "source": [
    "# tools 정의\n",
    "tools = [search_news, python_repl_tool]"
   ]
  },
  {
   "cell_type": "markdown",
   "metadata": {},
   "source": [
    "### Agent 프롬프트 생성\n",
    "- chat_history: 이전 대화 내용을 저장하는 변수(멀티턴을 지원하지 않는다면, 생략 가능)\n",
    "- agent_scratchpad: 에이전트가 작업을 수행하는 과정을 저장하는 변수\n",
    "- input: 사용자의 입력"
   ]
  },
  {
   "cell_type": "code",
   "execution_count": 4,
   "metadata": {},
   "outputs": [],
   "source": [
    "from langchain_core.prompts import ChatPromptTemplate\n",
    "prompt = ChatPromptTemplate.from_messages(\n",
    "    [\n",
    "        (\n",
    "            \"system\",\n",
    "            \"You are a helpful assistant. \"\n",
    "            \"Make sure to use the `search_news` tool for searching keyword related news.\",\n",
    "        ),\n",
    "        (\"placeholder\", \"{chat_history}\"),\n",
    "        (\"human\", \"{input}\"),\n",
    "        (\"placeholder\", \"{agent_scratchpad}\"),\n",
    "    ]\n",
    ")"
   ]
  },
  {
   "cell_type": "code",
   "execution_count": 5,
   "metadata": {},
   "outputs": [],
   "source": [
    "# Agent 생성\n",
    "from langchain_openai import ChatOpenAI\n",
    "from langchain.agents import create_tool_calling_agent\n",
    "\n",
    "# LLM 정의\n",
    "llm = ChatOpenAI(\n",
    "    model='gpt-4o-mini',\n",
    "    temperature=0)\n",
    "\n",
    "agent = create_tool_calling_agent(llm, tools, prompt)"
   ]
  },
  {
   "cell_type": "markdown",
   "metadata": {},
   "source": [
    "### AgentExecutor\n",
    "\n",
    "도구를 사용하는 에이전트를 실행하는 클래스\n",
    "- agent: 실행 루프의 각 단게에서 계획을 생성하고 행동을 결정하는 에이전트\n",
    "- tools: 에이전트가 사용할 도구 목록\n",
    "- return_intermediate_steps: 중간 단계의 결과를 반환할지 여부\n",
    "- max_iterations: 실행 루프를 종료하기 전 최대 단계 수\n",
    "- max_execution_time: 실행 루프에 소요될 수 있는 최대 시간\n",
    "- early_stopping_method: 에이전트가 AgentFinish를 반환하지 않을 때 사용할 조기 종료 방법(\"force\" or \"generate\")\n",
    "    - \"force\": 시간 또는 반복 제한에 도달하여 중지되었다는 문자열을 반환\n",
    "    - \"generate\": 에이전트 LLM 체인을 마지막으로 한 번 호출하여 이전 단계에 따라 최종 답변 생성.\n",
    "- handle_parsing_error: 에이전트 출력 파서에서 발생한 오류 처리 방법(True, False, 또는 오류 처리 함수)\n",
    "- trim_intermediate_steps: 중간 단계를 트리밍하는 방법(-1 trim 하지 않음, 또는 트리밍 함수)\n",
    "\n",
    "주요 메서드\n",
    "- invoke: 에이전트 실행\n",
    "- stream: 최종 출력에 도달하는 데 필요한 단계를 스트리밍\n",
    "\n",
    "주요 기능\n",
    "1. 도구 검증: 에이전트와 호환되는 도구인지 확인\n",
    "2. 실행 제어: 최대 반복 횟수 및 실행 시간 제한 설정 가능\n",
    "3. 오류 처리: 출력 파싱 오류에 대한 다양한 처리 옵션 제공\n",
    "4. 중간 단계 관리: 중간 단계 트리밍 및 반환 옵션\n",
    "\n",
    "최적화 팁\n",
    "- max_iterations과 max_execution_time을 적절히 설정하여 실행 시간 관리\n",
    "- trim_intermediate_steps를 활용하여 메모리 사용량 최적화\n",
    "- 복잡한 작업의 경우 stream 메서드를 사용하여 단계별 결과 모니터링"
   ]
  },
  {
   "cell_type": "code",
   "execution_count": 6,
   "metadata": {},
   "outputs": [
    {
     "name": "stdout",
     "output_type": "stream",
     "text": [
      "\n",
      "\n",
      "\u001b[1m> Entering new AgentExecutor chain...\u001b[0m\n",
      "\u001b[32;1m\u001b[1;3m\n",
      "Invoking: `search_news` with `{'query': 'AI 투자'}`\n",
      "\n",
      "\n",
      "\u001b[0m\u001b[36;1m\u001b[1;3m[{'url': 'https://news.google.com/rss/articles/CBMiakFVX3lxTE1ETFZJLXhuMTB6aVZWRGUzUjRnN2VqRGpDcVJ3c1EtWTBsQ2E3UzI1T09tX2tIaDJUU1FHVUdBcHNrMjhCZXpXTHlVRXI2RndISTJBYTJzcExnYVY1Nm1Qd0JPckJSOUx5UEE?oc=5', 'content': 'AI 거품 논란 불구 3분기도 생성 AI 투자 지속...5.3조 몰려 - AI타임스'}, {'url': 'https://news.google.com/rss/articles/CBMiW0FVX3lxTFBwdjVySDNteG5Ba0xJY0p6a1l6djRaUzBFSEVuN3JyS2l1VS1qd3hnTlZNZ0xwaDliSkVyeHhyWE82YVBrS1NLOHk5MldkQUtsR3FnOVMxbzJqVm_SAV5BVV95cUxOMzF5ellGT05uMkhsOXlxRGZlZTJOTjY0Z1JGZ28yYWJlNWExQXVFUm1aQXZxZ1pvTFFxUURsVTlJclJTajRvMGFwLVNfa1ZYVzRhTFhLOElDQUktNEtn?oc=5', 'content': \"美, '대중국 AI 투자제한' 규칙안 막판 검토…대선 전 발표할 듯 - 연합뉴스\"}, {'url': 'https://news.google.com/rss/articles/CBMiU0FVX3lxTE9ROGJWcFJuT296N1dDMVVkRGxXdVpnaklScEtkWkFvaVprWjk4VlVHYnZVRU9pQzJOWjlCa0Vpa1NIMnZaSFg0SmdVdkQ4RnE0U0dJ?oc=5', 'content': '\"AI 투자는 \\'타이거 ETF\\'로 하세요\"…미래에셋, 투자 가이드북 발간 - 서울경제신문'}, {'url': 'https://news.google.com/rss/articles/CBMiWkFVX3lxTFBpOUZsbUNFZW5abE9IekNHTkREUXNuRkdDMllTT2tydlcwUjBYWFVhdHBzU0JUNHZQS1o1dW1tMll6NDN5ZzFGNTBYdlB0cmdGRTZSMVp1S0YzZ9IBVEFVX3lxTE0teUtoZEdYMGNRUDRsYjJ5MUJvVnIwSFczSnIyTjdOdm1TaHVzTjNWRlB2OUdzWkxGdUtUd0pDMm8yTENjN2ZyVENrU1dSRWtxWFNPUA?oc=5', 'content': '\"AI에 따른 반도체 주가 차별화…삼성전자 하락, 이유가 있다\" - 한국경제'}, {'url': 'https://news.google.com/rss/articles/CBMiTkFVX3lxTE0wYjdsSHJtQ1FnUlRqZm9SNzljWFRYeHVDZzYydTlxXzBEVnduNnJqWVc5Qnp2N1piYW1TT09IQllZMFhKZzZzang2TTBmQQ?oc=5', 'content': '[기고] AI 세계 3위 위한 한국, 차세대 인재에 적극 투자해야 - 전자신문'}]\u001b[0m\u001b[32;1m\u001b[1;3m다음은 AI 투자와 관련된 최근 뉴스입니다:\n",
      "\n",
      "1. [AI 거품 논란 불구 3분기도 생성 AI 투자 지속...5.3조 몰려 - AI타임스](https://news.google.com/rss/articles/CBMiakFVX3lxTE1ETFZJLXhuMTB6aVZWRGUzUjRnN2VqRGpDcVJ3c1EtWTBsQ2E3UzI1T09tX2tIaDJUU1FHVUdBcHNrMjhCZXpXTHlVRXI2RndISTJBYTJzcExnYVY1Nm1Qd0JPckJSOUx5UEE?oc=5)\n",
      "\n",
      "2. [美, '대중국 AI 투자제한' 규칙안 막판 검토…대선 전 발표할 듯 - 연합뉴스](https://news.google.com/rss/articles/CBMiW0FVX3lxTFBwdjVySDNteG5Ba0xJY0p6a1l6djRaUzBFSEVuN3JyS2l1VS1qd3hnTlZNZ0xwaDliSkVyeHhyWE82YVBrS1NLOHk5MldkQUtsR3FnOVMxbzJqVm_SAV5BVV95cUxOMzF5ellGT05uMkhsOXlxRGZlZTJOTjY0Z1JGZ28yYWJlNWExQXVFUm1aQXZxZ1pvTFFxUURsVTlJclJTajRvMGFwLVNfa1ZYVzRhTFhLOElDQUktNEtn?oc=5)\n",
      "\n",
      "3. [\\\"AI 투자는 '타이거 ETF'로 하세요\\\"…미래에셋, 투자 가이드북 발간 - 서울경제신문](https://news.google.com/rss/articles/CBMiU0FVX3lxTE9ROGJWcFJuT296N1dDMVVkRGxXdVpnaklScEtkWkFvaVprWjk4VlVHYnZVRU9pQzJOWjlCa0Vpa1NIMnZaSFg0SmdVdkQ4RnE0U0dJ?oc=5)\n",
      "\n",
      "4. [\\\"AI에 따른 반도체 주가 차별화…삼성전자 하락, 이유가 있다\\\" - 한국경제](https://news.google.com/rss/articles/CBMiWkFVX3lxTFBpOUZsbUNFZW5abE9IekNHTkREUXNuRkdDMllTT2tydlcwUjBYWFVhdHBzU0JUNHZQS1o1dW1tMll6NDN5ZzFGNTBYdlB0cmdGRTZSMVp1S0YzZ9IBVEFVX3lxTE0teUtoZEdYMGNRUDRsYjJ5MUJvVnIwSFczSnIyTjdOdm1TaHVzTjNWRlB2OUdzWkxGdUtUd0pDMm8yTENjN2ZyVENrU1dSRWtxWFNPUA?oc=5)\n",
      "\n",
      "5. [AI 세계 3위 위한 한국, 차세대 인재에 적극 투자해야 - 전자신문](https://news.google.com/rss/articles/CBMiTkFVX3lxTE0wYjdsSHJtQ1FnUlRqZm9SNzljWFRYeHVDZzYydTlxXzBEVnduNnJqWVc5Qnp2N1piYW1TT09IQllZMFhKZzZzang2TTBmQQ?oc=5)\n",
      "\n",
      "이 뉴스들은 AI 투자와 관련된 다양한 주제를 다루고 있습니다.\u001b[0m\n",
      "\n",
      "\u001b[1m> Finished chain.\u001b[0m\n",
      "Agent 실행결과:\n",
      "다음은 AI 투자와 관련된 최근 뉴스입니다:\n",
      "\n",
      "1. [AI 거품 논란 불구 3분기도 생성 AI 투자 지속...5.3조 몰려 - AI타임스](https://news.google.com/rss/articles/CBMiakFVX3lxTE1ETFZJLXhuMTB6aVZWRGUzUjRnN2VqRGpDcVJ3c1EtWTBsQ2E3UzI1T09tX2tIaDJUU1FHVUdBcHNrMjhCZXpXTHlVRXI2RndISTJBYTJzcExnYVY1Nm1Qd0JPckJSOUx5UEE?oc=5)\n",
      "\n",
      "2. [美, '대중국 AI 투자제한' 규칙안 막판 검토…대선 전 발표할 듯 - 연합뉴스](https://news.google.com/rss/articles/CBMiW0FVX3lxTFBwdjVySDNteG5Ba0xJY0p6a1l6djRaUzBFSEVuN3JyS2l1VS1qd3hnTlZNZ0xwaDliSkVyeHhyWE82YVBrS1NLOHk5MldkQUtsR3FnOVMxbzJqVm_SAV5BVV95cUxOMzF5ellGT05uMkhsOXlxRGZlZTJOTjY0Z1JGZ28yYWJlNWExQXVFUm1aQXZxZ1pvTFFxUURsVTlJclJTajRvMGFwLVNfa1ZYVzRhTFhLOElDQUktNEtn?oc=5)\n",
      "\n",
      "3. [\\\"AI 투자는 '타이거 ETF'로 하세요\\\"…미래에셋, 투자 가이드북 발간 - 서울경제신문](https://news.google.com/rss/articles/CBMiU0FVX3lxTE9ROGJWcFJuT296N1dDMVVkRGxXdVpnaklScEtkWkFvaVprWjk4VlVHYnZVRU9pQzJOWjlCa0Vpa1NIMnZaSFg0SmdVdkQ4RnE0U0dJ?oc=5)\n",
      "\n",
      "4. [\\\"AI에 따른 반도체 주가 차별화…삼성전자 하락, 이유가 있다\\\" - 한국경제](https://news.google.com/rss/articles/CBMiWkFVX3lxTFBpOUZsbUNFZW5abE9IekNHTkREUXNuRkdDMllTT2tydlcwUjBYWFVhdHBzU0JUNHZQS1o1dW1tMll6NDN5ZzFGNTBYdlB0cmdGRTZSMVp1S0YzZ9IBVEFVX3lxTE0teUtoZEdYMGNRUDRsYjJ5MUJvVnIwSFczSnIyTjdOdm1TaHVzTjNWRlB2OUdzWkxGdUtUd0pDMm8yTENjN2ZyVENrU1dSRWtxWFNPUA?oc=5)\n",
      "\n",
      "5. [AI 세계 3위 위한 한국, 차세대 인재에 적극 투자해야 - 전자신문](https://news.google.com/rss/articles/CBMiTkFVX3lxTE0wYjdsSHJtQ1FnUlRqZm9SNzljWFRYeHVDZzYydTlxXzBEVnduNnJqWVc5Qnp2N1piYW1TT09IQllZMFhKZzZzang2TTBmQQ?oc=5)\n",
      "\n",
      "이 뉴스들은 AI 투자와 관련된 다양한 주제를 다루고 있습니다.\n"
     ]
    }
   ],
   "source": [
    "from langchain.agents import AgentExecutor\n",
    "\n",
    "agent_executor = AgentExecutor(\n",
    "    agent=agent, \n",
    "    tools=tools,\n",
    "    verbose=True,\n",
    "    max_iterations=10,\n",
    "    max_execution_time=10,\n",
    "    handle_parsing_errors=True,\n",
    "    )\n",
    "\n",
    "result = agent_executor.invoke({\"input\": \"AI 투자와 관련된 뉴스를 검색해 주세요.\"})\n",
    "print(\"Agent 실행결과:\")\n",
    "print(result[\"output\"])"
   ]
  },
  {
   "cell_type": "code",
   "execution_count": 8,
   "metadata": {},
   "outputs": [
    {
     "name": "stdout",
     "output_type": "stream",
     "text": [
      "\n",
      "\n",
      "\u001b[1m> Entering new AgentExecutor chain...\u001b[0m\n",
      "{'actions': [ToolAgentAction(tool='search_news', tool_input={'query': 'AI 투자'}, log=\"\\nInvoking: `search_news` with `{'query': 'AI 투자'}`\\n\\n\\n\", message_log=[AIMessageChunk(content='', additional_kwargs={'tool_calls': [{'index': 0, 'id': 'call_5FEqf15gvmhyizTIti98kWk8', 'function': {'arguments': '{\"query\":\"AI 투자\"}', 'name': 'search_news'}, 'type': 'function'}]}, response_metadata={'finish_reason': 'tool_calls', 'model_name': 'gpt-4o-mini-2024-07-18', 'system_fingerprint': 'fp_482c22a7bc'}, id='run-95e08916-33bd-4cfc-84d4-4ff0948941b7', tool_calls=[{'name': 'search_news', 'args': {'query': 'AI 투자'}, 'id': 'call_5FEqf15gvmhyizTIti98kWk8', 'type': 'tool_call'}], tool_call_chunks=[{'name': 'search_news', 'args': '{\"query\":\"AI 투자\"}', 'id': 'call_5FEqf15gvmhyizTIti98kWk8', 'index': 0, 'type': 'tool_call_chunk'}])], tool_call_id='call_5FEqf15gvmhyizTIti98kWk8')], 'messages': [AIMessageChunk(content='', additional_kwargs={'tool_calls': [{'index': 0, 'id': 'call_5FEqf15gvmhyizTIti98kWk8', 'function': {'arguments': '{\"query\":\"AI 투자\"}', 'name': 'search_news'}, 'type': 'function'}]}, response_metadata={'finish_reason': 'tool_calls', 'model_name': 'gpt-4o-mini-2024-07-18', 'system_fingerprint': 'fp_482c22a7bc'}, id='run-95e08916-33bd-4cfc-84d4-4ff0948941b7', tool_calls=[{'name': 'search_news', 'args': {'query': 'AI 투자'}, 'id': 'call_5FEqf15gvmhyizTIti98kWk8', 'type': 'tool_call'}], tool_call_chunks=[{'name': 'search_news', 'args': '{\"query\":\"AI 투자\"}', 'id': 'call_5FEqf15gvmhyizTIti98kWk8', 'index': 0, 'type': 'tool_call_chunk'}])]}\n",
      "\u001b[32;1m\u001b[1;3m\n",
      "Invoking: `search_news` with `{'query': 'AI 투자'}`\n",
      "\n",
      "\n",
      "\u001b[0m\u001b[36;1m\u001b[1;3m[{'url': 'https://news.google.com/rss/articles/CBMiakFVX3lxTE1ETFZJLXhuMTB6aVZWRGUzUjRnN2VqRGpDcVJ3c1EtWTBsQ2E3UzI1T09tX2tIaDJUU1FHVUdBcHNrMjhCZXpXTHlVRXI2RndISTJBYTJzcExnYVY1Nm1Qd0JPckJSOUx5UEE?oc=5', 'content': 'AI 거품 논란 불구 3분기도 생성 AI 투자 지속...5.3조 몰려 - AI타임스'}, {'url': 'https://news.google.com/rss/articles/CBMiW0FVX3lxTFBwdjVySDNteG5Ba0xJY0p6a1l6djRaUzBFSEVuN3JyS2l1VS1qd3hnTlZNZ0xwaDliSkVyeHhyWE82YVBrS1NLOHk5MldkQUtsR3FnOVMxbzJqVm_SAV5BVV95cUxOMzF5ellGT05uMkhsOXlxRGZlZTJOTjY0Z1JGZ28yYWJlNWExQXVFUm1aQXZxZ1pvTFFxUURsVTlJclJTajRvMGFwLVNfa1ZYVzRhTFhLOElDQUktNEtn?oc=5', 'content': \"美, '대중국 AI 투자제한' 규칙안 막판 검토…대선 전 발표할 듯 - 연합뉴스\"}, {'url': 'https://news.google.com/rss/articles/CBMiU0FVX3lxTE9ROGJWcFJuT296N1dDMVVkRGxXdVpnaklScEtkWkFvaVprWjk4VlVHYnZVRU9pQzJOWjlCa0Vpa1NIMnZaSFg0SmdVdkQ4RnE0U0dJ?oc=5', 'content': '\"AI 투자는 \\'타이거 ETF\\'로 하세요\"…미래에셋, 투자 가이드북 발간 - 서울경제신문'}, {'url': 'https://news.google.com/rss/articles/CBMiWkFVX3lxTFBpOUZsbUNFZW5abE9IekNHTkREUXNuRkdDMllTT2tydlcwUjBYWFVhdHBzU0JUNHZQS1o1dW1tMll6NDN5ZzFGNTBYdlB0cmdGRTZSMVp1S0YzZ9IBVEFVX3lxTE0teUtoZEdYMGNRUDRsYjJ5MUJvVnIwSFczSnIyTjdOdm1TaHVzTjNWRlB2OUdzWkxGdUtUd0pDMm8yTENjN2ZyVENrU1dSRWtxWFNPUA?oc=5', 'content': '\"AI에 따른 반도체 주가 차별화…삼성전자 하락, 이유가 있다\" - 한국경제'}, {'url': 'https://news.google.com/rss/articles/CBMiTkFVX3lxTE0wYjdsSHJtQ1FnUlRqZm9SNzljWFRYeHVDZzYydTlxXzBEVnduNnJqWVc5Qnp2N1piYW1TT09IQllZMFhKZzZzang2TTBmQQ?oc=5', 'content': '[기고] AI 세계 3위 위한 한국, 차세대 인재에 적극 투자해야 - 전자신문'}]\u001b[0m{'steps': [AgentStep(action=ToolAgentAction(tool='search_news', tool_input={'query': 'AI 투자'}, log=\"\\nInvoking: `search_news` with `{'query': 'AI 투자'}`\\n\\n\\n\", message_log=[AIMessageChunk(content='', additional_kwargs={'tool_calls': [{'index': 0, 'id': 'call_5FEqf15gvmhyizTIti98kWk8', 'function': {'arguments': '{\"query\":\"AI 투자\"}', 'name': 'search_news'}, 'type': 'function'}]}, response_metadata={'finish_reason': 'tool_calls', 'model_name': 'gpt-4o-mini-2024-07-18', 'system_fingerprint': 'fp_482c22a7bc'}, id='run-95e08916-33bd-4cfc-84d4-4ff0948941b7', tool_calls=[{'name': 'search_news', 'args': {'query': 'AI 투자'}, 'id': 'call_5FEqf15gvmhyizTIti98kWk8', 'type': 'tool_call'}], tool_call_chunks=[{'name': 'search_news', 'args': '{\"query\":\"AI 투자\"}', 'id': 'call_5FEqf15gvmhyizTIti98kWk8', 'index': 0, 'type': 'tool_call_chunk'}])], tool_call_id='call_5FEqf15gvmhyizTIti98kWk8'), observation=[{'url': 'https://news.google.com/rss/articles/CBMiakFVX3lxTE1ETFZJLXhuMTB6aVZWRGUzUjRnN2VqRGpDcVJ3c1EtWTBsQ2E3UzI1T09tX2tIaDJUU1FHVUdBcHNrMjhCZXpXTHlVRXI2RndISTJBYTJzcExnYVY1Nm1Qd0JPckJSOUx5UEE?oc=5', 'content': 'AI 거품 논란 불구 3분기도 생성 AI 투자 지속...5.3조 몰려 - AI타임스'}, {'url': 'https://news.google.com/rss/articles/CBMiW0FVX3lxTFBwdjVySDNteG5Ba0xJY0p6a1l6djRaUzBFSEVuN3JyS2l1VS1qd3hnTlZNZ0xwaDliSkVyeHhyWE82YVBrS1NLOHk5MldkQUtsR3FnOVMxbzJqVm_SAV5BVV95cUxOMzF5ellGT05uMkhsOXlxRGZlZTJOTjY0Z1JGZ28yYWJlNWExQXVFUm1aQXZxZ1pvTFFxUURsVTlJclJTajRvMGFwLVNfa1ZYVzRhTFhLOElDQUktNEtn?oc=5', 'content': \"美, '대중국 AI 투자제한' 규칙안 막판 검토…대선 전 발표할 듯 - 연합뉴스\"}, {'url': 'https://news.google.com/rss/articles/CBMiU0FVX3lxTE9ROGJWcFJuT296N1dDMVVkRGxXdVpnaklScEtkWkFvaVprWjk4VlVHYnZVRU9pQzJOWjlCa0Vpa1NIMnZaSFg0SmdVdkQ4RnE0U0dJ?oc=5', 'content': '\"AI 투자는 \\'타이거 ETF\\'로 하세요\"…미래에셋, 투자 가이드북 발간 - 서울경제신문'}, {'url': 'https://news.google.com/rss/articles/CBMiWkFVX3lxTFBpOUZsbUNFZW5abE9IekNHTkREUXNuRkdDMllTT2tydlcwUjBYWFVhdHBzU0JUNHZQS1o1dW1tMll6NDN5ZzFGNTBYdlB0cmdGRTZSMVp1S0YzZ9IBVEFVX3lxTE0teUtoZEdYMGNRUDRsYjJ5MUJvVnIwSFczSnIyTjdOdm1TaHVzTjNWRlB2OUdzWkxGdUtUd0pDMm8yTENjN2ZyVENrU1dSRWtxWFNPUA?oc=5', 'content': '\"AI에 따른 반도체 주가 차별화…삼성전자 하락, 이유가 있다\" - 한국경제'}, {'url': 'https://news.google.com/rss/articles/CBMiTkFVX3lxTE0wYjdsSHJtQ1FnUlRqZm9SNzljWFRYeHVDZzYydTlxXzBEVnduNnJqWVc5Qnp2N1piYW1TT09IQllZMFhKZzZzang2TTBmQQ?oc=5', 'content': '[기고] AI 세계 3위 위한 한국, 차세대 인재에 적극 투자해야 - 전자신문'}])], 'messages': [FunctionMessage(content='[{\"url\": \"https://news.google.com/rss/articles/CBMiakFVX3lxTE1ETFZJLXhuMTB6aVZWRGUzUjRnN2VqRGpDcVJ3c1EtWTBsQ2E3UzI1T09tX2tIaDJUU1FHVUdBcHNrMjhCZXpXTHlVRXI2RndISTJBYTJzcExnYVY1Nm1Qd0JPckJSOUx5UEE?oc=5\", \"content\": \"AI 거품 논란 불구 3분기도 생성 AI 투자 지속...5.3조 몰려 - AI타임스\"}, {\"url\": \"https://news.google.com/rss/articles/CBMiW0FVX3lxTFBwdjVySDNteG5Ba0xJY0p6a1l6djRaUzBFSEVuN3JyS2l1VS1qd3hnTlZNZ0xwaDliSkVyeHhyWE82YVBrS1NLOHk5MldkQUtsR3FnOVMxbzJqVm_SAV5BVV95cUxOMzF5ellGT05uMkhsOXlxRGZlZTJOTjY0Z1JGZ28yYWJlNWExQXVFUm1aQXZxZ1pvTFFxUURsVTlJclJTajRvMGFwLVNfa1ZYVzRhTFhLOElDQUktNEtn?oc=5\", \"content\": \"美, \\'대중국 AI 투자제한\\' 규칙안 막판 검토…대선 전 발표할 듯 - 연합뉴스\"}, {\"url\": \"https://news.google.com/rss/articles/CBMiU0FVX3lxTE9ROGJWcFJuT296N1dDMVVkRGxXdVpnaklScEtkWkFvaVprWjk4VlVHYnZVRU9pQzJOWjlCa0Vpa1NIMnZaSFg0SmdVdkQ4RnE0U0dJ?oc=5\", \"content\": \"\\\\\"AI 투자는 \\'타이거 ETF\\'로 하세요\\\\\"…미래에셋, 투자 가이드북 발간 - 서울경제신문\"}, {\"url\": \"https://news.google.com/rss/articles/CBMiWkFVX3lxTFBpOUZsbUNFZW5abE9IekNHTkREUXNuRkdDMllTT2tydlcwUjBYWFVhdHBzU0JUNHZQS1o1dW1tMll6NDN5ZzFGNTBYdlB0cmdGRTZSMVp1S0YzZ9IBVEFVX3lxTE0teUtoZEdYMGNRUDRsYjJ5MUJvVnIwSFczSnIyTjdOdm1TaHVzTjNWRlB2OUdzWkxGdUtUd0pDMm8yTENjN2ZyVENrU1dSRWtxWFNPUA?oc=5\", \"content\": \"\\\\\"AI에 따른 반도체 주가 차별화…삼성전자 하락, 이유가 있다\\\\\" - 한국경제\"}, {\"url\": \"https://news.google.com/rss/articles/CBMiTkFVX3lxTE0wYjdsSHJtQ1FnUlRqZm9SNzljWFRYeHVDZzYydTlxXzBEVnduNnJqWVc5Qnp2N1piYW1TT09IQllZMFhKZzZzang2TTBmQQ?oc=5\", \"content\": \"[기고] AI 세계 3위 위한 한국, 차세대 인재에 적극 투자해야 - 전자신문\"}]', name='search_news')]}\n",
      "\u001b[32;1m\u001b[1;3m다음은 AI 투자와 관련된 최근 뉴스입니다:\n",
      "\n",
      "1. [AI 거품 논란 불구 3분기도 생성 AI 투자 지속...5.3조 몰려 - AI타임스](https://news.google.com/rss/articles/CBMiakFVX3lxTE1ETFZJLXhuMTB6aVZWRGUzUjRnN2VqRGpDcVJ3c1EtWTBsQ2E3UzI1T09tX2tIaDJUU1FHVUdBcHNrMjhCZXpXTHlVRXI2RndISTJBYTJzcExnYVY1Nm1Qd0JPckJSOUx5UEE?oc=5)\n",
      "\n",
      "2. [美, '대중국 AI 투자제한' 규칙안 막판 검토…대선 전 발표할 듯 - 연합뉴스](https://news.google.com/rss/articles/CBMiW0FVX3lxTFBwdjVySDNteG5Ba0xJY0p6a1l6djRaUzBFSEVuN3JyS2l1VS1qd3hnTlZNZ0xwaDliSkVyeHhyWE82YVBrS1NLOHk5MldkQUtsR3FnOVMxbzJqVm_SAV5BVV95cUxOMzF5ellGT05uMkhsOXlxRGZlZTJOTjY0Z1JGZ28yYWJlNWExQXVFUm1aQXZxZ1pvTFFxUURsVTlJclJTajRvMGFwLVNfa1ZYVzRhTFhLOElDQUktNEtn?oc=5)\n",
      "\n",
      "3. [\\\"AI 투자는 '타이거 ETF'로 하세요\\\"…미래에셋, 투자 가이드북 발간 - 서울경제신문](https://news.google.com/rss/articles/CBMiU0FVX3lxTE9ROGJWcFJuT296N1dDMVVkRGxXdVpnaklScEtkWkFvaVprWjk4VlVHYnZVRU9pQzJOWjlCa0Vpa1NIMnZaSFg0SmdVdkQ4RnE0U0dJ?oc=5)\n",
      "\n",
      "4. [\\\"AI에 따른 반도체 주가 차별화…삼성전자 하락, 이유가 있다\\\" - 한국경제](https://news.google.com/rss/articles/CBMiWkFVX3lxTFBpOUZsbUNFZW5abE9IekNHTkREUXNuRkdDMllTT2tydlcwUjBYWFVhdHBzU0JUNHZQS1o1dW1tMll6NDN5ZzFGNTBYdlB0cmdGRTZSMVp1S0YzZ9IBVEFVX3lxTE0teUtoZEdYMGNRUDRsYjJ5MUJvVnIwSFczSnIyTjdOdm1TaHVzTjNWRlB2OUdzWkxGdUtUd0pDMm8yTENjN2ZyVENrU1dSRWtxWFNPUA?oc=5)\n",
      "\n",
      "5. [AI 세계 3위 위한 한국, 차세대 인재에 적극 투자해야 - 전자신문](https://news.google.com/rss/articles/CBMiTkFVX3lxTE0wYjdsSHJtQ1FnUlRqZm9SNzljWFRYeHVDZzYydTlxXzBEVnduNnJqWVc5Qnp2N1piYW1TT09IQllZMFhKZzZzang2TTBmQQ?oc=5)\n",
      "\n",
      "이 뉴스들은 AI 투자와 관련된 다양한 주제를 다루고 있습니다.\u001b[0m\n",
      "\n",
      "\u001b[1m> Finished chain.\u001b[0m\n",
      "{'output': '다음은 AI 투자와 관련된 최근 뉴스입니다:\\n\\n1. [AI 거품 논란 불구 3분기도 생성 AI 투자 지속...5.3조 몰려 - AI타임스](https://news.google.com/rss/articles/CBMiakFVX3lxTE1ETFZJLXhuMTB6aVZWRGUzUjRnN2VqRGpDcVJ3c1EtWTBsQ2E3UzI1T09tX2tIaDJUU1FHVUdBcHNrMjhCZXpXTHlVRXI2RndISTJBYTJzcExnYVY1Nm1Qd0JPckJSOUx5UEE?oc=5)\\n\\n2. [美, \\'대중국 AI 투자제한\\' 규칙안 막판 검토…대선 전 발표할 듯 - 연합뉴스](https://news.google.com/rss/articles/CBMiW0FVX3lxTFBwdjVySDNteG5Ba0xJY0p6a1l6djRaUzBFSEVuN3JyS2l1VS1qd3hnTlZNZ0xwaDliSkVyeHhyWE82YVBrS1NLOHk5MldkQUtsR3FnOVMxbzJqVm_SAV5BVV95cUxOMzF5ellGT05uMkhsOXlxRGZlZTJOTjY0Z1JGZ28yYWJlNWExQXVFUm1aQXZxZ1pvTFFxUURsVTlJclJTajRvMGFwLVNfa1ZYVzRhTFhLOElDQUktNEtn?oc=5)\\n\\n3. [\\\\\"AI 투자는 \\'타이거 ETF\\'로 하세요\\\\\"…미래에셋, 투자 가이드북 발간 - 서울경제신문](https://news.google.com/rss/articles/CBMiU0FVX3lxTE9ROGJWcFJuT296N1dDMVVkRGxXdVpnaklScEtkWkFvaVprWjk4VlVHYnZVRU9pQzJOWjlCa0Vpa1NIMnZaSFg0SmdVdkQ4RnE0U0dJ?oc=5)\\n\\n4. [\\\\\"AI에 따른 반도체 주가 차별화…삼성전자 하락, 이유가 있다\\\\\" - 한국경제](https://news.google.com/rss/articles/CBMiWkFVX3lxTFBpOUZsbUNFZW5abE9IekNHTkREUXNuRkdDMllTT2tydlcwUjBYWFVhdHBzU0JUNHZQS1o1dW1tMll6NDN5ZzFGNTBYdlB0cmdGRTZSMVp1S0YzZ9IBVEFVX3lxTE0teUtoZEdYMGNRUDRsYjJ5MUJvVnIwSFczSnIyTjdOdm1TaHVzTjNWRlB2OUdzWkxGdUtUd0pDMm8yTENjN2ZyVENrU1dSRWtxWFNPUA?oc=5)\\n\\n5. [AI 세계 3위 위한 한국, 차세대 인재에 적극 투자해야 - 전자신문](https://news.google.com/rss/articles/CBMiTkFVX3lxTE0wYjdsSHJtQ1FnUlRqZm9SNzljWFRYeHVDZzYydTlxXzBEVnduNnJqWVc5Qnp2N1piYW1TT09IQllZMFhKZzZzang2TTBmQQ?oc=5)\\n\\n이 뉴스들은 AI 투자와 관련된 다양한 주제를 다루고 있습니다.', 'messages': [AIMessage(content='다음은 AI 투자와 관련된 최근 뉴스입니다:\\n\\n1. [AI 거품 논란 불구 3분기도 생성 AI 투자 지속...5.3조 몰려 - AI타임스](https://news.google.com/rss/articles/CBMiakFVX3lxTE1ETFZJLXhuMTB6aVZWRGUzUjRnN2VqRGpDcVJ3c1EtWTBsQ2E3UzI1T09tX2tIaDJUU1FHVUdBcHNrMjhCZXpXTHlVRXI2RndISTJBYTJzcExnYVY1Nm1Qd0JPckJSOUx5UEE?oc=5)\\n\\n2. [美, \\'대중국 AI 투자제한\\' 규칙안 막판 검토…대선 전 발표할 듯 - 연합뉴스](https://news.google.com/rss/articles/CBMiW0FVX3lxTFBwdjVySDNteG5Ba0xJY0p6a1l6djRaUzBFSEVuN3JyS2l1VS1qd3hnTlZNZ0xwaDliSkVyeHhyWE82YVBrS1NLOHk5MldkQUtsR3FnOVMxbzJqVm_SAV5BVV95cUxOMzF5ellGT05uMkhsOXlxRGZlZTJOTjY0Z1JGZ28yYWJlNWExQXVFUm1aQXZxZ1pvTFFxUURsVTlJclJTajRvMGFwLVNfa1ZYVzRhTFhLOElDQUktNEtn?oc=5)\\n\\n3. [\\\\\"AI 투자는 \\'타이거 ETF\\'로 하세요\\\\\"…미래에셋, 투자 가이드북 발간 - 서울경제신문](https://news.google.com/rss/articles/CBMiU0FVX3lxTE9ROGJWcFJuT296N1dDMVVkRGxXdVpnaklScEtkWkFvaVprWjk4VlVHYnZVRU9pQzJOWjlCa0Vpa1NIMnZaSFg0SmdVdkQ4RnE0U0dJ?oc=5)\\n\\n4. [\\\\\"AI에 따른 반도체 주가 차별화…삼성전자 하락, 이유가 있다\\\\\" - 한국경제](https://news.google.com/rss/articles/CBMiWkFVX3lxTFBpOUZsbUNFZW5abE9IekNHTkREUXNuRkdDMllTT2tydlcwUjBYWFVhdHBzU0JUNHZQS1o1dW1tMll6NDN5ZzFGNTBYdlB0cmdGRTZSMVp1S0YzZ9IBVEFVX3lxTE0teUtoZEdYMGNRUDRsYjJ5MUJvVnIwSFczSnIyTjdOdm1TaHVzTjNWRlB2OUdzWkxGdUtUd0pDMm8yTENjN2ZyVENrU1dSRWtxWFNPUA?oc=5)\\n\\n5. [AI 세계 3위 위한 한국, 차세대 인재에 적극 투자해야 - 전자신문](https://news.google.com/rss/articles/CBMiTkFVX3lxTE0wYjdsSHJtQ1FnUlRqZm9SNzljWFRYeHVDZzYydTlxXzBEVnduNnJqWVc5Qnp2N1piYW1TT09IQllZMFhKZzZzang2TTBmQQ?oc=5)\\n\\n이 뉴스들은 AI 투자와 관련된 다양한 주제를 다루고 있습니다.')]}\n"
     ]
    }
   ],
   "source": [
    "# Stream 출력으로 실행\n",
    "result = agent_executor.stream({\"input\": \"AI 투자와 관련된 뉴스를 검색해 주세요.\"})\n",
    "for chunk in result:\n",
    "    print(chunk)"
   ]
  },
  {
   "cell_type": "markdown",
   "metadata": {},
   "source": [
    "AgentExecutor의 `stream()` 메소드를 사용하여 에이전트의 중간 단계를 스트리밍.<br>\n",
    "`stream()`의 출력은 (Action, Observation) 쌍 사이에서 번갈아 나타나며, 최종적으로 에이전트가 목표를 달성했다면 답변으로 마무리.<br>\n",
    "1. Action 출력\n",
    "2. Observation 출력\n",
    "3. Action 출력\n",
    "4. Observation 출력<br>\n",
    "... (목표 달성까지 계속) ...<br>\n",
    "\n",
    "그 다음, 최종 목표가 달성되면 에이전트는 최종 답변을 출력.<br>\n",
    "이러한 출력의 내용은 다음과 같이 요약.<br>\n",
    " 출력 | 내용 |\n",
    "|------|------|\n",
    "| Action | `actions`: AgentAction 또는 그 하위 클래스<br>`messages`: 액션 호출에 해당하는 채팅 메시지 |\n",
    "| Observation | `steps`: 현재 액션과 그 관찰을 포함한 에이전트가 지금까지 수행한 작업의 기록 |\n",
    "| Final Answer | `output`: AgentFinish<br>`messages`: 최종 출력을 포함한 채팅 메시지 |"
   ]
  },
  {
   "cell_type": "code",
   "execution_count": 9,
   "metadata": {},
   "outputs": [],
   "source": [
    "# AgentExecutor 생성\n",
    "agent_executor = AgentExecutor(\n",
    "    agent=agent,\n",
    "    tools=tools,\n",
    "    verbose=False,\n",
    "    handle_parsing_errors=True,\n",
    "    )"
   ]
  },
  {
   "cell_type": "code",
   "execution_count": 11,
   "metadata": {},
   "outputs": [],
   "source": [
    "from langchain_teddynote.messages import AgentStreamParser\n",
    "\n",
    "agent_stream_parser = AgentStreamParser()"
   ]
  },
  {
   "cell_type": "code",
   "execution_count": 12,
   "metadata": {},
   "outputs": [
    {
     "name": "stderr",
     "output_type": "stream",
     "text": [
      "Python REPL can execute arbitrary code. Use with caution.\n"
     ]
    },
    {
     "name": "stdout",
     "output_type": "stream",
     "text": [
      "[도구 호출]\n",
      "Tool: python_repl_tool\n",
      "code: import matplotlib.pyplot as plt\n",
      "\n",
      "# 데이터\n",
      "sizes = [15, 30, 45, 10]\n",
      "labels = ['A', 'B', 'C', 'D']\n",
      "colors = ['gold', 'lightcoral', 'lightskyblue', 'yellowgreen']\n",
      "\n",
      "# 파이 차트 그리기\n",
      "plt.figure(figsize=(8, 6))\n",
      "plt.pie(sizes, labels=labels, colors=colors, autopct='%1.1f%%', startangle=140)\n",
      "plt.axis('equal')  # Equal aspect ratio ensures that pie is drawn as a circle.\n",
      "plt.title('Sample Pie Chart')\n",
      "plt.show()\n",
      "Log: \n",
      "Invoking: `python_repl_tool` with `{'code': \"import matplotlib.pyplot as plt\\n\\n# 데이터\\nsizes = [15, 30, 45, 10]\\nlabels = ['A', 'B', 'C', 'D']\\ncolors = ['gold', 'lightcoral', 'lightskyblue', 'yellowgreen']\\n\\n# 파이 차트 그리기\\nplt.figure(figsize=(8, 6))\\nplt.pie(sizes, labels=labels, colors=colors, autopct='%1.1f%%', startangle=140)\\nplt.axis('equal')  # Equal aspect ratio ensures that pie is drawn as a circle.\\nplt.title('Sample Pie Chart')\\nplt.show()\"}`\n",
      "\n",
      "\n",
      "\n"
     ]
    },
    {
     "data": {
      "image/png": "[encoded data removed]",
      "text/plain": [
       "<Figure size 800x600 with 1 Axes>"
      ]
     },
     "metadata": {},
     "output_type": "display_data"
    },
    {
     "name": "stdout",
     "output_type": "stream",
     "text": [
      "[관찰 내용]\n",
      "Observation: \n",
      "[최종 답변]\n",
      "파이 차트가 성공적으로 그려졌습니다. 차트에는 A, B, C, D라는 네 가지 카테고리가 포함되어 있으며, 각 카테고리의 비율이 표시되어 있습니다. 차트의 제목은 \"Sample Pie Chart\"입니다. \n",
      "\n",
      "추가적인 질문이나 다른 요청이 있으시면 말씀해 주세요!\n"
     ]
    }
   ],
   "source": [
    "result = agent_executor.stream(\n",
    "    {\"input\": \"matplotlib 을 사용하여 pie 차트를 그리는 코드를 작성하고 실행하세요.\"}\n",
    ")\n",
    "for step in result:\n",
    "    agent_stream_parser.process_agent_steps(step)"
   ]
  },
  {
   "cell_type": "code",
   "execution_count": 17,
   "metadata": {},
   "outputs": [],
   "source": [
    "# AgentCallbacks와 AgentStreamParser를 langchain_teddynote.messages에서 가져옵니다.\n",
    "from langchain_teddynote.messages import AgentCallbacks, AgentStreamParser\n",
    "\n",
    "\n",
    "# 도구 호출 시 실행되는 콜백 함수입니다.\n",
    "def tool_callback(tool) -> None:\n",
    "    print(\"<<<<<<< 도구 호출 >>>>>>\")\n",
    "    print(f\"Tool: {tool.get('tool')}\\n\\n\")  # 사용된 도구의 이름을 출력합니다.\n",
    "\n",
    "\n",
    "# 관찰 결과를 출력하는 콜백 함수입니다.\n",
    "def observation_callback(observation) -> None:\n",
    "    print(\"<<<<<<< 관찰 내용 >>>>>>\")\n",
    "    print(\n",
    "        f\"Observation: {observation.get('observation')[0]}\\n\\n\"\n",
    "    )  # 관찰 내용을 출력합니다.\n",
    "\n",
    "\n",
    "\n",
    "# 최종 결과를 출력하는 콜백 함수입니다.\n",
    "def result_callback(result: str) -> None:\n",
    "    print(\"<<<<<<< 최종 답변 >>>>>>\")\n",
    "    print(f\"{result}\\n\\n\")  # 최종 답변을 출력합니다.\n",
    "\n",
    "\n",
    "# AgentCallbacks 객체를 생성하여 각 단계별 콜백 함수를 설정합니다.\n",
    "agent_callbacks = AgentCallbacks(\n",
    "    tool_callback=tool_callback,\n",
    "    observation_callback=observation_callback,\n",
    "    result_callback=result_callback,\n",
    ")\n",
    "\n",
    "# AgentStreamParser 객체를 생성하여 에이전트의 실행 과정을 파싱합니다.\n",
    "agent_stream_parser = AgentStreamParser(agent_callbacks)"
   ]
  },
  {
   "cell_type": "code",
   "execution_count": 18,
   "metadata": {},
   "outputs": [
    {
     "name": "stdout",
     "output_type": "stream",
     "text": [
      "<<<<<<< 도구 호출 >>>>>>\n",
      "Tool: search_news\n",
      "\n",
      "\n",
      "<<<<<<< 관찰 내용 >>>>>>\n",
      "Observation: {'url': 'https://news.google.com/rss/articles/CBMiakFVX3lxTE1ETFZJLXhuMTB6aVZWRGUzUjRnN2VqRGpDcVJ3c1EtWTBsQ2E3UzI1T09tX2tIaDJUU1FHVUdBcHNrMjhCZXpXTHlVRXI2RndISTJBYTJzcExnYVY1Nm1Qd0JPckJSOUx5UEE?oc=5', 'content': 'AI 거품 논란 불구 3분기도 생성 AI 투자 지속...5.3조 몰려 - AI타임스'}\n",
      "\n",
      "\n",
      "<<<<<<< 최종 답변 >>>>>>\n",
      "다음은 AI 투자와 관련된 최근 뉴스 기사들입니다:\n",
      "\n",
      "1. [AI 거품 논란 불구 3분기도 생성 AI 투자 지속...5.3조 몰려 - AI타임스](https://news.google.com/rss/articles/CBMiakFVX3lxTE1ETFZJLXhuMTB6aVZWRGUzUjRnN2VqRGpDcVJ3c1EtWTBsQ2E3UzI1T09tX2tIaDJUU1FHVUdBcHNrMjhCZXpXTHlVRXI2RndISTJBYTJzcExnYVY1Nm1Qd0JPckJSOUx5UEE?oc=5)\n",
      "\n",
      "2. [美, '대중국 AI 투자제한' 규칙안 막판 검토…대선 전 발표할 듯 - 연합뉴스](https://news.google.com/rss/articles/CBMiW0FVX3lxTFBwdjVySDNteG5Ba0xJY0p6a1l6djRaUzBFSEVuN3JyS2l1VS1qd3hnTlZNZ0xwaDliSkVyeHhyWE82YVBrS1NLOHk5MldkQUtsR3FnOVMxbzJqVm_SAV5BVV95cUxOMzF5ellGT05uMkhsOXlxRGZlZTJOTjY0Z1JGZ28yYWJlNWExQXVFUm1aQXZxZ1pvTFFxUURsVTlJclJTajRvMGFwLVNfa1ZYVzRhTFhLOElDQUktNEtn?oc=5)\n",
      "\n",
      "3. [\\\"AI 투자는 '타이거 ETF'로 하세요\\\"…미래에셋, 투자 가이드북 발간 - 서울경제신문](https://news.google.com/rss/articles/CBMiU0FVX3lxTE9ROGJWcFJuT296N1dDMVVkRGxXdVpnaklScEtkWkFvaVprWjk4VlVHYnZVRU9pQzJOWjlCa0Vpa1NIMnZaSFg0SmdVdkQ4RnE0U0dJ?oc=5)\n",
      "\n",
      "4. [\\\"AI에 따른 반도체 주가 차별화…삼성전자 하락, 이유가 있다\\\" - 한국경제](https://news.google.com/rss/articles/CBMiWkFVX3lxTFBpOUZsbUNFZW5abE9IekNHTkREUXNuRkdDMllTT2tydlcwUjBYWFVhdHBzU0JUNHZQS1o1dW1tMll6NDN5ZzFGNTBYdlB0cmdGRTZSMVp1S0YzZ9IBVEFVX3lxTE0teUtoZEdYMGNRUDRsYjJ5MUJvVnIwSFczSnIyTjdOdm1TaHVzTjNWRlB2OUdzWkxGdUtUd0pDMm8yTENjN2ZyVENrU1dSRWtxWFNPUA?oc=5)\n",
      "\n",
      "5. [[기고] AI 세계 3위 위한 한국, 차세대 인재에 적극 투자해야 - 전자신문](https://news.google.com/rss/articles/CBMiTkFVX3lxTE0wYjdsSHJtQ1FnUlRqZm9SNzljWFRYeHVDZzYydTlxXzBEVnduNnJqWVc5Qnp2N1piYW1TT09IQllZMFhKZzZzang2TTBmQQ?oc=5)\n",
      "\n",
      "이 기사를 통해 AI 투자에 대한 다양한 관점과 최신 동향을 확인할 수 있습니다.\n",
      "\n",
      "\n"
     ]
    }
   ],
   "source": [
    "# 질의에 대한 답변을 스트리밍으로 출력 요청\n",
    "result = agent_executor.stream({\"input\": \"AI 투자관련 뉴스를 검색해 주세요.\"})\n",
    "\n",
    "for step in result:\n",
    "    # 중간 단계를 parser 를 사용하여 단계별로 출력\n",
    "    agent_stream_parser.process_agent_steps(step)"
   ]
  }
 ],
 "metadata": {
  "kernelspec": {
   "display_name": "langchain-rag-UhYHSyIM-py3.11",
   "language": "python",
   "name": "python3"
  },
  "language_info": {
   "codemirror_mode": {
    "name": "ipython",
    "version": 3
   },
   "file_extension": ".py",
   "mimetype": "text/x-python",
   "name": "python",
   "nbconvert_exporter": "python",
   "pygments_lexer": "ipython3",
   "version": "3.11.0"
  }
 },
 "nbformat": 4,
 "nbformat_minor": 2
}
